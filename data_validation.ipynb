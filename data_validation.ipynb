{
 "cells": [
  {
   "cell_type": "markdown",
   "metadata": {},
   "source": [
    "# 資料驗證\n",
    "\n",
    "進行資料分析前，我們通常會預期資料已經是在可分析的狀態 (ready for analysis)，可減少資料清理的時間。因此取得資料後，若能夠進行資料驗證，確認其格式、欄位資訊、欄位關聯是正常的之後，再進行分析，可避免一些意料之外的錯誤，導致分析結果錯誤。\n",
    "\n",
    "在這份教學中，我們會使用 `patito` 這個套件進行資料驗證。它是基於 Python 上非常有名的格式驗證套件 `pydantic` 與先前介紹過的資料集套件 `polars`。原則上，除了內建的方法外，只要你可以用 `polars` 表達式 (expression) 寫出的規則，都可以進行驗證，是一個非常強大的套件。\n",
    "\n",
    "接下來就讓我來看看如何使用 `patito` 進行資料驗證！"
   ]
  },
  {
   "cell_type": "markdown",
   "metadata": {},
   "source": [
    "首先，我們需要匯入此專案中需要的套件：\n",
    "\n",
    "* `polars`: 資料處理\n",
    "* `patito`: 資料驗證\n",
    "* `typing`: 格式指定\n",
    "\n",
    "在下方程式碼中，`as` 是用來幫套件取別稱。如此一來，在接下來的程式碼中，若需要用到套件時，就不需要輸入全名，例如需要用到 `polars` 時，只需要輸入 `pl` 就可以了。"
   ]
  },
  {
   "cell_type": "code",
   "execution_count": 1,
   "metadata": {},
   "outputs": [],
   "source": [
    "import polars as pl\n",
    "import patito as pt\n",
    "from typing import Literal, Optional, Dict, List\n",
    "import re"
   ]
  },
  {
   "cell_type": "markdown",
   "metadata": {},
   "source": [
    "下方是一段簡短的函式，幫助我們閱讀 `patito` 告訴我們的驗證結果。"
   ]
  },
  {
   "cell_type": "code",
   "execution_count": 2,
   "metadata": {},
   "outputs": [],
   "source": [
    "class ErrorReporter:\n",
    "    def __init__(self, validator_class, df: pl.DataFrame):\n",
    "        self.validator = validator_class\n",
    "        self.df = df\n",
    "        self.error_report = self._val()\n",
    "\n",
    "    def _val(self):\n",
    "        try:\n",
    "            self.validator.validate(self.df)\n",
    "            return 'Pass'\n",
    "        except Exception as e:\n",
    "            return self._get_error_report(e.errors(), self.df.columns)\n",
    "    \n",
    "    def _get_error_report(self, error_list: List[Dict], col_list: List[str]) -> pl.DataFrame:\n",
    "        \"\"\"\n",
    "        Parse a list of error items into a DataFrame with columns: column, pass, failed_count, msg, type\n",
    "        \n",
    "        Args:\n",
    "            error_list (List[Dict]): List of error items\n",
    "            col_list (List[str]): List of column names\n",
    "            \n",
    "        Returns:\n",
    "            pl.DataFrame: DataFrame with parsed error information\n",
    "        \"\"\"\n",
    "        column_list = []\n",
    "        failed_count_list = []\n",
    "        msg_list = []\n",
    "        type_list = []\n",
    "        \n",
    "        for error in error_list:\n",
    "            # Extract column name from loc tuple\n",
    "            column = error['loc'][0]\n",
    "            \n",
    "            # Extract failed count if present in msg\n",
    "            failed_count = None\n",
    "            msg = error['msg']\n",
    "            count_match = re.match(r'^\\d+', msg)\n",
    "            if count_match:\n",
    "                failed_count = int(count_match.group(0))\n",
    "                \n",
    "            column_list.append(column)\n",
    "            failed_count_list.append(failed_count)\n",
    "            msg_list.append(msg)\n",
    "            type_list.append(error['type'])\n",
    "        \n",
    "        # Create DataFrame and order columns\n",
    "        df_error = pl.DataFrame({\n",
    "            'column': column_list,\n",
    "            'pass': False,\n",
    "            'failed_count': failed_count_list,\n",
    "            'msg': msg_list,\n",
    "            'type': type_list\n",
    "        })\n",
    "        \n",
    "        df_error = df_error.join(pl.DataFrame({'column': col_list}), on='column', how='full')\\\n",
    "                        .with_columns(\n",
    "                            pl.when(pl.col('pass').is_not_null())\n",
    "                                    .then(pl.col('pass'))\n",
    "                                    .otherwise(True).alias('pass'),\n",
    "                            pl.when(pl.col('column').is_not_null())\n",
    "                                    .then(pl.col('column'))\n",
    "                                    .otherwise(pl.col('column_right')).alias('column'),\n",
    "                            pl.when(pl.col('failed_count').is_not_null())\n",
    "                                    .then(pl.col('failed_count'))\n",
    "                                    .otherwise(0).alias('failed_count')\n",
    "                                        )\\\n",
    "                        .drop('column_right')\n",
    "        \n",
    "        return df_error\n",
    "    \n",
    "    def report(self) -> pl.DataFrame:\n",
    "        return self.error_report\n",
    "    \n",
    "    def summary(self) -> pl.DataFrame:\n",
    "        if type(self.error_report) == 'str':\n",
    "            return self.error_report\n",
    "        \n",
    "        return self.error_report.group_by('column').agg([\n",
    "            pl.col('pass').all().alias('pass')\n",
    "        ])"
   ]
  },
  {
   "cell_type": "code",
   "execution_count": 3,
   "metadata": {},
   "outputs": [],
   "source": [
    "import re\n",
    "\n",
    "def parse_error_items(error_list, col):\n",
    "    \"\"\"\n",
    "    Parse a list of error items into a DataFrame with columns: column, pass, failed_count, msg, type\n",
    "    \n",
    "    Args:\n",
    "        error_list (list): List of dictionaries containing error information\n",
    "        col (list): List of column names\n",
    "        \n",
    "    Returns:\n",
    "        pl.DataFrame: DataFrame with parsed error information\n",
    "    \"\"\"\n",
    "    col_list = []\n",
    "    failed_count_list = []\n",
    "    msg_list = []\n",
    "    type_list = []\n",
    "    \n",
    "    for error in error_list:\n",
    "        # Extract column name from loc tuple\n",
    "        column = error['loc'][0]\n",
    "        \n",
    "        # Extract failed count if present in msg\n",
    "        failed_count = None\n",
    "        msg = error['msg']\n",
    "        count_match = re.match(r'^\\d+', msg)\n",
    "        if count_match:\n",
    "            failed_count = int(count_match.group(0))\n",
    "            \n",
    "        col_list.append(column)\n",
    "        failed_count_list.append(failed_count)\n",
    "        msg_list.append(msg)\n",
    "        type_list.append(error['type'])\n",
    "    \n",
    "    # Create DataFrame and order columns\n",
    "    df_error = pl.DataFrame({\n",
    "        'column': col_list,\n",
    "        'pass': False,\n",
    "        'failed_count': failed_count_list,\n",
    "        'msg': msg_list,\n",
    "        'type': type_list\n",
    "    })\n",
    "    \n",
    "    df_error = df_error.join(pl.DataFrame({'column': col}), on='column', how='full')\\\n",
    "                    .with_columns(\n",
    "                        pl.when(pl.col('pass').is_not_null())\n",
    "                                .then(pl.col('pass'))\n",
    "                                .otherwise(True).alias('pass'),\n",
    "                        pl.when(pl.col('column').is_not_null())\n",
    "                                .then(pl.col('column'))\n",
    "                                .otherwise(pl.col('column_right')).alias('column'),\n",
    "                        pl.when(pl.col('failed_count').is_not_null())\n",
    "                                .then(pl.col('failed_count'))\n",
    "                                .otherwise(0).alias('failed_count')\n",
    "                                    )\\\n",
    "                    .drop('column_right')\n",
    "    \n",
    "    return df_error\n",
    "\n",
    "def val(validator_class, data):\n",
    "    try:\n",
    "        validator_class.validate(data)\n",
    "        print('Pass')\n",
    "    except Exception as e:\n",
    "        return parse_error_items(e.errors(), data.columns)"
   ]
  },
  {
   "cell_type": "markdown",
   "metadata": {},
   "source": [
    "匯入欲進行驗證的資料。"
   ]
  },
  {
   "cell_type": "code",
   "execution_count": 4,
   "metadata": {},
   "outputs": [],
   "source": [
    "df = pl.read_csv('Tutorial_Data/penguins_v.csv')"
   ]
  },
  {
   "cell_type": "code",
   "execution_count": 5,
   "metadata": {},
   "outputs": [
    {
     "data": {
      "text/html": [
       "<div><style>\n",
       ".dataframe > thead > tr,\n",
       ".dataframe > tbody > tr {\n",
       "  text-align: right;\n",
       "  white-space: pre-wrap;\n",
       "}\n",
       "</style>\n",
       "<small>shape: (5, 11)</small><table border=\"1\" class=\"dataframe\"><thead><tr><th>ID</th><th>Species</th><th>Island</th><th>Clutch_Completion</th><th>Culmen_Length</th><th>Culmen_Depth</th><th>Flipper_Length</th><th>Body_Mass</th><th>Sex</th><th>Comments</th><th>Island_Code</th></tr><tr><td>i64</td><td>str</td><td>str</td><td>str</td><td>f64</td><td>f64</td><td>i64</td><td>i64</td><td>str</td><td>str</td><td>i64</td></tr></thead><tbody><tr><td>1</td><td>&quot;Adelie Penguin (Pygoscelis ade…</td><td>&quot;Torgersen&quot;</td><td>&quot;Yes&quot;</td><td>39.1</td><td>18.7</td><td>181</td><td>3750</td><td>&quot;MALE&quot;</td><td>&quot;Not enough blood for isotopes.&quot;</td><td>0</td></tr><tr><td>2</td><td>&quot;Adelie Penguin (Pygoscelis ade…</td><td>&quot;Torgersen&quot;</td><td>&quot;Yes&quot;</td><td>39.5</td><td>17.4</td><td>186</td><td>3800</td><td>&quot;FEMALE&quot;</td><td>null</td><td>0</td></tr><tr><td>3</td><td>&quot;Adelie Penguin (Pygoscelis ade…</td><td>&quot;Torgersen&quot;</td><td>&quot;Yes&quot;</td><td>40.3</td><td>18.0</td><td>195</td><td>3250</td><td>&quot;FEMALE&quot;</td><td>null</td><td>0</td></tr><tr><td>4</td><td>&quot;Adelie Penguin (Pygoscelis ade…</td><td>&quot;Torgersen&quot;</td><td>&quot;Yes&quot;</td><td>null</td><td>null</td><td>null</td><td>null</td><td>null</td><td>&quot;Adult not sampled.&quot;</td><td>0</td></tr><tr><td>5</td><td>&quot;Adelie Penguin (Pygoscelis ade…</td><td>&quot;Torgersen&quot;</td><td>&quot;Yes&quot;</td><td>36.7</td><td>19.3</td><td>193</td><td>3450</td><td>&quot;FEMALE&quot;</td><td>null</td><td>0</td></tr></tbody></table></div>"
      ],
      "text/plain": [
       "shape: (5, 11)\n",
       "┌─────┬─────────────┬───────────┬─────────────┬───┬───────────┬────────┬─────────────┬─────────────┐\n",
       "│ ID  ┆ Species     ┆ Island    ┆ Clutch_Comp ┆ … ┆ Body_Mass ┆ Sex    ┆ Comments    ┆ Island_Code │\n",
       "│ --- ┆ ---         ┆ ---       ┆ letion      ┆   ┆ ---       ┆ ---    ┆ ---         ┆ ---         │\n",
       "│ i64 ┆ str         ┆ str       ┆ ---         ┆   ┆ i64       ┆ str    ┆ str         ┆ i64         │\n",
       "│     ┆             ┆           ┆ str         ┆   ┆           ┆        ┆             ┆             │\n",
       "╞═════╪═════════════╪═══════════╪═════════════╪═══╪═══════════╪════════╪═════════════╪═════════════╡\n",
       "│ 1   ┆ Adelie      ┆ Torgersen ┆ Yes         ┆ … ┆ 3750      ┆ MALE   ┆ Not enough  ┆ 0           │\n",
       "│     ┆ Penguin     ┆           ┆             ┆   ┆           ┆        ┆ blood for   ┆             │\n",
       "│     ┆ (Pygoscelis ┆           ┆             ┆   ┆           ┆        ┆ isotopes.   ┆             │\n",
       "│     ┆ ade…        ┆           ┆             ┆   ┆           ┆        ┆             ┆             │\n",
       "│ 2   ┆ Adelie      ┆ Torgersen ┆ Yes         ┆ … ┆ 3800      ┆ FEMALE ┆ null        ┆ 0           │\n",
       "│     ┆ Penguin     ┆           ┆             ┆   ┆           ┆        ┆             ┆             │\n",
       "│     ┆ (Pygoscelis ┆           ┆             ┆   ┆           ┆        ┆             ┆             │\n",
       "│     ┆ ade…        ┆           ┆             ┆   ┆           ┆        ┆             ┆             │\n",
       "│ 3   ┆ Adelie      ┆ Torgersen ┆ Yes         ┆ … ┆ 3250      ┆ FEMALE ┆ null        ┆ 0           │\n",
       "│     ┆ Penguin     ┆           ┆             ┆   ┆           ┆        ┆             ┆             │\n",
       "│     ┆ (Pygoscelis ┆           ┆             ┆   ┆           ┆        ┆             ┆             │\n",
       "│     ┆ ade…        ┆           ┆             ┆   ┆           ┆        ┆             ┆             │\n",
       "│ 4   ┆ Adelie      ┆ Torgersen ┆ Yes         ┆ … ┆ null      ┆ null   ┆ Adult not   ┆ 0           │\n",
       "│     ┆ Penguin     ┆           ┆             ┆   ┆           ┆        ┆ sampled.    ┆             │\n",
       "│     ┆ (Pygoscelis ┆           ┆             ┆   ┆           ┆        ┆             ┆             │\n",
       "│     ┆ ade…        ┆           ┆             ┆   ┆           ┆        ┆             ┆             │\n",
       "│ 5   ┆ Adelie      ┆ Torgersen ┆ Yes         ┆ … ┆ 3450      ┆ FEMALE ┆ null        ┆ 0           │\n",
       "│     ┆ Penguin     ┆           ┆             ┆   ┆           ┆        ┆             ┆             │\n",
       "│     ┆ (Pygoscelis ┆           ┆             ┆   ┆           ┆        ┆             ┆             │\n",
       "│     ┆ ade…        ┆           ┆             ┆   ┆           ┆        ┆             ┆             │\n",
       "└─────┴─────────────┴───────────┴─────────────┴───┴───────────┴────────┴─────────────┴─────────────┘"
      ]
     },
     "execution_count": 5,
     "metadata": {},
     "output_type": "execute_result"
    }
   ],
   "source": [
    "df.head()"
   ]
  },
  {
   "cell_type": "code",
   "execution_count": 6,
   "metadata": {},
   "outputs": [
    {
     "data": {
      "text/html": [
       "<div><style>\n",
       ".dataframe > thead > tr,\n",
       ".dataframe > tbody > tr {\n",
       "  text-align: right;\n",
       "  white-space: pre-wrap;\n",
       "}\n",
       "</style>\n",
       "<small>shape: (9, 12)</small><table border=\"1\" class=\"dataframe\"><thead><tr><th>statistic</th><th>ID</th><th>Species</th><th>Island</th><th>Clutch_Completion</th><th>Culmen_Length</th><th>Culmen_Depth</th><th>Flipper_Length</th><th>Body_Mass</th><th>Sex</th><th>Comments</th><th>Island_Code</th></tr><tr><td>str</td><td>f64</td><td>str</td><td>str</td><td>str</td><td>f64</td><td>f64</td><td>f64</td><td>f64</td><td>str</td><td>str</td><td>f64</td></tr></thead><tbody><tr><td>&quot;count&quot;</td><td>344.0</td><td>&quot;344&quot;</td><td>&quot;344&quot;</td><td>&quot;344&quot;</td><td>342.0</td><td>342.0</td><td>342.0</td><td>342.0</td><td>&quot;334&quot;</td><td>&quot;26&quot;</td><td>344.0</td></tr><tr><td>&quot;null_count&quot;</td><td>0.0</td><td>&quot;0&quot;</td><td>&quot;0&quot;</td><td>&quot;0&quot;</td><td>2.0</td><td>2.0</td><td>2.0</td><td>2.0</td><td>&quot;10&quot;</td><td>&quot;318&quot;</td><td>0.0</td></tr><tr><td>&quot;mean&quot;</td><td>63.151163</td><td>null</td><td>null</td><td>null</td><td>68.83655</td><td>17.15117</td><td>200.915205</td><td>4201.754386</td><td>null</td><td>null</td><td>1.206395</td></tr><tr><td>&quot;std&quot;</td><td>40.430199</td><td>null</td><td>null</td><td>null</td><td>328.085458</td><td>1.974793</td><td>14.061714</td><td>801.954536</td><td>null</td><td>null</td><td>0.687977</td></tr><tr><td>&quot;min&quot;</td><td>1.0</td><td>&quot;Adelie Penguin (Pygoscelis ade…</td><td>&quot;Biscoe&quot;</td><td>&quot;No&quot;</td><td>4.1</td><td>13.1</td><td>172.0</td><td>2700.0</td><td>&quot;.&quot;</td><td>&quot;Adult not sampled.&quot;</td><td>0.0</td></tr><tr><td>&quot;25%&quot;</td><td>29.0</td><td>null</td><td>null</td><td>null</td><td>39.3</td><td>15.6</td><td>190.0</td><td>3550.0</td><td>null</td><td>null</td><td>1.0</td></tr><tr><td>&quot;50%&quot;</td><td>58.0</td><td>null</td><td>null</td><td>null</td><td>44.5</td><td>17.3</td><td>197.0</td><td>4050.0</td><td>null</td><td>null</td><td>1.0</td></tr><tr><td>&quot;75%&quot;</td><td>95.0</td><td>null</td><td>null</td><td>null</td><td>48.6</td><td>18.7</td><td>213.0</td><td>4750.0</td><td>null</td><td>null</td><td>2.0</td></tr><tr><td>&quot;max&quot;</td><td>152.0</td><td>&quot;Gentoo penguin (Pygoscelis pap…</td><td>&quot;Torgersen&quot;</td><td>&quot;Yes&quot;</td><td>4730.0</td><td>21.5</td><td>231.0</td><td>6300.0</td><td>&quot;MALE&quot;</td><td>&quot;Sexing primers did not amplify…</td><td>2.0</td></tr></tbody></table></div>"
      ],
      "text/plain": [
       "shape: (9, 12)\n",
       "┌────────────┬───────────┬────────────┬───────────┬───┬────────────┬──────┬────────────┬───────────┐\n",
       "│ statistic  ┆ ID        ┆ Species    ┆ Island    ┆ … ┆ Body_Mass  ┆ Sex  ┆ Comments   ┆ Island_Co │\n",
       "│ ---        ┆ ---       ┆ ---        ┆ ---       ┆   ┆ ---        ┆ ---  ┆ ---        ┆ de        │\n",
       "│ str        ┆ f64       ┆ str        ┆ str       ┆   ┆ f64        ┆ str  ┆ str        ┆ ---       │\n",
       "│            ┆           ┆            ┆           ┆   ┆            ┆      ┆            ┆ f64       │\n",
       "╞════════════╪═══════════╪════════════╪═══════════╪═══╪════════════╪══════╪════════════╪═══════════╡\n",
       "│ count      ┆ 344.0     ┆ 344        ┆ 344       ┆ … ┆ 342.0      ┆ 334  ┆ 26         ┆ 344.0     │\n",
       "│ null_count ┆ 0.0       ┆ 0          ┆ 0         ┆ … ┆ 2.0        ┆ 10   ┆ 318        ┆ 0.0       │\n",
       "│ mean       ┆ 63.151163 ┆ null       ┆ null      ┆ … ┆ 4201.75438 ┆ null ┆ null       ┆ 1.206395  │\n",
       "│            ┆           ┆            ┆           ┆   ┆ 6          ┆      ┆            ┆           │\n",
       "│ std        ┆ 40.430199 ┆ null       ┆ null      ┆ … ┆ 801.954536 ┆ null ┆ null       ┆ 0.687977  │\n",
       "│ min        ┆ 1.0       ┆ Adelie     ┆ Biscoe    ┆ … ┆ 2700.0     ┆ .    ┆ Adult not  ┆ 0.0       │\n",
       "│            ┆           ┆ Penguin    ┆           ┆   ┆            ┆      ┆ sampled.   ┆           │\n",
       "│            ┆           ┆ (Pygosceli ┆           ┆   ┆            ┆      ┆            ┆           │\n",
       "│            ┆           ┆ s ade…     ┆           ┆   ┆            ┆      ┆            ┆           │\n",
       "│ 25%        ┆ 29.0      ┆ null       ┆ null      ┆ … ┆ 3550.0     ┆ null ┆ null       ┆ 1.0       │\n",
       "│ 50%        ┆ 58.0      ┆ null       ┆ null      ┆ … ┆ 4050.0     ┆ null ┆ null       ┆ 1.0       │\n",
       "│ 75%        ┆ 95.0      ┆ null       ┆ null      ┆ … ┆ 4750.0     ┆ null ┆ null       ┆ 2.0       │\n",
       "│ max        ┆ 152.0     ┆ Gentoo     ┆ Torgersen ┆ … ┆ 6300.0     ┆ MALE ┆ Sexing     ┆ 2.0       │\n",
       "│            ┆           ┆ penguin    ┆           ┆   ┆            ┆      ┆ primers    ┆           │\n",
       "│            ┆           ┆ (Pygosceli ┆           ┆   ┆            ┆      ┆ did not    ┆           │\n",
       "│            ┆           ┆ s pap…     ┆           ┆   ┆            ┆      ┆ amplify…   ┆           │\n",
       "└────────────┴───────────┴────────────┴───────────┴───┴────────────┴──────┴────────────┴───────────┘"
      ]
     },
     "execution_count": 6,
     "metadata": {},
     "output_type": "execute_result"
    }
   ],
   "source": [
    "df.describe()"
   ]
  },
  {
   "cell_type": "markdown",
   "metadata": {},
   "source": [
    "# 0. 欄位檢查\n",
    "\n",
    "檢查資料集的欄位數目及名稱是否正確。"
   ]
  },
  {
   "cell_type": "code",
   "execution_count": 7,
   "metadata": {},
   "outputs": [],
   "source": [
    "# 當實際欄位較多時\n",
    "\n",
    "class P00(pt.Model):\n",
    "    ID: int\n",
    "    Species: str\n",
    "    Island: str\n",
    "    Clutch_Completion: str\n",
    "    Culmen_Length: float\n",
    "    Culmen_Depth: float\n",
    "    Flipper_Length: float\n",
    "    Body_Mass: float\n",
    "    Sex: str\n",
    "    Comments: str"
   ]
  },
  {
   "cell_type": "code",
   "execution_count": 8,
   "metadata": {},
   "outputs": [
    {
     "data": {
      "text/html": [
       "<div><style>\n",
       ".dataframe > thead > tr,\n",
       ".dataframe > tbody > tr {\n",
       "  text-align: right;\n",
       "  white-space: pre-wrap;\n",
       "}\n",
       "</style>\n",
       "<small>shape: (13, 5)</small><table border=\"1\" class=\"dataframe\"><thead><tr><th>column</th><th>pass</th><th>failed_count</th><th>msg</th><th>type</th></tr><tr><td>str</td><td>bool</td><td>i64</td><td>str</td><td>str</td></tr></thead><tbody><tr><td>&quot;ID&quot;</td><td>true</td><td>0</td><td>null</td><td>null</td></tr><tr><td>&quot;Species&quot;</td><td>true</td><td>0</td><td>null</td><td>null</td></tr><tr><td>&quot;Island&quot;</td><td>true</td><td>0</td><td>null</td><td>null</td></tr><tr><td>&quot;Clutch_Completion&quot;</td><td>true</td><td>0</td><td>null</td><td>null</td></tr><tr><td>&quot;Culmen_Length&quot;</td><td>false</td><td>2</td><td>&quot;2 missing values&quot;</td><td>&quot;value_error.missingvalues&quot;</td></tr><tr><td>&hellip;</td><td>&hellip;</td><td>&hellip;</td><td>&hellip;</td><td>&hellip;</td></tr><tr><td>&quot;Body_Mass&quot;</td><td>false</td><td>2</td><td>&quot;2 missing values&quot;</td><td>&quot;value_error.missingvalues&quot;</td></tr><tr><td>&quot;Body_Mass&quot;</td><td>false</td><td>0</td><td>&quot;Polars dtype Int64 does not ma…</td><td>&quot;type_error.columndtype&quot;</td></tr><tr><td>&quot;Sex&quot;</td><td>false</td><td>10</td><td>&quot;10 missing values&quot;</td><td>&quot;value_error.missingvalues&quot;</td></tr><tr><td>&quot;Comments&quot;</td><td>false</td><td>318</td><td>&quot;318 missing values&quot;</td><td>&quot;value_error.missingvalues&quot;</td></tr><tr><td>&quot;Island_Code&quot;</td><td>false</td><td>0</td><td>&quot;Superfluous column&quot;</td><td>&quot;type_error.superfluouscolumns&quot;</td></tr></tbody></table></div>"
      ],
      "text/plain": [
       "shape: (13, 5)\n",
       "┌───────────────────┬───────┬──────────────┬───────────────────────────┬───────────────────────────┐\n",
       "│ column            ┆ pass  ┆ failed_count ┆ msg                       ┆ type                      │\n",
       "│ ---               ┆ ---   ┆ ---          ┆ ---                       ┆ ---                       │\n",
       "│ str               ┆ bool  ┆ i64          ┆ str                       ┆ str                       │\n",
       "╞═══════════════════╪═══════╪══════════════╪═══════════════════════════╪═══════════════════════════╡\n",
       "│ ID                ┆ true  ┆ 0            ┆ null                      ┆ null                      │\n",
       "│ Species           ┆ true  ┆ 0            ┆ null                      ┆ null                      │\n",
       "│ Island            ┆ true  ┆ 0            ┆ null                      ┆ null                      │\n",
       "│ Clutch_Completion ┆ true  ┆ 0            ┆ null                      ┆ null                      │\n",
       "│ Culmen_Length     ┆ false ┆ 2            ┆ 2 missing values          ┆ value_error.missingvalues │\n",
       "│ …                 ┆ …     ┆ …            ┆ …                         ┆ …                         │\n",
       "│ Body_Mass         ┆ false ┆ 2            ┆ 2 missing values          ┆ value_error.missingvalues │\n",
       "│ Body_Mass         ┆ false ┆ 0            ┆ Polars dtype Int64 does   ┆ type_error.columndtype    │\n",
       "│                   ┆       ┆              ┆ not ma…                   ┆                           │\n",
       "│ Sex               ┆ false ┆ 10           ┆ 10 missing values         ┆ value_error.missingvalues │\n",
       "│ Comments          ┆ false ┆ 318          ┆ 318 missing values        ┆ value_error.missingvalues │\n",
       "│ Island_Code       ┆ false ┆ 0            ┆ Superfluous column        ┆ type_error.superfluouscol │\n",
       "│                   ┆       ┆              ┆                           ┆ umns                      │\n",
       "└───────────────────┴───────┴──────────────┴───────────────────────────┴───────────────────────────┘"
      ]
     },
     "execution_count": 8,
     "metadata": {},
     "output_type": "execute_result"
    }
   ],
   "source": [
    "val(P00, df)"
   ]
  },
  {
   "cell_type": "code",
   "execution_count": 9,
   "metadata": {},
   "outputs": [],
   "source": [
    "v = ErrorReporter(P00, df)"
   ]
  },
  {
   "cell_type": "code",
   "execution_count": 10,
   "metadata": {},
   "outputs": [
    {
     "data": {
      "text/html": [
       "<div><style>\n",
       ".dataframe > thead > tr,\n",
       ".dataframe > tbody > tr {\n",
       "  text-align: right;\n",
       "  white-space: pre-wrap;\n",
       "}\n",
       "</style>\n",
       "<small>shape: (11, 2)</small><table border=\"1\" class=\"dataframe\"><thead><tr><th>column</th><th>pass</th></tr><tr><td>str</td><td>bool</td></tr></thead><tbody><tr><td>&quot;Culmen_Depth&quot;</td><td>false</td></tr><tr><td>&quot;Clutch_Completion&quot;</td><td>true</td></tr><tr><td>&quot;Comments&quot;</td><td>false</td></tr><tr><td>&quot;Sex&quot;</td><td>false</td></tr><tr><td>&quot;Island_Code&quot;</td><td>false</td></tr><tr><td>&hellip;</td><td>&hellip;</td></tr><tr><td>&quot;Culmen_Length&quot;</td><td>false</td></tr><tr><td>&quot;ID&quot;</td><td>true</td></tr><tr><td>&quot;Island&quot;</td><td>true</td></tr><tr><td>&quot;Flipper_Length&quot;</td><td>false</td></tr><tr><td>&quot;Species&quot;</td><td>true</td></tr></tbody></table></div>"
      ],
      "text/plain": [
       "shape: (11, 2)\n",
       "┌───────────────────┬───────┐\n",
       "│ column            ┆ pass  │\n",
       "│ ---               ┆ ---   │\n",
       "│ str               ┆ bool  │\n",
       "╞═══════════════════╪═══════╡\n",
       "│ Culmen_Depth      ┆ false │\n",
       "│ Clutch_Completion ┆ true  │\n",
       "│ Comments          ┆ false │\n",
       "│ Sex               ┆ false │\n",
       "│ Island_Code       ┆ false │\n",
       "│ …                 ┆ …     │\n",
       "│ Culmen_Length     ┆ false │\n",
       "│ ID                ┆ true  │\n",
       "│ Island            ┆ true  │\n",
       "│ Flipper_Length    ┆ false │\n",
       "│ Species           ┆ true  │\n",
       "└───────────────────┴───────┘"
      ]
     },
     "execution_count": 10,
     "metadata": {},
     "output_type": "execute_result"
    }
   ],
   "source": [
    "v.summary()"
   ]
  },
  {
   "cell_type": "code",
   "execution_count": 11,
   "metadata": {},
   "outputs": [
    {
     "data": {
      "text/html": [
       "<div><style>\n",
       ".dataframe > thead > tr,\n",
       ".dataframe > tbody > tr {\n",
       "  text-align: right;\n",
       "  white-space: pre-wrap;\n",
       "}\n",
       "</style>\n",
       "<small>shape: (11, 5)</small><table border=\"1\" class=\"dataframe\"><thead><tr><th>column</th><th>pass</th><th>failed_count</th><th>msg</th><th>type</th></tr><tr><td>str</td><td>bool</td><td>i64</td><td>str</td><td>str</td></tr></thead><tbody><tr><td>&quot;Body_Mass&quot;</td><td>false</td><td>0</td><td>&quot;Missing column&quot;</td><td>&quot;type_error.missingcolumns&quot;</td></tr><tr><td>&quot;ID&quot;</td><td>false</td><td>0</td><td>&quot;Missing column&quot;</td><td>&quot;type_error.missingcolumns&quot;</td></tr><tr><td>&quot;Sex&quot;</td><td>false</td><td>0</td><td>&quot;Missing column&quot;</td><td>&quot;type_error.missingcolumns&quot;</td></tr><tr><td>&quot;Comments&quot;</td><td>false</td><td>0</td><td>&quot;Missing column&quot;</td><td>&quot;type_error.missingcolumns&quot;</td></tr><tr><td>&quot;Culmen_Length&quot;</td><td>false</td><td>2</td><td>&quot;2 missing values&quot;</td><td>&quot;value_error.missingvalues&quot;</td></tr><tr><td>&hellip;</td><td>&hellip;</td><td>&hellip;</td><td>&hellip;</td><td>&hellip;</td></tr><tr><td>&quot;Flipper_Length&quot;</td><td>false</td><td>2</td><td>&quot;2 missing values&quot;</td><td>&quot;value_error.missingvalues&quot;</td></tr><tr><td>&quot;Flipper_Length&quot;</td><td>false</td><td>0</td><td>&quot;Polars dtype Int64 does not ma…</td><td>&quot;type_error.columndtype&quot;</td></tr><tr><td>&quot;Species&quot;</td><td>true</td><td>0</td><td>null</td><td>null</td></tr><tr><td>&quot;Island&quot;</td><td>true</td><td>0</td><td>null</td><td>null</td></tr><tr><td>&quot;Clutch_Completion&quot;</td><td>true</td><td>0</td><td>null</td><td>null</td></tr></tbody></table></div>"
      ],
      "text/plain": [
       "shape: (11, 5)\n",
       "┌───────────────────┬───────┬──────────────┬───────────────────────────┬───────────────────────────┐\n",
       "│ column            ┆ pass  ┆ failed_count ┆ msg                       ┆ type                      │\n",
       "│ ---               ┆ ---   ┆ ---          ┆ ---                       ┆ ---                       │\n",
       "│ str               ┆ bool  ┆ i64          ┆ str                       ┆ str                       │\n",
       "╞═══════════════════╪═══════╪══════════════╪═══════════════════════════╪═══════════════════════════╡\n",
       "│ Body_Mass         ┆ false ┆ 0            ┆ Missing column            ┆ type_error.missingcolumns │\n",
       "│ ID                ┆ false ┆ 0            ┆ Missing column            ┆ type_error.missingcolumns │\n",
       "│ Sex               ┆ false ┆ 0            ┆ Missing column            ┆ type_error.missingcolumns │\n",
       "│ Comments          ┆ false ┆ 0            ┆ Missing column            ┆ type_error.missingcolumns │\n",
       "│ Culmen_Length     ┆ false ┆ 2            ┆ 2 missing values          ┆ value_error.missingvalues │\n",
       "│ …                 ┆ …     ┆ …            ┆ …                         ┆ …                         │\n",
       "│ Flipper_Length    ┆ false ┆ 2            ┆ 2 missing values          ┆ value_error.missingvalues │\n",
       "│ Flipper_Length    ┆ false ┆ 0            ┆ Polars dtype Int64 does   ┆ type_error.columndtype    │\n",
       "│                   ┆       ┆              ┆ not ma…                   ┆                           │\n",
       "│ Species           ┆ true  ┆ 0            ┆ null                      ┆ null                      │\n",
       "│ Island            ┆ true  ┆ 0            ┆ null                      ┆ null                      │\n",
       "│ Clutch_Completion ┆ true  ┆ 0            ┆ null                      ┆ null                      │\n",
       "└───────────────────┴───────┴──────────────┴───────────────────────────┴───────────────────────────┘"
      ]
     },
     "execution_count": 11,
     "metadata": {},
     "output_type": "execute_result"
    }
   ],
   "source": [
    "# 當實際欄位較少時\n",
    "\n",
    "val(P00, df.select(['Species', 'Island', 'Clutch_Completion', 'Culmen_Length', 'Culmen_Depth', 'Flipper_Length']))"
   ]
  },
  {
   "cell_type": "markdown",
   "metadata": {},
   "source": [
    "# 1. 資料型態\n",
    "\n",
    "確認每個欄位的資料型態皆正確。"
   ]
  },
  {
   "cell_type": "code",
   "execution_count": 12,
   "metadata": {},
   "outputs": [],
   "source": [
    "class P01(pt.Model):\n",
    "    ID: int\n",
    "    Species: str\n",
    "    Island: str\n",
    "    Clutch_Completion: str\n",
    "    Culmen_Length: float\n",
    "    Culmen_Depth: float\n",
    "    Flipper_Length: float\n",
    "    Body_Mass: float\n",
    "    Sex: str\n",
    "    Comments: str\n",
    "    Island_Code: int"
   ]
  },
  {
   "cell_type": "code",
   "execution_count": 13,
   "metadata": {},
   "outputs": [
    {
     "data": {
      "text/html": [
       "<div><style>\n",
       ".dataframe > thead > tr,\n",
       ".dataframe > tbody > tr {\n",
       "  text-align: right;\n",
       "  white-space: pre-wrap;\n",
       "}\n",
       "</style>\n",
       "<small>shape: (13, 5)</small><table border=\"1\" class=\"dataframe\"><thead><tr><th>column</th><th>pass</th><th>failed_count</th><th>msg</th><th>type</th></tr><tr><td>str</td><td>bool</td><td>i64</td><td>str</td><td>str</td></tr></thead><tbody><tr><td>&quot;ID&quot;</td><td>true</td><td>0</td><td>null</td><td>null</td></tr><tr><td>&quot;Species&quot;</td><td>true</td><td>0</td><td>null</td><td>null</td></tr><tr><td>&quot;Island&quot;</td><td>true</td><td>0</td><td>null</td><td>null</td></tr><tr><td>&quot;Clutch_Completion&quot;</td><td>true</td><td>0</td><td>null</td><td>null</td></tr><tr><td>&quot;Culmen_Length&quot;</td><td>false</td><td>2</td><td>&quot;2 missing values&quot;</td><td>&quot;value_error.missingvalues&quot;</td></tr><tr><td>&hellip;</td><td>&hellip;</td><td>&hellip;</td><td>&hellip;</td><td>&hellip;</td></tr><tr><td>&quot;Body_Mass&quot;</td><td>false</td><td>2</td><td>&quot;2 missing values&quot;</td><td>&quot;value_error.missingvalues&quot;</td></tr><tr><td>&quot;Body_Mass&quot;</td><td>false</td><td>0</td><td>&quot;Polars dtype Int64 does not ma…</td><td>&quot;type_error.columndtype&quot;</td></tr><tr><td>&quot;Sex&quot;</td><td>false</td><td>10</td><td>&quot;10 missing values&quot;</td><td>&quot;value_error.missingvalues&quot;</td></tr><tr><td>&quot;Comments&quot;</td><td>false</td><td>318</td><td>&quot;318 missing values&quot;</td><td>&quot;value_error.missingvalues&quot;</td></tr><tr><td>&quot;Island_Code&quot;</td><td>true</td><td>0</td><td>null</td><td>null</td></tr></tbody></table></div>"
      ],
      "text/plain": [
       "shape: (13, 5)\n",
       "┌───────────────────┬───────┬──────────────┬───────────────────────────┬───────────────────────────┐\n",
       "│ column            ┆ pass  ┆ failed_count ┆ msg                       ┆ type                      │\n",
       "│ ---               ┆ ---   ┆ ---          ┆ ---                       ┆ ---                       │\n",
       "│ str               ┆ bool  ┆ i64          ┆ str                       ┆ str                       │\n",
       "╞═══════════════════╪═══════╪══════════════╪═══════════════════════════╪═══════════════════════════╡\n",
       "│ ID                ┆ true  ┆ 0            ┆ null                      ┆ null                      │\n",
       "│ Species           ┆ true  ┆ 0            ┆ null                      ┆ null                      │\n",
       "│ Island            ┆ true  ┆ 0            ┆ null                      ┆ null                      │\n",
       "│ Clutch_Completion ┆ true  ┆ 0            ┆ null                      ┆ null                      │\n",
       "│ Culmen_Length     ┆ false ┆ 2            ┆ 2 missing values          ┆ value_error.missingvalues │\n",
       "│ …                 ┆ …     ┆ …            ┆ …                         ┆ …                         │\n",
       "│ Body_Mass         ┆ false ┆ 2            ┆ 2 missing values          ┆ value_error.missingvalues │\n",
       "│ Body_Mass         ┆ false ┆ 0            ┆ Polars dtype Int64 does   ┆ type_error.columndtype    │\n",
       "│                   ┆       ┆              ┆ not ma…                   ┆                           │\n",
       "│ Sex               ┆ false ┆ 10           ┆ 10 missing values         ┆ value_error.missingvalues │\n",
       "│ Comments          ┆ false ┆ 318          ┆ 318 missing values        ┆ value_error.missingvalues │\n",
       "│ Island_Code       ┆ true  ┆ 0            ┆ null                      ┆ null                      │\n",
       "└───────────────────┴───────┴──────────────┴───────────────────────────┴───────────────────────────┘"
      ]
     },
     "execution_count": 13,
     "metadata": {},
     "output_type": "execute_result"
    }
   ],
   "source": [
    "# Flipper_Length 與 Body_Mass 型態不符\n",
    "\n",
    "val(P01, df)"
   ]
  },
  {
   "cell_type": "code",
   "execution_count": 14,
   "metadata": {},
   "outputs": [],
   "source": [
    "class P01_1(pt.Model):\n",
    "    ID: int\n",
    "    Species: str\n",
    "    Island: str\n",
    "    Clutch_Completion: str\n",
    "    Culmen_Length: float\n",
    "    Culmen_Depth: float\n",
    "    Flipper_Length: int\n",
    "    Body_Mass: int\n",
    "    Sex: str\n",
    "    Comments: str\n",
    "    Island_Code: int"
   ]
  },
  {
   "cell_type": "code",
   "execution_count": 15,
   "metadata": {},
   "outputs": [
    {
     "data": {
      "text/html": [
       "<div><style>\n",
       ".dataframe > thead > tr,\n",
       ".dataframe > tbody > tr {\n",
       "  text-align: right;\n",
       "  white-space: pre-wrap;\n",
       "}\n",
       "</style>\n",
       "<small>shape: (11, 5)</small><table border=\"1\" class=\"dataframe\"><thead><tr><th>column</th><th>pass</th><th>failed_count</th><th>msg</th><th>type</th></tr><tr><td>str</td><td>bool</td><td>i64</td><td>str</td><td>str</td></tr></thead><tbody><tr><td>&quot;ID&quot;</td><td>true</td><td>0</td><td>null</td><td>null</td></tr><tr><td>&quot;Species&quot;</td><td>true</td><td>0</td><td>null</td><td>null</td></tr><tr><td>&quot;Island&quot;</td><td>true</td><td>0</td><td>null</td><td>null</td></tr><tr><td>&quot;Clutch_Completion&quot;</td><td>true</td><td>0</td><td>null</td><td>null</td></tr><tr><td>&quot;Culmen_Length&quot;</td><td>false</td><td>2</td><td>&quot;2 missing values&quot;</td><td>&quot;value_error.missingvalues&quot;</td></tr><tr><td>&hellip;</td><td>&hellip;</td><td>&hellip;</td><td>&hellip;</td><td>&hellip;</td></tr><tr><td>&quot;Flipper_Length&quot;</td><td>false</td><td>2</td><td>&quot;2 missing values&quot;</td><td>&quot;value_error.missingvalues&quot;</td></tr><tr><td>&quot;Body_Mass&quot;</td><td>false</td><td>2</td><td>&quot;2 missing values&quot;</td><td>&quot;value_error.missingvalues&quot;</td></tr><tr><td>&quot;Sex&quot;</td><td>false</td><td>10</td><td>&quot;10 missing values&quot;</td><td>&quot;value_error.missingvalues&quot;</td></tr><tr><td>&quot;Comments&quot;</td><td>false</td><td>318</td><td>&quot;318 missing values&quot;</td><td>&quot;value_error.missingvalues&quot;</td></tr><tr><td>&quot;Island_Code&quot;</td><td>true</td><td>0</td><td>null</td><td>null</td></tr></tbody></table></div>"
      ],
      "text/plain": [
       "shape: (11, 5)\n",
       "┌───────────────────┬───────┬──────────────┬────────────────────┬───────────────────────────┐\n",
       "│ column            ┆ pass  ┆ failed_count ┆ msg                ┆ type                      │\n",
       "│ ---               ┆ ---   ┆ ---          ┆ ---                ┆ ---                       │\n",
       "│ str               ┆ bool  ┆ i64          ┆ str                ┆ str                       │\n",
       "╞═══════════════════╪═══════╪══════════════╪════════════════════╪═══════════════════════════╡\n",
       "│ ID                ┆ true  ┆ 0            ┆ null               ┆ null                      │\n",
       "│ Species           ┆ true  ┆ 0            ┆ null               ┆ null                      │\n",
       "│ Island            ┆ true  ┆ 0            ┆ null               ┆ null                      │\n",
       "│ Clutch_Completion ┆ true  ┆ 0            ┆ null               ┆ null                      │\n",
       "│ Culmen_Length     ┆ false ┆ 2            ┆ 2 missing values   ┆ value_error.missingvalues │\n",
       "│ …                 ┆ …     ┆ …            ┆ …                  ┆ …                         │\n",
       "│ Flipper_Length    ┆ false ┆ 2            ┆ 2 missing values   ┆ value_error.missingvalues │\n",
       "│ Body_Mass         ┆ false ┆ 2            ┆ 2 missing values   ┆ value_error.missingvalues │\n",
       "│ Sex               ┆ false ┆ 10           ┆ 10 missing values  ┆ value_error.missingvalues │\n",
       "│ Comments          ┆ false ┆ 318          ┆ 318 missing values ┆ value_error.missingvalues │\n",
       "│ Island_Code       ┆ true  ┆ 0            ┆ null               ┆ null                      │\n",
       "└───────────────────┴───────┴──────────────┴────────────────────┴───────────────────────────┘"
      ]
     },
     "execution_count": 15,
     "metadata": {},
     "output_type": "execute_result"
    }
   ],
   "source": [
    "val(P01_1, df)"
   ]
  },
  {
   "cell_type": "code",
   "execution_count": 16,
   "metadata": {},
   "outputs": [],
   "source": [
    "# 可使用 polars 的 dtype 來指定型態\n",
    "\n",
    "class P01_2(pt.Model):\n",
    "    ID: int\n",
    "    Species: str\n",
    "    Island: str\n",
    "    Clutch_Completion: str\n",
    "    Culmen_Length: float\n",
    "    Culmen_Depth: float\n",
    "    Flipper_Length: int\n",
    "    Body_Mass: int = pt.Field(dtype=pl.UInt64)\n",
    "    Sex: str\n",
    "    Comments: str\n",
    "    Island_Code: int"
   ]
  },
  {
   "cell_type": "code",
   "execution_count": 17,
   "metadata": {},
   "outputs": [
    {
     "data": {
      "text/html": [
       "<div><style>\n",
       ".dataframe > thead > tr,\n",
       ".dataframe > tbody > tr {\n",
       "  text-align: right;\n",
       "  white-space: pre-wrap;\n",
       "}\n",
       "</style>\n",
       "<small>shape: (12, 5)</small><table border=\"1\" class=\"dataframe\"><thead><tr><th>column</th><th>pass</th><th>failed_count</th><th>msg</th><th>type</th></tr><tr><td>str</td><td>bool</td><td>i64</td><td>str</td><td>str</td></tr></thead><tbody><tr><td>&quot;ID&quot;</td><td>true</td><td>0</td><td>null</td><td>null</td></tr><tr><td>&quot;Species&quot;</td><td>true</td><td>0</td><td>null</td><td>null</td></tr><tr><td>&quot;Island&quot;</td><td>true</td><td>0</td><td>null</td><td>null</td></tr><tr><td>&quot;Clutch_Completion&quot;</td><td>true</td><td>0</td><td>null</td><td>null</td></tr><tr><td>&quot;Culmen_Length&quot;</td><td>false</td><td>2</td><td>&quot;2 missing values&quot;</td><td>&quot;value_error.missingvalues&quot;</td></tr><tr><td>&hellip;</td><td>&hellip;</td><td>&hellip;</td><td>&hellip;</td><td>&hellip;</td></tr><tr><td>&quot;Body_Mass&quot;</td><td>false</td><td>2</td><td>&quot;2 missing values&quot;</td><td>&quot;value_error.missingvalues&quot;</td></tr><tr><td>&quot;Body_Mass&quot;</td><td>false</td><td>0</td><td>&quot;Polars dtype Int64 does not ma…</td><td>&quot;type_error.columndtype&quot;</td></tr><tr><td>&quot;Sex&quot;</td><td>false</td><td>10</td><td>&quot;10 missing values&quot;</td><td>&quot;value_error.missingvalues&quot;</td></tr><tr><td>&quot;Comments&quot;</td><td>false</td><td>318</td><td>&quot;318 missing values&quot;</td><td>&quot;value_error.missingvalues&quot;</td></tr><tr><td>&quot;Island_Code&quot;</td><td>true</td><td>0</td><td>null</td><td>null</td></tr></tbody></table></div>"
      ],
      "text/plain": [
       "shape: (12, 5)\n",
       "┌───────────────────┬───────┬──────────────┬───────────────────────────┬───────────────────────────┐\n",
       "│ column            ┆ pass  ┆ failed_count ┆ msg                       ┆ type                      │\n",
       "│ ---               ┆ ---   ┆ ---          ┆ ---                       ┆ ---                       │\n",
       "│ str               ┆ bool  ┆ i64          ┆ str                       ┆ str                       │\n",
       "╞═══════════════════╪═══════╪══════════════╪═══════════════════════════╪═══════════════════════════╡\n",
       "│ ID                ┆ true  ┆ 0            ┆ null                      ┆ null                      │\n",
       "│ Species           ┆ true  ┆ 0            ┆ null                      ┆ null                      │\n",
       "│ Island            ┆ true  ┆ 0            ┆ null                      ┆ null                      │\n",
       "│ Clutch_Completion ┆ true  ┆ 0            ┆ null                      ┆ null                      │\n",
       "│ Culmen_Length     ┆ false ┆ 2            ┆ 2 missing values          ┆ value_error.missingvalues │\n",
       "│ …                 ┆ …     ┆ …            ┆ …                         ┆ …                         │\n",
       "│ Body_Mass         ┆ false ┆ 2            ┆ 2 missing values          ┆ value_error.missingvalues │\n",
       "│ Body_Mass         ┆ false ┆ 0            ┆ Polars dtype Int64 does   ┆ type_error.columndtype    │\n",
       "│                   ┆       ┆              ┆ not ma…                   ┆                           │\n",
       "│ Sex               ┆ false ┆ 10           ┆ 10 missing values         ┆ value_error.missingvalues │\n",
       "│ Comments          ┆ false ┆ 318          ┆ 318 missing values        ┆ value_error.missingvalues │\n",
       "│ Island_Code       ┆ true  ┆ 0            ┆ null                      ┆ null                      │\n",
       "└───────────────────┴───────┴──────────────┴───────────────────────────┴───────────────────────────┘"
      ]
     },
     "execution_count": 17,
     "metadata": {},
     "output_type": "execute_result"
    }
   ],
   "source": [
    "val(P01_2, df)"
   ]
  },
  {
   "cell_type": "markdown",
   "metadata": {},
   "source": [
    "# 2. 是否為可接受的值\n",
    "\n",
    "驗證一個類別欄位的值皆為特定的幾個類別。"
   ]
  },
  {
   "cell_type": "code",
   "execution_count": 18,
   "metadata": {},
   "outputs": [],
   "source": [
    "# 使用 Literal 限制欄位值，欄位的值必須是 Literal 內的其中一個\n",
    "\n",
    "class P02(pt.Model):\n",
    "    ID: int\n",
    "    Species: Literal['Gentoo penguin (Pygoscelis papua)', \n",
    "                     'Adelie Penguin (Pygoscelis adeliae)', \n",
    "                     'Chinstrap penguin (Pygoscelis antarctica)']\n",
    "    Island: Literal['Torgersen', 'Biscoe', 'Dream']\n",
    "    Clutch_Completion: Literal['Yes', 'No']\n",
    "    Culmen_Length: float\n",
    "    Culmen_Depth: float\n",
    "    Flipper_Length: int\n",
    "    Body_Mass: int\n",
    "    Sex: Literal['MALE', 'FEMALE']\n",
    "    Comments: str\n",
    "    Island_Code: int"
   ]
  },
  {
   "cell_type": "code",
   "execution_count": 19,
   "metadata": {},
   "outputs": [
    {
     "data": {
      "text/html": [
       "<div><style>\n",
       ".dataframe > thead > tr,\n",
       ".dataframe > tbody > tr {\n",
       "  text-align: right;\n",
       "  white-space: pre-wrap;\n",
       "}\n",
       "</style>\n",
       "<small>shape: (12, 5)</small><table border=\"1\" class=\"dataframe\"><thead><tr><th>column</th><th>pass</th><th>failed_count</th><th>msg</th><th>type</th></tr><tr><td>str</td><td>bool</td><td>i64</td><td>str</td><td>str</td></tr></thead><tbody><tr><td>&quot;ID&quot;</td><td>true</td><td>0</td><td>null</td><td>null</td></tr><tr><td>&quot;Species&quot;</td><td>true</td><td>0</td><td>null</td><td>null</td></tr><tr><td>&quot;Island&quot;</td><td>true</td><td>0</td><td>null</td><td>null</td></tr><tr><td>&quot;Clutch_Completion&quot;</td><td>true</td><td>0</td><td>null</td><td>null</td></tr><tr><td>&quot;Culmen_Length&quot;</td><td>false</td><td>2</td><td>&quot;2 missing values&quot;</td><td>&quot;value_error.missingvalues&quot;</td></tr><tr><td>&hellip;</td><td>&hellip;</td><td>&hellip;</td><td>&hellip;</td><td>&hellip;</td></tr><tr><td>&quot;Body_Mass&quot;</td><td>false</td><td>2</td><td>&quot;2 missing values&quot;</td><td>&quot;value_error.missingvalues&quot;</td></tr><tr><td>&quot;Sex&quot;</td><td>false</td><td>10</td><td>&quot;10 missing values&quot;</td><td>&quot;value_error.missingvalues&quot;</td></tr><tr><td>&quot;Sex&quot;</td><td>false</td><td>0</td><td>&quot;Rows with invalid values: {Non…</td><td>&quot;value_error.rowvalue&quot;</td></tr><tr><td>&quot;Comments&quot;</td><td>false</td><td>318</td><td>&quot;318 missing values&quot;</td><td>&quot;value_error.missingvalues&quot;</td></tr><tr><td>&quot;Island_Code&quot;</td><td>true</td><td>0</td><td>null</td><td>null</td></tr></tbody></table></div>"
      ],
      "text/plain": [
       "shape: (12, 5)\n",
       "┌───────────────────┬───────┬──────────────┬───────────────────────────┬───────────────────────────┐\n",
       "│ column            ┆ pass  ┆ failed_count ┆ msg                       ┆ type                      │\n",
       "│ ---               ┆ ---   ┆ ---          ┆ ---                       ┆ ---                       │\n",
       "│ str               ┆ bool  ┆ i64          ┆ str                       ┆ str                       │\n",
       "╞═══════════════════╪═══════╪══════════════╪═══════════════════════════╪═══════════════════════════╡\n",
       "│ ID                ┆ true  ┆ 0            ┆ null                      ┆ null                      │\n",
       "│ Species           ┆ true  ┆ 0            ┆ null                      ┆ null                      │\n",
       "│ Island            ┆ true  ┆ 0            ┆ null                      ┆ null                      │\n",
       "│ Clutch_Completion ┆ true  ┆ 0            ┆ null                      ┆ null                      │\n",
       "│ Culmen_Length     ┆ false ┆ 2            ┆ 2 missing values          ┆ value_error.missingvalues │\n",
       "│ …                 ┆ …     ┆ …            ┆ …                         ┆ …                         │\n",
       "│ Body_Mass         ┆ false ┆ 2            ┆ 2 missing values          ┆ value_error.missingvalues │\n",
       "│ Sex               ┆ false ┆ 10           ┆ 10 missing values         ┆ value_error.missingvalues │\n",
       "│ Sex               ┆ false ┆ 0            ┆ Rows with invalid values: ┆ value_error.rowvalue      │\n",
       "│                   ┆       ┆              ┆ {Non…                     ┆                           │\n",
       "│ Comments          ┆ false ┆ 318          ┆ 318 missing values        ┆ value_error.missingvalues │\n",
       "│ Island_Code       ┆ true  ┆ 0            ┆ null                      ┆ null                      │\n",
       "└───────────────────┴───────┴──────────────┴───────────────────────────┴───────────────────────────┘"
      ]
     },
     "execution_count": 19,
     "metadata": {},
     "output_type": "execute_result"
    }
   ],
   "source": [
    "val(P02, df)"
   ]
  },
  {
   "cell_type": "code",
   "execution_count": 20,
   "metadata": {},
   "outputs": [],
   "source": [
    "# 在此給予錯誤的 Species 類別\n",
    "\n",
    "class P02_1(pt.Model):\n",
    "    ID: int\n",
    "    Species: Literal['Gentoo penguin', \n",
    "                     'Adelie Penguin', \n",
    "                     'Chinstrap penguin']\n",
    "    Island: Literal['Torgersen', 'Biscoe', 'Dream']\n",
    "    Clutch_Completion: Literal['Yes', 'No']\n",
    "    Culmen_Length: float\n",
    "    Culmen_Depth: float\n",
    "    Flipper_Length: int\n",
    "    Body_Mass: int\n",
    "    Sex: Literal['MALE', 'FEMALE']\n",
    "    Comments: str\n",
    "    Island_Code: int"
   ]
  },
  {
   "cell_type": "code",
   "execution_count": 21,
   "metadata": {},
   "outputs": [
    {
     "data": {
      "text/html": [
       "<div><style>\n",
       ".dataframe > thead > tr,\n",
       ".dataframe > tbody > tr {\n",
       "  text-align: right;\n",
       "  white-space: pre-wrap;\n",
       "}\n",
       "</style>\n",
       "<small>shape: (12, 5)</small><table border=\"1\" class=\"dataframe\"><thead><tr><th>column</th><th>pass</th><th>failed_count</th><th>msg</th><th>type</th></tr><tr><td>str</td><td>bool</td><td>i64</td><td>str</td><td>str</td></tr></thead><tbody><tr><td>&quot;ID&quot;</td><td>true</td><td>0</td><td>null</td><td>null</td></tr><tr><td>&quot;Species&quot;</td><td>false</td><td>0</td><td>&quot;Rows with invalid values: {&#x27;Ge…</td><td>&quot;value_error.rowvalue&quot;</td></tr><tr><td>&quot;Island&quot;</td><td>true</td><td>0</td><td>null</td><td>null</td></tr><tr><td>&quot;Clutch_Completion&quot;</td><td>true</td><td>0</td><td>null</td><td>null</td></tr><tr><td>&quot;Culmen_Length&quot;</td><td>false</td><td>2</td><td>&quot;2 missing values&quot;</td><td>&quot;value_error.missingvalues&quot;</td></tr><tr><td>&hellip;</td><td>&hellip;</td><td>&hellip;</td><td>&hellip;</td><td>&hellip;</td></tr><tr><td>&quot;Body_Mass&quot;</td><td>false</td><td>2</td><td>&quot;2 missing values&quot;</td><td>&quot;value_error.missingvalues&quot;</td></tr><tr><td>&quot;Sex&quot;</td><td>false</td><td>10</td><td>&quot;10 missing values&quot;</td><td>&quot;value_error.missingvalues&quot;</td></tr><tr><td>&quot;Sex&quot;</td><td>false</td><td>0</td><td>&quot;Rows with invalid values: {Non…</td><td>&quot;value_error.rowvalue&quot;</td></tr><tr><td>&quot;Comments&quot;</td><td>false</td><td>318</td><td>&quot;318 missing values&quot;</td><td>&quot;value_error.missingvalues&quot;</td></tr><tr><td>&quot;Island_Code&quot;</td><td>true</td><td>0</td><td>null</td><td>null</td></tr></tbody></table></div>"
      ],
      "text/plain": [
       "shape: (12, 5)\n",
       "┌───────────────────┬───────┬──────────────┬───────────────────────────┬───────────────────────────┐\n",
       "│ column            ┆ pass  ┆ failed_count ┆ msg                       ┆ type                      │\n",
       "│ ---               ┆ ---   ┆ ---          ┆ ---                       ┆ ---                       │\n",
       "│ str               ┆ bool  ┆ i64          ┆ str                       ┆ str                       │\n",
       "╞═══════════════════╪═══════╪══════════════╪═══════════════════════════╪═══════════════════════════╡\n",
       "│ ID                ┆ true  ┆ 0            ┆ null                      ┆ null                      │\n",
       "│ Species           ┆ false ┆ 0            ┆ Rows with invalid values: ┆ value_error.rowvalue      │\n",
       "│                   ┆       ┆              ┆ {'Ge…                     ┆                           │\n",
       "│ Island            ┆ true  ┆ 0            ┆ null                      ┆ null                      │\n",
       "│ Clutch_Completion ┆ true  ┆ 0            ┆ null                      ┆ null                      │\n",
       "│ Culmen_Length     ┆ false ┆ 2            ┆ 2 missing values          ┆ value_error.missingvalues │\n",
       "│ …                 ┆ …     ┆ …            ┆ …                         ┆ …                         │\n",
       "│ Body_Mass         ┆ false ┆ 2            ┆ 2 missing values          ┆ value_error.missingvalues │\n",
       "│ Sex               ┆ false ┆ 10           ┆ 10 missing values         ┆ value_error.missingvalues │\n",
       "│ Sex               ┆ false ┆ 0            ┆ Rows with invalid values: ┆ value_error.rowvalue      │\n",
       "│                   ┆       ┆              ┆ {Non…                     ┆                           │\n",
       "│ Comments          ┆ false ┆ 318          ┆ 318 missing values        ┆ value_error.missingvalues │\n",
       "│ Island_Code       ┆ true  ┆ 0            ┆ null                      ┆ null                      │\n",
       "└───────────────────┴───────┴──────────────┴───────────────────────────┴───────────────────────────┘"
      ]
     },
     "execution_count": 21,
     "metadata": {},
     "output_type": "execute_result"
    }
   ],
   "source": [
    "val(P02_1, df)"
   ]
  },
  {
   "cell_type": "markdown",
   "metadata": {},
   "source": [
    "# 3. 是否允許空值\n",
    "\n",
    "確認該欄位是否接受空值，並檢查欄位是否有空值。若欄位不接受空值但該欄位存在空值，則會驗證失敗。"
   ]
  },
  {
   "cell_type": "code",
   "execution_count": 22,
   "metadata": {},
   "outputs": [],
   "source": [
    "# 利用 Optional 來指定欄位可以為空\n",
    "\n",
    "class P03(pt.Model):\n",
    "    ID: int\n",
    "    Species: Literal['Gentoo penguin (Pygoscelis papua)', \n",
    "                     'Adelie Penguin (Pygoscelis adeliae)', \n",
    "                     'Chinstrap penguin (Pygoscelis antarctica)']\n",
    "    Island: Literal['Torgersen', 'Biscoe', 'Dream']\n",
    "    Clutch_Completion: Literal['Yes', 'No']\n",
    "    Culmen_Length: float\n",
    "    Culmen_Depth: float\n",
    "    Flipper_Length: int\n",
    "    Body_Mass: int\n",
    "    Sex: Literal['MALE', 'FEMALE']\n",
    "    Comments: Optional[str]\n",
    "    Island_Code: int"
   ]
  },
  {
   "cell_type": "code",
   "execution_count": 23,
   "metadata": {},
   "outputs": [
    {
     "data": {
      "text/html": [
       "<div><style>\n",
       ".dataframe > thead > tr,\n",
       ".dataframe > tbody > tr {\n",
       "  text-align: right;\n",
       "  white-space: pre-wrap;\n",
       "}\n",
       "</style>\n",
       "<small>shape: (12, 5)</small><table border=\"1\" class=\"dataframe\"><thead><tr><th>column</th><th>pass</th><th>failed_count</th><th>msg</th><th>type</th></tr><tr><td>str</td><td>bool</td><td>i64</td><td>str</td><td>str</td></tr></thead><tbody><tr><td>&quot;ID&quot;</td><td>true</td><td>0</td><td>null</td><td>null</td></tr><tr><td>&quot;Species&quot;</td><td>true</td><td>0</td><td>null</td><td>null</td></tr><tr><td>&quot;Island&quot;</td><td>true</td><td>0</td><td>null</td><td>null</td></tr><tr><td>&quot;Clutch_Completion&quot;</td><td>true</td><td>0</td><td>null</td><td>null</td></tr><tr><td>&quot;Culmen_Length&quot;</td><td>false</td><td>2</td><td>&quot;2 missing values&quot;</td><td>&quot;value_error.missingvalues&quot;</td></tr><tr><td>&hellip;</td><td>&hellip;</td><td>&hellip;</td><td>&hellip;</td><td>&hellip;</td></tr><tr><td>&quot;Body_Mass&quot;</td><td>false</td><td>2</td><td>&quot;2 missing values&quot;</td><td>&quot;value_error.missingvalues&quot;</td></tr><tr><td>&quot;Sex&quot;</td><td>false</td><td>10</td><td>&quot;10 missing values&quot;</td><td>&quot;value_error.missingvalues&quot;</td></tr><tr><td>&quot;Sex&quot;</td><td>false</td><td>0</td><td>&quot;Rows with invalid values: {Non…</td><td>&quot;value_error.rowvalue&quot;</td></tr><tr><td>&quot;Comments&quot;</td><td>true</td><td>0</td><td>null</td><td>null</td></tr><tr><td>&quot;Island_Code&quot;</td><td>true</td><td>0</td><td>null</td><td>null</td></tr></tbody></table></div>"
      ],
      "text/plain": [
       "shape: (12, 5)\n",
       "┌───────────────────┬───────┬──────────────┬───────────────────────────┬───────────────────────────┐\n",
       "│ column            ┆ pass  ┆ failed_count ┆ msg                       ┆ type                      │\n",
       "│ ---               ┆ ---   ┆ ---          ┆ ---                       ┆ ---                       │\n",
       "│ str               ┆ bool  ┆ i64          ┆ str                       ┆ str                       │\n",
       "╞═══════════════════╪═══════╪══════════════╪═══════════════════════════╪═══════════════════════════╡\n",
       "│ ID                ┆ true  ┆ 0            ┆ null                      ┆ null                      │\n",
       "│ Species           ┆ true  ┆ 0            ┆ null                      ┆ null                      │\n",
       "│ Island            ┆ true  ┆ 0            ┆ null                      ┆ null                      │\n",
       "│ Clutch_Completion ┆ true  ┆ 0            ┆ null                      ┆ null                      │\n",
       "│ Culmen_Length     ┆ false ┆ 2            ┆ 2 missing values          ┆ value_error.missingvalues │\n",
       "│ …                 ┆ …     ┆ …            ┆ …                         ┆ …                         │\n",
       "│ Body_Mass         ┆ false ┆ 2            ┆ 2 missing values          ┆ value_error.missingvalues │\n",
       "│ Sex               ┆ false ┆ 10           ┆ 10 missing values         ┆ value_error.missingvalues │\n",
       "│ Sex               ┆ false ┆ 0            ┆ Rows with invalid values: ┆ value_error.rowvalue      │\n",
       "│                   ┆       ┆              ┆ {Non…                     ┆                           │\n",
       "│ Comments          ┆ true  ┆ 0            ┆ null                      ┆ null                      │\n",
       "│ Island_Code       ┆ true  ┆ 0            ┆ null                      ┆ null                      │\n",
       "└───────────────────┴───────┴──────────────┴───────────────────────────┴───────────────────────────┘"
      ]
     },
     "execution_count": 23,
     "metadata": {},
     "output_type": "execute_result"
    }
   ],
   "source": [
    "val(P03, df)"
   ]
  },
  {
   "cell_type": "markdown",
   "metadata": {},
   "source": [
    "# 4. 是否不允許重複\n",
    "\n",
    "確認該欄位是否接受重複值，並檢查欄位是否有重複值。若欄位不接受重複值但該欄位有值重複，則會驗證失敗。"
   ]
  },
  {
   "cell_type": "code",
   "execution_count": 24,
   "metadata": {},
   "outputs": [],
   "source": [
    "# 利用 unique 來指定欄位值必須唯一\n",
    "\n",
    "class P04(pt.Model):\n",
    "    ID: int = pt.Field(unique=True)\n",
    "    Species: Literal['Gentoo penguin (Pygoscelis papua)', \n",
    "                     'Adelie Penguin (Pygoscelis adeliae)', \n",
    "                     'Chinstrap penguin (Pygoscelis antarctica)']\n",
    "    Island: Literal['Torgersen', 'Biscoe', 'Dream']\n",
    "    Clutch_Completion: Literal['Yes', 'No']\n",
    "    Culmen_Length: float\n",
    "    Culmen_Depth: float\n",
    "    Flipper_Length: int\n",
    "    Body_Mass: int\n",
    "    Sex: Literal['MALE', 'FEMALE']\n",
    "    Comments: Optional[str]\n",
    "    Island_Code: int"
   ]
  },
  {
   "cell_type": "code",
   "execution_count": 25,
   "metadata": {},
   "outputs": [
    {
     "data": {
      "text/html": [
       "<div><style>\n",
       ".dataframe > thead > tr,\n",
       ".dataframe > tbody > tr {\n",
       "  text-align: right;\n",
       "  white-space: pre-wrap;\n",
       "}\n",
       "</style>\n",
       "<small>shape: (12, 5)</small><table border=\"1\" class=\"dataframe\"><thead><tr><th>column</th><th>pass</th><th>failed_count</th><th>msg</th><th>type</th></tr><tr><td>str</td><td>bool</td><td>i64</td><td>str</td><td>str</td></tr></thead><tbody><tr><td>&quot;ID&quot;</td><td>false</td><td>316</td><td>&quot;316 rows with duplicated value…</td><td>&quot;value_error.rowvalue&quot;</td></tr><tr><td>&quot;Species&quot;</td><td>true</td><td>0</td><td>null</td><td>null</td></tr><tr><td>&quot;Island&quot;</td><td>true</td><td>0</td><td>null</td><td>null</td></tr><tr><td>&quot;Clutch_Completion&quot;</td><td>true</td><td>0</td><td>null</td><td>null</td></tr><tr><td>&quot;Culmen_Length&quot;</td><td>false</td><td>2</td><td>&quot;2 missing values&quot;</td><td>&quot;value_error.missingvalues&quot;</td></tr><tr><td>&hellip;</td><td>&hellip;</td><td>&hellip;</td><td>&hellip;</td><td>&hellip;</td></tr><tr><td>&quot;Body_Mass&quot;</td><td>false</td><td>2</td><td>&quot;2 missing values&quot;</td><td>&quot;value_error.missingvalues&quot;</td></tr><tr><td>&quot;Sex&quot;</td><td>false</td><td>10</td><td>&quot;10 missing values&quot;</td><td>&quot;value_error.missingvalues&quot;</td></tr><tr><td>&quot;Sex&quot;</td><td>false</td><td>0</td><td>&quot;Rows with invalid values: {Non…</td><td>&quot;value_error.rowvalue&quot;</td></tr><tr><td>&quot;Comments&quot;</td><td>true</td><td>0</td><td>null</td><td>null</td></tr><tr><td>&quot;Island_Code&quot;</td><td>true</td><td>0</td><td>null</td><td>null</td></tr></tbody></table></div>"
      ],
      "text/plain": [
       "shape: (12, 5)\n",
       "┌───────────────────┬───────┬──────────────┬───────────────────────────┬───────────────────────────┐\n",
       "│ column            ┆ pass  ┆ failed_count ┆ msg                       ┆ type                      │\n",
       "│ ---               ┆ ---   ┆ ---          ┆ ---                       ┆ ---                       │\n",
       "│ str               ┆ bool  ┆ i64          ┆ str                       ┆ str                       │\n",
       "╞═══════════════════╪═══════╪══════════════╪═══════════════════════════╪═══════════════════════════╡\n",
       "│ ID                ┆ false ┆ 316          ┆ 316 rows with duplicated  ┆ value_error.rowvalue      │\n",
       "│                   ┆       ┆              ┆ value…                    ┆                           │\n",
       "│ Species           ┆ true  ┆ 0            ┆ null                      ┆ null                      │\n",
       "│ Island            ┆ true  ┆ 0            ┆ null                      ┆ null                      │\n",
       "│ Clutch_Completion ┆ true  ┆ 0            ┆ null                      ┆ null                      │\n",
       "│ Culmen_Length     ┆ false ┆ 2            ┆ 2 missing values          ┆ value_error.missingvalues │\n",
       "│ …                 ┆ …     ┆ …            ┆ …                         ┆ …                         │\n",
       "│ Body_Mass         ┆ false ┆ 2            ┆ 2 missing values          ┆ value_error.missingvalues │\n",
       "│ Sex               ┆ false ┆ 10           ┆ 10 missing values         ┆ value_error.missingvalues │\n",
       "│ Sex               ┆ false ┆ 0            ┆ Rows with invalid values: ┆ value_error.rowvalue      │\n",
       "│                   ┆       ┆              ┆ {Non…                     ┆                           │\n",
       "│ Comments          ┆ true  ┆ 0            ┆ null                      ┆ null                      │\n",
       "│ Island_Code       ┆ true  ┆ 0            ┆ null                      ┆ null                      │\n",
       "└───────────────────┴───────┴──────────────┴───────────────────────────┴───────────────────────────┘"
      ]
     },
     "execution_count": 25,
     "metadata": {},
     "output_type": "execute_result"
    }
   ],
   "source": [
    "val(P04, df)"
   ]
  },
  {
   "cell_type": "markdown",
   "metadata": {},
   "source": [
    "# 5. 字串長度\n",
    "\n",
    "確認字串長度符合規定。"
   ]
  },
  {
   "cell_type": "code",
   "execution_count": 26,
   "metadata": {},
   "outputs": [
    {
     "data": {
      "text/html": [
       "<div><style>\n",
       ".dataframe > thead > tr,\n",
       ".dataframe > tbody > tr {\n",
       "  text-align: right;\n",
       "  white-space: pre-wrap;\n",
       "}\n",
       "</style>\n",
       "<small>shape: (1, 2)</small><table border=\"1\" class=\"dataframe\"><thead><tr><th>Comments Min Length</th><th>Comments Max Length</th></tr><tr><td>u32</td><td>u32</td></tr></thead><tbody><tr><td>18</td><td>68</td></tr></tbody></table></div>"
      ],
      "text/plain": [
       "shape: (1, 2)\n",
       "┌─────────────────────┬─────────────────────┐\n",
       "│ Comments Min Length ┆ Comments Max Length │\n",
       "│ ---                 ┆ ---                 │\n",
       "│ u32                 ┆ u32                 │\n",
       "╞═════════════════════╪═════════════════════╡\n",
       "│ 18                  ┆ 68                  │\n",
       "└─────────────────────┴─────────────────────┘"
      ]
     },
     "execution_count": 26,
     "metadata": {},
     "output_type": "execute_result"
    }
   ],
   "source": [
    "df.select(pl.col('Comments').str.len_chars().min().alias('Comments Min Length'),\n",
    "          pl.col('Comments').str.len_chars().max().alias('Comments Max Length'))"
   ]
  },
  {
   "cell_type": "code",
   "execution_count": 27,
   "metadata": {},
   "outputs": [
    {
     "data": {
      "text/html": [
       "<div><style>\n",
       ".dataframe > thead > tr,\n",
       ".dataframe > tbody > tr {\n",
       "  text-align: right;\n",
       "  white-space: pre-wrap;\n",
       "}\n",
       "</style>\n",
       "<small>shape: (8, 2)</small><table border=\"1\" class=\"dataframe\"><thead><tr><th>Comments</th><th>count</th></tr><tr><td>u32</td><td>u32</td></tr></thead><tbody><tr><td>62</td><td>1</td></tr><tr><td>30</td><td>6</td></tr><tr><td>25</td><td>2</td></tr><tr><td>36</td><td>2</td></tr><tr><td>null</td><td>318</td></tr><tr><td>37</td><td>13</td></tr><tr><td>18</td><td>1</td></tr><tr><td>68</td><td>1</td></tr></tbody></table></div>"
      ],
      "text/plain": [
       "shape: (8, 2)\n",
       "┌──────────┬───────┐\n",
       "│ Comments ┆ count │\n",
       "│ ---      ┆ ---   │\n",
       "│ u32      ┆ u32   │\n",
       "╞══════════╪═══════╡\n",
       "│ 62       ┆ 1     │\n",
       "│ 30       ┆ 6     │\n",
       "│ 25       ┆ 2     │\n",
       "│ 36       ┆ 2     │\n",
       "│ null     ┆ 318   │\n",
       "│ 37       ┆ 13    │\n",
       "│ 18       ┆ 1     │\n",
       "│ 68       ┆ 1     │\n",
       "└──────────┴───────┘"
      ]
     },
     "execution_count": 27,
     "metadata": {},
     "output_type": "execute_result"
    }
   ],
   "source": [
    "df.select(pl.col('Comments').str.len_chars().value_counts()).unnest('Comments')"
   ]
  },
  {
   "cell_type": "code",
   "execution_count": 28,
   "metadata": {},
   "outputs": [],
   "source": [
    "class P05(pt.Model):\n",
    "    ID: int = pt.Field(unique=True)\n",
    "    Species: Literal['Gentoo penguin (Pygoscelis papua)', \n",
    "                     'Adelie Penguin (Pygoscelis adeliae)', \n",
    "                     'Chinstrap penguin (Pygoscelis antarctica)']\n",
    "    Island: Literal['Torgersen', 'Biscoe', 'Dream']\n",
    "    Clutch_Completion: Literal['Yes', 'No']\n",
    "    Culmen_Length: float\n",
    "    Culmen_Depth: float\n",
    "    Flipper_Length: int\n",
    "    Body_Mass: int\n",
    "    Sex: Literal['MALE', 'FEMALE']\n",
    "    Comments: Optional[str] = pt.Field(max_length=50)\n",
    "    Island_Code: int"
   ]
  },
  {
   "cell_type": "code",
   "execution_count": 29,
   "metadata": {},
   "outputs": [
    {
     "data": {
      "text/html": [
       "<div><style>\n",
       ".dataframe > thead > tr,\n",
       ".dataframe > tbody > tr {\n",
       "  text-align: right;\n",
       "  white-space: pre-wrap;\n",
       "}\n",
       "</style>\n",
       "<small>shape: (12, 5)</small><table border=\"1\" class=\"dataframe\"><thead><tr><th>column</th><th>pass</th><th>failed_count</th><th>msg</th><th>type</th></tr><tr><td>str</td><td>bool</td><td>i64</td><td>str</td><td>str</td></tr></thead><tbody><tr><td>&quot;ID&quot;</td><td>false</td><td>316</td><td>&quot;316 rows with duplicated value…</td><td>&quot;value_error.rowvalue&quot;</td></tr><tr><td>&quot;Species&quot;</td><td>true</td><td>0</td><td>null</td><td>null</td></tr><tr><td>&quot;Island&quot;</td><td>true</td><td>0</td><td>null</td><td>null</td></tr><tr><td>&quot;Clutch_Completion&quot;</td><td>true</td><td>0</td><td>null</td><td>null</td></tr><tr><td>&quot;Culmen_Length&quot;</td><td>false</td><td>2</td><td>&quot;2 missing values&quot;</td><td>&quot;value_error.missingvalues&quot;</td></tr><tr><td>&hellip;</td><td>&hellip;</td><td>&hellip;</td><td>&hellip;</td><td>&hellip;</td></tr><tr><td>&quot;Body_Mass&quot;</td><td>false</td><td>2</td><td>&quot;2 missing values&quot;</td><td>&quot;value_error.missingvalues&quot;</td></tr><tr><td>&quot;Sex&quot;</td><td>false</td><td>10</td><td>&quot;10 missing values&quot;</td><td>&quot;value_error.missingvalues&quot;</td></tr><tr><td>&quot;Sex&quot;</td><td>false</td><td>0</td><td>&quot;Rows with invalid values: {Non…</td><td>&quot;value_error.rowvalue&quot;</td></tr><tr><td>&quot;Comments&quot;</td><td>false</td><td>2</td><td>&quot;2 rows with out of bound value…</td><td>&quot;value_error.rowvalue&quot;</td></tr><tr><td>&quot;Island_Code&quot;</td><td>true</td><td>0</td><td>null</td><td>null</td></tr></tbody></table></div>"
      ],
      "text/plain": [
       "shape: (12, 5)\n",
       "┌───────────────────┬───────┬──────────────┬───────────────────────────┬───────────────────────────┐\n",
       "│ column            ┆ pass  ┆ failed_count ┆ msg                       ┆ type                      │\n",
       "│ ---               ┆ ---   ┆ ---          ┆ ---                       ┆ ---                       │\n",
       "│ str               ┆ bool  ┆ i64          ┆ str                       ┆ str                       │\n",
       "╞═══════════════════╪═══════╪══════════════╪═══════════════════════════╪═══════════════════════════╡\n",
       "│ ID                ┆ false ┆ 316          ┆ 316 rows with duplicated  ┆ value_error.rowvalue      │\n",
       "│                   ┆       ┆              ┆ value…                    ┆                           │\n",
       "│ Species           ┆ true  ┆ 0            ┆ null                      ┆ null                      │\n",
       "│ Island            ┆ true  ┆ 0            ┆ null                      ┆ null                      │\n",
       "│ Clutch_Completion ┆ true  ┆ 0            ┆ null                      ┆ null                      │\n",
       "│ Culmen_Length     ┆ false ┆ 2            ┆ 2 missing values          ┆ value_error.missingvalues │\n",
       "│ …                 ┆ …     ┆ …            ┆ …                         ┆ …                         │\n",
       "│ Body_Mass         ┆ false ┆ 2            ┆ 2 missing values          ┆ value_error.missingvalues │\n",
       "│ Sex               ┆ false ┆ 10           ┆ 10 missing values         ┆ value_error.missingvalues │\n",
       "│ Sex               ┆ false ┆ 0            ┆ Rows with invalid values: ┆ value_error.rowvalue      │\n",
       "│                   ┆       ┆              ┆ {Non…                     ┆                           │\n",
       "│ Comments          ┆ false ┆ 2            ┆ 2 rows with out of bound  ┆ value_error.rowvalue      │\n",
       "│                   ┆       ┆              ┆ value…                    ┆                           │\n",
       "│ Island_Code       ┆ true  ┆ 0            ┆ null                      ┆ null                      │\n",
       "└───────────────────┴───────┴──────────────┴───────────────────────────┴───────────────────────────┘"
      ]
     },
     "execution_count": 29,
     "metadata": {},
     "output_type": "execute_result"
    }
   ],
   "source": [
    "val(P05, df)"
   ]
  },
  {
   "cell_type": "code",
   "execution_count": 30,
   "metadata": {},
   "outputs": [],
   "source": [
    "class P05_1(pt.Model):\n",
    "    ID: int = pt.Field(unique=True)\n",
    "    Species: Literal['Gentoo penguin (Pygoscelis papua)', \n",
    "                     'Adelie Penguin (Pygoscelis adeliae)', \n",
    "                     'Chinstrap penguin (Pygoscelis antarctica)']\n",
    "    Island: Literal['Torgersen', 'Biscoe', 'Dream']\n",
    "    Clutch_Completion: Literal['Yes', 'No']\n",
    "    Culmen_Length: float\n",
    "    Culmen_Depth: float\n",
    "    Flipper_Length: int\n",
    "    Body_Mass: int\n",
    "    Sex: Literal['MALE', 'FEMALE']\n",
    "    Comments: Optional[str] = pt.Field(min_length=20)\n",
    "    Island_Code: int"
   ]
  },
  {
   "cell_type": "code",
   "execution_count": 31,
   "metadata": {},
   "outputs": [
    {
     "data": {
      "text/html": [
       "<div><style>\n",
       ".dataframe > thead > tr,\n",
       ".dataframe > tbody > tr {\n",
       "  text-align: right;\n",
       "  white-space: pre-wrap;\n",
       "}\n",
       "</style>\n",
       "<small>shape: (12, 5)</small><table border=\"1\" class=\"dataframe\"><thead><tr><th>column</th><th>pass</th><th>failed_count</th><th>msg</th><th>type</th></tr><tr><td>str</td><td>bool</td><td>i64</td><td>str</td><td>str</td></tr></thead><tbody><tr><td>&quot;ID&quot;</td><td>false</td><td>316</td><td>&quot;316 rows with duplicated value…</td><td>&quot;value_error.rowvalue&quot;</td></tr><tr><td>&quot;Species&quot;</td><td>true</td><td>0</td><td>null</td><td>null</td></tr><tr><td>&quot;Island&quot;</td><td>true</td><td>0</td><td>null</td><td>null</td></tr><tr><td>&quot;Clutch_Completion&quot;</td><td>true</td><td>0</td><td>null</td><td>null</td></tr><tr><td>&quot;Culmen_Length&quot;</td><td>false</td><td>2</td><td>&quot;2 missing values&quot;</td><td>&quot;value_error.missingvalues&quot;</td></tr><tr><td>&hellip;</td><td>&hellip;</td><td>&hellip;</td><td>&hellip;</td><td>&hellip;</td></tr><tr><td>&quot;Body_Mass&quot;</td><td>false</td><td>2</td><td>&quot;2 missing values&quot;</td><td>&quot;value_error.missingvalues&quot;</td></tr><tr><td>&quot;Sex&quot;</td><td>false</td><td>10</td><td>&quot;10 missing values&quot;</td><td>&quot;value_error.missingvalues&quot;</td></tr><tr><td>&quot;Sex&quot;</td><td>false</td><td>0</td><td>&quot;Rows with invalid values: {Non…</td><td>&quot;value_error.rowvalue&quot;</td></tr><tr><td>&quot;Comments&quot;</td><td>false</td><td>1</td><td>&quot;1 row with out of bound values…</td><td>&quot;value_error.rowvalue&quot;</td></tr><tr><td>&quot;Island_Code&quot;</td><td>true</td><td>0</td><td>null</td><td>null</td></tr></tbody></table></div>"
      ],
      "text/plain": [
       "shape: (12, 5)\n",
       "┌───────────────────┬───────┬──────────────┬───────────────────────────┬───────────────────────────┐\n",
       "│ column            ┆ pass  ┆ failed_count ┆ msg                       ┆ type                      │\n",
       "│ ---               ┆ ---   ┆ ---          ┆ ---                       ┆ ---                       │\n",
       "│ str               ┆ bool  ┆ i64          ┆ str                       ┆ str                       │\n",
       "╞═══════════════════╪═══════╪══════════════╪═══════════════════════════╪═══════════════════════════╡\n",
       "│ ID                ┆ false ┆ 316          ┆ 316 rows with duplicated  ┆ value_error.rowvalue      │\n",
       "│                   ┆       ┆              ┆ value…                    ┆                           │\n",
       "│ Species           ┆ true  ┆ 0            ┆ null                      ┆ null                      │\n",
       "│ Island            ┆ true  ┆ 0            ┆ null                      ┆ null                      │\n",
       "│ Clutch_Completion ┆ true  ┆ 0            ┆ null                      ┆ null                      │\n",
       "│ Culmen_Length     ┆ false ┆ 2            ┆ 2 missing values          ┆ value_error.missingvalues │\n",
       "│ …                 ┆ …     ┆ …            ┆ …                         ┆ …                         │\n",
       "│ Body_Mass         ┆ false ┆ 2            ┆ 2 missing values          ┆ value_error.missingvalues │\n",
       "│ Sex               ┆ false ┆ 10           ┆ 10 missing values         ┆ value_error.missingvalues │\n",
       "│ Sex               ┆ false ┆ 0            ┆ Rows with invalid values: ┆ value_error.rowvalue      │\n",
       "│                   ┆       ┆              ┆ {Non…                     ┆                           │\n",
       "│ Comments          ┆ false ┆ 1            ┆ 1 row with out of bound   ┆ value_error.rowvalue      │\n",
       "│                   ┆       ┆              ┆ values…                   ┆                           │\n",
       "│ Island_Code       ┆ true  ┆ 0            ┆ null                      ┆ null                      │\n",
       "└───────────────────┴───────┴──────────────┴───────────────────────────┴───────────────────────────┘"
      ]
     },
     "execution_count": 31,
     "metadata": {},
     "output_type": "execute_result"
    }
   ],
   "source": [
    "val(P05_1, df)"
   ]
  },
  {
   "cell_type": "code",
   "execution_count": 32,
   "metadata": {},
   "outputs": [],
   "source": [
    "class P05_2(pt.Model):\n",
    "    ID: int = pt.Field(unique=True)\n",
    "    Species: Literal['Gentoo penguin (Pygoscelis papua)', \n",
    "                     'Adelie Penguin (Pygoscelis adeliae)', \n",
    "                     'Chinstrap penguin (Pygoscelis antarctica)']\n",
    "    Island: Literal['Torgersen', 'Biscoe', 'Dream']\n",
    "    Clutch_Completion: Literal['Yes', 'No']\n",
    "    Culmen_Length: float\n",
    "    Culmen_Depth: float\n",
    "    Flipper_Length: int\n",
    "    Body_Mass: int\n",
    "    Sex: Literal['MALE', 'FEMALE']\n",
    "    Comments: Optional[str] = pt.Field(min_length=20, max_length=50)\n",
    "    Island_Code: int"
   ]
  },
  {
   "cell_type": "code",
   "execution_count": 33,
   "metadata": {},
   "outputs": [
    {
     "data": {
      "text/html": [
       "<div><style>\n",
       ".dataframe > thead > tr,\n",
       ".dataframe > tbody > tr {\n",
       "  text-align: right;\n",
       "  white-space: pre-wrap;\n",
       "}\n",
       "</style>\n",
       "<small>shape: (12, 5)</small><table border=\"1\" class=\"dataframe\"><thead><tr><th>column</th><th>pass</th><th>failed_count</th><th>msg</th><th>type</th></tr><tr><td>str</td><td>bool</td><td>i64</td><td>str</td><td>str</td></tr></thead><tbody><tr><td>&quot;ID&quot;</td><td>false</td><td>316</td><td>&quot;316 rows with duplicated value…</td><td>&quot;value_error.rowvalue&quot;</td></tr><tr><td>&quot;Species&quot;</td><td>true</td><td>0</td><td>null</td><td>null</td></tr><tr><td>&quot;Island&quot;</td><td>true</td><td>0</td><td>null</td><td>null</td></tr><tr><td>&quot;Clutch_Completion&quot;</td><td>true</td><td>0</td><td>null</td><td>null</td></tr><tr><td>&quot;Culmen_Length&quot;</td><td>false</td><td>2</td><td>&quot;2 missing values&quot;</td><td>&quot;value_error.missingvalues&quot;</td></tr><tr><td>&hellip;</td><td>&hellip;</td><td>&hellip;</td><td>&hellip;</td><td>&hellip;</td></tr><tr><td>&quot;Body_Mass&quot;</td><td>false</td><td>2</td><td>&quot;2 missing values&quot;</td><td>&quot;value_error.missingvalues&quot;</td></tr><tr><td>&quot;Sex&quot;</td><td>false</td><td>10</td><td>&quot;10 missing values&quot;</td><td>&quot;value_error.missingvalues&quot;</td></tr><tr><td>&quot;Sex&quot;</td><td>false</td><td>0</td><td>&quot;Rows with invalid values: {Non…</td><td>&quot;value_error.rowvalue&quot;</td></tr><tr><td>&quot;Comments&quot;</td><td>false</td><td>3</td><td>&quot;3 rows with out of bound value…</td><td>&quot;value_error.rowvalue&quot;</td></tr><tr><td>&quot;Island_Code&quot;</td><td>true</td><td>0</td><td>null</td><td>null</td></tr></tbody></table></div>"
      ],
      "text/plain": [
       "shape: (12, 5)\n",
       "┌───────────────────┬───────┬──────────────┬───────────────────────────┬───────────────────────────┐\n",
       "│ column            ┆ pass  ┆ failed_count ┆ msg                       ┆ type                      │\n",
       "│ ---               ┆ ---   ┆ ---          ┆ ---                       ┆ ---                       │\n",
       "│ str               ┆ bool  ┆ i64          ┆ str                       ┆ str                       │\n",
       "╞═══════════════════╪═══════╪══════════════╪═══════════════════════════╪═══════════════════════════╡\n",
       "│ ID                ┆ false ┆ 316          ┆ 316 rows with duplicated  ┆ value_error.rowvalue      │\n",
       "│                   ┆       ┆              ┆ value…                    ┆                           │\n",
       "│ Species           ┆ true  ┆ 0            ┆ null                      ┆ null                      │\n",
       "│ Island            ┆ true  ┆ 0            ┆ null                      ┆ null                      │\n",
       "│ Clutch_Completion ┆ true  ┆ 0            ┆ null                      ┆ null                      │\n",
       "│ Culmen_Length     ┆ false ┆ 2            ┆ 2 missing values          ┆ value_error.missingvalues │\n",
       "│ …                 ┆ …     ┆ …            ┆ …                         ┆ …                         │\n",
       "│ Body_Mass         ┆ false ┆ 2            ┆ 2 missing values          ┆ value_error.missingvalues │\n",
       "│ Sex               ┆ false ┆ 10           ┆ 10 missing values         ┆ value_error.missingvalues │\n",
       "│ Sex               ┆ false ┆ 0            ┆ Rows with invalid values: ┆ value_error.rowvalue      │\n",
       "│                   ┆       ┆              ┆ {Non…                     ┆                           │\n",
       "│ Comments          ┆ false ┆ 3            ┆ 3 rows with out of bound  ┆ value_error.rowvalue      │\n",
       "│                   ┆       ┆              ┆ value…                    ┆                           │\n",
       "│ Island_Code       ┆ true  ┆ 0            ┆ null                      ┆ null                      │\n",
       "└───────────────────┴───────┴──────────────┴───────────────────────────┴───────────────────────────┘"
      ]
     },
     "execution_count": 33,
     "metadata": {},
     "output_type": "execute_result"
    }
   ],
   "source": [
    "val(P05_2, df)"
   ]
  },
  {
   "cell_type": "markdown",
   "metadata": {},
   "source": [
    "# 6. 字串規則\n",
    "\n",
    "利用 `re` 正則表達式來檢查字串是否符合特定格式。"
   ]
  },
  {
   "cell_type": "code",
   "execution_count": 34,
   "metadata": {},
   "outputs": [
    {
     "data": {
      "text/html": [
       "<div><style>\n",
       ".dataframe > thead > tr,\n",
       ".dataframe > tbody > tr {\n",
       "  text-align: right;\n",
       "  white-space: pre-wrap;\n",
       "}\n",
       "</style>\n",
       "<small>shape: (26, 1)</small><table border=\"1\" class=\"dataframe\"><thead><tr><th>Comments</th></tr><tr><td>str</td></tr></thead><tbody><tr><td>&quot;Not enough blood for isotopes.&quot;</td></tr><tr><td>&quot;Adult not sampled.&quot;</td></tr><tr><td>&quot;Nest never observed with full …</td></tr><tr><td>&quot;Nest never observed with full …</td></tr><tr><td>&quot;No blood sample obtained.&quot;</td></tr><tr><td>&hellip;</td></tr><tr><td>&quot;Nest never observed with full …</td></tr><tr><td>&quot;Nest never observed with full …</td></tr><tr><td>&quot;Nest never observed with full …</td></tr><tr><td>&quot;Nest never observed with full …</td></tr><tr><td>&quot;Nest never observed with full …</td></tr></tbody></table></div>"
      ],
      "text/plain": [
       "shape: (26, 1)\n",
       "┌─────────────────────────────────┐\n",
       "│ Comments                        │\n",
       "│ ---                             │\n",
       "│ str                             │\n",
       "╞═════════════════════════════════╡\n",
       "│ Not enough blood for isotopes.  │\n",
       "│ Adult not sampled.              │\n",
       "│ Nest never observed with full … │\n",
       "│ Nest never observed with full … │\n",
       "│ No blood sample obtained.       │\n",
       "│ …                               │\n",
       "│ Nest never observed with full … │\n",
       "│ Nest never observed with full … │\n",
       "│ Nest never observed with full … │\n",
       "│ Nest never observed with full … │\n",
       "│ Nest never observed with full … │\n",
       "└─────────────────────────────────┘"
      ]
     },
     "execution_count": 34,
     "metadata": {},
     "output_type": "execute_result"
    }
   ],
   "source": [
    "df.filter(pl.col('Comments').is_not_null()).select(pl.col('Comments'))"
   ]
  },
  {
   "cell_type": "code",
   "execution_count": 35,
   "metadata": {},
   "outputs": [
    {
     "data": {
      "text/html": [
       "<div><style>\n",
       ".dataframe > thead > tr,\n",
       ".dataframe > tbody > tr {\n",
       "  text-align: right;\n",
       "  white-space: pre-wrap;\n",
       "}\n",
       "</style>\n",
       "<small>shape: (12, 1)</small><table border=\"1\" class=\"dataframe\"><thead><tr><th>Comments</th></tr><tr><td>str</td></tr></thead><tbody><tr><td>&quot;Not enough blood for isotopes.&quot;</td></tr><tr><td>&quot;Adult not sampled.&quot;</td></tr><tr><td>&quot;No blood sample obtained.&quot;</td></tr><tr><td>&quot;No blood sample obtained for s…</td></tr><tr><td>&quot;No blood sample obtained for s…</td></tr><tr><td>&hellip;</td></tr><tr><td>&quot;Not enough blood for isotopes.&quot;</td></tr><tr><td>&quot;Not enough blood for isotopes.&quot;</td></tr><tr><td>&quot;Not enough blood for isotopes.&quot;</td></tr><tr><td>&quot;Not enough blood for isotopes.&quot;</td></tr><tr><td>&quot;Sexing primers did not amplify…</td></tr></tbody></table></div>"
      ],
      "text/plain": [
       "shape: (12, 1)\n",
       "┌─────────────────────────────────┐\n",
       "│ Comments                        │\n",
       "│ ---                             │\n",
       "│ str                             │\n",
       "╞═════════════════════════════════╡\n",
       "│ Not enough blood for isotopes.  │\n",
       "│ Adult not sampled.              │\n",
       "│ No blood sample obtained.       │\n",
       "│ No blood sample obtained for s… │\n",
       "│ No blood sample obtained for s… │\n",
       "│ …                               │\n",
       "│ Not enough blood for isotopes.  │\n",
       "│ Not enough blood for isotopes.  │\n",
       "│ Not enough blood for isotopes.  │\n",
       "│ Not enough blood for isotopes.  │\n",
       "│ Sexing primers did not amplify… │\n",
       "└─────────────────────────────────┘"
      ]
     },
     "execution_count": 35,
     "metadata": {},
     "output_type": "execute_result"
    }
   ],
   "source": [
    "df.filter(pl.col('Comments').is_not_null()).filter(~pl.col('Comments').str.starts_with('Nest')).select(pl.col('Comments'))"
   ]
  },
  {
   "cell_type": "code",
   "execution_count": 36,
   "metadata": {},
   "outputs": [],
   "source": [
    "# 使用 pattern 來進行 re 格式的驗證 \n",
    "# 官網提到使用 regex 參數進行設定，但目前並不支援\n",
    "\n",
    "class P06(pt.Model):\n",
    "    ID: int = pt.Field(unique=True)\n",
    "    Species: Literal['Gentoo penguin (Pygoscelis papua)', \n",
    "                     'Adelie Penguin (Pygoscelis adeliae)', \n",
    "                     'Chinstrap penguin (Pygoscelis antarctica)']\n",
    "    Island: Literal['Torgersen', 'Biscoe', 'Dream']\n",
    "    Clutch_Completion: Literal['Yes', 'No']\n",
    "    Culmen_Length: float\n",
    "    Culmen_Depth: float\n",
    "    Flipper_Length: int\n",
    "    Body_Mass: int\n",
    "    Sex: Literal['MALE', 'FEMALE']\n",
    "    Comments: Optional[str] = pt.Field(pattern=r'^Nest[A-Za-z0-9\\s]+')\n",
    "    Island_Code: int"
   ]
  },
  {
   "cell_type": "code",
   "execution_count": 37,
   "metadata": {},
   "outputs": [
    {
     "data": {
      "text/html": [
       "<div><style>\n",
       ".dataframe > thead > tr,\n",
       ".dataframe > tbody > tr {\n",
       "  text-align: right;\n",
       "  white-space: pre-wrap;\n",
       "}\n",
       "</style>\n",
       "<small>shape: (12, 5)</small><table border=\"1\" class=\"dataframe\"><thead><tr><th>column</th><th>pass</th><th>failed_count</th><th>msg</th><th>type</th></tr><tr><td>str</td><td>bool</td><td>i64</td><td>str</td><td>str</td></tr></thead><tbody><tr><td>&quot;ID&quot;</td><td>false</td><td>316</td><td>&quot;316 rows with duplicated value…</td><td>&quot;value_error.rowvalue&quot;</td></tr><tr><td>&quot;Species&quot;</td><td>true</td><td>0</td><td>null</td><td>null</td></tr><tr><td>&quot;Island&quot;</td><td>true</td><td>0</td><td>null</td><td>null</td></tr><tr><td>&quot;Clutch_Completion&quot;</td><td>true</td><td>0</td><td>null</td><td>null</td></tr><tr><td>&quot;Culmen_Length&quot;</td><td>false</td><td>2</td><td>&quot;2 missing values&quot;</td><td>&quot;value_error.missingvalues&quot;</td></tr><tr><td>&hellip;</td><td>&hellip;</td><td>&hellip;</td><td>&hellip;</td><td>&hellip;</td></tr><tr><td>&quot;Body_Mass&quot;</td><td>false</td><td>2</td><td>&quot;2 missing values&quot;</td><td>&quot;value_error.missingvalues&quot;</td></tr><tr><td>&quot;Sex&quot;</td><td>false</td><td>10</td><td>&quot;10 missing values&quot;</td><td>&quot;value_error.missingvalues&quot;</td></tr><tr><td>&quot;Sex&quot;</td><td>false</td><td>0</td><td>&quot;Rows with invalid values: {Non…</td><td>&quot;value_error.rowvalue&quot;</td></tr><tr><td>&quot;Comments&quot;</td><td>false</td><td>12</td><td>&quot;12 rows with out of bound valu…</td><td>&quot;value_error.rowvalue&quot;</td></tr><tr><td>&quot;Island_Code&quot;</td><td>true</td><td>0</td><td>null</td><td>null</td></tr></tbody></table></div>"
      ],
      "text/plain": [
       "shape: (12, 5)\n",
       "┌───────────────────┬───────┬──────────────┬───────────────────────────┬───────────────────────────┐\n",
       "│ column            ┆ pass  ┆ failed_count ┆ msg                       ┆ type                      │\n",
       "│ ---               ┆ ---   ┆ ---          ┆ ---                       ┆ ---                       │\n",
       "│ str               ┆ bool  ┆ i64          ┆ str                       ┆ str                       │\n",
       "╞═══════════════════╪═══════╪══════════════╪═══════════════════════════╪═══════════════════════════╡\n",
       "│ ID                ┆ false ┆ 316          ┆ 316 rows with duplicated  ┆ value_error.rowvalue      │\n",
       "│                   ┆       ┆              ┆ value…                    ┆                           │\n",
       "│ Species           ┆ true  ┆ 0            ┆ null                      ┆ null                      │\n",
       "│ Island            ┆ true  ┆ 0            ┆ null                      ┆ null                      │\n",
       "│ Clutch_Completion ┆ true  ┆ 0            ┆ null                      ┆ null                      │\n",
       "│ Culmen_Length     ┆ false ┆ 2            ┆ 2 missing values          ┆ value_error.missingvalues │\n",
       "│ …                 ┆ …     ┆ …            ┆ …                         ┆ …                         │\n",
       "│ Body_Mass         ┆ false ┆ 2            ┆ 2 missing values          ┆ value_error.missingvalues │\n",
       "│ Sex               ┆ false ┆ 10           ┆ 10 missing values         ┆ value_error.missingvalues │\n",
       "│ Sex               ┆ false ┆ 0            ┆ Rows with invalid values: ┆ value_error.rowvalue      │\n",
       "│                   ┆       ┆              ┆ {Non…                     ┆                           │\n",
       "│ Comments          ┆ false ┆ 12           ┆ 12 rows with out of bound ┆ value_error.rowvalue      │\n",
       "│                   ┆       ┆              ┆ valu…                     ┆                           │\n",
       "│ Island_Code       ┆ true  ┆ 0            ┆ null                      ┆ null                      │\n",
       "└───────────────────┴───────┴──────────────┴───────────────────────────┴───────────────────────────┘"
      ]
     },
     "execution_count": 37,
     "metadata": {},
     "output_type": "execute_result"
    }
   ],
   "source": [
    "val(P06, df)"
   ]
  },
  {
   "cell_type": "markdown",
   "metadata": {},
   "source": [
    "# 7. 值的範圍\n",
    "\n",
    "確認一欄位的值皆大於（等於）或/及小於（等於）特定值。\n",
    "\n",
    "* `ge`: 大於等於\n",
    "* `le`: 小於等於\n",
    "* `gt`: 大於\n",
    "* `lt`: 小於"
   ]
  },
  {
   "cell_type": "code",
   "execution_count": 38,
   "metadata": {},
   "outputs": [
    {
     "data": {
      "text/html": [
       "<div><style>\n",
       ".dataframe > thead > tr,\n",
       ".dataframe > tbody > tr {\n",
       "  text-align: right;\n",
       "  white-space: pre-wrap;\n",
       "}\n",
       "</style>\n",
       "<small>shape: (9, 2)</small><table border=\"1\" class=\"dataframe\"><thead><tr><th>statistic</th><th>Body_Mass</th></tr><tr><td>str</td><td>f64</td></tr></thead><tbody><tr><td>&quot;count&quot;</td><td>342.0</td></tr><tr><td>&quot;null_count&quot;</td><td>2.0</td></tr><tr><td>&quot;mean&quot;</td><td>4201.754386</td></tr><tr><td>&quot;std&quot;</td><td>801.954536</td></tr><tr><td>&quot;min&quot;</td><td>2700.0</td></tr><tr><td>&quot;25%&quot;</td><td>3550.0</td></tr><tr><td>&quot;50%&quot;</td><td>4050.0</td></tr><tr><td>&quot;75%&quot;</td><td>4750.0</td></tr><tr><td>&quot;max&quot;</td><td>6300.0</td></tr></tbody></table></div>"
      ],
      "text/plain": [
       "shape: (9, 2)\n",
       "┌────────────┬─────────────┐\n",
       "│ statistic  ┆ Body_Mass   │\n",
       "│ ---        ┆ ---         │\n",
       "│ str        ┆ f64         │\n",
       "╞════════════╪═════════════╡\n",
       "│ count      ┆ 342.0       │\n",
       "│ null_count ┆ 2.0         │\n",
       "│ mean       ┆ 4201.754386 │\n",
       "│ std        ┆ 801.954536  │\n",
       "│ min        ┆ 2700.0      │\n",
       "│ 25%        ┆ 3550.0      │\n",
       "│ 50%        ┆ 4050.0      │\n",
       "│ 75%        ┆ 4750.0      │\n",
       "│ max        ┆ 6300.0      │\n",
       "└────────────┴─────────────┘"
      ]
     },
     "execution_count": 38,
     "metadata": {},
     "output_type": "execute_result"
    }
   ],
   "source": [
    "df.select('Body_Mass').describe()"
   ]
  },
  {
   "cell_type": "code",
   "execution_count": 39,
   "metadata": {},
   "outputs": [],
   "source": [
    "class P07(pt.Model):\n",
    "    ID: int = pt.Field(unique=True)\n",
    "    Species: Literal['Gentoo penguin (Pygoscelis papua)', \n",
    "                     'Adelie Penguin (Pygoscelis adeliae)', \n",
    "                     'Chinstrap penguin (Pygoscelis antarctica)']\n",
    "    Island: Literal['Torgersen', 'Biscoe', 'Dream']\n",
    "    Clutch_Completion: Literal['Yes', 'No']\n",
    "    Culmen_Length: float\n",
    "    Culmen_Depth: float\n",
    "    Flipper_Length: int\n",
    "    Body_Mass: int = pt.Field(ge=2700, le=6300)\n",
    "    Sex: Literal['MALE', 'FEMALE']\n",
    "    Comments: Optional[str]\n",
    "    Island_Code: int"
   ]
  },
  {
   "cell_type": "code",
   "execution_count": 40,
   "metadata": {},
   "outputs": [
    {
     "data": {
      "text/html": [
       "<div><style>\n",
       ".dataframe > thead > tr,\n",
       ".dataframe > tbody > tr {\n",
       "  text-align: right;\n",
       "  white-space: pre-wrap;\n",
       "}\n",
       "</style>\n",
       "<small>shape: (12, 5)</small><table border=\"1\" class=\"dataframe\"><thead><tr><th>column</th><th>pass</th><th>failed_count</th><th>msg</th><th>type</th></tr><tr><td>str</td><td>bool</td><td>i64</td><td>str</td><td>str</td></tr></thead><tbody><tr><td>&quot;ID&quot;</td><td>false</td><td>316</td><td>&quot;316 rows with duplicated value…</td><td>&quot;value_error.rowvalue&quot;</td></tr><tr><td>&quot;Species&quot;</td><td>true</td><td>0</td><td>null</td><td>null</td></tr><tr><td>&quot;Island&quot;</td><td>true</td><td>0</td><td>null</td><td>null</td></tr><tr><td>&quot;Clutch_Completion&quot;</td><td>true</td><td>0</td><td>null</td><td>null</td></tr><tr><td>&quot;Culmen_Length&quot;</td><td>false</td><td>2</td><td>&quot;2 missing values&quot;</td><td>&quot;value_error.missingvalues&quot;</td></tr><tr><td>&hellip;</td><td>&hellip;</td><td>&hellip;</td><td>&hellip;</td><td>&hellip;</td></tr><tr><td>&quot;Body_Mass&quot;</td><td>false</td><td>2</td><td>&quot;2 missing values&quot;</td><td>&quot;value_error.missingvalues&quot;</td></tr><tr><td>&quot;Sex&quot;</td><td>false</td><td>10</td><td>&quot;10 missing values&quot;</td><td>&quot;value_error.missingvalues&quot;</td></tr><tr><td>&quot;Sex&quot;</td><td>false</td><td>0</td><td>&quot;Rows with invalid values: {Non…</td><td>&quot;value_error.rowvalue&quot;</td></tr><tr><td>&quot;Comments&quot;</td><td>true</td><td>0</td><td>null</td><td>null</td></tr><tr><td>&quot;Island_Code&quot;</td><td>true</td><td>0</td><td>null</td><td>null</td></tr></tbody></table></div>"
      ],
      "text/plain": [
       "shape: (12, 5)\n",
       "┌───────────────────┬───────┬──────────────┬───────────────────────────┬───────────────────────────┐\n",
       "│ column            ┆ pass  ┆ failed_count ┆ msg                       ┆ type                      │\n",
       "│ ---               ┆ ---   ┆ ---          ┆ ---                       ┆ ---                       │\n",
       "│ str               ┆ bool  ┆ i64          ┆ str                       ┆ str                       │\n",
       "╞═══════════════════╪═══════╪══════════════╪═══════════════════════════╪═══════════════════════════╡\n",
       "│ ID                ┆ false ┆ 316          ┆ 316 rows with duplicated  ┆ value_error.rowvalue      │\n",
       "│                   ┆       ┆              ┆ value…                    ┆                           │\n",
       "│ Species           ┆ true  ┆ 0            ┆ null                      ┆ null                      │\n",
       "│ Island            ┆ true  ┆ 0            ┆ null                      ┆ null                      │\n",
       "│ Clutch_Completion ┆ true  ┆ 0            ┆ null                      ┆ null                      │\n",
       "│ Culmen_Length     ┆ false ┆ 2            ┆ 2 missing values          ┆ value_error.missingvalues │\n",
       "│ …                 ┆ …     ┆ …            ┆ …                         ┆ …                         │\n",
       "│ Body_Mass         ┆ false ┆ 2            ┆ 2 missing values          ┆ value_error.missingvalues │\n",
       "│ Sex               ┆ false ┆ 10           ┆ 10 missing values         ┆ value_error.missingvalues │\n",
       "│ Sex               ┆ false ┆ 0            ┆ Rows with invalid values: ┆ value_error.rowvalue      │\n",
       "│                   ┆       ┆              ┆ {Non…                     ┆                           │\n",
       "│ Comments          ┆ true  ┆ 0            ┆ null                      ┆ null                      │\n",
       "│ Island_Code       ┆ true  ┆ 0            ┆ null                      ┆ null                      │\n",
       "└───────────────────┴───────┴──────────────┴───────────────────────────┴───────────────────────────┘"
      ]
     },
     "execution_count": 40,
     "metadata": {},
     "output_type": "execute_result"
    }
   ],
   "source": [
    "val(P07, df)"
   ]
  },
  {
   "cell_type": "code",
   "execution_count": 41,
   "metadata": {},
   "outputs": [],
   "source": [
    "class P07_1(pt.Model):\n",
    "    ID: int = pt.Field(unique=True)\n",
    "    Species: Literal['Gentoo penguin (Pygoscelis papua)', \n",
    "                     'Adelie Penguin (Pygoscelis adeliae)', \n",
    "                     'Chinstrap penguin (Pygoscelis antarctica)']\n",
    "    Island: Literal['Torgersen', 'Biscoe', 'Dream']\n",
    "    Clutch_Completion: Literal['Yes', 'No']\n",
    "    Culmen_Length: float\n",
    "    Culmen_Depth: float\n",
    "    Flipper_Length: int\n",
    "    Body_Mass: int = pt.Field(gt=2700, lt=6300)\n",
    "    Sex: Literal['MALE', 'FEMALE']\n",
    "    Comments: Optional[str]\n",
    "    Island_Code: int"
   ]
  },
  {
   "cell_type": "code",
   "execution_count": 42,
   "metadata": {},
   "outputs": [
    {
     "data": {
      "text/html": [
       "<div><style>\n",
       ".dataframe > thead > tr,\n",
       ".dataframe > tbody > tr {\n",
       "  text-align: right;\n",
       "  white-space: pre-wrap;\n",
       "}\n",
       "</style>\n",
       "<small>shape: (13, 5)</small><table border=\"1\" class=\"dataframe\"><thead><tr><th>column</th><th>pass</th><th>failed_count</th><th>msg</th><th>type</th></tr><tr><td>str</td><td>bool</td><td>i64</td><td>str</td><td>str</td></tr></thead><tbody><tr><td>&quot;ID&quot;</td><td>false</td><td>316</td><td>&quot;316 rows with duplicated value…</td><td>&quot;value_error.rowvalue&quot;</td></tr><tr><td>&quot;Species&quot;</td><td>true</td><td>0</td><td>null</td><td>null</td></tr><tr><td>&quot;Island&quot;</td><td>true</td><td>0</td><td>null</td><td>null</td></tr><tr><td>&quot;Clutch_Completion&quot;</td><td>true</td><td>0</td><td>null</td><td>null</td></tr><tr><td>&quot;Culmen_Length&quot;</td><td>false</td><td>2</td><td>&quot;2 missing values&quot;</td><td>&quot;value_error.missingvalues&quot;</td></tr><tr><td>&hellip;</td><td>&hellip;</td><td>&hellip;</td><td>&hellip;</td><td>&hellip;</td></tr><tr><td>&quot;Body_Mass&quot;</td><td>false</td><td>2</td><td>&quot;2 rows with out of bound value…</td><td>&quot;value_error.rowvalue&quot;</td></tr><tr><td>&quot;Sex&quot;</td><td>false</td><td>10</td><td>&quot;10 missing values&quot;</td><td>&quot;value_error.missingvalues&quot;</td></tr><tr><td>&quot;Sex&quot;</td><td>false</td><td>0</td><td>&quot;Rows with invalid values: {Non…</td><td>&quot;value_error.rowvalue&quot;</td></tr><tr><td>&quot;Comments&quot;</td><td>true</td><td>0</td><td>null</td><td>null</td></tr><tr><td>&quot;Island_Code&quot;</td><td>true</td><td>0</td><td>null</td><td>null</td></tr></tbody></table></div>"
      ],
      "text/plain": [
       "shape: (13, 5)\n",
       "┌───────────────────┬───────┬──────────────┬───────────────────────────┬───────────────────────────┐\n",
       "│ column            ┆ pass  ┆ failed_count ┆ msg                       ┆ type                      │\n",
       "│ ---               ┆ ---   ┆ ---          ┆ ---                       ┆ ---                       │\n",
       "│ str               ┆ bool  ┆ i64          ┆ str                       ┆ str                       │\n",
       "╞═══════════════════╪═══════╪══════════════╪═══════════════════════════╪═══════════════════════════╡\n",
       "│ ID                ┆ false ┆ 316          ┆ 316 rows with duplicated  ┆ value_error.rowvalue      │\n",
       "│                   ┆       ┆              ┆ value…                    ┆                           │\n",
       "│ Species           ┆ true  ┆ 0            ┆ null                      ┆ null                      │\n",
       "│ Island            ┆ true  ┆ 0            ┆ null                      ┆ null                      │\n",
       "│ Clutch_Completion ┆ true  ┆ 0            ┆ null                      ┆ null                      │\n",
       "│ Culmen_Length     ┆ false ┆ 2            ┆ 2 missing values          ┆ value_error.missingvalues │\n",
       "│ …                 ┆ …     ┆ …            ┆ …                         ┆ …                         │\n",
       "│ Body_Mass         ┆ false ┆ 2            ┆ 2 rows with out of bound  ┆ value_error.rowvalue      │\n",
       "│                   ┆       ┆              ┆ value…                    ┆                           │\n",
       "│ Sex               ┆ false ┆ 10           ┆ 10 missing values         ┆ value_error.missingvalues │\n",
       "│ Sex               ┆ false ┆ 0            ┆ Rows with invalid values: ┆ value_error.rowvalue      │\n",
       "│                   ┆       ┆              ┆ {Non…                     ┆                           │\n",
       "│ Comments          ┆ true  ┆ 0            ┆ null                      ┆ null                      │\n",
       "│ Island_Code       ┆ true  ┆ 0            ┆ null                      ┆ null                      │\n",
       "└───────────────────┴───────┴──────────────┴───────────────────────────┴───────────────────────────┘"
      ]
     },
     "execution_count": 42,
     "metadata": {},
     "output_type": "execute_result"
    }
   ],
   "source": [
    "val(P07_1, df)"
   ]
  },
  {
   "cell_type": "markdown",
   "metadata": {},
   "source": [
    "# 8. 值為某個倍數\n",
    "\n",
    "確認該欄位的值皆為某個數值的倍數。"
   ]
  },
  {
   "cell_type": "code",
   "execution_count": 43,
   "metadata": {},
   "outputs": [],
   "source": [
    "# 確認 Body_Mass 的值是否皆為 100 的倍數\n",
    "\n",
    "class P08(pt.Model):\n",
    "    ID: int = pt.Field(unique=True)\n",
    "    Species: Literal['Gentoo penguin (Pygoscelis papua)', \n",
    "                     'Adelie Penguin (Pygoscelis adeliae)', \n",
    "                     'Chinstrap penguin (Pygoscelis antarctica)']\n",
    "    Island: Literal['Torgersen', 'Biscoe', 'Dream']\n",
    "    Clutch_Completion: Literal['Yes', 'No']\n",
    "    Culmen_Length: float\n",
    "    Culmen_Depth: float\n",
    "    Flipper_Length: int\n",
    "    Body_Mass: int = pt.Field(multiple_of=100)\n",
    "    Sex: Literal['MALE', 'FEMALE']\n",
    "    Comments: Optional[str]\n",
    "    Island_Code: int"
   ]
  },
  {
   "cell_type": "code",
   "execution_count": 44,
   "metadata": {},
   "outputs": [
    {
     "data": {
      "text/html": [
       "<div><style>\n",
       ".dataframe > thead > tr,\n",
       ".dataframe > tbody > tr {\n",
       "  text-align: right;\n",
       "  white-space: pre-wrap;\n",
       "}\n",
       "</style>\n",
       "<small>shape: (13, 5)</small><table border=\"1\" class=\"dataframe\"><thead><tr><th>column</th><th>pass</th><th>failed_count</th><th>msg</th><th>type</th></tr><tr><td>str</td><td>bool</td><td>i64</td><td>str</td><td>str</td></tr></thead><tbody><tr><td>&quot;ID&quot;</td><td>false</td><td>316</td><td>&quot;316 rows with duplicated value…</td><td>&quot;value_error.rowvalue&quot;</td></tr><tr><td>&quot;Species&quot;</td><td>true</td><td>0</td><td>null</td><td>null</td></tr><tr><td>&quot;Island&quot;</td><td>true</td><td>0</td><td>null</td><td>null</td></tr><tr><td>&quot;Clutch_Completion&quot;</td><td>true</td><td>0</td><td>null</td><td>null</td></tr><tr><td>&quot;Culmen_Length&quot;</td><td>false</td><td>2</td><td>&quot;2 missing values&quot;</td><td>&quot;value_error.missingvalues&quot;</td></tr><tr><td>&hellip;</td><td>&hellip;</td><td>&hellip;</td><td>&hellip;</td><td>&hellip;</td></tr><tr><td>&quot;Body_Mass&quot;</td><td>false</td><td>179</td><td>&quot;179 rows with out of bound val…</td><td>&quot;value_error.rowvalue&quot;</td></tr><tr><td>&quot;Sex&quot;</td><td>false</td><td>10</td><td>&quot;10 missing values&quot;</td><td>&quot;value_error.missingvalues&quot;</td></tr><tr><td>&quot;Sex&quot;</td><td>false</td><td>0</td><td>&quot;Rows with invalid values: {Non…</td><td>&quot;value_error.rowvalue&quot;</td></tr><tr><td>&quot;Comments&quot;</td><td>true</td><td>0</td><td>null</td><td>null</td></tr><tr><td>&quot;Island_Code&quot;</td><td>true</td><td>0</td><td>null</td><td>null</td></tr></tbody></table></div>"
      ],
      "text/plain": [
       "shape: (13, 5)\n",
       "┌───────────────────┬───────┬──────────────┬───────────────────────────┬───────────────────────────┐\n",
       "│ column            ┆ pass  ┆ failed_count ┆ msg                       ┆ type                      │\n",
       "│ ---               ┆ ---   ┆ ---          ┆ ---                       ┆ ---                       │\n",
       "│ str               ┆ bool  ┆ i64          ┆ str                       ┆ str                       │\n",
       "╞═══════════════════╪═══════╪══════════════╪═══════════════════════════╪═══════════════════════════╡\n",
       "│ ID                ┆ false ┆ 316          ┆ 316 rows with duplicated  ┆ value_error.rowvalue      │\n",
       "│                   ┆       ┆              ┆ value…                    ┆                           │\n",
       "│ Species           ┆ true  ┆ 0            ┆ null                      ┆ null                      │\n",
       "│ Island            ┆ true  ┆ 0            ┆ null                      ┆ null                      │\n",
       "│ Clutch_Completion ┆ true  ┆ 0            ┆ null                      ┆ null                      │\n",
       "│ Culmen_Length     ┆ false ┆ 2            ┆ 2 missing values          ┆ value_error.missingvalues │\n",
       "│ …                 ┆ …     ┆ …            ┆ …                         ┆ …                         │\n",
       "│ Body_Mass         ┆ false ┆ 179          ┆ 179 rows with out of      ┆ value_error.rowvalue      │\n",
       "│                   ┆       ┆              ┆ bound val…                ┆                           │\n",
       "│ Sex               ┆ false ┆ 10           ┆ 10 missing values         ┆ value_error.missingvalues │\n",
       "│ Sex               ┆ false ┆ 0            ┆ Rows with invalid values: ┆ value_error.rowvalue      │\n",
       "│                   ┆       ┆              ┆ {Non…                     ┆                           │\n",
       "│ Comments          ┆ true  ┆ 0            ┆ null                      ┆ null                      │\n",
       "│ Island_Code       ┆ true  ┆ 0            ┆ null                      ┆ null                      │\n",
       "└───────────────────┴───────┴──────────────┴───────────────────────────┴───────────────────────────┘"
      ]
     },
     "execution_count": 44,
     "metadata": {},
     "output_type": "execute_result"
    }
   ],
   "source": [
    "val(P08, df)"
   ]
  },
  {
   "cell_type": "code",
   "execution_count": 45,
   "metadata": {},
   "outputs": [],
   "source": [
    "# 確認 Body_Mass 的值是否皆為 5 的倍數\n",
    "\n",
    "class P08_1(pt.Model):\n",
    "    ID: int = pt.Field(unique=True)\n",
    "    Species: Literal['Gentoo penguin (Pygoscelis papua)', \n",
    "                     'Adelie Penguin (Pygoscelis adeliae)', \n",
    "                     'Chinstrap penguin (Pygoscelis antarctica)']\n",
    "    Island: Literal['Torgersen', 'Biscoe', 'Dream']\n",
    "    Clutch_Completion: Literal['Yes', 'No']\n",
    "    Culmen_Length: float\n",
    "    Culmen_Depth: float\n",
    "    Flipper_Length: int\n",
    "    Body_Mass: int = pt.Field(multiple_of=5)\n",
    "    Sex: Literal['MALE', 'FEMALE']\n",
    "    Comments: Optional[str]\n",
    "    Island_Code: int"
   ]
  },
  {
   "cell_type": "code",
   "execution_count": 46,
   "metadata": {},
   "outputs": [
    {
     "data": {
      "text/html": [
       "<div><style>\n",
       ".dataframe > thead > tr,\n",
       ".dataframe > tbody > tr {\n",
       "  text-align: right;\n",
       "  white-space: pre-wrap;\n",
       "}\n",
       "</style>\n",
       "<small>shape: (12, 5)</small><table border=\"1\" class=\"dataframe\"><thead><tr><th>column</th><th>pass</th><th>failed_count</th><th>msg</th><th>type</th></tr><tr><td>str</td><td>bool</td><td>i64</td><td>str</td><td>str</td></tr></thead><tbody><tr><td>&quot;ID&quot;</td><td>false</td><td>316</td><td>&quot;316 rows with duplicated value…</td><td>&quot;value_error.rowvalue&quot;</td></tr><tr><td>&quot;Species&quot;</td><td>true</td><td>0</td><td>null</td><td>null</td></tr><tr><td>&quot;Island&quot;</td><td>true</td><td>0</td><td>null</td><td>null</td></tr><tr><td>&quot;Clutch_Completion&quot;</td><td>true</td><td>0</td><td>null</td><td>null</td></tr><tr><td>&quot;Culmen_Length&quot;</td><td>false</td><td>2</td><td>&quot;2 missing values&quot;</td><td>&quot;value_error.missingvalues&quot;</td></tr><tr><td>&hellip;</td><td>&hellip;</td><td>&hellip;</td><td>&hellip;</td><td>&hellip;</td></tr><tr><td>&quot;Body_Mass&quot;</td><td>false</td><td>2</td><td>&quot;2 missing values&quot;</td><td>&quot;value_error.missingvalues&quot;</td></tr><tr><td>&quot;Sex&quot;</td><td>false</td><td>10</td><td>&quot;10 missing values&quot;</td><td>&quot;value_error.missingvalues&quot;</td></tr><tr><td>&quot;Sex&quot;</td><td>false</td><td>0</td><td>&quot;Rows with invalid values: {Non…</td><td>&quot;value_error.rowvalue&quot;</td></tr><tr><td>&quot;Comments&quot;</td><td>true</td><td>0</td><td>null</td><td>null</td></tr><tr><td>&quot;Island_Code&quot;</td><td>true</td><td>0</td><td>null</td><td>null</td></tr></tbody></table></div>"
      ],
      "text/plain": [
       "shape: (12, 5)\n",
       "┌───────────────────┬───────┬──────────────┬───────────────────────────┬───────────────────────────┐\n",
       "│ column            ┆ pass  ┆ failed_count ┆ msg                       ┆ type                      │\n",
       "│ ---               ┆ ---   ┆ ---          ┆ ---                       ┆ ---                       │\n",
       "│ str               ┆ bool  ┆ i64          ┆ str                       ┆ str                       │\n",
       "╞═══════════════════╪═══════╪══════════════╪═══════════════════════════╪═══════════════════════════╡\n",
       "│ ID                ┆ false ┆ 316          ┆ 316 rows with duplicated  ┆ value_error.rowvalue      │\n",
       "│                   ┆       ┆              ┆ value…                    ┆                           │\n",
       "│ Species           ┆ true  ┆ 0            ┆ null                      ┆ null                      │\n",
       "│ Island            ┆ true  ┆ 0            ┆ null                      ┆ null                      │\n",
       "│ Clutch_Completion ┆ true  ┆ 0            ┆ null                      ┆ null                      │\n",
       "│ Culmen_Length     ┆ false ┆ 2            ┆ 2 missing values          ┆ value_error.missingvalues │\n",
       "│ …                 ┆ …     ┆ …            ┆ …                         ┆ …                         │\n",
       "│ Body_Mass         ┆ false ┆ 2            ┆ 2 missing values          ┆ value_error.missingvalues │\n",
       "│ Sex               ┆ false ┆ 10           ┆ 10 missing values         ┆ value_error.missingvalues │\n",
       "│ Sex               ┆ false ┆ 0            ┆ Rows with invalid values: ┆ value_error.rowvalue      │\n",
       "│                   ┆       ┆              ┆ {Non…                     ┆                           │\n",
       "│ Comments          ┆ true  ┆ 0            ┆ null                      ┆ null                      │\n",
       "│ Island_Code       ┆ true  ┆ 0            ┆ null                      ┆ null                      │\n",
       "└───────────────────┴───────┴──────────────┴───────────────────────────┴───────────────────────────┘"
      ]
     },
     "execution_count": 46,
     "metadata": {},
     "output_type": "execute_result"
    }
   ],
   "source": [
    "val(P08_1, df)"
   ]
  },
  {
   "cell_type": "markdown",
   "metadata": {},
   "source": [
    "# 9. 值為常數\n",
    "\n",
    "確認該欄位的值皆為常數（所有的值皆相同）。"
   ]
  },
  {
   "cell_type": "code",
   "execution_count": 47,
   "metadata": {},
   "outputs": [
    {
     "data": {
      "text/plain": [
       "(336, 11)"
      ]
     },
     "execution_count": 47,
     "metadata": {},
     "output_type": "execute_result"
    }
   ],
   "source": [
    "df.filter(pl.col('Body_Mass')!=5000).shape"
   ]
  },
  {
   "cell_type": "code",
   "execution_count": 48,
   "metadata": {},
   "outputs": [],
   "source": [
    "# 確認 Body_Mass 的值是否皆為 5000\n",
    "\n",
    "class P09(pt.Model):\n",
    "    ID: int = pt.Field(unique=True)\n",
    "    Species: Literal['Gentoo penguin (Pygoscelis papua)', \n",
    "                     'Adelie Penguin (Pygoscelis adeliae)', \n",
    "                     'Chinstrap penguin (Pygoscelis antarctica)']\n",
    "    Island: Literal['Torgersen', 'Biscoe', 'Dream']\n",
    "    Clutch_Completion: Literal['Yes', 'No']\n",
    "    Culmen_Length: float\n",
    "    Culmen_Depth: float\n",
    "    Flipper_Length: int\n",
    "    Body_Mass: Literal[5000]\n",
    "    Sex: Literal['MALE', 'FEMALE']\n",
    "    Comments: Optional[str]\n",
    "    Island_Code: int"
   ]
  },
  {
   "cell_type": "code",
   "execution_count": 49,
   "metadata": {},
   "outputs": [
    {
     "data": {
      "text/html": [
       "<div><style>\n",
       ".dataframe > thead > tr,\n",
       ".dataframe > tbody > tr {\n",
       "  text-align: right;\n",
       "  white-space: pre-wrap;\n",
       "}\n",
       "</style>\n",
       "<small>shape: (13, 5)</small><table border=\"1\" class=\"dataframe\"><thead><tr><th>column</th><th>pass</th><th>failed_count</th><th>msg</th><th>type</th></tr><tr><td>str</td><td>bool</td><td>i64</td><td>str</td><td>str</td></tr></thead><tbody><tr><td>&quot;ID&quot;</td><td>false</td><td>316</td><td>&quot;316 rows with duplicated value…</td><td>&quot;value_error.rowvalue&quot;</td></tr><tr><td>&quot;Species&quot;</td><td>true</td><td>0</td><td>null</td><td>null</td></tr><tr><td>&quot;Island&quot;</td><td>true</td><td>0</td><td>null</td><td>null</td></tr><tr><td>&quot;Clutch_Completion&quot;</td><td>true</td><td>0</td><td>null</td><td>null</td></tr><tr><td>&quot;Culmen_Length&quot;</td><td>false</td><td>2</td><td>&quot;2 missing values&quot;</td><td>&quot;value_error.missingvalues&quot;</td></tr><tr><td>&hellip;</td><td>&hellip;</td><td>&hellip;</td><td>&hellip;</td><td>&hellip;</td></tr><tr><td>&quot;Body_Mass&quot;</td><td>false</td><td>336</td><td>&quot;336 rows with out of bound val…</td><td>&quot;value_error.rowvalue&quot;</td></tr><tr><td>&quot;Sex&quot;</td><td>false</td><td>10</td><td>&quot;10 missing values&quot;</td><td>&quot;value_error.missingvalues&quot;</td></tr><tr><td>&quot;Sex&quot;</td><td>false</td><td>0</td><td>&quot;Rows with invalid values: {Non…</td><td>&quot;value_error.rowvalue&quot;</td></tr><tr><td>&quot;Comments&quot;</td><td>true</td><td>0</td><td>null</td><td>null</td></tr><tr><td>&quot;Island_Code&quot;</td><td>true</td><td>0</td><td>null</td><td>null</td></tr></tbody></table></div>"
      ],
      "text/plain": [
       "shape: (13, 5)\n",
       "┌───────────────────┬───────┬──────────────┬───────────────────────────┬───────────────────────────┐\n",
       "│ column            ┆ pass  ┆ failed_count ┆ msg                       ┆ type                      │\n",
       "│ ---               ┆ ---   ┆ ---          ┆ ---                       ┆ ---                       │\n",
       "│ str               ┆ bool  ┆ i64          ┆ str                       ┆ str                       │\n",
       "╞═══════════════════╪═══════╪══════════════╪═══════════════════════════╪═══════════════════════════╡\n",
       "│ ID                ┆ false ┆ 316          ┆ 316 rows with duplicated  ┆ value_error.rowvalue      │\n",
       "│                   ┆       ┆              ┆ value…                    ┆                           │\n",
       "│ Species           ┆ true  ┆ 0            ┆ null                      ┆ null                      │\n",
       "│ Island            ┆ true  ┆ 0            ┆ null                      ┆ null                      │\n",
       "│ Clutch_Completion ┆ true  ┆ 0            ┆ null                      ┆ null                      │\n",
       "│ Culmen_Length     ┆ false ┆ 2            ┆ 2 missing values          ┆ value_error.missingvalues │\n",
       "│ …                 ┆ …     ┆ …            ┆ …                         ┆ …                         │\n",
       "│ Body_Mass         ┆ false ┆ 336          ┆ 336 rows with out of      ┆ value_error.rowvalue      │\n",
       "│                   ┆       ┆              ┆ bound val…                ┆                           │\n",
       "│ Sex               ┆ false ┆ 10           ┆ 10 missing values         ┆ value_error.missingvalues │\n",
       "│ Sex               ┆ false ┆ 0            ┆ Rows with invalid values: ┆ value_error.rowvalue      │\n",
       "│                   ┆       ┆              ┆ {Non…                     ┆                           │\n",
       "│ Comments          ┆ true  ┆ 0            ┆ null                      ┆ null                      │\n",
       "│ Island_Code       ┆ true  ┆ 0            ┆ null                      ┆ null                      │\n",
       "└───────────────────┴───────┴──────────────┴───────────────────────────┴───────────────────────────┘"
      ]
     },
     "execution_count": 49,
     "metadata": {},
     "output_type": "execute_result"
    }
   ],
   "source": [
    "val(P09, df)"
   ]
  },
  {
   "cell_type": "markdown",
   "metadata": {},
   "source": [
    "# 10. 某個欄位加總為特定值\n",
    "\n",
    "確認該欄位的加總為特定值，常見於欄位的所有值加總必須等於 1（比例資料）。"
   ]
  },
  {
   "cell_type": "code",
   "execution_count": 50,
   "metadata": {},
   "outputs": [
    {
     "data": {
      "text/html": [
       "<div><style>\n",
       ".dataframe > thead > tr,\n",
       ".dataframe > tbody > tr {\n",
       "  text-align: right;\n",
       "  white-space: pre-wrap;\n",
       "}\n",
       "</style>\n",
       "<small>shape: (1, 1)</small><table border=\"1\" class=\"dataframe\"><thead><tr><th>Body_Mass</th></tr><tr><td>i64</td></tr></thead><tbody><tr><td>1437000</td></tr></tbody></table></div>"
      ],
      "text/plain": [
       "shape: (1, 1)\n",
       "┌───────────┐\n",
       "│ Body_Mass │\n",
       "│ ---       │\n",
       "│ i64       │\n",
       "╞═══════════╡\n",
       "│ 1437000   │\n",
       "└───────────┘"
      ]
     },
     "execution_count": 50,
     "metadata": {},
     "output_type": "execute_result"
    }
   ],
   "source": [
    "df.select(pl.col('Body_Mass').sum())"
   ]
  },
  {
   "cell_type": "code",
   "execution_count": 51,
   "metadata": {},
   "outputs": [],
   "source": [
    "# 確認 Body_Mass 的值是否總和為 1437000\n",
    "# pt.field 等價於 pl.col('Body_Mass')\n",
    "\n",
    "class P10(pt.Model):\n",
    "    ID: int = pt.Field(unique=True)\n",
    "    Species: Literal['Gentoo penguin (Pygoscelis papua)', \n",
    "                     'Adelie Penguin (Pygoscelis adeliae)', \n",
    "                     'Chinstrap penguin (Pygoscelis antarctica)']\n",
    "    Island: Literal['Torgersen', 'Biscoe', 'Dream']\n",
    "    Clutch_Completion: Literal['Yes', 'No']\n",
    "    Culmen_Length: float\n",
    "    Culmen_Depth: float\n",
    "    Flipper_Length: int\n",
    "    Body_Mass: int = pt.Field(constraints=pt.field.sum() == 1437000)\n",
    "    Sex: Literal['MALE', 'FEMALE']\n",
    "    Comments: Optional[str]\n",
    "    Island_Code: int"
   ]
  },
  {
   "cell_type": "code",
   "execution_count": 52,
   "metadata": {},
   "outputs": [
    {
     "data": {
      "text/html": [
       "<div><style>\n",
       ".dataframe > thead > tr,\n",
       ".dataframe > tbody > tr {\n",
       "  text-align: right;\n",
       "  white-space: pre-wrap;\n",
       "}\n",
       "</style>\n",
       "<small>shape: (12, 5)</small><table border=\"1\" class=\"dataframe\"><thead><tr><th>column</th><th>pass</th><th>failed_count</th><th>msg</th><th>type</th></tr><tr><td>str</td><td>bool</td><td>i64</td><td>str</td><td>str</td></tr></thead><tbody><tr><td>&quot;ID&quot;</td><td>false</td><td>316</td><td>&quot;316 rows with duplicated value…</td><td>&quot;value_error.rowvalue&quot;</td></tr><tr><td>&quot;Species&quot;</td><td>true</td><td>0</td><td>null</td><td>null</td></tr><tr><td>&quot;Island&quot;</td><td>true</td><td>0</td><td>null</td><td>null</td></tr><tr><td>&quot;Clutch_Completion&quot;</td><td>true</td><td>0</td><td>null</td><td>null</td></tr><tr><td>&quot;Culmen_Length&quot;</td><td>false</td><td>2</td><td>&quot;2 missing values&quot;</td><td>&quot;value_error.missingvalues&quot;</td></tr><tr><td>&hellip;</td><td>&hellip;</td><td>&hellip;</td><td>&hellip;</td><td>&hellip;</td></tr><tr><td>&quot;Body_Mass&quot;</td><td>false</td><td>2</td><td>&quot;2 missing values&quot;</td><td>&quot;value_error.missingvalues&quot;</td></tr><tr><td>&quot;Sex&quot;</td><td>false</td><td>10</td><td>&quot;10 missing values&quot;</td><td>&quot;value_error.missingvalues&quot;</td></tr><tr><td>&quot;Sex&quot;</td><td>false</td><td>0</td><td>&quot;Rows with invalid values: {Non…</td><td>&quot;value_error.rowvalue&quot;</td></tr><tr><td>&quot;Comments&quot;</td><td>true</td><td>0</td><td>null</td><td>null</td></tr><tr><td>&quot;Island_Code&quot;</td><td>true</td><td>0</td><td>null</td><td>null</td></tr></tbody></table></div>"
      ],
      "text/plain": [
       "shape: (12, 5)\n",
       "┌───────────────────┬───────┬──────────────┬───────────────────────────┬───────────────────────────┐\n",
       "│ column            ┆ pass  ┆ failed_count ┆ msg                       ┆ type                      │\n",
       "│ ---               ┆ ---   ┆ ---          ┆ ---                       ┆ ---                       │\n",
       "│ str               ┆ bool  ┆ i64          ┆ str                       ┆ str                       │\n",
       "╞═══════════════════╪═══════╪══════════════╪═══════════════════════════╪═══════════════════════════╡\n",
       "│ ID                ┆ false ┆ 316          ┆ 316 rows with duplicated  ┆ value_error.rowvalue      │\n",
       "│                   ┆       ┆              ┆ value…                    ┆                           │\n",
       "│ Species           ┆ true  ┆ 0            ┆ null                      ┆ null                      │\n",
       "│ Island            ┆ true  ┆ 0            ┆ null                      ┆ null                      │\n",
       "│ Clutch_Completion ┆ true  ┆ 0            ┆ null                      ┆ null                      │\n",
       "│ Culmen_Length     ┆ false ┆ 2            ┆ 2 missing values          ┆ value_error.missingvalues │\n",
       "│ …                 ┆ …     ┆ …            ┆ …                         ┆ …                         │\n",
       "│ Body_Mass         ┆ false ┆ 2            ┆ 2 missing values          ┆ value_error.missingvalues │\n",
       "│ Sex               ┆ false ┆ 10           ┆ 10 missing values         ┆ value_error.missingvalues │\n",
       "│ Sex               ┆ false ┆ 0            ┆ Rows with invalid values: ┆ value_error.rowvalue      │\n",
       "│                   ┆       ┆              ┆ {Non…                     ┆                           │\n",
       "│ Comments          ┆ true  ┆ 0            ┆ null                      ┆ null                      │\n",
       "│ Island_Code       ┆ true  ┆ 0            ┆ null                      ┆ null                      │\n",
       "└───────────────────┴───────┴──────────────┴───────────────────────────┴───────────────────────────┘"
      ]
     },
     "execution_count": 52,
     "metadata": {},
     "output_type": "execute_result"
    }
   ],
   "source": [
    "val(P10, df)"
   ]
  },
  {
   "cell_type": "code",
   "execution_count": 53,
   "metadata": {},
   "outputs": [],
   "source": [
    "class P10_1(pt.Model):\n",
    "    ID: int = pt.Field(unique=True)\n",
    "    Species: Literal['Gentoo penguin (Pygoscelis papua)', \n",
    "                     'Adelie Penguin (Pygoscelis adeliae)', \n",
    "                     'Chinstrap penguin (Pygoscelis antarctica)']\n",
    "    Island: Literal['Torgersen', 'Biscoe', 'Dream']\n",
    "    Clutch_Completion: Literal['Yes', 'No']\n",
    "    Culmen_Length: float\n",
    "    Culmen_Depth: float\n",
    "    Flipper_Length: int\n",
    "    Body_Mass: int = pt.Field(constraints=pt.field.sum() == 1400000)\n",
    "    Sex: Literal['MALE', 'FEMALE']\n",
    "    Comments: Optional[str]\n",
    "    Island_Code: int"
   ]
  },
  {
   "cell_type": "code",
   "execution_count": 54,
   "metadata": {},
   "outputs": [
    {
     "data": {
      "text/html": [
       "<div><style>\n",
       ".dataframe > thead > tr,\n",
       ".dataframe > tbody > tr {\n",
       "  text-align: right;\n",
       "  white-space: pre-wrap;\n",
       "}\n",
       "</style>\n",
       "<small>shape: (13, 5)</small><table border=\"1\" class=\"dataframe\"><thead><tr><th>column</th><th>pass</th><th>failed_count</th><th>msg</th><th>type</th></tr><tr><td>str</td><td>bool</td><td>i64</td><td>str</td><td>str</td></tr></thead><tbody><tr><td>&quot;ID&quot;</td><td>false</td><td>316</td><td>&quot;316 rows with duplicated value…</td><td>&quot;value_error.rowvalue&quot;</td></tr><tr><td>&quot;Species&quot;</td><td>true</td><td>0</td><td>null</td><td>null</td></tr><tr><td>&quot;Island&quot;</td><td>true</td><td>0</td><td>null</td><td>null</td></tr><tr><td>&quot;Clutch_Completion&quot;</td><td>true</td><td>0</td><td>null</td><td>null</td></tr><tr><td>&quot;Culmen_Length&quot;</td><td>false</td><td>2</td><td>&quot;2 missing values&quot;</td><td>&quot;value_error.missingvalues&quot;</td></tr><tr><td>&hellip;</td><td>&hellip;</td><td>&hellip;</td><td>&hellip;</td><td>&hellip;</td></tr><tr><td>&quot;Body_Mass&quot;</td><td>false</td><td>344</td><td>&quot;344 rows does not match custom…</td><td>&quot;value_error.rowvalue&quot;</td></tr><tr><td>&quot;Sex&quot;</td><td>false</td><td>10</td><td>&quot;10 missing values&quot;</td><td>&quot;value_error.missingvalues&quot;</td></tr><tr><td>&quot;Sex&quot;</td><td>false</td><td>0</td><td>&quot;Rows with invalid values: {Non…</td><td>&quot;value_error.rowvalue&quot;</td></tr><tr><td>&quot;Comments&quot;</td><td>true</td><td>0</td><td>null</td><td>null</td></tr><tr><td>&quot;Island_Code&quot;</td><td>true</td><td>0</td><td>null</td><td>null</td></tr></tbody></table></div>"
      ],
      "text/plain": [
       "shape: (13, 5)\n",
       "┌───────────────────┬───────┬──────────────┬───────────────────────────┬───────────────────────────┐\n",
       "│ column            ┆ pass  ┆ failed_count ┆ msg                       ┆ type                      │\n",
       "│ ---               ┆ ---   ┆ ---          ┆ ---                       ┆ ---                       │\n",
       "│ str               ┆ bool  ┆ i64          ┆ str                       ┆ str                       │\n",
       "╞═══════════════════╪═══════╪══════════════╪═══════════════════════════╪═══════════════════════════╡\n",
       "│ ID                ┆ false ┆ 316          ┆ 316 rows with duplicated  ┆ value_error.rowvalue      │\n",
       "│                   ┆       ┆              ┆ value…                    ┆                           │\n",
       "│ Species           ┆ true  ┆ 0            ┆ null                      ┆ null                      │\n",
       "│ Island            ┆ true  ┆ 0            ┆ null                      ┆ null                      │\n",
       "│ Clutch_Completion ┆ true  ┆ 0            ┆ null                      ┆ null                      │\n",
       "│ Culmen_Length     ┆ false ┆ 2            ┆ 2 missing values          ┆ value_error.missingvalues │\n",
       "│ …                 ┆ …     ┆ …            ┆ …                         ┆ …                         │\n",
       "│ Body_Mass         ┆ false ┆ 344          ┆ 344 rows does not match   ┆ value_error.rowvalue      │\n",
       "│                   ┆       ┆              ┆ custom…                   ┆                           │\n",
       "│ Sex               ┆ false ┆ 10           ┆ 10 missing values         ┆ value_error.missingvalues │\n",
       "│ Sex               ┆ false ┆ 0            ┆ Rows with invalid values: ┆ value_error.rowvalue      │\n",
       "│                   ┆       ┆              ┆ {Non…                     ┆                           │\n",
       "│ Comments          ┆ true  ┆ 0            ┆ null                      ┆ null                      │\n",
       "│ Island_Code       ┆ true  ┆ 0            ┆ null                      ┆ null                      │\n",
       "└───────────────────┴───────┴──────────────┴───────────────────────────┴───────────────────────────┘"
      ]
     },
     "execution_count": 54,
     "metadata": {},
     "output_type": "execute_result"
    }
   ],
   "source": [
    "val(P10_1, df)"
   ]
  },
  {
   "cell_type": "markdown",
   "metadata": {},
   "source": [
    "# 11. 欄位之間的關係\n",
    "\n",
    "確認不同欄位之間的關係是否成立，例如某欄位的值必須大於另一欄位。"
   ]
  },
  {
   "cell_type": "code",
   "execution_count": 55,
   "metadata": {},
   "outputs": [],
   "source": [
    "class P11(pt.Model):\n",
    "    ID: int = pt.Field(unique=True)\n",
    "    Species: Literal['Gentoo penguin (Pygoscelis papua)', \n",
    "                     'Adelie Penguin (Pygoscelis adeliae)', \n",
    "                     'Chinstrap penguin (Pygoscelis antarctica)']\n",
    "    Island: Literal['Torgersen', 'Biscoe', 'Dream']\n",
    "    Clutch_Completion: Literal['Yes', 'No']\n",
    "    Culmen_Length: float = pt.Field(constraints=pl.col('Culmen_Length') > pl.col('Culmen_Depth'))\n",
    "    Culmen_Depth: float\n",
    "    Flipper_Length: int\n",
    "    Body_Mass: int\n",
    "    Sex: Literal['MALE', 'FEMALE']\n",
    "    Comments: Optional[str]\n",
    "    Island_Code: int"
   ]
  },
  {
   "cell_type": "code",
   "execution_count": 56,
   "metadata": {},
   "outputs": [
    {
     "data": {
      "text/html": [
       "<div><style>\n",
       ".dataframe > thead > tr,\n",
       ".dataframe > tbody > tr {\n",
       "  text-align: right;\n",
       "  white-space: pre-wrap;\n",
       "}\n",
       "</style>\n",
       "<small>shape: (13, 5)</small><table border=\"1\" class=\"dataframe\"><thead><tr><th>column</th><th>pass</th><th>failed_count</th><th>msg</th><th>type</th></tr><tr><td>str</td><td>bool</td><td>i64</td><td>str</td><td>str</td></tr></thead><tbody><tr><td>&quot;ID&quot;</td><td>false</td><td>316</td><td>&quot;316 rows with duplicated value…</td><td>&quot;value_error.rowvalue&quot;</td></tr><tr><td>&quot;Species&quot;</td><td>true</td><td>0</td><td>null</td><td>null</td></tr><tr><td>&quot;Island&quot;</td><td>true</td><td>0</td><td>null</td><td>null</td></tr><tr><td>&quot;Clutch_Completion&quot;</td><td>true</td><td>0</td><td>null</td><td>null</td></tr><tr><td>&quot;Culmen_Length&quot;</td><td>false</td><td>2</td><td>&quot;2 missing values&quot;</td><td>&quot;value_error.missingvalues&quot;</td></tr><tr><td>&hellip;</td><td>&hellip;</td><td>&hellip;</td><td>&hellip;</td><td>&hellip;</td></tr><tr><td>&quot;Body_Mass&quot;</td><td>false</td><td>2</td><td>&quot;2 missing values&quot;</td><td>&quot;value_error.missingvalues&quot;</td></tr><tr><td>&quot;Sex&quot;</td><td>false</td><td>10</td><td>&quot;10 missing values&quot;</td><td>&quot;value_error.missingvalues&quot;</td></tr><tr><td>&quot;Sex&quot;</td><td>false</td><td>0</td><td>&quot;Rows with invalid values: {Non…</td><td>&quot;value_error.rowvalue&quot;</td></tr><tr><td>&quot;Comments&quot;</td><td>true</td><td>0</td><td>null</td><td>null</td></tr><tr><td>&quot;Island_Code&quot;</td><td>true</td><td>0</td><td>null</td><td>null</td></tr></tbody></table></div>"
      ],
      "text/plain": [
       "shape: (13, 5)\n",
       "┌───────────────────┬───────┬──────────────┬───────────────────────────┬───────────────────────────┐\n",
       "│ column            ┆ pass  ┆ failed_count ┆ msg                       ┆ type                      │\n",
       "│ ---               ┆ ---   ┆ ---          ┆ ---                       ┆ ---                       │\n",
       "│ str               ┆ bool  ┆ i64          ┆ str                       ┆ str                       │\n",
       "╞═══════════════════╪═══════╪══════════════╪═══════════════════════════╪═══════════════════════════╡\n",
       "│ ID                ┆ false ┆ 316          ┆ 316 rows with duplicated  ┆ value_error.rowvalue      │\n",
       "│                   ┆       ┆              ┆ value…                    ┆                           │\n",
       "│ Species           ┆ true  ┆ 0            ┆ null                      ┆ null                      │\n",
       "│ Island            ┆ true  ┆ 0            ┆ null                      ┆ null                      │\n",
       "│ Clutch_Completion ┆ true  ┆ 0            ┆ null                      ┆ null                      │\n",
       "│ Culmen_Length     ┆ false ┆ 2            ┆ 2 missing values          ┆ value_error.missingvalues │\n",
       "│ …                 ┆ …     ┆ …            ┆ …                         ┆ …                         │\n",
       "│ Body_Mass         ┆ false ┆ 2            ┆ 2 missing values          ┆ value_error.missingvalues │\n",
       "│ Sex               ┆ false ┆ 10           ┆ 10 missing values         ┆ value_error.missingvalues │\n",
       "│ Sex               ┆ false ┆ 0            ┆ Rows with invalid values: ┆ value_error.rowvalue      │\n",
       "│                   ┆       ┆              ┆ {Non…                     ┆                           │\n",
       "│ Comments          ┆ true  ┆ 0            ┆ null                      ┆ null                      │\n",
       "│ Island_Code       ┆ true  ┆ 0            ┆ null                      ┆ null                      │\n",
       "└───────────────────┴───────┴──────────────┴───────────────────────────┴───────────────────────────┘"
      ]
     },
     "execution_count": 56,
     "metadata": {},
     "output_type": "execute_result"
    }
   ],
   "source": [
    "val(P11, df)"
   ]
  },
  {
   "cell_type": "code",
   "execution_count": 57,
   "metadata": {},
   "outputs": [
    {
     "data": {
      "text/html": [
       "<div><style>\n",
       ".dataframe > thead > tr,\n",
       ".dataframe > tbody > tr {\n",
       "  text-align: right;\n",
       "  white-space: pre-wrap;\n",
       "}\n",
       "</style>\n",
       "<small>shape: (1, 11)</small><table border=\"1\" class=\"dataframe\"><thead><tr><th>ID</th><th>Species</th><th>Island</th><th>Clutch_Completion</th><th>Culmen_Length</th><th>Culmen_Depth</th><th>Flipper_Length</th><th>Body_Mass</th><th>Sex</th><th>Comments</th><th>Island_Code</th></tr><tr><td>i64</td><td>str</td><td>str</td><td>str</td><td>f64</td><td>f64</td><td>i64</td><td>i64</td><td>str</td><td>str</td><td>i64</td></tr></thead><tbody><tr><td>11</td><td>&quot;Adelie Penguin (Pygoscelis ade…</td><td>&quot;Torgersen&quot;</td><td>&quot;Yes&quot;</td><td>4.1</td><td>17.1</td><td>186</td><td>3300</td><td>null</td><td>&quot;No blood sample obtained for s…</td><td>0</td></tr></tbody></table></div>"
      ],
      "text/plain": [
       "shape: (1, 11)\n",
       "┌─────┬────────────────┬───────────┬───────────────┬───┬───────────┬──────┬──────────┬─────────────┐\n",
       "│ ID  ┆ Species        ┆ Island    ┆ Clutch_Comple ┆ … ┆ Body_Mass ┆ Sex  ┆ Comments ┆ Island_Code │\n",
       "│ --- ┆ ---            ┆ ---       ┆ tion          ┆   ┆ ---       ┆ ---  ┆ ---      ┆ ---         │\n",
       "│ i64 ┆ str            ┆ str       ┆ ---           ┆   ┆ i64       ┆ str  ┆ str      ┆ i64         │\n",
       "│     ┆                ┆           ┆ str           ┆   ┆           ┆      ┆          ┆             │\n",
       "╞═════╪════════════════╪═══════════╪═══════════════╪═══╪═══════════╪══════╪══════════╪═════════════╡\n",
       "│ 11  ┆ Adelie Penguin ┆ Torgersen ┆ Yes           ┆ … ┆ 3300      ┆ null ┆ No blood ┆ 0           │\n",
       "│     ┆ (Pygoscelis    ┆           ┆               ┆   ┆           ┆      ┆ sample   ┆             │\n",
       "│     ┆ ade…           ┆           ┆               ┆   ┆           ┆      ┆ obtained ┆             │\n",
       "│     ┆                ┆           ┆               ┆   ┆           ┆      ┆ for s…   ┆             │\n",
       "└─────┴────────────────┴───────────┴───────────────┴───┴───────────┴──────┴──────────┴─────────────┘"
      ]
     },
     "execution_count": 57,
     "metadata": {},
     "output_type": "execute_result"
    }
   ],
   "source": [
    "df.filter(~(pl.col('Culmen_Length') > pl.col('Culmen_Depth'))).select(pl.all())"
   ]
  },
  {
   "cell_type": "markdown",
   "metadata": {},
   "source": [
    "# 12. 條件關係\n",
    "\n",
    "更進階的欄位關係檢查。根據欄位值的不同，檢查不同的條件是否成立。"
   ]
  },
  {
   "cell_type": "code",
   "execution_count": 58,
   "metadata": {},
   "outputs": [],
   "source": [
    "# 檢查當 Island 為 Torgersen 時，Island_Code 是否為 0\n",
    "# 檢查當 Island 為 Biscoe 時，Island_Code 是否為 1\n",
    "# 檢查當 Island 為 Dream 時，Island_Code 是否為 2\n",
    "\n",
    "class P12(pt.Model):\n",
    "    ID: int = pt.Field(unique=True)\n",
    "    Species: Literal['Gentoo penguin (Pygoscelis papua)', \n",
    "                     'Adelie Penguin (Pygoscelis adeliae)', \n",
    "                     'Chinstrap penguin (Pygoscelis antarctica)']\n",
    "    Island: Literal['Torgersen', 'Biscoe', 'Dream']\n",
    "    Clutch_Completion: Literal['Yes', 'No']\n",
    "    Culmen_Length: float = pt.Field(constraints=pl.col('Culmen_Length') > pl.col('Culmen_Depth'))\n",
    "    Culmen_Depth: float\n",
    "    Flipper_Length: int\n",
    "    Body_Mass: int\n",
    "    Sex: Literal['MALE', 'FEMALE']\n",
    "    Comments: Optional[str]\n",
    "    Island_Code: int = pt.Field(constraints=pl.when(pl.col('Island')=='Torgersen')\n",
    "                                             .then(pt.field == 0)\n",
    "                                             .when(pl.col('Island')=='Biscoe')\n",
    "                                             .then(pt.field == 1).otherwise(pt.field == 2))"
   ]
  },
  {
   "cell_type": "code",
   "execution_count": 59,
   "metadata": {},
   "outputs": [
    {
     "data": {
      "text/html": [
       "<div><style>\n",
       ".dataframe > thead > tr,\n",
       ".dataframe > tbody > tr {\n",
       "  text-align: right;\n",
       "  white-space: pre-wrap;\n",
       "}\n",
       "</style>\n",
       "<small>shape: (13, 5)</small><table border=\"1\" class=\"dataframe\"><thead><tr><th>column</th><th>pass</th><th>failed_count</th><th>msg</th><th>type</th></tr><tr><td>str</td><td>bool</td><td>i64</td><td>str</td><td>str</td></tr></thead><tbody><tr><td>&quot;ID&quot;</td><td>false</td><td>316</td><td>&quot;316 rows with duplicated value…</td><td>&quot;value_error.rowvalue&quot;</td></tr><tr><td>&quot;Species&quot;</td><td>true</td><td>0</td><td>null</td><td>null</td></tr><tr><td>&quot;Island&quot;</td><td>true</td><td>0</td><td>null</td><td>null</td></tr><tr><td>&quot;Clutch_Completion&quot;</td><td>true</td><td>0</td><td>null</td><td>null</td></tr><tr><td>&quot;Culmen_Length&quot;</td><td>false</td><td>2</td><td>&quot;2 missing values&quot;</td><td>&quot;value_error.missingvalues&quot;</td></tr><tr><td>&hellip;</td><td>&hellip;</td><td>&hellip;</td><td>&hellip;</td><td>&hellip;</td></tr><tr><td>&quot;Body_Mass&quot;</td><td>false</td><td>2</td><td>&quot;2 missing values&quot;</td><td>&quot;value_error.missingvalues&quot;</td></tr><tr><td>&quot;Sex&quot;</td><td>false</td><td>10</td><td>&quot;10 missing values&quot;</td><td>&quot;value_error.missingvalues&quot;</td></tr><tr><td>&quot;Sex&quot;</td><td>false</td><td>0</td><td>&quot;Rows with invalid values: {Non…</td><td>&quot;value_error.rowvalue&quot;</td></tr><tr><td>&quot;Comments&quot;</td><td>true</td><td>0</td><td>null</td><td>null</td></tr><tr><td>&quot;Island_Code&quot;</td><td>false</td><td>1</td><td>&quot;1 row does not match custom co…</td><td>&quot;value_error.rowvalue&quot;</td></tr></tbody></table></div>"
      ],
      "text/plain": [
       "shape: (13, 5)\n",
       "┌───────────────────┬───────┬──────────────┬───────────────────────────┬───────────────────────────┐\n",
       "│ column            ┆ pass  ┆ failed_count ┆ msg                       ┆ type                      │\n",
       "│ ---               ┆ ---   ┆ ---          ┆ ---                       ┆ ---                       │\n",
       "│ str               ┆ bool  ┆ i64          ┆ str                       ┆ str                       │\n",
       "╞═══════════════════╪═══════╪══════════════╪═══════════════════════════╪═══════════════════════════╡\n",
       "│ ID                ┆ false ┆ 316          ┆ 316 rows with duplicated  ┆ value_error.rowvalue      │\n",
       "│                   ┆       ┆              ┆ value…                    ┆                           │\n",
       "│ Species           ┆ true  ┆ 0            ┆ null                      ┆ null                      │\n",
       "│ Island            ┆ true  ┆ 0            ┆ null                      ┆ null                      │\n",
       "│ Clutch_Completion ┆ true  ┆ 0            ┆ null                      ┆ null                      │\n",
       "│ Culmen_Length     ┆ false ┆ 2            ┆ 2 missing values          ┆ value_error.missingvalues │\n",
       "│ …                 ┆ …     ┆ …            ┆ …                         ┆ …                         │\n",
       "│ Body_Mass         ┆ false ┆ 2            ┆ 2 missing values          ┆ value_error.missingvalues │\n",
       "│ Sex               ┆ false ┆ 10           ┆ 10 missing values         ┆ value_error.missingvalues │\n",
       "│ Sex               ┆ false ┆ 0            ┆ Rows with invalid values: ┆ value_error.rowvalue      │\n",
       "│                   ┆       ┆              ┆ {Non…                     ┆                           │\n",
       "│ Comments          ┆ true  ┆ 0            ┆ null                      ┆ null                      │\n",
       "│ Island_Code       ┆ false ┆ 1            ┆ 1 row does not match      ┆ value_error.rowvalue      │\n",
       "│                   ┆       ┆              ┆ custom co…                ┆                           │\n",
       "└───────────────────┴───────┴──────────────┴───────────────────────────┴───────────────────────────┘"
      ]
     },
     "execution_count": 59,
     "metadata": {},
     "output_type": "execute_result"
    }
   ],
   "source": [
    "val(P12, df)"
   ]
  },
  {
   "cell_type": "code",
   "execution_count": 60,
   "metadata": {},
   "outputs": [
    {
     "data": {
      "text/html": [
       "<div><style>\n",
       ".dataframe > thead > tr,\n",
       ".dataframe > tbody > tr {\n",
       "  text-align: right;\n",
       "  white-space: pre-wrap;\n",
       "}\n",
       "</style>\n",
       "<small>shape: (1, 11)</small><table border=\"1\" class=\"dataframe\"><thead><tr><th>ID</th><th>Species</th><th>Island</th><th>Clutch_Completion</th><th>Culmen_Length</th><th>Culmen_Depth</th><th>Flipper_Length</th><th>Body_Mass</th><th>Sex</th><th>Comments</th><th>Island_Code</th></tr><tr><td>i64</td><td>str</td><td>str</td><td>str</td><td>f64</td><td>f64</td><td>i64</td><td>i64</td><td>str</td><td>str</td><td>i64</td></tr></thead><tbody><tr><td>29</td><td>&quot;Adelie Penguin (Pygoscelis ade…</td><td>&quot;Biscoe&quot;</td><td>&quot;No&quot;</td><td>37.9</td><td>18.6</td><td>172</td><td>3150</td><td>&quot;FEMALE&quot;</td><td>&quot;Nest never observed with full …</td><td>0</td></tr></tbody></table></div>"
      ],
      "text/plain": [
       "shape: (1, 11)\n",
       "┌─────┬──────────────┬────────┬──────────────┬───┬───────────┬────────┬──────────────┬─────────────┐\n",
       "│ ID  ┆ Species      ┆ Island ┆ Clutch_Compl ┆ … ┆ Body_Mass ┆ Sex    ┆ Comments     ┆ Island_Code │\n",
       "│ --- ┆ ---          ┆ ---    ┆ etion        ┆   ┆ ---       ┆ ---    ┆ ---          ┆ ---         │\n",
       "│ i64 ┆ str          ┆ str    ┆ ---          ┆   ┆ i64       ┆ str    ┆ str          ┆ i64         │\n",
       "│     ┆              ┆        ┆ str          ┆   ┆           ┆        ┆              ┆             │\n",
       "╞═════╪══════════════╪════════╪══════════════╪═══╪═══════════╪════════╪══════════════╪═════════════╡\n",
       "│ 29  ┆ Adelie       ┆ Biscoe ┆ No           ┆ … ┆ 3150      ┆ FEMALE ┆ Nest never   ┆ 0           │\n",
       "│     ┆ Penguin      ┆        ┆              ┆   ┆           ┆        ┆ observed     ┆             │\n",
       "│     ┆ (Pygoscelis  ┆        ┆              ┆   ┆           ┆        ┆ with full …  ┆             │\n",
       "│     ┆ ade…         ┆        ┆              ┆   ┆           ┆        ┆              ┆             │\n",
       "└─────┴──────────────┴────────┴──────────────┴───┴───────────┴────────┴──────────────┴─────────────┘"
      ]
     },
     "execution_count": 60,
     "metadata": {},
     "output_type": "execute_result"
    }
   ],
   "source": [
    "df.filter(~(pl.when(pl.col('Island')=='Torgersen')\n",
    "            .then(pl.col('Island_Code') == 0)\n",
    "            .when(pl.col('Island')=='Biscoe')\n",
    "            .then(pl.col('Island_Code') == 1)\n",
    "            .otherwise(pl.col('Island_Code') == 2)))\\\n",
    "    .select(pl.all())"
   ]
  },
  {
   "cell_type": "markdown",
   "metadata": {},
   "source": [
    "# 13. 多重關係\n",
    "\n",
    "檢查一欄位內的多種條件是否都成立。"
   ]
  },
  {
   "cell_type": "code",
   "execution_count": 61,
   "metadata": {},
   "outputs": [],
   "source": [
    "# 檢查 Culmen_Length 是否大於 Culmen_Depth\n",
    "# 檢查 Culmen_Length 是否小於 Body_Mass\n",
    "\n",
    "class P13(pt.Model):\n",
    "    ID: int = pt.Field(unique=True)\n",
    "    Species: Literal['Gentoo penguin (Pygoscelis papua)', \n",
    "                     'Adelie Penguin (Pygoscelis adeliae)', \n",
    "                     'Chinstrap penguin (Pygoscelis antarctica)']\n",
    "    Island: Literal['Torgersen', 'Biscoe', 'Dream']\n",
    "    Clutch_Completion: Literal['Yes', 'No']\n",
    "    Culmen_Length: float = pt.Field(constraints=[pl.col('Culmen_Length') > pl.col('Culmen_Depth'),\n",
    "                                                 pl.col('Body_Mass') > pl.col('Culmen_Length')])\n",
    "    Culmen_Depth: float\n",
    "    Flipper_Length: int\n",
    "    Body_Mass: int\n",
    "    Sex: Literal['MALE', 'FEMALE']\n",
    "    Comments: Optional[str]\n",
    "    Island_Code: int"
   ]
  },
  {
   "cell_type": "code",
   "execution_count": 62,
   "metadata": {},
   "outputs": [
    {
     "data": {
      "text/html": [
       "<div><style>\n",
       ".dataframe > thead > tr,\n",
       ".dataframe > tbody > tr {\n",
       "  text-align: right;\n",
       "  white-space: pre-wrap;\n",
       "}\n",
       "</style>\n",
       "<small>shape: (13, 5)</small><table border=\"1\" class=\"dataframe\"><thead><tr><th>column</th><th>pass</th><th>failed_count</th><th>msg</th><th>type</th></tr><tr><td>str</td><td>bool</td><td>i64</td><td>str</td><td>str</td></tr></thead><tbody><tr><td>&quot;ID&quot;</td><td>false</td><td>316</td><td>&quot;316 rows with duplicated value…</td><td>&quot;value_error.rowvalue&quot;</td></tr><tr><td>&quot;Species&quot;</td><td>true</td><td>0</td><td>null</td><td>null</td></tr><tr><td>&quot;Island&quot;</td><td>true</td><td>0</td><td>null</td><td>null</td></tr><tr><td>&quot;Clutch_Completion&quot;</td><td>true</td><td>0</td><td>null</td><td>null</td></tr><tr><td>&quot;Culmen_Length&quot;</td><td>false</td><td>2</td><td>&quot;2 missing values&quot;</td><td>&quot;value_error.missingvalues&quot;</td></tr><tr><td>&hellip;</td><td>&hellip;</td><td>&hellip;</td><td>&hellip;</td><td>&hellip;</td></tr><tr><td>&quot;Body_Mass&quot;</td><td>false</td><td>2</td><td>&quot;2 missing values&quot;</td><td>&quot;value_error.missingvalues&quot;</td></tr><tr><td>&quot;Sex&quot;</td><td>false</td><td>10</td><td>&quot;10 missing values&quot;</td><td>&quot;value_error.missingvalues&quot;</td></tr><tr><td>&quot;Sex&quot;</td><td>false</td><td>0</td><td>&quot;Rows with invalid values: {Non…</td><td>&quot;value_error.rowvalue&quot;</td></tr><tr><td>&quot;Comments&quot;</td><td>true</td><td>0</td><td>null</td><td>null</td></tr><tr><td>&quot;Island_Code&quot;</td><td>true</td><td>0</td><td>null</td><td>null</td></tr></tbody></table></div>"
      ],
      "text/plain": [
       "shape: (13, 5)\n",
       "┌───────────────────┬───────┬──────────────┬───────────────────────────┬───────────────────────────┐\n",
       "│ column            ┆ pass  ┆ failed_count ┆ msg                       ┆ type                      │\n",
       "│ ---               ┆ ---   ┆ ---          ┆ ---                       ┆ ---                       │\n",
       "│ str               ┆ bool  ┆ i64          ┆ str                       ┆ str                       │\n",
       "╞═══════════════════╪═══════╪══════════════╪═══════════════════════════╪═══════════════════════════╡\n",
       "│ ID                ┆ false ┆ 316          ┆ 316 rows with duplicated  ┆ value_error.rowvalue      │\n",
       "│                   ┆       ┆              ┆ value…                    ┆                           │\n",
       "│ Species           ┆ true  ┆ 0            ┆ null                      ┆ null                      │\n",
       "│ Island            ┆ true  ┆ 0            ┆ null                      ┆ null                      │\n",
       "│ Clutch_Completion ┆ true  ┆ 0            ┆ null                      ┆ null                      │\n",
       "│ Culmen_Length     ┆ false ┆ 2            ┆ 2 missing values          ┆ value_error.missingvalues │\n",
       "│ …                 ┆ …     ┆ …            ┆ …                         ┆ …                         │\n",
       "│ Body_Mass         ┆ false ┆ 2            ┆ 2 missing values          ┆ value_error.missingvalues │\n",
       "│ Sex               ┆ false ┆ 10           ┆ 10 missing values         ┆ value_error.missingvalues │\n",
       "│ Sex               ┆ false ┆ 0            ┆ Rows with invalid values: ┆ value_error.rowvalue      │\n",
       "│                   ┆       ┆              ┆ {Non…                     ┆                           │\n",
       "│ Comments          ┆ true  ┆ 0            ┆ null                      ┆ null                      │\n",
       "│ Island_Code       ┆ true  ┆ 0            ┆ null                      ┆ null                      │\n",
       "└───────────────────┴───────┴──────────────┴───────────────────────────┴───────────────────────────┘"
      ]
     },
     "execution_count": 62,
     "metadata": {},
     "output_type": "execute_result"
    }
   ],
   "source": [
    "val(P13, df)"
   ]
  },
  {
   "cell_type": "code",
   "execution_count": 63,
   "metadata": {},
   "outputs": [
    {
     "data": {
      "text/html": [
       "<div><style>\n",
       ".dataframe > thead > tr,\n",
       ".dataframe > tbody > tr {\n",
       "  text-align: right;\n",
       "  white-space: pre-wrap;\n",
       "}\n",
       "</style>\n",
       "<small>shape: (3, 11)</small><table border=\"1\" class=\"dataframe\"><thead><tr><th>ID</th><th>Species</th><th>Island</th><th>Clutch_Completion</th><th>Culmen_Length</th><th>Culmen_Depth</th><th>Flipper_Length</th><th>Body_Mass</th><th>Sex</th><th>Comments</th><th>Island_Code</th></tr><tr><td>i64</td><td>str</td><td>str</td><td>str</td><td>f64</td><td>f64</td><td>i64</td><td>i64</td><td>str</td><td>str</td><td>i64</td></tr></thead><tbody><tr><td>11</td><td>&quot;Adelie Penguin (Pygoscelis ade…</td><td>&quot;Torgersen&quot;</td><td>&quot;Yes&quot;</td><td>4.1</td><td>17.1</td><td>186</td><td>3300</td><td>null</td><td>&quot;No blood sample obtained for s…</td><td>0</td></tr><tr><td>108</td><td>&quot;Adelie Penguin (Pygoscelis ade…</td><td>&quot;Biscoe&quot;</td><td>&quot;Yes&quot;</td><td>3910.0</td><td>20.0</td><td>190</td><td>3900</td><td>&quot;MALE&quot;</td><td>null</td><td>1</td></tr><tr><td>105</td><td>&quot;Gentoo penguin (Pygoscelis pap…</td><td>&quot;Biscoe&quot;</td><td>&quot;Yes&quot;</td><td>4730.0</td><td>13.8</td><td>216</td><td>4725</td><td>null</td><td>null</td><td>1</td></tr></tbody></table></div>"
      ],
      "text/plain": [
       "shape: (3, 11)\n",
       "┌─────┬────────────────┬───────────┬───────────────┬───┬───────────┬──────┬──────────┬─────────────┐\n",
       "│ ID  ┆ Species        ┆ Island    ┆ Clutch_Comple ┆ … ┆ Body_Mass ┆ Sex  ┆ Comments ┆ Island_Code │\n",
       "│ --- ┆ ---            ┆ ---       ┆ tion          ┆   ┆ ---       ┆ ---  ┆ ---      ┆ ---         │\n",
       "│ i64 ┆ str            ┆ str       ┆ ---           ┆   ┆ i64       ┆ str  ┆ str      ┆ i64         │\n",
       "│     ┆                ┆           ┆ str           ┆   ┆           ┆      ┆          ┆             │\n",
       "╞═════╪════════════════╪═══════════╪═══════════════╪═══╪═══════════╪══════╪══════════╪═════════════╡\n",
       "│ 11  ┆ Adelie Penguin ┆ Torgersen ┆ Yes           ┆ … ┆ 3300      ┆ null ┆ No blood ┆ 0           │\n",
       "│     ┆ (Pygoscelis    ┆           ┆               ┆   ┆           ┆      ┆ sample   ┆             │\n",
       "│     ┆ ade…           ┆           ┆               ┆   ┆           ┆      ┆ obtained ┆             │\n",
       "│     ┆                ┆           ┆               ┆   ┆           ┆      ┆ for s…   ┆             │\n",
       "│ 108 ┆ Adelie Penguin ┆ Biscoe    ┆ Yes           ┆ … ┆ 3900      ┆ MALE ┆ null     ┆ 1           │\n",
       "│     ┆ (Pygoscelis    ┆           ┆               ┆   ┆           ┆      ┆          ┆             │\n",
       "│     ┆ ade…           ┆           ┆               ┆   ┆           ┆      ┆          ┆             │\n",
       "│ 105 ┆ Gentoo penguin ┆ Biscoe    ┆ Yes           ┆ … ┆ 4725      ┆ null ┆ null     ┆ 1           │\n",
       "│     ┆ (Pygoscelis    ┆           ┆               ┆   ┆           ┆      ┆          ┆             │\n",
       "│     ┆ pap…           ┆           ┆               ┆   ┆           ┆      ┆          ┆             │\n",
       "└─────┴────────────────┴───────────┴───────────────┴───┴───────────┴──────┴──────────┴─────────────┘"
      ]
     },
     "execution_count": 63,
     "metadata": {},
     "output_type": "execute_result"
    }
   ],
   "source": [
    "df.filter(~((pl.col('Culmen_Length') > pl.col('Culmen_Depth')) & (pl.col('Body_Mass') > pl.col('Culmen_Length'))))\\\n",
    "    .select(pl.all())"
   ]
  },
  {
   "cell_type": "code",
   "execution_count": 64,
   "metadata": {},
   "outputs": [
    {
     "name": "stderr",
     "output_type": "stream",
     "text": [
      "/var/folders/zz/x65716_j4s7947htd3809l4h0000gn/T/ipykernel_91424/874737968.py:1: DeprecationWarning: `GroupBy.count` is deprecated. It has been renamed to `len`.\n",
      "  df.group_by('Island', 'Species').count()\n"
     ]
    },
    {
     "data": {
      "text/html": [
       "<div><style>\n",
       ".dataframe > thead > tr,\n",
       ".dataframe > tbody > tr {\n",
       "  text-align: right;\n",
       "  white-space: pre-wrap;\n",
       "}\n",
       "</style>\n",
       "<small>shape: (5, 3)</small><table border=\"1\" class=\"dataframe\"><thead><tr><th>Island</th><th>Species</th><th>count</th></tr><tr><td>str</td><td>str</td><td>u32</td></tr></thead><tbody><tr><td>&quot;Biscoe&quot;</td><td>&quot;Gentoo penguin (Pygoscelis pap…</td><td>124</td></tr><tr><td>&quot;Dream&quot;</td><td>&quot;Chinstrap penguin (Pygoscelis …</td><td>68</td></tr><tr><td>&quot;Torgersen&quot;</td><td>&quot;Adelie Penguin (Pygoscelis ade…</td><td>52</td></tr><tr><td>&quot;Biscoe&quot;</td><td>&quot;Adelie Penguin (Pygoscelis ade…</td><td>44</td></tr><tr><td>&quot;Dream&quot;</td><td>&quot;Adelie Penguin (Pygoscelis ade…</td><td>56</td></tr></tbody></table></div>"
      ],
      "text/plain": [
       "shape: (5, 3)\n",
       "┌───────────┬─────────────────────────────────┬───────┐\n",
       "│ Island    ┆ Species                         ┆ count │\n",
       "│ ---       ┆ ---                             ┆ ---   │\n",
       "│ str       ┆ str                             ┆ u32   │\n",
       "╞═══════════╪═════════════════════════════════╪═══════╡\n",
       "│ Biscoe    ┆ Gentoo penguin (Pygoscelis pap… ┆ 124   │\n",
       "│ Dream     ┆ Chinstrap penguin (Pygoscelis … ┆ 68    │\n",
       "│ Torgersen ┆ Adelie Penguin (Pygoscelis ade… ┆ 52    │\n",
       "│ Biscoe    ┆ Adelie Penguin (Pygoscelis ade… ┆ 44    │\n",
       "│ Dream     ┆ Adelie Penguin (Pygoscelis ade… ┆ 56    │\n",
       "└───────────┴─────────────────────────────────┴───────┘"
      ]
     },
     "execution_count": 64,
     "metadata": {},
     "output_type": "execute_result"
    }
   ],
   "source": [
    "df.group_by('Island', 'Species').count()"
   ]
  },
  {
   "cell_type": "markdown",
   "metadata": {},
   "source": [
    "藉由以上的 14 種常見的資料驗證情境，相信各位能體會 `patito` 搭配 `polars` 的強大之處了！\n",
    "\n",
    "接下來，請各位應用剛剛所學的內容，設計更完整的資料驗證規則吧！\n",
    "\n",
    "可以添加的規則：\n",
    "* 欄位是否需大於 0\n",
    "* 特定的企鵝是否只會在某些島上發現\n",
    "\n",
    "實務上，如何設計好的資料驗證規則非常仰賴領域知識，因此若對於資料集不熟悉的話，建議可以找該領域的專家進行詢問喔！\n",
    "\n",
    "如果想要學習更多的話，可以到 [patito 官網](https://patito.readthedocs.io/en/latest/) 學習更多指令的用法，或者到 [polars 官網](https://docs.pola.rs/api/python/stable/reference/index.html) 學習更進階的語法，協助你設計出更完整的資料驗證規則 :)"
   ]
  },
  {
   "cell_type": "code",
   "execution_count": null,
   "metadata": {},
   "outputs": [],
   "source": []
  }
 ],
 "metadata": {
  "kernelspec": {
   "display_name": ".venv",
   "language": "python",
   "name": "python3"
  },
  "language_info": {
   "codemirror_mode": {
    "name": "ipython",
    "version": 3
   },
   "file_extension": ".py",
   "mimetype": "text/x-python",
   "name": "python",
   "nbconvert_exporter": "python",
   "pygments_lexer": "ipython3",
   "version": "3.12.8"
  }
 },
 "nbformat": 4,
 "nbformat_minor": 2
}
