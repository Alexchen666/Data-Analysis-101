{
 "cells": [
  {
   "cell_type": "markdown",
   "metadata": {},
   "source": [
    "# 資料驗證"
   ]
  },
  {
   "cell_type": "code",
   "execution_count": 51,
   "metadata": {},
   "outputs": [],
   "source": [
    "%matplotlib inline\n",
    "import polars as pl\n",
    "import pandas as pd\n",
    "import matplotlib.pyplot as plt\n",
    "import seaborn as sns\n",
    "import patito as pt\n",
    "from typing import List, Tuple, Dict, Any, Union, Literal, Optional\n",
    "\n",
    "plt.style.use('seaborn-v0_8-darkgrid')"
   ]
  },
  {
   "cell_type": "code",
   "execution_count": 52,
   "metadata": {},
   "outputs": [],
   "source": [
    "def val(validator_class: Any, data: Any) -> bool:\n",
    "    try:\n",
    "        validator_class.validate(data)\n",
    "        print('Pass')\n",
    "    except Exception as e:\n",
    "        print(e)"
   ]
  },
  {
   "cell_type": "code",
   "execution_count": 53,
   "metadata": {},
   "outputs": [],
   "source": [
    "df = pl.read_csv('Data_Prep/penguins.csv')"
   ]
  },
  {
   "cell_type": "code",
   "execution_count": 54,
   "metadata": {},
   "outputs": [
    {
     "data": {
      "text/html": [
       "<div><style>\n",
       ".dataframe > thead > tr,\n",
       ".dataframe > tbody > tr {\n",
       "  text-align: right;\n",
       "  white-space: pre-wrap;\n",
       "}\n",
       "</style>\n",
       "<small>shape: (9, 18)</small><table border=\"1\" class=\"dataframe\"><thead><tr><th>statistic</th><th>studyName</th><th>Sample Number</th><th>Species</th><th>Region</th><th>Island</th><th>Stage</th><th>Individual ID</th><th>Clutch Completion</th><th>Date Egg</th><th>Culmen Length (mm)</th><th>Culmen Depth (mm)</th><th>Flipper Length (mm)</th><th>Body Mass (g)</th><th>Sex</th><th>Delta 15 N (o/oo)</th><th>Delta 13 C (o/oo)</th><th>Comments</th></tr><tr><td>str</td><td>str</td><td>f64</td><td>str</td><td>str</td><td>str</td><td>str</td><td>str</td><td>str</td><td>str</td><td>f64</td><td>f64</td><td>f64</td><td>f64</td><td>str</td><td>f64</td><td>f64</td><td>str</td></tr></thead><tbody><tr><td>&quot;count&quot;</td><td>&quot;344&quot;</td><td>344.0</td><td>&quot;344&quot;</td><td>&quot;344&quot;</td><td>&quot;344&quot;</td><td>&quot;344&quot;</td><td>&quot;344&quot;</td><td>&quot;344&quot;</td><td>&quot;344&quot;</td><td>342.0</td><td>342.0</td><td>342.0</td><td>342.0</td><td>&quot;334&quot;</td><td>330.0</td><td>331.0</td><td>&quot;26&quot;</td></tr><tr><td>&quot;null_count&quot;</td><td>&quot;0&quot;</td><td>0.0</td><td>&quot;0&quot;</td><td>&quot;0&quot;</td><td>&quot;0&quot;</td><td>&quot;0&quot;</td><td>&quot;0&quot;</td><td>&quot;0&quot;</td><td>&quot;0&quot;</td><td>2.0</td><td>2.0</td><td>2.0</td><td>2.0</td><td>&quot;10&quot;</td><td>14.0</td><td>13.0</td><td>&quot;318&quot;</td></tr><tr><td>&quot;mean&quot;</td><td>null</td><td>63.151163</td><td>null</td><td>null</td><td>null</td><td>null</td><td>null</td><td>null</td><td>null</td><td>43.92193</td><td>17.15117</td><td>200.915205</td><td>4201.754386</td><td>null</td><td>8.733382</td><td>-25.686292</td><td>null</td></tr><tr><td>&quot;std&quot;</td><td>null</td><td>40.430199</td><td>null</td><td>null</td><td>null</td><td>null</td><td>null</td><td>null</td><td>null</td><td>5.459584</td><td>1.974793</td><td>14.061714</td><td>801.954536</td><td>null</td><td>0.55177</td><td>0.793961</td><td>null</td></tr><tr><td>&quot;min&quot;</td><td>&quot;PAL0708&quot;</td><td>1.0</td><td>&quot;Adelie Penguin (Pygoscelis ade…</td><td>&quot;Anvers&quot;</td><td>&quot;Biscoe&quot;</td><td>&quot;Adult, 1 Egg Stage&quot;</td><td>&quot;N100A1&quot;</td><td>&quot;No&quot;</td><td>&quot;11/10/07&quot;</td><td>32.1</td><td>13.1</td><td>172.0</td><td>2700.0</td><td>&quot;.&quot;</td><td>7.6322</td><td>-27.01854</td><td>&quot;Adult not sampled.&quot;</td></tr><tr><td>&quot;25%&quot;</td><td>null</td><td>29.0</td><td>null</td><td>null</td><td>null</td><td>null</td><td>null</td><td>null</td><td>null</td><td>39.2</td><td>15.6</td><td>190.0</td><td>3550.0</td><td>null</td><td>8.2993</td><td>-26.3146</td><td>null</td></tr><tr><td>&quot;50%&quot;</td><td>null</td><td>58.0</td><td>null</td><td>null</td><td>null</td><td>null</td><td>null</td><td>null</td><td>null</td><td>44.5</td><td>17.3</td><td>197.0</td><td>4050.0</td><td>null</td><td>8.65466</td><td>-25.83352</td><td>null</td></tr><tr><td>&quot;75%&quot;</td><td>null</td><td>95.0</td><td>null</td><td>null</td><td>null</td><td>null</td><td>null</td><td>null</td><td>null</td><td>48.5</td><td>18.7</td><td>213.0</td><td>4750.0</td><td>null</td><td>9.17847</td><td>-25.0602</td><td>null</td></tr><tr><td>&quot;max&quot;</td><td>&quot;PAL0910&quot;</td><td>152.0</td><td>&quot;Gentoo penguin (Pygoscelis pap…</td><td>&quot;Anvers&quot;</td><td>&quot;Torgersen&quot;</td><td>&quot;Adult, 1 Egg Stage&quot;</td><td>&quot;N9A2&quot;</td><td>&quot;Yes&quot;</td><td>&quot;12/3/07&quot;</td><td>59.6</td><td>21.5</td><td>231.0</td><td>6300.0</td><td>&quot;MALE&quot;</td><td>10.02544</td><td>-23.78767</td><td>&quot;Sexing primers did not amplify…</td></tr></tbody></table></div>"
      ],
      "text/plain": [
       "shape: (9, 18)\n",
       "┌────────────┬───────────┬────────────┬────────────┬───┬──────┬────────────┬───────────┬───────────┐\n",
       "│ statistic  ┆ studyName ┆ Sample     ┆ Species    ┆ … ┆ Sex  ┆ Delta 15 N ┆ Delta 13  ┆ Comments  │\n",
       "│ ---        ┆ ---       ┆ Number     ┆ ---        ┆   ┆ ---  ┆ (o/oo)     ┆ C (o/oo)  ┆ ---       │\n",
       "│ str        ┆ str       ┆ ---        ┆ str        ┆   ┆ str  ┆ ---        ┆ ---       ┆ str       │\n",
       "│            ┆           ┆ f64        ┆            ┆   ┆      ┆ f64        ┆ f64       ┆           │\n",
       "╞════════════╪═══════════╪════════════╪════════════╪═══╪══════╪════════════╪═══════════╪═══════════╡\n",
       "│ count      ┆ 344       ┆ 344.0      ┆ 344        ┆ … ┆ 334  ┆ 330.0      ┆ 331.0     ┆ 26        │\n",
       "│ null_count ┆ 0         ┆ 0.0        ┆ 0          ┆ … ┆ 10   ┆ 14.0       ┆ 13.0      ┆ 318       │\n",
       "│ mean       ┆ null      ┆ 63.151163  ┆ null       ┆ … ┆ null ┆ 8.733382   ┆ -25.68629 ┆ null      │\n",
       "│            ┆           ┆            ┆            ┆   ┆      ┆            ┆ 2         ┆           │\n",
       "│ std        ┆ null      ┆ 40.430199  ┆ null       ┆ … ┆ null ┆ 0.55177    ┆ 0.793961  ┆ null      │\n",
       "│ min        ┆ PAL0708   ┆ 1.0        ┆ Adelie     ┆ … ┆ .    ┆ 7.6322     ┆ -27.01854 ┆ Adult not │\n",
       "│            ┆           ┆            ┆ Penguin    ┆   ┆      ┆            ┆           ┆ sampled.  │\n",
       "│            ┆           ┆            ┆ (Pygosceli ┆   ┆      ┆            ┆           ┆           │\n",
       "│            ┆           ┆            ┆ s ade…     ┆   ┆      ┆            ┆           ┆           │\n",
       "│ 25%        ┆ null      ┆ 29.0       ┆ null       ┆ … ┆ null ┆ 8.2993     ┆ -26.3146  ┆ null      │\n",
       "│ 50%        ┆ null      ┆ 58.0       ┆ null       ┆ … ┆ null ┆ 8.65466    ┆ -25.83352 ┆ null      │\n",
       "│ 75%        ┆ null      ┆ 95.0       ┆ null       ┆ … ┆ null ┆ 9.17847    ┆ -25.0602  ┆ null      │\n",
       "│ max        ┆ PAL0910   ┆ 152.0      ┆ Gentoo     ┆ … ┆ MALE ┆ 10.02544   ┆ -23.78767 ┆ Sexing    │\n",
       "│            ┆           ┆            ┆ penguin    ┆   ┆      ┆            ┆           ┆ primers   │\n",
       "│            ┆           ┆            ┆ (Pygosceli ┆   ┆      ┆            ┆           ┆ did not   │\n",
       "│            ┆           ┆            ┆ s pap…     ┆   ┆      ┆            ┆           ┆ amplify…  │\n",
       "└────────────┴───────────┴────────────┴────────────┴───┴──────┴────────────┴───────────┴───────────┘"
      ]
     },
     "execution_count": 54,
     "metadata": {},
     "output_type": "execute_result"
    }
   ],
   "source": [
    "df.describe()"
   ]
  },
  {
   "cell_type": "code",
   "execution_count": 55,
   "metadata": {},
   "outputs": [],
   "source": [
    "df = df.drop('studyName', 'Region', 'Stage', 'Individual ID', 'Date Egg', 'Delta 15 N (o/oo)', 'Delta 13 C (o/oo)')"
   ]
  },
  {
   "cell_type": "code",
   "execution_count": 56,
   "metadata": {},
   "outputs": [
    {
     "data": {
      "text/plain": [
       "['Sample Number',\n",
       " 'Species',\n",
       " 'Island',\n",
       " 'Clutch Completion',\n",
       " 'Culmen Length (mm)',\n",
       " 'Culmen Depth (mm)',\n",
       " 'Flipper Length (mm)',\n",
       " 'Body Mass (g)',\n",
       " 'Sex',\n",
       " 'Comments']"
      ]
     },
     "execution_count": 56,
     "metadata": {},
     "output_type": "execute_result"
    }
   ],
   "source": [
    "df.columns"
   ]
  },
  {
   "cell_type": "code",
   "execution_count": 57,
   "metadata": {},
   "outputs": [],
   "source": [
    "df = df.rename({'Sample Number': 'ID', 'Clutch Completion': 'Clutch_Completion',\n",
    "                'Culmen Length (mm)': 'Culmen_Length', 'Culmen Depth (mm)': 'Culmen_Depth',\n",
    "                'Flipper Length (mm)': 'Flipper_Length', 'Body Mass (g)': 'Body_Mass'\n",
    " })"
   ]
  },
  {
   "cell_type": "code",
   "execution_count": 58,
   "metadata": {},
   "outputs": [
    {
     "data": {
      "text/html": [
       "<div><style>\n",
       ".dataframe > thead > tr,\n",
       ".dataframe > tbody > tr {\n",
       "  text-align: right;\n",
       "  white-space: pre-wrap;\n",
       "}\n",
       "</style>\n",
       "<small>shape: (344, 10)</small><table border=\"1\" class=\"dataframe\"><thead><tr><th>ID</th><th>Species</th><th>Island</th><th>Clutch_Completion</th><th>Culmen_Length</th><th>Culmen_Depth</th><th>Flipper_Length</th><th>Body_Mass</th><th>Sex</th><th>Comments</th></tr><tr><td>i64</td><td>str</td><td>str</td><td>str</td><td>f64</td><td>f64</td><td>i64</td><td>i64</td><td>str</td><td>str</td></tr></thead><tbody><tr><td>1</td><td>&quot;Adelie Penguin (Pygoscelis ade…</td><td>&quot;Torgersen&quot;</td><td>&quot;Yes&quot;</td><td>39.1</td><td>18.7</td><td>181</td><td>3750</td><td>&quot;MALE&quot;</td><td>&quot;Not enough blood for isotopes.&quot;</td></tr><tr><td>2</td><td>&quot;Adelie Penguin (Pygoscelis ade…</td><td>&quot;Torgersen&quot;</td><td>&quot;Yes&quot;</td><td>39.5</td><td>17.4</td><td>186</td><td>3800</td><td>&quot;FEMALE&quot;</td><td>null</td></tr><tr><td>3</td><td>&quot;Adelie Penguin (Pygoscelis ade…</td><td>&quot;Torgersen&quot;</td><td>&quot;Yes&quot;</td><td>40.3</td><td>18.0</td><td>195</td><td>3250</td><td>&quot;FEMALE&quot;</td><td>null</td></tr><tr><td>4</td><td>&quot;Adelie Penguin (Pygoscelis ade…</td><td>&quot;Torgersen&quot;</td><td>&quot;Yes&quot;</td><td>null</td><td>null</td><td>null</td><td>null</td><td>null</td><td>&quot;Adult not sampled.&quot;</td></tr><tr><td>5</td><td>&quot;Adelie Penguin (Pygoscelis ade…</td><td>&quot;Torgersen&quot;</td><td>&quot;Yes&quot;</td><td>36.7</td><td>19.3</td><td>193</td><td>3450</td><td>&quot;FEMALE&quot;</td><td>null</td></tr><tr><td>&hellip;</td><td>&hellip;</td><td>&hellip;</td><td>&hellip;</td><td>&hellip;</td><td>&hellip;</td><td>&hellip;</td><td>&hellip;</td><td>&hellip;</td><td>&hellip;</td></tr><tr><td>120</td><td>&quot;Gentoo penguin (Pygoscelis pap…</td><td>&quot;Biscoe&quot;</td><td>&quot;No&quot;</td><td>null</td><td>null</td><td>null</td><td>null</td><td>null</td><td>null</td></tr><tr><td>121</td><td>&quot;Gentoo penguin (Pygoscelis pap…</td><td>&quot;Biscoe&quot;</td><td>&quot;Yes&quot;</td><td>46.8</td><td>14.3</td><td>215</td><td>4850</td><td>&quot;FEMALE&quot;</td><td>null</td></tr><tr><td>122</td><td>&quot;Gentoo penguin (Pygoscelis pap…</td><td>&quot;Biscoe&quot;</td><td>&quot;Yes&quot;</td><td>50.4</td><td>15.7</td><td>222</td><td>5750</td><td>&quot;MALE&quot;</td><td>null</td></tr><tr><td>123</td><td>&quot;Gentoo penguin (Pygoscelis pap…</td><td>&quot;Biscoe&quot;</td><td>&quot;Yes&quot;</td><td>45.2</td><td>14.8</td><td>212</td><td>5200</td><td>&quot;FEMALE&quot;</td><td>null</td></tr><tr><td>124</td><td>&quot;Gentoo penguin (Pygoscelis pap…</td><td>&quot;Biscoe&quot;</td><td>&quot;Yes&quot;</td><td>49.9</td><td>16.1</td><td>213</td><td>5400</td><td>&quot;MALE&quot;</td><td>null</td></tr></tbody></table></div>"
      ],
      "text/plain": [
       "shape: (344, 10)\n",
       "┌─────┬─────────────┬───────────┬─────────────┬───┬─────────────┬───────────┬────────┬─────────────┐\n",
       "│ ID  ┆ Species     ┆ Island    ┆ Clutch_Comp ┆ … ┆ Flipper_Len ┆ Body_Mass ┆ Sex    ┆ Comments    │\n",
       "│ --- ┆ ---         ┆ ---       ┆ letion      ┆   ┆ gth         ┆ ---       ┆ ---    ┆ ---         │\n",
       "│ i64 ┆ str         ┆ str       ┆ ---         ┆   ┆ ---         ┆ i64       ┆ str    ┆ str         │\n",
       "│     ┆             ┆           ┆ str         ┆   ┆ i64         ┆           ┆        ┆             │\n",
       "╞═════╪═════════════╪═══════════╪═════════════╪═══╪═════════════╪═══════════╪════════╪═════════════╡\n",
       "│ 1   ┆ Adelie      ┆ Torgersen ┆ Yes         ┆ … ┆ 181         ┆ 3750      ┆ MALE   ┆ Not enough  │\n",
       "│     ┆ Penguin     ┆           ┆             ┆   ┆             ┆           ┆        ┆ blood for   │\n",
       "│     ┆ (Pygoscelis ┆           ┆             ┆   ┆             ┆           ┆        ┆ isotopes.   │\n",
       "│     ┆ ade…        ┆           ┆             ┆   ┆             ┆           ┆        ┆             │\n",
       "│ 2   ┆ Adelie      ┆ Torgersen ┆ Yes         ┆ … ┆ 186         ┆ 3800      ┆ FEMALE ┆ null        │\n",
       "│     ┆ Penguin     ┆           ┆             ┆   ┆             ┆           ┆        ┆             │\n",
       "│     ┆ (Pygoscelis ┆           ┆             ┆   ┆             ┆           ┆        ┆             │\n",
       "│     ┆ ade…        ┆           ┆             ┆   ┆             ┆           ┆        ┆             │\n",
       "│ 3   ┆ Adelie      ┆ Torgersen ┆ Yes         ┆ … ┆ 195         ┆ 3250      ┆ FEMALE ┆ null        │\n",
       "│     ┆ Penguin     ┆           ┆             ┆   ┆             ┆           ┆        ┆             │\n",
       "│     ┆ (Pygoscelis ┆           ┆             ┆   ┆             ┆           ┆        ┆             │\n",
       "│     ┆ ade…        ┆           ┆             ┆   ┆             ┆           ┆        ┆             │\n",
       "│ 4   ┆ Adelie      ┆ Torgersen ┆ Yes         ┆ … ┆ null        ┆ null      ┆ null   ┆ Adult not   │\n",
       "│     ┆ Penguin     ┆           ┆             ┆   ┆             ┆           ┆        ┆ sampled.    │\n",
       "│     ┆ (Pygoscelis ┆           ┆             ┆   ┆             ┆           ┆        ┆             │\n",
       "│     ┆ ade…        ┆           ┆             ┆   ┆             ┆           ┆        ┆             │\n",
       "│ 5   ┆ Adelie      ┆ Torgersen ┆ Yes         ┆ … ┆ 193         ┆ 3450      ┆ FEMALE ┆ null        │\n",
       "│     ┆ Penguin     ┆           ┆             ┆   ┆             ┆           ┆        ┆             │\n",
       "│     ┆ (Pygoscelis ┆           ┆             ┆   ┆             ┆           ┆        ┆             │\n",
       "│     ┆ ade…        ┆           ┆             ┆   ┆             ┆           ┆        ┆             │\n",
       "│ …   ┆ …           ┆ …         ┆ …           ┆ … ┆ …           ┆ …         ┆ …      ┆ …           │\n",
       "│ 120 ┆ Gentoo      ┆ Biscoe    ┆ No          ┆ … ┆ null        ┆ null      ┆ null   ┆ null        │\n",
       "│     ┆ penguin     ┆           ┆             ┆   ┆             ┆           ┆        ┆             │\n",
       "│     ┆ (Pygoscelis ┆           ┆             ┆   ┆             ┆           ┆        ┆             │\n",
       "│     ┆ pap…        ┆           ┆             ┆   ┆             ┆           ┆        ┆             │\n",
       "│ 121 ┆ Gentoo      ┆ Biscoe    ┆ Yes         ┆ … ┆ 215         ┆ 4850      ┆ FEMALE ┆ null        │\n",
       "│     ┆ penguin     ┆           ┆             ┆   ┆             ┆           ┆        ┆             │\n",
       "│     ┆ (Pygoscelis ┆           ┆             ┆   ┆             ┆           ┆        ┆             │\n",
       "│     ┆ pap…        ┆           ┆             ┆   ┆             ┆           ┆        ┆             │\n",
       "│ 122 ┆ Gentoo      ┆ Biscoe    ┆ Yes         ┆ … ┆ 222         ┆ 5750      ┆ MALE   ┆ null        │\n",
       "│     ┆ penguin     ┆           ┆             ┆   ┆             ┆           ┆        ┆             │\n",
       "│     ┆ (Pygoscelis ┆           ┆             ┆   ┆             ┆           ┆        ┆             │\n",
       "│     ┆ pap…        ┆           ┆             ┆   ┆             ┆           ┆        ┆             │\n",
       "│ 123 ┆ Gentoo      ┆ Biscoe    ┆ Yes         ┆ … ┆ 212         ┆ 5200      ┆ FEMALE ┆ null        │\n",
       "│     ┆ penguin     ┆           ┆             ┆   ┆             ┆           ┆        ┆             │\n",
       "│     ┆ (Pygoscelis ┆           ┆             ┆   ┆             ┆           ┆        ┆             │\n",
       "│     ┆ pap…        ┆           ┆             ┆   ┆             ┆           ┆        ┆             │\n",
       "│ 124 ┆ Gentoo      ┆ Biscoe    ┆ Yes         ┆ … ┆ 213         ┆ 5400      ┆ MALE   ┆ null        │\n",
       "│     ┆ penguin     ┆           ┆             ┆   ┆             ┆           ┆        ┆             │\n",
       "│     ┆ (Pygoscelis ┆           ┆             ┆   ┆             ┆           ┆        ┆             │\n",
       "│     ┆ pap…        ┆           ┆             ┆   ┆             ┆           ┆        ┆             │\n",
       "└─────┴─────────────┴───────────┴─────────────┴───┴─────────────┴───────────┴────────┴─────────────┘"
      ]
     },
     "execution_count": 58,
     "metadata": {},
     "output_type": "execute_result"
    }
   ],
   "source": [
    "df"
   ]
  },
  {
   "cell_type": "markdown",
   "metadata": {},
   "source": [
    "# 1. 資料型態"
   ]
  },
  {
   "cell_type": "code",
   "execution_count": 60,
   "metadata": {},
   "outputs": [],
   "source": [
    "class P01(pt.Model):\n",
    "    ID: int\n",
    "    Species: str\n",
    "    Island: str\n",
    "    Clutch_Completion: str\n",
    "    Culmen_Length: float\n",
    "    Culmen_Depth: float\n",
    "    Flipper_Length: float\n",
    "    Body_Mass: float\n",
    "    Sex: str\n",
    "    Comments: str"
   ]
  },
  {
   "cell_type": "code",
   "execution_count": 61,
   "metadata": {},
   "outputs": [
    {
     "name": "stdout",
     "output_type": "stream",
     "text": [
      "8 validation errors for P01\n",
      "Body_Mass\n",
      "  2 missing values (type=value_error.missingvalues)\n",
      "Culmen_Depth\n",
      "  2 missing values (type=value_error.missingvalues)\n",
      "Sex\n",
      "  10 missing values (type=value_error.missingvalues)\n",
      "Flipper_Length\n",
      "  2 missing values (type=value_error.missingvalues)\n",
      "Comments\n",
      "  318 missing values (type=value_error.missingvalues)\n",
      "Culmen_Length\n",
      "  2 missing values (type=value_error.missingvalues)\n",
      "Flipper_Length\n",
      "  Polars dtype Int64 does not match model field type. (type=type_error.columndtype)\n",
      "Body_Mass\n",
      "  Polars dtype Int64 does not match model field type. (type=type_error.columndtype)\n"
     ]
    }
   ],
   "source": [
    "val(P01, df)"
   ]
  },
  {
   "cell_type": "code",
   "execution_count": 62,
   "metadata": {},
   "outputs": [],
   "source": [
    "class P01_1(pt.Model):\n",
    "    ID: int\n",
    "    Species: str\n",
    "    Island: str\n",
    "    Clutch_Completion: str\n",
    "    Culmen_Length: float\n",
    "    Culmen_Depth: float\n",
    "    Flipper_Length: int\n",
    "    Body_Mass: int\n",
    "    Sex: str\n",
    "    Comments: str"
   ]
  },
  {
   "cell_type": "code",
   "execution_count": 63,
   "metadata": {},
   "outputs": [
    {
     "name": "stdout",
     "output_type": "stream",
     "text": [
      "6 validation errors for P01_1\n",
      "Body_Mass\n",
      "  2 missing values (type=value_error.missingvalues)\n",
      "Culmen_Depth\n",
      "  2 missing values (type=value_error.missingvalues)\n",
      "Sex\n",
      "  10 missing values (type=value_error.missingvalues)\n",
      "Flipper_Length\n",
      "  2 missing values (type=value_error.missingvalues)\n",
      "Comments\n",
      "  318 missing values (type=value_error.missingvalues)\n",
      "Culmen_Length\n",
      "  2 missing values (type=value_error.missingvalues)\n"
     ]
    }
   ],
   "source": [
    "val(P01_1, df)"
   ]
  },
  {
   "cell_type": "markdown",
   "metadata": {},
   "source": [
    "# 2. 是否為一個 list 內的值（例如：其值必為 [1, 2, 3] 其中之一）"
   ]
  },
  {
   "cell_type": "code",
   "execution_count": 64,
   "metadata": {},
   "outputs": [],
   "source": [
    "class P02(pt.Model):\n",
    "    ID: int\n",
    "    Species: Literal['Gentoo penguin (Pygoscelis papua)', \n",
    "                     'Adelie Penguin (Pygoscelis adeliae)', \n",
    "                     'Chinstrap penguin (Pygoscelis antarctica)']\n",
    "    Island: Literal['Torgersen', 'Biscoe', 'Dream']\n",
    "    Clutch_Completion: Literal['Yes', 'No']\n",
    "    Culmen_Length: float\n",
    "    Culmen_Depth: float\n",
    "    Flipper_Length: int\n",
    "    Body_Mass: int\n",
    "    Sex: Literal['MALE', 'FEMALE']\n",
    "    Comments: str"
   ]
  },
  {
   "cell_type": "code",
   "execution_count": 65,
   "metadata": {},
   "outputs": [
    {
     "name": "stdout",
     "output_type": "stream",
     "text": [
      "7 validation errors for P02\n",
      "Body_Mass\n",
      "  2 missing values (type=value_error.missingvalues)\n",
      "Culmen_Depth\n",
      "  2 missing values (type=value_error.missingvalues)\n",
      "Sex\n",
      "  10 missing values (type=value_error.missingvalues)\n",
      "Flipper_Length\n",
      "  2 missing values (type=value_error.missingvalues)\n",
      "Comments\n",
      "  318 missing values (type=value_error.missingvalues)\n",
      "Culmen_Length\n",
      "  2 missing values (type=value_error.missingvalues)\n",
      "Sex\n",
      "  Rows with invalid values: {None, '.'}. (type=value_error.rowvalue)\n"
     ]
    }
   ],
   "source": [
    "val(P02, df)"
   ]
  },
  {
   "cell_type": "code",
   "execution_count": 66,
   "metadata": {},
   "outputs": [],
   "source": [
    "# use wrong species name\n",
    "\n",
    "class P02_1(pt.Model):\n",
    "    ID: int\n",
    "    Species: Literal['Gentoo penguin', \n",
    "                     'Adelie Penguin', \n",
    "                     'Chinstrap penguin']\n",
    "    Island: Literal['Torgersen', 'Biscoe', 'Dream']\n",
    "    Clutch_Completion: Literal['Yes', 'No']\n",
    "    Culmen_Length: float\n",
    "    Culmen_Depth: float\n",
    "    Flipper_Length: int\n",
    "    Body_Mass: int\n",
    "    Sex: Literal['MALE', 'FEMALE']\n",
    "    Comments: str"
   ]
  },
  {
   "cell_type": "code",
   "execution_count": 67,
   "metadata": {},
   "outputs": [
    {
     "name": "stdout",
     "output_type": "stream",
     "text": [
      "8 validation errors for P02_1\n",
      "Body_Mass\n",
      "  2 missing values (type=value_error.missingvalues)\n",
      "Culmen_Depth\n",
      "  2 missing values (type=value_error.missingvalues)\n",
      "Sex\n",
      "  10 missing values (type=value_error.missingvalues)\n",
      "Flipper_Length\n",
      "  2 missing values (type=value_error.missingvalues)\n",
      "Comments\n",
      "  318 missing values (type=value_error.missingvalues)\n",
      "Culmen_Length\n",
      "  2 missing values (type=value_error.missingvalues)\n",
      "Species\n",
      "  Rows with invalid values: {'Chinstrap penguin (Pygoscelis antarctica)', 'Gentoo penguin (Pygoscelis papua)', 'Adelie Penguin (Pygoscelis adeliae)'}. (type=value_error.rowvalue)\n",
      "Sex\n",
      "  Rows with invalid values: {None, '.'}. (type=value_error.rowvalue)\n"
     ]
    }
   ],
   "source": [
    "val(P02_1, df)"
   ]
  },
  {
   "cell_type": "markdown",
   "metadata": {},
   "source": [
    "# 3. 是否允許空值"
   ]
  },
  {
   "cell_type": "code",
   "execution_count": 68,
   "metadata": {},
   "outputs": [],
   "source": [
    "class P03(pt.Model):\n",
    "    ID: int\n",
    "    Species: Literal['Gentoo penguin (Pygoscelis papua)', \n",
    "                     'Adelie Penguin (Pygoscelis adeliae)', \n",
    "                     'Chinstrap penguin (Pygoscelis antarctica)']\n",
    "    Island: Literal['Torgersen', 'Biscoe', 'Dream']\n",
    "    Clutch_Completion: Literal['Yes', 'No']\n",
    "    Culmen_Length: float\n",
    "    Culmen_Depth: float\n",
    "    Flipper_Length: int\n",
    "    Body_Mass: int\n",
    "    Sex: Literal['MALE', 'FEMALE']\n",
    "    Comments: Optional[str]"
   ]
  },
  {
   "cell_type": "code",
   "execution_count": 69,
   "metadata": {},
   "outputs": [
    {
     "name": "stdout",
     "output_type": "stream",
     "text": [
      "6 validation errors for P03\n",
      "Body_Mass\n",
      "  2 missing values (type=value_error.missingvalues)\n",
      "Culmen_Depth\n",
      "  2 missing values (type=value_error.missingvalues)\n",
      "Sex\n",
      "  10 missing values (type=value_error.missingvalues)\n",
      "Flipper_Length\n",
      "  2 missing values (type=value_error.missingvalues)\n",
      "Culmen_Length\n",
      "  2 missing values (type=value_error.missingvalues)\n",
      "Sex\n",
      "  Rows with invalid values: {None, '.'}. (type=value_error.rowvalue)\n"
     ]
    }
   ],
   "source": [
    "val(P03, df)"
   ]
  },
  {
   "cell_type": "markdown",
   "metadata": {},
   "source": [
    "# 4. 是否不允許重複"
   ]
  },
  {
   "cell_type": "code",
   "execution_count": 70,
   "metadata": {},
   "outputs": [],
   "source": [
    "class P04(pt.Model):\n",
    "    ID: int = pt.Field(unique=True)\n",
    "    Species: Literal['Gentoo penguin (Pygoscelis papua)', \n",
    "                     'Adelie Penguin (Pygoscelis adeliae)', \n",
    "                     'Chinstrap penguin (Pygoscelis antarctica)']\n",
    "    Island: Literal['Torgersen', 'Biscoe', 'Dream']\n",
    "    Clutch_Completion: Literal['Yes', 'No']\n",
    "    Culmen_Length: float\n",
    "    Culmen_Depth: float\n",
    "    Flipper_Length: int\n",
    "    Body_Mass: int\n",
    "    Sex: Literal['MALE', 'FEMALE']\n",
    "    Comments: Optional[str]"
   ]
  },
  {
   "cell_type": "code",
   "execution_count": 71,
   "metadata": {},
   "outputs": [
    {
     "name": "stdout",
     "output_type": "stream",
     "text": [
      "7 validation errors for P04\n",
      "Body_Mass\n",
      "  2 missing values (type=value_error.missingvalues)\n",
      "Culmen_Depth\n",
      "  2 missing values (type=value_error.missingvalues)\n",
      "Sex\n",
      "  10 missing values (type=value_error.missingvalues)\n",
      "Flipper_Length\n",
      "  2 missing values (type=value_error.missingvalues)\n",
      "Culmen_Length\n",
      "  2 missing values (type=value_error.missingvalues)\n",
      "ID\n",
      "  316 rows with duplicated values. (type=value_error.rowvalue)\n",
      "Sex\n",
      "  Rows with invalid values: {None, '.'}. (type=value_error.rowvalue)\n"
     ]
    }
   ],
   "source": [
    "val(P04, df)"
   ]
  },
  {
   "cell_type": "markdown",
   "metadata": {},
   "source": [
    "# 5. 字串長度"
   ]
  },
  {
   "cell_type": "code",
   "execution_count": 82,
   "metadata": {},
   "outputs": [
    {
     "data": {
      "text/html": [
       "<div><style>\n",
       ".dataframe > thead > tr,\n",
       ".dataframe > tbody > tr {\n",
       "  text-align: right;\n",
       "  white-space: pre-wrap;\n",
       "}\n",
       "</style>\n",
       "<small>shape: (1, 2)</small><table border=\"1\" class=\"dataframe\"><thead><tr><th>Comments Min Length</th><th>Comments Max Length</th></tr><tr><td>u32</td><td>u32</td></tr></thead><tbody><tr><td>18</td><td>68</td></tr></tbody></table></div>"
      ],
      "text/plain": [
       "shape: (1, 2)\n",
       "┌─────────────────────┬─────────────────────┐\n",
       "│ Comments Min Length ┆ Comments Max Length │\n",
       "│ ---                 ┆ ---                 │\n",
       "│ u32                 ┆ u32                 │\n",
       "╞═════════════════════╪═════════════════════╡\n",
       "│ 18                  ┆ 68                  │\n",
       "└─────────────────────┴─────────────────────┘"
      ]
     },
     "execution_count": 82,
     "metadata": {},
     "output_type": "execute_result"
    }
   ],
   "source": [
    "df.select(pl.col('Comments').str.len_chars().min().alias('Comments Min Length'),\n",
    "          pl.col('Comments').str.len_chars().max().alias('Comments Max Length'))"
   ]
  },
  {
   "cell_type": "code",
   "execution_count": 90,
   "metadata": {},
   "outputs": [
    {
     "data": {
      "text/html": [
       "<div><style>\n",
       ".dataframe > thead > tr,\n",
       ".dataframe > tbody > tr {\n",
       "  text-align: right;\n",
       "  white-space: pre-wrap;\n",
       "}\n",
       "</style>\n",
       "<small>shape: (8, 2)</small><table border=\"1\" class=\"dataframe\"><thead><tr><th>Comments</th><th>count</th></tr><tr><td>u32</td><td>u32</td></tr></thead><tbody><tr><td>null</td><td>318</td></tr><tr><td>25</td><td>2</td></tr><tr><td>36</td><td>2</td></tr><tr><td>30</td><td>6</td></tr><tr><td>68</td><td>1</td></tr><tr><td>18</td><td>1</td></tr><tr><td>37</td><td>13</td></tr><tr><td>62</td><td>1</td></tr></tbody></table></div>"
      ],
      "text/plain": [
       "shape: (8, 2)\n",
       "┌──────────┬───────┐\n",
       "│ Comments ┆ count │\n",
       "│ ---      ┆ ---   │\n",
       "│ u32      ┆ u32   │\n",
       "╞══════════╪═══════╡\n",
       "│ null     ┆ 318   │\n",
       "│ 25       ┆ 2     │\n",
       "│ 36       ┆ 2     │\n",
       "│ 30       ┆ 6     │\n",
       "│ 68       ┆ 1     │\n",
       "│ 18       ┆ 1     │\n",
       "│ 37       ┆ 13    │\n",
       "│ 62       ┆ 1     │\n",
       "└──────────┴───────┘"
      ]
     },
     "execution_count": 90,
     "metadata": {},
     "output_type": "execute_result"
    }
   ],
   "source": [
    "df.select(pl.col('Comments').str.len_chars().value_counts()).unnest('Comments')"
   ]
  },
  {
   "cell_type": "code",
   "execution_count": 80,
   "metadata": {},
   "outputs": [],
   "source": [
    "class P05(pt.Model):\n",
    "    ID: int = pt.Field(unique=True)\n",
    "    Species: Literal['Gentoo penguin (Pygoscelis papua)', \n",
    "                     'Adelie Penguin (Pygoscelis adeliae)', \n",
    "                     'Chinstrap penguin (Pygoscelis antarctica)']\n",
    "    Island: Literal['Torgersen', 'Biscoe', 'Dream']\n",
    "    Clutch_Completion: Literal['Yes', 'No']\n",
    "    Culmen_Length: float\n",
    "    Culmen_Depth: float\n",
    "    Flipper_Length: int\n",
    "    Body_Mass: int\n",
    "    Sex: Literal['MALE', 'FEMALE']\n",
    "    Comments: Optional[str] = pt.Field(max_length=50)"
   ]
  },
  {
   "cell_type": "code",
   "execution_count": 83,
   "metadata": {},
   "outputs": [
    {
     "name": "stdout",
     "output_type": "stream",
     "text": [
      "8 validation errors for P05\n",
      "Body_Mass\n",
      "  2 missing values (type=value_error.missingvalues)\n",
      "Culmen_Depth\n",
      "  2 missing values (type=value_error.missingvalues)\n",
      "Sex\n",
      "  10 missing values (type=value_error.missingvalues)\n",
      "Flipper_Length\n",
      "  2 missing values (type=value_error.missingvalues)\n",
      "Culmen_Length\n",
      "  2 missing values (type=value_error.missingvalues)\n",
      "ID\n",
      "  316 rows with duplicated values. (type=value_error.rowvalue)\n",
      "Sex\n",
      "  Rows with invalid values: {None, '.'}. (type=value_error.rowvalue)\n",
      "Comments\n",
      "  2 rows with out of bound values. (type=value_error.rowvalue)\n"
     ]
    }
   ],
   "source": [
    "val(P05, df)"
   ]
  },
  {
   "cell_type": "code",
   "execution_count": 84,
   "metadata": {},
   "outputs": [],
   "source": [
    "class P05_1(pt.Model):\n",
    "    ID: int = pt.Field(unique=True)\n",
    "    Species: Literal['Gentoo penguin (Pygoscelis papua)', \n",
    "                     'Adelie Penguin (Pygoscelis adeliae)', \n",
    "                     'Chinstrap penguin (Pygoscelis antarctica)']\n",
    "    Island: Literal['Torgersen', 'Biscoe', 'Dream']\n",
    "    Clutch_Completion: Literal['Yes', 'No']\n",
    "    Culmen_Length: float\n",
    "    Culmen_Depth: float\n",
    "    Flipper_Length: int\n",
    "    Body_Mass: int\n",
    "    Sex: Literal['MALE', 'FEMALE']\n",
    "    Comments: Optional[str] = pt.Field(min_length=20)"
   ]
  },
  {
   "cell_type": "code",
   "execution_count": 85,
   "metadata": {},
   "outputs": [
    {
     "name": "stdout",
     "output_type": "stream",
     "text": [
      "8 validation errors for P05_1\n",
      "Body_Mass\n",
      "  2 missing values (type=value_error.missingvalues)\n",
      "Culmen_Depth\n",
      "  2 missing values (type=value_error.missingvalues)\n",
      "Sex\n",
      "  10 missing values (type=value_error.missingvalues)\n",
      "Flipper_Length\n",
      "  2 missing values (type=value_error.missingvalues)\n",
      "Culmen_Length\n",
      "  2 missing values (type=value_error.missingvalues)\n",
      "ID\n",
      "  316 rows with duplicated values. (type=value_error.rowvalue)\n",
      "Sex\n",
      "  Rows with invalid values: {None, '.'}. (type=value_error.rowvalue)\n",
      "Comments\n",
      "  1 row with out of bound values. (type=value_error.rowvalue)\n"
     ]
    }
   ],
   "source": [
    "val(P05_1, df)"
   ]
  },
  {
   "cell_type": "code",
   "execution_count": 86,
   "metadata": {},
   "outputs": [],
   "source": [
    "class P05_2(pt.Model):\n",
    "    ID: int = pt.Field(unique=True)\n",
    "    Species: Literal['Gentoo penguin (Pygoscelis papua)', \n",
    "                     'Adelie Penguin (Pygoscelis adeliae)', \n",
    "                     'Chinstrap penguin (Pygoscelis antarctica)']\n",
    "    Island: Literal['Torgersen', 'Biscoe', 'Dream']\n",
    "    Clutch_Completion: Literal['Yes', 'No']\n",
    "    Culmen_Length: float\n",
    "    Culmen_Depth: float\n",
    "    Flipper_Length: int\n",
    "    Body_Mass: int\n",
    "    Sex: Literal['MALE', 'FEMALE']\n",
    "    Comments: Optional[str] = pt.Field(min_length=20, max_length=50)"
   ]
  },
  {
   "cell_type": "code",
   "execution_count": 87,
   "metadata": {},
   "outputs": [
    {
     "name": "stdout",
     "output_type": "stream",
     "text": [
      "8 validation errors for P05_2\n",
      "Body_Mass\n",
      "  2 missing values (type=value_error.missingvalues)\n",
      "Culmen_Depth\n",
      "  2 missing values (type=value_error.missingvalues)\n",
      "Sex\n",
      "  10 missing values (type=value_error.missingvalues)\n",
      "Flipper_Length\n",
      "  2 missing values (type=value_error.missingvalues)\n",
      "Culmen_Length\n",
      "  2 missing values (type=value_error.missingvalues)\n",
      "ID\n",
      "  316 rows with duplicated values. (type=value_error.rowvalue)\n",
      "Sex\n",
      "  Rows with invalid values: {None, '.'}. (type=value_error.rowvalue)\n",
      "Comments\n",
      "  3 rows with out of bound values. (type=value_error.rowvalue)\n"
     ]
    }
   ],
   "source": [
    "val(P05_2, df)"
   ]
  },
  {
   "cell_type": "markdown",
   "metadata": {},
   "source": [
    "# 5. 字串 pattern (re)"
   ]
  },
  {
   "cell_type": "code",
   "execution_count": null,
   "metadata": {},
   "outputs": [],
   "source": []
  },
  {
   "cell_type": "code",
   "execution_count": null,
   "metadata": {},
   "outputs": [],
   "source": []
  },
  {
   "cell_type": "markdown",
   "metadata": {},
   "source": [
    "# 6. 值的範圍（大於或小於特定值）"
   ]
  },
  {
   "cell_type": "code",
   "execution_count": null,
   "metadata": {},
   "outputs": [],
   "source": []
  },
  {
   "cell_type": "code",
   "execution_count": null,
   "metadata": {},
   "outputs": [],
   "source": []
  },
  {
   "cell_type": "code",
   "execution_count": null,
   "metadata": {},
   "outputs": [],
   "source": []
  },
  {
   "cell_type": "code",
   "execution_count": null,
   "metadata": {},
   "outputs": [],
   "source": []
  },
  {
   "cell_type": "markdown",
   "metadata": {},
   "source": [
    "# 8. 如果某個欄位的值為特定值時，另一個欄位的值必須為某些值"
   ]
  },
  {
   "cell_type": "code",
   "execution_count": null,
   "metadata": {},
   "outputs": [],
   "source": []
  },
  {
   "cell_type": "code",
   "execution_count": null,
   "metadata": {},
   "outputs": [],
   "source": []
  }
 ],
 "metadata": {
  "kernelspec": {
   "display_name": "data_valid",
   "language": "python",
   "name": "python3"
  },
  "language_info": {
   "codemirror_mode": {
    "name": "ipython",
    "version": 3
   },
   "file_extension": ".py",
   "mimetype": "text/x-python",
   "name": "python",
   "nbconvert_exporter": "python",
   "pygments_lexer": "ipython3",
   "version": "3.12.8"
  }
 },
 "nbformat": 4,
 "nbformat_minor": 2
}
