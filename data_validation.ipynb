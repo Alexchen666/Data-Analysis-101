{
 "cells": [
  {
   "cell_type": "markdown",
   "metadata": {},
   "source": [
    "# 資料驗證"
   ]
  },
  {
   "cell_type": "code",
   "execution_count": 1,
   "metadata": {},
   "outputs": [],
   "source": [
    "%matplotlib inline\n",
    "import polars as pl\n",
    "import pandas as pd\n",
    "import matplotlib.pyplot as plt\n",
    "import seaborn as sns\n",
    "import patito as pt\n",
    "from typing import Literal, Optional\n",
    "\n",
    "plt.style.use('seaborn-v0_8-darkgrid')"
   ]
  },
  {
   "cell_type": "code",
   "execution_count": 2,
   "metadata": {},
   "outputs": [],
   "source": [
    "def val(validator_class, data) -> bool:\n",
    "    try:\n",
    "        validator_class.validate(data)\n",
    "        print('Pass')\n",
    "    except Exception as e:\n",
    "        print(e)"
   ]
  },
  {
   "cell_type": "code",
   "execution_count": 3,
   "metadata": {},
   "outputs": [],
   "source": [
    "df = pl.read_csv('Tutorial_Data/penguins_v.csv')"
   ]
  },
  {
   "cell_type": "code",
   "execution_count": 4,
   "metadata": {},
   "outputs": [
    {
     "data": {
      "text/html": [
       "<div><style>\n",
       ".dataframe > thead > tr,\n",
       ".dataframe > tbody > tr {\n",
       "  text-align: right;\n",
       "  white-space: pre-wrap;\n",
       "}\n",
       "</style>\n",
       "<small>shape: (9, 12)</small><table border=\"1\" class=\"dataframe\"><thead><tr><th>statistic</th><th>ID</th><th>Species</th><th>Island</th><th>Clutch_Completion</th><th>Culmen_Length</th><th>Culmen_Depth</th><th>Flipper_Length</th><th>Body_Mass</th><th>Sex</th><th>Comments</th><th>Island_Code</th></tr><tr><td>str</td><td>f64</td><td>str</td><td>str</td><td>str</td><td>f64</td><td>f64</td><td>f64</td><td>f64</td><td>str</td><td>str</td><td>f64</td></tr></thead><tbody><tr><td>&quot;count&quot;</td><td>344.0</td><td>&quot;344&quot;</td><td>&quot;344&quot;</td><td>&quot;344&quot;</td><td>342.0</td><td>342.0</td><td>342.0</td><td>342.0</td><td>&quot;334&quot;</td><td>&quot;26&quot;</td><td>344.0</td></tr><tr><td>&quot;null_count&quot;</td><td>0.0</td><td>&quot;0&quot;</td><td>&quot;0&quot;</td><td>&quot;0&quot;</td><td>2.0</td><td>2.0</td><td>2.0</td><td>2.0</td><td>&quot;10&quot;</td><td>&quot;318&quot;</td><td>0.0</td></tr><tr><td>&quot;mean&quot;</td><td>63.151163</td><td>null</td><td>null</td><td>null</td><td>68.83655</td><td>17.15117</td><td>200.915205</td><td>4201.754386</td><td>null</td><td>null</td><td>1.206395</td></tr><tr><td>&quot;std&quot;</td><td>40.430199</td><td>null</td><td>null</td><td>null</td><td>328.085458</td><td>1.974793</td><td>14.061714</td><td>801.954536</td><td>null</td><td>null</td><td>0.687977</td></tr><tr><td>&quot;min&quot;</td><td>1.0</td><td>&quot;Adelie Penguin (Pygoscelis ade…</td><td>&quot;Biscoe&quot;</td><td>&quot;No&quot;</td><td>4.1</td><td>13.1</td><td>172.0</td><td>2700.0</td><td>&quot;.&quot;</td><td>&quot;Adult not sampled.&quot;</td><td>0.0</td></tr><tr><td>&quot;25%&quot;</td><td>29.0</td><td>null</td><td>null</td><td>null</td><td>39.3</td><td>15.6</td><td>190.0</td><td>3550.0</td><td>null</td><td>null</td><td>1.0</td></tr><tr><td>&quot;50%&quot;</td><td>58.0</td><td>null</td><td>null</td><td>null</td><td>44.5</td><td>17.3</td><td>197.0</td><td>4050.0</td><td>null</td><td>null</td><td>1.0</td></tr><tr><td>&quot;75%&quot;</td><td>95.0</td><td>null</td><td>null</td><td>null</td><td>48.6</td><td>18.7</td><td>213.0</td><td>4750.0</td><td>null</td><td>null</td><td>2.0</td></tr><tr><td>&quot;max&quot;</td><td>152.0</td><td>&quot;Gentoo penguin (Pygoscelis pap…</td><td>&quot;Torgersen&quot;</td><td>&quot;Yes&quot;</td><td>4730.0</td><td>21.5</td><td>231.0</td><td>6300.0</td><td>&quot;MALE&quot;</td><td>&quot;Sexing primers did not amplify…</td><td>2.0</td></tr></tbody></table></div>"
      ],
      "text/plain": [
       "shape: (9, 12)\n",
       "┌────────────┬───────────┬────────────┬───────────┬───┬────────────┬──────┬────────────┬───────────┐\n",
       "│ statistic  ┆ ID        ┆ Species    ┆ Island    ┆ … ┆ Body_Mass  ┆ Sex  ┆ Comments   ┆ Island_Co │\n",
       "│ ---        ┆ ---       ┆ ---        ┆ ---       ┆   ┆ ---        ┆ ---  ┆ ---        ┆ de        │\n",
       "│ str        ┆ f64       ┆ str        ┆ str       ┆   ┆ f64        ┆ str  ┆ str        ┆ ---       │\n",
       "│            ┆           ┆            ┆           ┆   ┆            ┆      ┆            ┆ f64       │\n",
       "╞════════════╪═══════════╪════════════╪═══════════╪═══╪════════════╪══════╪════════════╪═══════════╡\n",
       "│ count      ┆ 344.0     ┆ 344        ┆ 344       ┆ … ┆ 342.0      ┆ 334  ┆ 26         ┆ 344.0     │\n",
       "│ null_count ┆ 0.0       ┆ 0          ┆ 0         ┆ … ┆ 2.0        ┆ 10   ┆ 318        ┆ 0.0       │\n",
       "│ mean       ┆ 63.151163 ┆ null       ┆ null      ┆ … ┆ 4201.75438 ┆ null ┆ null       ┆ 1.206395  │\n",
       "│            ┆           ┆            ┆           ┆   ┆ 6          ┆      ┆            ┆           │\n",
       "│ std        ┆ 40.430199 ┆ null       ┆ null      ┆ … ┆ 801.954536 ┆ null ┆ null       ┆ 0.687977  │\n",
       "│ min        ┆ 1.0       ┆ Adelie     ┆ Biscoe    ┆ … ┆ 2700.0     ┆ .    ┆ Adult not  ┆ 0.0       │\n",
       "│            ┆           ┆ Penguin    ┆           ┆   ┆            ┆      ┆ sampled.   ┆           │\n",
       "│            ┆           ┆ (Pygosceli ┆           ┆   ┆            ┆      ┆            ┆           │\n",
       "│            ┆           ┆ s ade…     ┆           ┆   ┆            ┆      ┆            ┆           │\n",
       "│ 25%        ┆ 29.0      ┆ null       ┆ null      ┆ … ┆ 3550.0     ┆ null ┆ null       ┆ 1.0       │\n",
       "│ 50%        ┆ 58.0      ┆ null       ┆ null      ┆ … ┆ 4050.0     ┆ null ┆ null       ┆ 1.0       │\n",
       "│ 75%        ┆ 95.0      ┆ null       ┆ null      ┆ … ┆ 4750.0     ┆ null ┆ null       ┆ 2.0       │\n",
       "│ max        ┆ 152.0     ┆ Gentoo     ┆ Torgersen ┆ … ┆ 6300.0     ┆ MALE ┆ Sexing     ┆ 2.0       │\n",
       "│            ┆           ┆ penguin    ┆           ┆   ┆            ┆      ┆ primers    ┆           │\n",
       "│            ┆           ┆ (Pygosceli ┆           ┆   ┆            ┆      ┆ did not    ┆           │\n",
       "│            ┆           ┆ s pap…     ┆           ┆   ┆            ┆      ┆ amplify…   ┆           │\n",
       "└────────────┴───────────┴────────────┴───────────┴───┴────────────┴──────┴────────────┴───────────┘"
      ]
     },
     "execution_count": 4,
     "metadata": {},
     "output_type": "execute_result"
    }
   ],
   "source": [
    "df.describe()"
   ]
  },
  {
   "cell_type": "code",
   "execution_count": 5,
   "metadata": {},
   "outputs": [
    {
     "data": {
      "text/plain": [
       "['ID',\n",
       " 'Species',\n",
       " 'Island',\n",
       " 'Clutch_Completion',\n",
       " 'Culmen_Length',\n",
       " 'Culmen_Depth',\n",
       " 'Flipper_Length',\n",
       " 'Body_Mass',\n",
       " 'Sex',\n",
       " 'Comments',\n",
       " 'Island_Code']"
      ]
     },
     "execution_count": 5,
     "metadata": {},
     "output_type": "execute_result"
    }
   ],
   "source": [
    "df.columns"
   ]
  },
  {
   "cell_type": "code",
   "execution_count": 6,
   "metadata": {},
   "outputs": [
    {
     "data": {
      "text/html": [
       "<div><style>\n",
       ".dataframe > thead > tr,\n",
       ".dataframe > tbody > tr {\n",
       "  text-align: right;\n",
       "  white-space: pre-wrap;\n",
       "}\n",
       "</style>\n",
       "<small>shape: (344, 11)</small><table border=\"1\" class=\"dataframe\"><thead><tr><th>ID</th><th>Species</th><th>Island</th><th>Clutch_Completion</th><th>Culmen_Length</th><th>Culmen_Depth</th><th>Flipper_Length</th><th>Body_Mass</th><th>Sex</th><th>Comments</th><th>Island_Code</th></tr><tr><td>i64</td><td>str</td><td>str</td><td>str</td><td>f64</td><td>f64</td><td>i64</td><td>i64</td><td>str</td><td>str</td><td>i64</td></tr></thead><tbody><tr><td>1</td><td>&quot;Adelie Penguin (Pygoscelis ade…</td><td>&quot;Torgersen&quot;</td><td>&quot;Yes&quot;</td><td>39.1</td><td>18.7</td><td>181</td><td>3750</td><td>&quot;MALE&quot;</td><td>&quot;Not enough blood for isotopes.&quot;</td><td>0</td></tr><tr><td>2</td><td>&quot;Adelie Penguin (Pygoscelis ade…</td><td>&quot;Torgersen&quot;</td><td>&quot;Yes&quot;</td><td>39.5</td><td>17.4</td><td>186</td><td>3800</td><td>&quot;FEMALE&quot;</td><td>null</td><td>0</td></tr><tr><td>3</td><td>&quot;Adelie Penguin (Pygoscelis ade…</td><td>&quot;Torgersen&quot;</td><td>&quot;Yes&quot;</td><td>40.3</td><td>18.0</td><td>195</td><td>3250</td><td>&quot;FEMALE&quot;</td><td>null</td><td>0</td></tr><tr><td>4</td><td>&quot;Adelie Penguin (Pygoscelis ade…</td><td>&quot;Torgersen&quot;</td><td>&quot;Yes&quot;</td><td>null</td><td>null</td><td>null</td><td>null</td><td>null</td><td>&quot;Adult not sampled.&quot;</td><td>0</td></tr><tr><td>5</td><td>&quot;Adelie Penguin (Pygoscelis ade…</td><td>&quot;Torgersen&quot;</td><td>&quot;Yes&quot;</td><td>36.7</td><td>19.3</td><td>193</td><td>3450</td><td>&quot;FEMALE&quot;</td><td>null</td><td>0</td></tr><tr><td>&hellip;</td><td>&hellip;</td><td>&hellip;</td><td>&hellip;</td><td>&hellip;</td><td>&hellip;</td><td>&hellip;</td><td>&hellip;</td><td>&hellip;</td><td>&hellip;</td><td>&hellip;</td></tr><tr><td>120</td><td>&quot;Gentoo penguin (Pygoscelis pap…</td><td>&quot;Biscoe&quot;</td><td>&quot;No&quot;</td><td>null</td><td>null</td><td>null</td><td>null</td><td>null</td><td>null</td><td>1</td></tr><tr><td>121</td><td>&quot;Gentoo penguin (Pygoscelis pap…</td><td>&quot;Biscoe&quot;</td><td>&quot;Yes&quot;</td><td>46.8</td><td>14.3</td><td>215</td><td>4850</td><td>&quot;FEMALE&quot;</td><td>null</td><td>1</td></tr><tr><td>122</td><td>&quot;Gentoo penguin (Pygoscelis pap…</td><td>&quot;Biscoe&quot;</td><td>&quot;Yes&quot;</td><td>50.4</td><td>15.7</td><td>222</td><td>5750</td><td>&quot;MALE&quot;</td><td>null</td><td>1</td></tr><tr><td>123</td><td>&quot;Gentoo penguin (Pygoscelis pap…</td><td>&quot;Biscoe&quot;</td><td>&quot;Yes&quot;</td><td>45.2</td><td>14.8</td><td>212</td><td>5200</td><td>&quot;FEMALE&quot;</td><td>null</td><td>1</td></tr><tr><td>124</td><td>&quot;Gentoo penguin (Pygoscelis pap…</td><td>&quot;Biscoe&quot;</td><td>&quot;Yes&quot;</td><td>49.9</td><td>16.1</td><td>213</td><td>5400</td><td>&quot;MALE&quot;</td><td>null</td><td>1</td></tr></tbody></table></div>"
      ],
      "text/plain": [
       "shape: (344, 11)\n",
       "┌─────┬─────────────┬───────────┬─────────────┬───┬───────────┬────────┬─────────────┬─────────────┐\n",
       "│ ID  ┆ Species     ┆ Island    ┆ Clutch_Comp ┆ … ┆ Body_Mass ┆ Sex    ┆ Comments    ┆ Island_Code │\n",
       "│ --- ┆ ---         ┆ ---       ┆ letion      ┆   ┆ ---       ┆ ---    ┆ ---         ┆ ---         │\n",
       "│ i64 ┆ str         ┆ str       ┆ ---         ┆   ┆ i64       ┆ str    ┆ str         ┆ i64         │\n",
       "│     ┆             ┆           ┆ str         ┆   ┆           ┆        ┆             ┆             │\n",
       "╞═════╪═════════════╪═══════════╪═════════════╪═══╪═══════════╪════════╪═════════════╪═════════════╡\n",
       "│ 1   ┆ Adelie      ┆ Torgersen ┆ Yes         ┆ … ┆ 3750      ┆ MALE   ┆ Not enough  ┆ 0           │\n",
       "│     ┆ Penguin     ┆           ┆             ┆   ┆           ┆        ┆ blood for   ┆             │\n",
       "│     ┆ (Pygoscelis ┆           ┆             ┆   ┆           ┆        ┆ isotopes.   ┆             │\n",
       "│     ┆ ade…        ┆           ┆             ┆   ┆           ┆        ┆             ┆             │\n",
       "│ 2   ┆ Adelie      ┆ Torgersen ┆ Yes         ┆ … ┆ 3800      ┆ FEMALE ┆ null        ┆ 0           │\n",
       "│     ┆ Penguin     ┆           ┆             ┆   ┆           ┆        ┆             ┆             │\n",
       "│     ┆ (Pygoscelis ┆           ┆             ┆   ┆           ┆        ┆             ┆             │\n",
       "│     ┆ ade…        ┆           ┆             ┆   ┆           ┆        ┆             ┆             │\n",
       "│ 3   ┆ Adelie      ┆ Torgersen ┆ Yes         ┆ … ┆ 3250      ┆ FEMALE ┆ null        ┆ 0           │\n",
       "│     ┆ Penguin     ┆           ┆             ┆   ┆           ┆        ┆             ┆             │\n",
       "│     ┆ (Pygoscelis ┆           ┆             ┆   ┆           ┆        ┆             ┆             │\n",
       "│     ┆ ade…        ┆           ┆             ┆   ┆           ┆        ┆             ┆             │\n",
       "│ 4   ┆ Adelie      ┆ Torgersen ┆ Yes         ┆ … ┆ null      ┆ null   ┆ Adult not   ┆ 0           │\n",
       "│     ┆ Penguin     ┆           ┆             ┆   ┆           ┆        ┆ sampled.    ┆             │\n",
       "│     ┆ (Pygoscelis ┆           ┆             ┆   ┆           ┆        ┆             ┆             │\n",
       "│     ┆ ade…        ┆           ┆             ┆   ┆           ┆        ┆             ┆             │\n",
       "│ 5   ┆ Adelie      ┆ Torgersen ┆ Yes         ┆ … ┆ 3450      ┆ FEMALE ┆ null        ┆ 0           │\n",
       "│     ┆ Penguin     ┆           ┆             ┆   ┆           ┆        ┆             ┆             │\n",
       "│     ┆ (Pygoscelis ┆           ┆             ┆   ┆           ┆        ┆             ┆             │\n",
       "│     ┆ ade…        ┆           ┆             ┆   ┆           ┆        ┆             ┆             │\n",
       "│ …   ┆ …           ┆ …         ┆ …           ┆ … ┆ …         ┆ …      ┆ …           ┆ …           │\n",
       "│ 120 ┆ Gentoo      ┆ Biscoe    ┆ No          ┆ … ┆ null      ┆ null   ┆ null        ┆ 1           │\n",
       "│     ┆ penguin     ┆           ┆             ┆   ┆           ┆        ┆             ┆             │\n",
       "│     ┆ (Pygoscelis ┆           ┆             ┆   ┆           ┆        ┆             ┆             │\n",
       "│     ┆ pap…        ┆           ┆             ┆   ┆           ┆        ┆             ┆             │\n",
       "│ 121 ┆ Gentoo      ┆ Biscoe    ┆ Yes         ┆ … ┆ 4850      ┆ FEMALE ┆ null        ┆ 1           │\n",
       "│     ┆ penguin     ┆           ┆             ┆   ┆           ┆        ┆             ┆             │\n",
       "│     ┆ (Pygoscelis ┆           ┆             ┆   ┆           ┆        ┆             ┆             │\n",
       "│     ┆ pap…        ┆           ┆             ┆   ┆           ┆        ┆             ┆             │\n",
       "│ 122 ┆ Gentoo      ┆ Biscoe    ┆ Yes         ┆ … ┆ 5750      ┆ MALE   ┆ null        ┆ 1           │\n",
       "│     ┆ penguin     ┆           ┆             ┆   ┆           ┆        ┆             ┆             │\n",
       "│     ┆ (Pygoscelis ┆           ┆             ┆   ┆           ┆        ┆             ┆             │\n",
       "│     ┆ pap…        ┆           ┆             ┆   ┆           ┆        ┆             ┆             │\n",
       "│ 123 ┆ Gentoo      ┆ Biscoe    ┆ Yes         ┆ … ┆ 5200      ┆ FEMALE ┆ null        ┆ 1           │\n",
       "│     ┆ penguin     ┆           ┆             ┆   ┆           ┆        ┆             ┆             │\n",
       "│     ┆ (Pygoscelis ┆           ┆             ┆   ┆           ┆        ┆             ┆             │\n",
       "│     ┆ pap…        ┆           ┆             ┆   ┆           ┆        ┆             ┆             │\n",
       "│ 124 ┆ Gentoo      ┆ Biscoe    ┆ Yes         ┆ … ┆ 5400      ┆ MALE   ┆ null        ┆ 1           │\n",
       "│     ┆ penguin     ┆           ┆             ┆   ┆           ┆        ┆             ┆             │\n",
       "│     ┆ (Pygoscelis ┆           ┆             ┆   ┆           ┆        ┆             ┆             │\n",
       "│     ┆ pap…        ┆           ┆             ┆   ┆           ┆        ┆             ┆             │\n",
       "└─────┴─────────────┴───────────┴─────────────┴───┴───────────┴────────┴─────────────┴─────────────┘"
      ]
     },
     "execution_count": 6,
     "metadata": {},
     "output_type": "execute_result"
    }
   ],
   "source": [
    "df"
   ]
  },
  {
   "cell_type": "markdown",
   "metadata": {},
   "source": [
    "# 0. 欄位檢查"
   ]
  },
  {
   "cell_type": "code",
   "execution_count": 9,
   "metadata": {},
   "outputs": [],
   "source": [
    "class P00(pt.Model):\n",
    "    ID: int\n",
    "    Species: str\n",
    "    Island: str\n",
    "    Clutch_Completion: str\n",
    "    Culmen_Length: float\n",
    "    Culmen_Depth: float\n",
    "    Flipper_Length: float\n",
    "    Body_Mass: float\n",
    "    Sex: str\n",
    "    Comments: str"
   ]
  },
  {
   "cell_type": "code",
   "execution_count": 10,
   "metadata": {},
   "outputs": [
    {
     "name": "stdout",
     "output_type": "stream",
     "text": [
      "9 validation errors for P00\n",
      "Island_Code\n",
      "  Superfluous column (type=type_error.superfluouscolumns)\n",
      "Comments\n",
      "  318 missing values (type=value_error.missingvalues)\n",
      "Body_Mass\n",
      "  2 missing values (type=value_error.missingvalues)\n",
      "Flipper_Length\n",
      "  2 missing values (type=value_error.missingvalues)\n",
      "Culmen_Depth\n",
      "  2 missing values (type=value_error.missingvalues)\n",
      "Sex\n",
      "  10 missing values (type=value_error.missingvalues)\n",
      "Culmen_Length\n",
      "  2 missing values (type=value_error.missingvalues)\n",
      "Flipper_Length\n",
      "  Polars dtype Int64 does not match model field type. (type=type_error.columndtype)\n",
      "Body_Mass\n",
      "  Polars dtype Int64 does not match model field type. (type=type_error.columndtype)\n"
     ]
    }
   ],
   "source": [
    "val(P00, df)"
   ]
  },
  {
   "cell_type": "markdown",
   "metadata": {},
   "source": [
    "# 1. 資料型態"
   ]
  },
  {
   "cell_type": "code",
   "execution_count": 11,
   "metadata": {},
   "outputs": [],
   "source": [
    "class P01(pt.Model):\n",
    "    ID: int\n",
    "    Species: str\n",
    "    Island: str\n",
    "    Clutch_Completion: str\n",
    "    Culmen_Length: float\n",
    "    Culmen_Depth: float\n",
    "    Flipper_Length: float\n",
    "    Body_Mass: float\n",
    "    Sex: str\n",
    "    Comments: str\n",
    "    Island_Code: int"
   ]
  },
  {
   "cell_type": "code",
   "execution_count": 12,
   "metadata": {},
   "outputs": [
    {
     "name": "stdout",
     "output_type": "stream",
     "text": [
      "8 validation errors for P01\n",
      "Comments\n",
      "  318 missing values (type=value_error.missingvalues)\n",
      "Body_Mass\n",
      "  2 missing values (type=value_error.missingvalues)\n",
      "Flipper_Length\n",
      "  2 missing values (type=value_error.missingvalues)\n",
      "Culmen_Depth\n",
      "  2 missing values (type=value_error.missingvalues)\n",
      "Sex\n",
      "  10 missing values (type=value_error.missingvalues)\n",
      "Culmen_Length\n",
      "  2 missing values (type=value_error.missingvalues)\n",
      "Flipper_Length\n",
      "  Polars dtype Int64 does not match model field type. (type=type_error.columndtype)\n",
      "Body_Mass\n",
      "  Polars dtype Int64 does not match model field type. (type=type_error.columndtype)\n"
     ]
    }
   ],
   "source": [
    "val(P01, df)"
   ]
  },
  {
   "cell_type": "code",
   "execution_count": 13,
   "metadata": {},
   "outputs": [],
   "source": [
    "class P01_1(pt.Model):\n",
    "    ID: int\n",
    "    Species: str\n",
    "    Island: str\n",
    "    Clutch_Completion: str\n",
    "    Culmen_Length: float\n",
    "    Culmen_Depth: float\n",
    "    Flipper_Length: int\n",
    "    Body_Mass: int\n",
    "    Sex: str\n",
    "    Comments: str\n",
    "    Island_Code: int"
   ]
  },
  {
   "cell_type": "code",
   "execution_count": 14,
   "metadata": {},
   "outputs": [
    {
     "name": "stdout",
     "output_type": "stream",
     "text": [
      "6 validation errors for P01_1\n",
      "Comments\n",
      "  318 missing values (type=value_error.missingvalues)\n",
      "Body_Mass\n",
      "  2 missing values (type=value_error.missingvalues)\n",
      "Flipper_Length\n",
      "  2 missing values (type=value_error.missingvalues)\n",
      "Culmen_Depth\n",
      "  2 missing values (type=value_error.missingvalues)\n",
      "Sex\n",
      "  10 missing values (type=value_error.missingvalues)\n",
      "Culmen_Length\n",
      "  2 missing values (type=value_error.missingvalues)\n"
     ]
    }
   ],
   "source": [
    "val(P01_1, df)"
   ]
  },
  {
   "cell_type": "code",
   "execution_count": 15,
   "metadata": {},
   "outputs": [],
   "source": [
    "class P01_2(pt.Model):\n",
    "    ID: int\n",
    "    Species: str\n",
    "    Island: str\n",
    "    Clutch_Completion: str\n",
    "    Culmen_Length: float\n",
    "    Culmen_Depth: float\n",
    "    Flipper_Length: int\n",
    "    Body_Mass: int = pt.Field(dtype=pl.UInt64)\n",
    "    Sex: str\n",
    "    Comments: str\n",
    "    Island_Code: int"
   ]
  },
  {
   "cell_type": "code",
   "execution_count": 16,
   "metadata": {},
   "outputs": [
    {
     "name": "stdout",
     "output_type": "stream",
     "text": [
      "7 validation errors for P01_2\n",
      "Comments\n",
      "  318 missing values (type=value_error.missingvalues)\n",
      "Body_Mass\n",
      "  2 missing values (type=value_error.missingvalues)\n",
      "Flipper_Length\n",
      "  2 missing values (type=value_error.missingvalues)\n",
      "Culmen_Depth\n",
      "  2 missing values (type=value_error.missingvalues)\n",
      "Sex\n",
      "  10 missing values (type=value_error.missingvalues)\n",
      "Culmen_Length\n",
      "  2 missing values (type=value_error.missingvalues)\n",
      "Body_Mass\n",
      "  Polars dtype Int64 does not match model field type. (type=type_error.columndtype)\n"
     ]
    }
   ],
   "source": [
    "val(P01_2, df)"
   ]
  },
  {
   "cell_type": "markdown",
   "metadata": {},
   "source": [
    "# 2. 是否為一個 list 內的值（例如：其值必為 [1, 2, 3] 其中之一）"
   ]
  },
  {
   "cell_type": "code",
   "execution_count": 17,
   "metadata": {},
   "outputs": [],
   "source": [
    "class P02(pt.Model):\n",
    "    ID: int\n",
    "    Species: Literal['Gentoo penguin (Pygoscelis papua)', \n",
    "                     'Adelie Penguin (Pygoscelis adeliae)', \n",
    "                     'Chinstrap penguin (Pygoscelis antarctica)']\n",
    "    Island: Literal['Torgersen', 'Biscoe', 'Dream']\n",
    "    Clutch_Completion: Literal['Yes', 'No']\n",
    "    Culmen_Length: float\n",
    "    Culmen_Depth: float\n",
    "    Flipper_Length: int\n",
    "    Body_Mass: int\n",
    "    Sex: Literal['MALE', 'FEMALE']\n",
    "    Comments: str\n",
    "    Island_Code: int"
   ]
  },
  {
   "cell_type": "code",
   "execution_count": 18,
   "metadata": {},
   "outputs": [
    {
     "name": "stdout",
     "output_type": "stream",
     "text": [
      "7 validation errors for P02\n",
      "Comments\n",
      "  318 missing values (type=value_error.missingvalues)\n",
      "Body_Mass\n",
      "  2 missing values (type=value_error.missingvalues)\n",
      "Flipper_Length\n",
      "  2 missing values (type=value_error.missingvalues)\n",
      "Culmen_Depth\n",
      "  2 missing values (type=value_error.missingvalues)\n",
      "Sex\n",
      "  10 missing values (type=value_error.missingvalues)\n",
      "Culmen_Length\n",
      "  2 missing values (type=value_error.missingvalues)\n",
      "Sex\n",
      "  Rows with invalid values: {None, '.'}. (type=value_error.rowvalue)\n"
     ]
    }
   ],
   "source": [
    "val(P02, df)"
   ]
  },
  {
   "cell_type": "code",
   "execution_count": 19,
   "metadata": {},
   "outputs": [],
   "source": [
    "# use wrong species name\n",
    "\n",
    "class P02_1(pt.Model):\n",
    "    ID: int\n",
    "    Species: Literal['Gentoo penguin', \n",
    "                     'Adelie Penguin', \n",
    "                     'Chinstrap penguin']\n",
    "    Island: Literal['Torgersen', 'Biscoe', 'Dream']\n",
    "    Clutch_Completion: Literal['Yes', 'No']\n",
    "    Culmen_Length: float\n",
    "    Culmen_Depth: float\n",
    "    Flipper_Length: int\n",
    "    Body_Mass: int\n",
    "    Sex: Literal['MALE', 'FEMALE']\n",
    "    Comments: str\n",
    "    Island_Code: int"
   ]
  },
  {
   "cell_type": "code",
   "execution_count": 20,
   "metadata": {},
   "outputs": [
    {
     "name": "stdout",
     "output_type": "stream",
     "text": [
      "8 validation errors for P02_1\n",
      "Comments\n",
      "  318 missing values (type=value_error.missingvalues)\n",
      "Body_Mass\n",
      "  2 missing values (type=value_error.missingvalues)\n",
      "Flipper_Length\n",
      "  2 missing values (type=value_error.missingvalues)\n",
      "Culmen_Depth\n",
      "  2 missing values (type=value_error.missingvalues)\n",
      "Sex\n",
      "  10 missing values (type=value_error.missingvalues)\n",
      "Culmen_Length\n",
      "  2 missing values (type=value_error.missingvalues)\n",
      "Species\n",
      "  Rows with invalid values: {'Adelie Penguin (Pygoscelis adeliae)', 'Chinstrap penguin (Pygoscelis antarctica)', 'Gentoo penguin (Pygoscelis papua)'}. (type=value_error.rowvalue)\n",
      "Sex\n",
      "  Rows with invalid values: {None, '.'}. (type=value_error.rowvalue)\n"
     ]
    }
   ],
   "source": [
    "val(P02_1, df)"
   ]
  },
  {
   "cell_type": "markdown",
   "metadata": {},
   "source": [
    "# 3. 是否允許空值"
   ]
  },
  {
   "cell_type": "code",
   "execution_count": 21,
   "metadata": {},
   "outputs": [],
   "source": [
    "class P03(pt.Model):\n",
    "    ID: int\n",
    "    Species: Literal['Gentoo penguin (Pygoscelis papua)', \n",
    "                     'Adelie Penguin (Pygoscelis adeliae)', \n",
    "                     'Chinstrap penguin (Pygoscelis antarctica)']\n",
    "    Island: Literal['Torgersen', 'Biscoe', 'Dream']\n",
    "    Clutch_Completion: Literal['Yes', 'No']\n",
    "    Culmen_Length: float\n",
    "    Culmen_Depth: float\n",
    "    Flipper_Length: int\n",
    "    Body_Mass: int\n",
    "    Sex: Literal['MALE', 'FEMALE']\n",
    "    Comments: Optional[str]\n",
    "    Island_Code: int"
   ]
  },
  {
   "cell_type": "code",
   "execution_count": 22,
   "metadata": {},
   "outputs": [
    {
     "name": "stdout",
     "output_type": "stream",
     "text": [
      "6 validation errors for P03\n",
      "Body_Mass\n",
      "  2 missing values (type=value_error.missingvalues)\n",
      "Flipper_Length\n",
      "  2 missing values (type=value_error.missingvalues)\n",
      "Culmen_Depth\n",
      "  2 missing values (type=value_error.missingvalues)\n",
      "Sex\n",
      "  10 missing values (type=value_error.missingvalues)\n",
      "Culmen_Length\n",
      "  2 missing values (type=value_error.missingvalues)\n",
      "Sex\n",
      "  Rows with invalid values: {None, '.'}. (type=value_error.rowvalue)\n"
     ]
    }
   ],
   "source": [
    "val(P03, df)"
   ]
  },
  {
   "cell_type": "markdown",
   "metadata": {},
   "source": [
    "# 4. 是否不允許重複"
   ]
  },
  {
   "cell_type": "code",
   "execution_count": 23,
   "metadata": {},
   "outputs": [],
   "source": [
    "class P04(pt.Model):\n",
    "    ID: int = pt.Field(unique=True)\n",
    "    Species: Literal['Gentoo penguin (Pygoscelis papua)', \n",
    "                     'Adelie Penguin (Pygoscelis adeliae)', \n",
    "                     'Chinstrap penguin (Pygoscelis antarctica)']\n",
    "    Island: Literal['Torgersen', 'Biscoe', 'Dream']\n",
    "    Clutch_Completion: Literal['Yes', 'No']\n",
    "    Culmen_Length: float\n",
    "    Culmen_Depth: float\n",
    "    Flipper_Length: int\n",
    "    Body_Mass: int\n",
    "    Sex: Literal['MALE', 'FEMALE']\n",
    "    Comments: Optional[str]\n",
    "    Island_Code: int"
   ]
  },
  {
   "cell_type": "code",
   "execution_count": 24,
   "metadata": {},
   "outputs": [
    {
     "name": "stdout",
     "output_type": "stream",
     "text": [
      "7 validation errors for P04\n",
      "Body_Mass\n",
      "  2 missing values (type=value_error.missingvalues)\n",
      "Flipper_Length\n",
      "  2 missing values (type=value_error.missingvalues)\n",
      "Culmen_Depth\n",
      "  2 missing values (type=value_error.missingvalues)\n",
      "Sex\n",
      "  10 missing values (type=value_error.missingvalues)\n",
      "Culmen_Length\n",
      "  2 missing values (type=value_error.missingvalues)\n",
      "ID\n",
      "  316 rows with duplicated values. (type=value_error.rowvalue)\n",
      "Sex\n",
      "  Rows with invalid values: {None, '.'}. (type=value_error.rowvalue)\n"
     ]
    }
   ],
   "source": [
    "val(P04, df)"
   ]
  },
  {
   "cell_type": "markdown",
   "metadata": {},
   "source": [
    "# 5. 字串長度"
   ]
  },
  {
   "cell_type": "code",
   "execution_count": 25,
   "metadata": {},
   "outputs": [
    {
     "data": {
      "text/html": [
       "<div><style>\n",
       ".dataframe > thead > tr,\n",
       ".dataframe > tbody > tr {\n",
       "  text-align: right;\n",
       "  white-space: pre-wrap;\n",
       "}\n",
       "</style>\n",
       "<small>shape: (1, 2)</small><table border=\"1\" class=\"dataframe\"><thead><tr><th>Comments Min Length</th><th>Comments Max Length</th></tr><tr><td>u32</td><td>u32</td></tr></thead><tbody><tr><td>18</td><td>68</td></tr></tbody></table></div>"
      ],
      "text/plain": [
       "shape: (1, 2)\n",
       "┌─────────────────────┬─────────────────────┐\n",
       "│ Comments Min Length ┆ Comments Max Length │\n",
       "│ ---                 ┆ ---                 │\n",
       "│ u32                 ┆ u32                 │\n",
       "╞═════════════════════╪═════════════════════╡\n",
       "│ 18                  ┆ 68                  │\n",
       "└─────────────────────┴─────────────────────┘"
      ]
     },
     "execution_count": 25,
     "metadata": {},
     "output_type": "execute_result"
    }
   ],
   "source": [
    "df.select(pl.col('Comments').str.len_chars().min().alias('Comments Min Length'),\n",
    "          pl.col('Comments').str.len_chars().max().alias('Comments Max Length'))"
   ]
  },
  {
   "cell_type": "code",
   "execution_count": 26,
   "metadata": {},
   "outputs": [
    {
     "data": {
      "text/html": [
       "<div><style>\n",
       ".dataframe > thead > tr,\n",
       ".dataframe > tbody > tr {\n",
       "  text-align: right;\n",
       "  white-space: pre-wrap;\n",
       "}\n",
       "</style>\n",
       "<small>shape: (8, 2)</small><table border=\"1\" class=\"dataframe\"><thead><tr><th>Comments</th><th>count</th></tr><tr><td>u32</td><td>u32</td></tr></thead><tbody><tr><td>30</td><td>6</td></tr><tr><td>37</td><td>13</td></tr><tr><td>25</td><td>2</td></tr><tr><td>null</td><td>318</td></tr><tr><td>62</td><td>1</td></tr><tr><td>68</td><td>1</td></tr><tr><td>36</td><td>2</td></tr><tr><td>18</td><td>1</td></tr></tbody></table></div>"
      ],
      "text/plain": [
       "shape: (8, 2)\n",
       "┌──────────┬───────┐\n",
       "│ Comments ┆ count │\n",
       "│ ---      ┆ ---   │\n",
       "│ u32      ┆ u32   │\n",
       "╞══════════╪═══════╡\n",
       "│ 30       ┆ 6     │\n",
       "│ 37       ┆ 13    │\n",
       "│ 25       ┆ 2     │\n",
       "│ null     ┆ 318   │\n",
       "│ 62       ┆ 1     │\n",
       "│ 68       ┆ 1     │\n",
       "│ 36       ┆ 2     │\n",
       "│ 18       ┆ 1     │\n",
       "└──────────┴───────┘"
      ]
     },
     "execution_count": 26,
     "metadata": {},
     "output_type": "execute_result"
    }
   ],
   "source": [
    "df.select(pl.col('Comments').str.len_chars().value_counts()).unnest('Comments')"
   ]
  },
  {
   "cell_type": "code",
   "execution_count": 27,
   "metadata": {},
   "outputs": [],
   "source": [
    "class P05(pt.Model):\n",
    "    ID: int = pt.Field(unique=True)\n",
    "    Species: Literal['Gentoo penguin (Pygoscelis papua)', \n",
    "                     'Adelie Penguin (Pygoscelis adeliae)', \n",
    "                     'Chinstrap penguin (Pygoscelis antarctica)']\n",
    "    Island: Literal['Torgersen', 'Biscoe', 'Dream']\n",
    "    Clutch_Completion: Literal['Yes', 'No']\n",
    "    Culmen_Length: float\n",
    "    Culmen_Depth: float\n",
    "    Flipper_Length: int\n",
    "    Body_Mass: int\n",
    "    Sex: Literal['MALE', 'FEMALE']\n",
    "    Comments: Optional[str] = pt.Field(max_length=50)\n",
    "    Island_Code: int"
   ]
  },
  {
   "cell_type": "code",
   "execution_count": 28,
   "metadata": {},
   "outputs": [
    {
     "name": "stdout",
     "output_type": "stream",
     "text": [
      "8 validation errors for P05\n",
      "Body_Mass\n",
      "  2 missing values (type=value_error.missingvalues)\n",
      "Flipper_Length\n",
      "  2 missing values (type=value_error.missingvalues)\n",
      "Culmen_Depth\n",
      "  2 missing values (type=value_error.missingvalues)\n",
      "Sex\n",
      "  10 missing values (type=value_error.missingvalues)\n",
      "Culmen_Length\n",
      "  2 missing values (type=value_error.missingvalues)\n",
      "ID\n",
      "  316 rows with duplicated values. (type=value_error.rowvalue)\n",
      "Sex\n",
      "  Rows with invalid values: {None, '.'}. (type=value_error.rowvalue)\n",
      "Comments\n",
      "  2 rows with out of bound values. (type=value_error.rowvalue)\n"
     ]
    }
   ],
   "source": [
    "val(P05, df)"
   ]
  },
  {
   "cell_type": "code",
   "execution_count": 29,
   "metadata": {},
   "outputs": [],
   "source": [
    "class P05_1(pt.Model):\n",
    "    ID: int = pt.Field(unique=True)\n",
    "    Species: Literal['Gentoo penguin (Pygoscelis papua)', \n",
    "                     'Adelie Penguin (Pygoscelis adeliae)', \n",
    "                     'Chinstrap penguin (Pygoscelis antarctica)']\n",
    "    Island: Literal['Torgersen', 'Biscoe', 'Dream']\n",
    "    Clutch_Completion: Literal['Yes', 'No']\n",
    "    Culmen_Length: float\n",
    "    Culmen_Depth: float\n",
    "    Flipper_Length: int\n",
    "    Body_Mass: int\n",
    "    Sex: Literal['MALE', 'FEMALE']\n",
    "    Comments: Optional[str] = pt.Field(min_length=20)\n",
    "    Island_Code: int"
   ]
  },
  {
   "cell_type": "code",
   "execution_count": 30,
   "metadata": {},
   "outputs": [
    {
     "name": "stdout",
     "output_type": "stream",
     "text": [
      "8 validation errors for P05_1\n",
      "Body_Mass\n",
      "  2 missing values (type=value_error.missingvalues)\n",
      "Flipper_Length\n",
      "  2 missing values (type=value_error.missingvalues)\n",
      "Culmen_Depth\n",
      "  2 missing values (type=value_error.missingvalues)\n",
      "Sex\n",
      "  10 missing values (type=value_error.missingvalues)\n",
      "Culmen_Length\n",
      "  2 missing values (type=value_error.missingvalues)\n",
      "ID\n",
      "  316 rows with duplicated values. (type=value_error.rowvalue)\n",
      "Sex\n",
      "  Rows with invalid values: {None, '.'}. (type=value_error.rowvalue)\n",
      "Comments\n",
      "  1 row with out of bound values. (type=value_error.rowvalue)\n"
     ]
    }
   ],
   "source": [
    "val(P05_1, df)"
   ]
  },
  {
   "cell_type": "code",
   "execution_count": 31,
   "metadata": {},
   "outputs": [],
   "source": [
    "class P05_2(pt.Model):\n",
    "    ID: int = pt.Field(unique=True)\n",
    "    Species: Literal['Gentoo penguin (Pygoscelis papua)', \n",
    "                     'Adelie Penguin (Pygoscelis adeliae)', \n",
    "                     'Chinstrap penguin (Pygoscelis antarctica)']\n",
    "    Island: Literal['Torgersen', 'Biscoe', 'Dream']\n",
    "    Clutch_Completion: Literal['Yes', 'No']\n",
    "    Culmen_Length: float\n",
    "    Culmen_Depth: float\n",
    "    Flipper_Length: int\n",
    "    Body_Mass: int\n",
    "    Sex: Literal['MALE', 'FEMALE']\n",
    "    Comments: Optional[str] = pt.Field(min_length=20, max_length=50)\n",
    "    Island_Code: int"
   ]
  },
  {
   "cell_type": "code",
   "execution_count": 32,
   "metadata": {},
   "outputs": [
    {
     "name": "stdout",
     "output_type": "stream",
     "text": [
      "8 validation errors for P05_2\n",
      "Body_Mass\n",
      "  2 missing values (type=value_error.missingvalues)\n",
      "Flipper_Length\n",
      "  2 missing values (type=value_error.missingvalues)\n",
      "Culmen_Depth\n",
      "  2 missing values (type=value_error.missingvalues)\n",
      "Sex\n",
      "  10 missing values (type=value_error.missingvalues)\n",
      "Culmen_Length\n",
      "  2 missing values (type=value_error.missingvalues)\n",
      "ID\n",
      "  316 rows with duplicated values. (type=value_error.rowvalue)\n",
      "Sex\n",
      "  Rows with invalid values: {None, '.'}. (type=value_error.rowvalue)\n",
      "Comments\n",
      "  3 rows with out of bound values. (type=value_error.rowvalue)\n"
     ]
    }
   ],
   "source": [
    "val(P05_2, df)"
   ]
  },
  {
   "cell_type": "markdown",
   "metadata": {},
   "source": [
    "# 6. 字串 pattern (re)"
   ]
  },
  {
   "cell_type": "code",
   "execution_count": 33,
   "metadata": {},
   "outputs": [
    {
     "data": {
      "text/html": [
       "<div><style>\n",
       ".dataframe > thead > tr,\n",
       ".dataframe > tbody > tr {\n",
       "  text-align: right;\n",
       "  white-space: pre-wrap;\n",
       "}\n",
       "</style>\n",
       "<small>shape: (26, 1)</small><table border=\"1\" class=\"dataframe\"><thead><tr><th>Comments</th></tr><tr><td>str</td></tr></thead><tbody><tr><td>&quot;Not enough blood for isotopes.&quot;</td></tr><tr><td>&quot;Adult not sampled.&quot;</td></tr><tr><td>&quot;Nest never observed with full …</td></tr><tr><td>&quot;Nest never observed with full …</td></tr><tr><td>&quot;No blood sample obtained.&quot;</td></tr><tr><td>&hellip;</td></tr><tr><td>&quot;Nest never observed with full …</td></tr><tr><td>&quot;Nest never observed with full …</td></tr><tr><td>&quot;Nest never observed with full …</td></tr><tr><td>&quot;Nest never observed with full …</td></tr><tr><td>&quot;Nest never observed with full …</td></tr></tbody></table></div>"
      ],
      "text/plain": [
       "shape: (26, 1)\n",
       "┌─────────────────────────────────┐\n",
       "│ Comments                        │\n",
       "│ ---                             │\n",
       "│ str                             │\n",
       "╞═════════════════════════════════╡\n",
       "│ Not enough blood for isotopes.  │\n",
       "│ Adult not sampled.              │\n",
       "│ Nest never observed with full … │\n",
       "│ Nest never observed with full … │\n",
       "│ No blood sample obtained.       │\n",
       "│ …                               │\n",
       "│ Nest never observed with full … │\n",
       "│ Nest never observed with full … │\n",
       "│ Nest never observed with full … │\n",
       "│ Nest never observed with full … │\n",
       "│ Nest never observed with full … │\n",
       "└─────────────────────────────────┘"
      ]
     },
     "execution_count": 33,
     "metadata": {},
     "output_type": "execute_result"
    }
   ],
   "source": [
    "df.filter(pl.col('Comments').is_not_null()).select(pl.col('Comments'))"
   ]
  },
  {
   "cell_type": "code",
   "execution_count": 34,
   "metadata": {},
   "outputs": [
    {
     "data": {
      "text/html": [
       "<div><style>\n",
       ".dataframe > thead > tr,\n",
       ".dataframe > tbody > tr {\n",
       "  text-align: right;\n",
       "  white-space: pre-wrap;\n",
       "}\n",
       "</style>\n",
       "<small>shape: (12, 1)</small><table border=\"1\" class=\"dataframe\"><thead><tr><th>Comments</th></tr><tr><td>str</td></tr></thead><tbody><tr><td>&quot;Not enough blood for isotopes.&quot;</td></tr><tr><td>&quot;Adult not sampled.&quot;</td></tr><tr><td>&quot;No blood sample obtained.&quot;</td></tr><tr><td>&quot;No blood sample obtained for s…</td></tr><tr><td>&quot;No blood sample obtained for s…</td></tr><tr><td>&hellip;</td></tr><tr><td>&quot;Not enough blood for isotopes.&quot;</td></tr><tr><td>&quot;Not enough blood for isotopes.&quot;</td></tr><tr><td>&quot;Not enough blood for isotopes.&quot;</td></tr><tr><td>&quot;Not enough blood for isotopes.&quot;</td></tr><tr><td>&quot;Sexing primers did not amplify…</td></tr></tbody></table></div>"
      ],
      "text/plain": [
       "shape: (12, 1)\n",
       "┌─────────────────────────────────┐\n",
       "│ Comments                        │\n",
       "│ ---                             │\n",
       "│ str                             │\n",
       "╞═════════════════════════════════╡\n",
       "│ Not enough blood for isotopes.  │\n",
       "│ Adult not sampled.              │\n",
       "│ No blood sample obtained.       │\n",
       "│ No blood sample obtained for s… │\n",
       "│ No blood sample obtained for s… │\n",
       "│ …                               │\n",
       "│ Not enough blood for isotopes.  │\n",
       "│ Not enough blood for isotopes.  │\n",
       "│ Not enough blood for isotopes.  │\n",
       "│ Not enough blood for isotopes.  │\n",
       "│ Sexing primers did not amplify… │\n",
       "└─────────────────────────────────┘"
      ]
     },
     "execution_count": 34,
     "metadata": {},
     "output_type": "execute_result"
    }
   ],
   "source": [
    "df.filter(pl.col('Comments').is_not_null()).filter(~pl.col('Comments').str.starts_with('Nest')).select(pl.col('Comments'))"
   ]
  },
  {
   "cell_type": "code",
   "execution_count": 35,
   "metadata": {},
   "outputs": [],
   "source": [
    "# use pattern instead of regex, which is not supported\n",
    "\n",
    "class P06(pt.Model):\n",
    "    ID: int = pt.Field(unique=True)\n",
    "    Species: Literal['Gentoo penguin (Pygoscelis papua)', \n",
    "                     'Adelie Penguin (Pygoscelis adeliae)', \n",
    "                     'Chinstrap penguin (Pygoscelis antarctica)']\n",
    "    Island: Literal['Torgersen', 'Biscoe', 'Dream']\n",
    "    Clutch_Completion: Literal['Yes', 'No']\n",
    "    Culmen_Length: float\n",
    "    Culmen_Depth: float\n",
    "    Flipper_Length: int\n",
    "    Body_Mass: int\n",
    "    Sex: Literal['MALE', 'FEMALE']\n",
    "    Comments: Optional[str] = pt.Field(pattern=r'^Nest[A-Za-z0-9\\s]+')\n",
    "    Island_Code: int"
   ]
  },
  {
   "cell_type": "code",
   "execution_count": 36,
   "metadata": {},
   "outputs": [
    {
     "name": "stdout",
     "output_type": "stream",
     "text": [
      "8 validation errors for P06\n",
      "Body_Mass\n",
      "  2 missing values (type=value_error.missingvalues)\n",
      "Flipper_Length\n",
      "  2 missing values (type=value_error.missingvalues)\n",
      "Culmen_Depth\n",
      "  2 missing values (type=value_error.missingvalues)\n",
      "Sex\n",
      "  10 missing values (type=value_error.missingvalues)\n",
      "Culmen_Length\n",
      "  2 missing values (type=value_error.missingvalues)\n",
      "ID\n",
      "  316 rows with duplicated values. (type=value_error.rowvalue)\n",
      "Sex\n",
      "  Rows with invalid values: {None, '.'}. (type=value_error.rowvalue)\n",
      "Comments\n",
      "  12 rows with out of bound values. (type=value_error.rowvalue)\n"
     ]
    }
   ],
   "source": [
    "val(P06, df)"
   ]
  },
  {
   "cell_type": "markdown",
   "metadata": {},
   "source": [
    "# 7. 值的範圍（大於或小於特定值）"
   ]
  },
  {
   "cell_type": "code",
   "execution_count": 37,
   "metadata": {},
   "outputs": [
    {
     "data": {
      "text/html": [
       "<div><style>\n",
       ".dataframe > thead > tr,\n",
       ".dataframe > tbody > tr {\n",
       "  text-align: right;\n",
       "  white-space: pre-wrap;\n",
       "}\n",
       "</style>\n",
       "<small>shape: (9, 12)</small><table border=\"1\" class=\"dataframe\"><thead><tr><th>statistic</th><th>ID</th><th>Species</th><th>Island</th><th>Clutch_Completion</th><th>Culmen_Length</th><th>Culmen_Depth</th><th>Flipper_Length</th><th>Body_Mass</th><th>Sex</th><th>Comments</th><th>Island_Code</th></tr><tr><td>str</td><td>f64</td><td>str</td><td>str</td><td>str</td><td>f64</td><td>f64</td><td>f64</td><td>f64</td><td>str</td><td>str</td><td>f64</td></tr></thead><tbody><tr><td>&quot;count&quot;</td><td>344.0</td><td>&quot;344&quot;</td><td>&quot;344&quot;</td><td>&quot;344&quot;</td><td>342.0</td><td>342.0</td><td>342.0</td><td>342.0</td><td>&quot;334&quot;</td><td>&quot;26&quot;</td><td>344.0</td></tr><tr><td>&quot;null_count&quot;</td><td>0.0</td><td>&quot;0&quot;</td><td>&quot;0&quot;</td><td>&quot;0&quot;</td><td>2.0</td><td>2.0</td><td>2.0</td><td>2.0</td><td>&quot;10&quot;</td><td>&quot;318&quot;</td><td>0.0</td></tr><tr><td>&quot;mean&quot;</td><td>63.151163</td><td>null</td><td>null</td><td>null</td><td>68.83655</td><td>17.15117</td><td>200.915205</td><td>4201.754386</td><td>null</td><td>null</td><td>1.206395</td></tr><tr><td>&quot;std&quot;</td><td>40.430199</td><td>null</td><td>null</td><td>null</td><td>328.085458</td><td>1.974793</td><td>14.061714</td><td>801.954536</td><td>null</td><td>null</td><td>0.687977</td></tr><tr><td>&quot;min&quot;</td><td>1.0</td><td>&quot;Adelie Penguin (Pygoscelis ade…</td><td>&quot;Biscoe&quot;</td><td>&quot;No&quot;</td><td>4.1</td><td>13.1</td><td>172.0</td><td>2700.0</td><td>&quot;.&quot;</td><td>&quot;Adult not sampled.&quot;</td><td>0.0</td></tr><tr><td>&quot;25%&quot;</td><td>29.0</td><td>null</td><td>null</td><td>null</td><td>39.3</td><td>15.6</td><td>190.0</td><td>3550.0</td><td>null</td><td>null</td><td>1.0</td></tr><tr><td>&quot;50%&quot;</td><td>58.0</td><td>null</td><td>null</td><td>null</td><td>44.5</td><td>17.3</td><td>197.0</td><td>4050.0</td><td>null</td><td>null</td><td>1.0</td></tr><tr><td>&quot;75%&quot;</td><td>95.0</td><td>null</td><td>null</td><td>null</td><td>48.6</td><td>18.7</td><td>213.0</td><td>4750.0</td><td>null</td><td>null</td><td>2.0</td></tr><tr><td>&quot;max&quot;</td><td>152.0</td><td>&quot;Gentoo penguin (Pygoscelis pap…</td><td>&quot;Torgersen&quot;</td><td>&quot;Yes&quot;</td><td>4730.0</td><td>21.5</td><td>231.0</td><td>6300.0</td><td>&quot;MALE&quot;</td><td>&quot;Sexing primers did not amplify…</td><td>2.0</td></tr></tbody></table></div>"
      ],
      "text/plain": [
       "shape: (9, 12)\n",
       "┌────────────┬───────────┬────────────┬───────────┬───┬────────────┬──────┬────────────┬───────────┐\n",
       "│ statistic  ┆ ID        ┆ Species    ┆ Island    ┆ … ┆ Body_Mass  ┆ Sex  ┆ Comments   ┆ Island_Co │\n",
       "│ ---        ┆ ---       ┆ ---        ┆ ---       ┆   ┆ ---        ┆ ---  ┆ ---        ┆ de        │\n",
       "│ str        ┆ f64       ┆ str        ┆ str       ┆   ┆ f64        ┆ str  ┆ str        ┆ ---       │\n",
       "│            ┆           ┆            ┆           ┆   ┆            ┆      ┆            ┆ f64       │\n",
       "╞════════════╪═══════════╪════════════╪═══════════╪═══╪════════════╪══════╪════════════╪═══════════╡\n",
       "│ count      ┆ 344.0     ┆ 344        ┆ 344       ┆ … ┆ 342.0      ┆ 334  ┆ 26         ┆ 344.0     │\n",
       "│ null_count ┆ 0.0       ┆ 0          ┆ 0         ┆ … ┆ 2.0        ┆ 10   ┆ 318        ┆ 0.0       │\n",
       "│ mean       ┆ 63.151163 ┆ null       ┆ null      ┆ … ┆ 4201.75438 ┆ null ┆ null       ┆ 1.206395  │\n",
       "│            ┆           ┆            ┆           ┆   ┆ 6          ┆      ┆            ┆           │\n",
       "│ std        ┆ 40.430199 ┆ null       ┆ null      ┆ … ┆ 801.954536 ┆ null ┆ null       ┆ 0.687977  │\n",
       "│ min        ┆ 1.0       ┆ Adelie     ┆ Biscoe    ┆ … ┆ 2700.0     ┆ .    ┆ Adult not  ┆ 0.0       │\n",
       "│            ┆           ┆ Penguin    ┆           ┆   ┆            ┆      ┆ sampled.   ┆           │\n",
       "│            ┆           ┆ (Pygosceli ┆           ┆   ┆            ┆      ┆            ┆           │\n",
       "│            ┆           ┆ s ade…     ┆           ┆   ┆            ┆      ┆            ┆           │\n",
       "│ 25%        ┆ 29.0      ┆ null       ┆ null      ┆ … ┆ 3550.0     ┆ null ┆ null       ┆ 1.0       │\n",
       "│ 50%        ┆ 58.0      ┆ null       ┆ null      ┆ … ┆ 4050.0     ┆ null ┆ null       ┆ 1.0       │\n",
       "│ 75%        ┆ 95.0      ┆ null       ┆ null      ┆ … ┆ 4750.0     ┆ null ┆ null       ┆ 2.0       │\n",
       "│ max        ┆ 152.0     ┆ Gentoo     ┆ Torgersen ┆ … ┆ 6300.0     ┆ MALE ┆ Sexing     ┆ 2.0       │\n",
       "│            ┆           ┆ penguin    ┆           ┆   ┆            ┆      ┆ primers    ┆           │\n",
       "│            ┆           ┆ (Pygosceli ┆           ┆   ┆            ┆      ┆ did not    ┆           │\n",
       "│            ┆           ┆ s pap…     ┆           ┆   ┆            ┆      ┆ amplify…   ┆           │\n",
       "└────────────┴───────────┴────────────┴───────────┴───┴────────────┴──────┴────────────┴───────────┘"
      ]
     },
     "execution_count": 37,
     "metadata": {},
     "output_type": "execute_result"
    }
   ],
   "source": [
    "df.describe()"
   ]
  },
  {
   "cell_type": "code",
   "execution_count": 38,
   "metadata": {},
   "outputs": [],
   "source": [
    "class P07(pt.Model):\n",
    "    ID: int = pt.Field(unique=True)\n",
    "    Species: Literal['Gentoo penguin (Pygoscelis papua)', \n",
    "                     'Adelie Penguin (Pygoscelis adeliae)', \n",
    "                     'Chinstrap penguin (Pygoscelis antarctica)']\n",
    "    Island: Literal['Torgersen', 'Biscoe', 'Dream']\n",
    "    Clutch_Completion: Literal['Yes', 'No']\n",
    "    Culmen_Length: float\n",
    "    Culmen_Depth: float\n",
    "    Flipper_Length: int\n",
    "    Body_Mass: int = pt.Field(ge=2700, le=6300)\n",
    "    Sex: Literal['MALE', 'FEMALE']\n",
    "    Comments: Optional[str]\n",
    "    Island_Code: int"
   ]
  },
  {
   "cell_type": "code",
   "execution_count": 39,
   "metadata": {},
   "outputs": [
    {
     "name": "stdout",
     "output_type": "stream",
     "text": [
      "7 validation errors for P07\n",
      "Body_Mass\n",
      "  2 missing values (type=value_error.missingvalues)\n",
      "Flipper_Length\n",
      "  2 missing values (type=value_error.missingvalues)\n",
      "Culmen_Depth\n",
      "  2 missing values (type=value_error.missingvalues)\n",
      "Sex\n",
      "  10 missing values (type=value_error.missingvalues)\n",
      "Culmen_Length\n",
      "  2 missing values (type=value_error.missingvalues)\n",
      "ID\n",
      "  316 rows with duplicated values. (type=value_error.rowvalue)\n",
      "Sex\n",
      "  Rows with invalid values: {None, '.'}. (type=value_error.rowvalue)\n"
     ]
    }
   ],
   "source": [
    "val(P07, df)"
   ]
  },
  {
   "cell_type": "code",
   "execution_count": 40,
   "metadata": {},
   "outputs": [],
   "source": [
    "class P07_1(pt.Model):\n",
    "    ID: int = pt.Field(unique=True)\n",
    "    Species: Literal['Gentoo penguin (Pygoscelis papua)', \n",
    "                     'Adelie Penguin (Pygoscelis adeliae)', \n",
    "                     'Chinstrap penguin (Pygoscelis antarctica)']\n",
    "    Island: Literal['Torgersen', 'Biscoe', 'Dream']\n",
    "    Clutch_Completion: Literal['Yes', 'No']\n",
    "    Culmen_Length: float\n",
    "    Culmen_Depth: float\n",
    "    Flipper_Length: int\n",
    "    Body_Mass: int = pt.Field(gt=2700, lt=6300)\n",
    "    Sex: Literal['MALE', 'FEMALE']\n",
    "    Comments: Optional[str]\n",
    "    Island_Code: int"
   ]
  },
  {
   "cell_type": "code",
   "execution_count": 41,
   "metadata": {},
   "outputs": [
    {
     "name": "stdout",
     "output_type": "stream",
     "text": [
      "8 validation errors for P07_1\n",
      "Body_Mass\n",
      "  2 missing values (type=value_error.missingvalues)\n",
      "Flipper_Length\n",
      "  2 missing values (type=value_error.missingvalues)\n",
      "Culmen_Depth\n",
      "  2 missing values (type=value_error.missingvalues)\n",
      "Sex\n",
      "  10 missing values (type=value_error.missingvalues)\n",
      "Culmen_Length\n",
      "  2 missing values (type=value_error.missingvalues)\n",
      "ID\n",
      "  316 rows with duplicated values. (type=value_error.rowvalue)\n",
      "Body_Mass\n",
      "  2 rows with out of bound values. (type=value_error.rowvalue)\n",
      "Sex\n",
      "  Rows with invalid values: {None, '.'}. (type=value_error.rowvalue)\n"
     ]
    }
   ],
   "source": [
    "val(P07_1, df)"
   ]
  },
  {
   "cell_type": "markdown",
   "metadata": {},
   "source": [
    "# 8. 值為某個倍數"
   ]
  },
  {
   "cell_type": "code",
   "execution_count": 42,
   "metadata": {},
   "outputs": [],
   "source": [
    "class P08(pt.Model):\n",
    "    ID: int = pt.Field(unique=True)\n",
    "    Species: Literal['Gentoo penguin (Pygoscelis papua)', \n",
    "                     'Adelie Penguin (Pygoscelis adeliae)', \n",
    "                     'Chinstrap penguin (Pygoscelis antarctica)']\n",
    "    Island: Literal['Torgersen', 'Biscoe', 'Dream']\n",
    "    Clutch_Completion: Literal['Yes', 'No']\n",
    "    Culmen_Length: float\n",
    "    Culmen_Depth: float\n",
    "    Flipper_Length: int\n",
    "    Body_Mass: int = pt.Field(multiple_of=100)\n",
    "    Sex: Literal['MALE', 'FEMALE']\n",
    "    Comments: Optional[str]\n",
    "    Island_Code: int"
   ]
  },
  {
   "cell_type": "code",
   "execution_count": 43,
   "metadata": {},
   "outputs": [
    {
     "name": "stdout",
     "output_type": "stream",
     "text": [
      "8 validation errors for P08\n",
      "Body_Mass\n",
      "  2 missing values (type=value_error.missingvalues)\n",
      "Flipper_Length\n",
      "  2 missing values (type=value_error.missingvalues)\n",
      "Culmen_Depth\n",
      "  2 missing values (type=value_error.missingvalues)\n",
      "Sex\n",
      "  10 missing values (type=value_error.missingvalues)\n",
      "Culmen_Length\n",
      "  2 missing values (type=value_error.missingvalues)\n",
      "ID\n",
      "  316 rows with duplicated values. (type=value_error.rowvalue)\n",
      "Body_Mass\n",
      "  179 rows with out of bound values. (type=value_error.rowvalue)\n",
      "Sex\n",
      "  Rows with invalid values: {None, '.'}. (type=value_error.rowvalue)\n"
     ]
    }
   ],
   "source": [
    "val(P08, df)"
   ]
  },
  {
   "cell_type": "code",
   "execution_count": 44,
   "metadata": {},
   "outputs": [],
   "source": [
    "class P08_1(pt.Model):\n",
    "    ID: int = pt.Field(unique=True)\n",
    "    Species: Literal['Gentoo penguin (Pygoscelis papua)', \n",
    "                     'Adelie Penguin (Pygoscelis adeliae)', \n",
    "                     'Chinstrap penguin (Pygoscelis antarctica)']\n",
    "    Island: Literal['Torgersen', 'Biscoe', 'Dream']\n",
    "    Clutch_Completion: Literal['Yes', 'No']\n",
    "    Culmen_Length: float\n",
    "    Culmen_Depth: float\n",
    "    Flipper_Length: int\n",
    "    Body_Mass: int = pt.Field(multiple_of=5)\n",
    "    Sex: Literal['MALE', 'FEMALE']\n",
    "    Comments: Optional[str]\n",
    "    Island_Code: int"
   ]
  },
  {
   "cell_type": "code",
   "execution_count": 45,
   "metadata": {},
   "outputs": [
    {
     "name": "stdout",
     "output_type": "stream",
     "text": [
      "7 validation errors for P08_1\n",
      "Body_Mass\n",
      "  2 missing values (type=value_error.missingvalues)\n",
      "Flipper_Length\n",
      "  2 missing values (type=value_error.missingvalues)\n",
      "Culmen_Depth\n",
      "  2 missing values (type=value_error.missingvalues)\n",
      "Sex\n",
      "  10 missing values (type=value_error.missingvalues)\n",
      "Culmen_Length\n",
      "  2 missing values (type=value_error.missingvalues)\n",
      "ID\n",
      "  316 rows with duplicated values. (type=value_error.rowvalue)\n",
      "Sex\n",
      "  Rows with invalid values: {None, '.'}. (type=value_error.rowvalue)\n"
     ]
    }
   ],
   "source": [
    "val(P08_1, df)"
   ]
  },
  {
   "cell_type": "markdown",
   "metadata": {},
   "source": [
    "# 9. 值為常數"
   ]
  },
  {
   "cell_type": "code",
   "execution_count": 46,
   "metadata": {},
   "outputs": [
    {
     "data": {
      "text/plain": [
       "(336, 11)"
      ]
     },
     "execution_count": 46,
     "metadata": {},
     "output_type": "execute_result"
    }
   ],
   "source": [
    "df.filter(pl.col('Body_Mass')!=5000).shape"
   ]
  },
  {
   "cell_type": "code",
   "execution_count": 47,
   "metadata": {},
   "outputs": [],
   "source": [
    "class P09(pt.Model):\n",
    "    ID: int = pt.Field(unique=True)\n",
    "    Species: Literal['Gentoo penguin (Pygoscelis papua)', \n",
    "                     'Adelie Penguin (Pygoscelis adeliae)', \n",
    "                     'Chinstrap penguin (Pygoscelis antarctica)']\n",
    "    Island: Literal['Torgersen', 'Biscoe', 'Dream']\n",
    "    Clutch_Completion: Literal['Yes', 'No']\n",
    "    Culmen_Length: float\n",
    "    Culmen_Depth: float\n",
    "    Flipper_Length: int\n",
    "    Body_Mass: Literal[5000]\n",
    "    Sex: Literal['MALE', 'FEMALE']\n",
    "    Comments: Optional[str]\n",
    "    Island_Code: int"
   ]
  },
  {
   "cell_type": "code",
   "execution_count": 48,
   "metadata": {},
   "outputs": [
    {
     "name": "stdout",
     "output_type": "stream",
     "text": [
      "8 validation errors for P09\n",
      "Body_Mass\n",
      "  2 missing values (type=value_error.missingvalues)\n",
      "Flipper_Length\n",
      "  2 missing values (type=value_error.missingvalues)\n",
      "Culmen_Depth\n",
      "  2 missing values (type=value_error.missingvalues)\n",
      "Sex\n",
      "  10 missing values (type=value_error.missingvalues)\n",
      "Culmen_Length\n",
      "  2 missing values (type=value_error.missingvalues)\n",
      "ID\n",
      "  316 rows with duplicated values. (type=value_error.rowvalue)\n",
      "Body_Mass\n",
      "  336 rows with out of bound values. (type=value_error.rowvalue)\n",
      "Sex\n",
      "  Rows with invalid values: {None, '.'}. (type=value_error.rowvalue)\n"
     ]
    }
   ],
   "source": [
    "val(P09, df)"
   ]
  },
  {
   "cell_type": "markdown",
   "metadata": {},
   "source": [
    "# 10. 某個欄位加總為特定值"
   ]
  },
  {
   "cell_type": "code",
   "execution_count": 49,
   "metadata": {},
   "outputs": [
    {
     "data": {
      "text/html": [
       "<div><style>\n",
       ".dataframe > thead > tr,\n",
       ".dataframe > tbody > tr {\n",
       "  text-align: right;\n",
       "  white-space: pre-wrap;\n",
       "}\n",
       "</style>\n",
       "<small>shape: (1, 1)</small><table border=\"1\" class=\"dataframe\"><thead><tr><th>Body_Mass</th></tr><tr><td>i64</td></tr></thead><tbody><tr><td>1437000</td></tr></tbody></table></div>"
      ],
      "text/plain": [
       "shape: (1, 1)\n",
       "┌───────────┐\n",
       "│ Body_Mass │\n",
       "│ ---       │\n",
       "│ i64       │\n",
       "╞═══════════╡\n",
       "│ 1437000   │\n",
       "└───────────┘"
      ]
     },
     "execution_count": 49,
     "metadata": {},
     "output_type": "execute_result"
    }
   ],
   "source": [
    "df.select(pl.col('Body_Mass').sum())"
   ]
  },
  {
   "cell_type": "code",
   "execution_count": 50,
   "metadata": {},
   "outputs": [],
   "source": [
    "class P10(pt.Model):\n",
    "    ID: int = pt.Field(unique=True)\n",
    "    Species: Literal['Gentoo penguin (Pygoscelis papua)', \n",
    "                     'Adelie Penguin (Pygoscelis adeliae)', \n",
    "                     'Chinstrap penguin (Pygoscelis antarctica)']\n",
    "    Island: Literal['Torgersen', 'Biscoe', 'Dream']\n",
    "    Clutch_Completion: Literal['Yes', 'No']\n",
    "    Culmen_Length: float\n",
    "    Culmen_Depth: float\n",
    "    Flipper_Length: int\n",
    "    Body_Mass: int = pt.Field(constraints=pt.field.sum() == 1437000)\n",
    "    Sex: Literal['MALE', 'FEMALE']\n",
    "    Comments: Optional[str]\n",
    "    Island_Code: int"
   ]
  },
  {
   "cell_type": "code",
   "execution_count": 51,
   "metadata": {},
   "outputs": [
    {
     "name": "stdout",
     "output_type": "stream",
     "text": [
      "7 validation errors for P10\n",
      "Body_Mass\n",
      "  2 missing values (type=value_error.missingvalues)\n",
      "Flipper_Length\n",
      "  2 missing values (type=value_error.missingvalues)\n",
      "Culmen_Depth\n",
      "  2 missing values (type=value_error.missingvalues)\n",
      "Sex\n",
      "  10 missing values (type=value_error.missingvalues)\n",
      "Culmen_Length\n",
      "  2 missing values (type=value_error.missingvalues)\n",
      "ID\n",
      "  316 rows with duplicated values. (type=value_error.rowvalue)\n",
      "Sex\n",
      "  Rows with invalid values: {None, '.'}. (type=value_error.rowvalue)\n"
     ]
    }
   ],
   "source": [
    "val(P10, df)"
   ]
  },
  {
   "cell_type": "code",
   "execution_count": 52,
   "metadata": {},
   "outputs": [],
   "source": [
    "# pt.field is an alias for the field column and is automatically replaced with polars.col(\"Body_Mass\") before validation\n",
    "\n",
    "class P10_1(pt.Model):\n",
    "    ID: int = pt.Field(unique=True)\n",
    "    Species: Literal['Gentoo penguin (Pygoscelis papua)', \n",
    "                     'Adelie Penguin (Pygoscelis adeliae)', \n",
    "                     'Chinstrap penguin (Pygoscelis antarctica)']\n",
    "    Island: Literal['Torgersen', 'Biscoe', 'Dream']\n",
    "    Clutch_Completion: Literal['Yes', 'No']\n",
    "    Culmen_Length: float\n",
    "    Culmen_Depth: float\n",
    "    Flipper_Length: int\n",
    "    Body_Mass: int = pt.Field(constraints=pt.field.sum() == 1400000)\n",
    "    Sex: Literal['MALE', 'FEMALE']\n",
    "    Comments: Optional[str]\n",
    "    Island_Code: int"
   ]
  },
  {
   "cell_type": "code",
   "execution_count": 53,
   "metadata": {},
   "outputs": [
    {
     "name": "stdout",
     "output_type": "stream",
     "text": [
      "8 validation errors for P10_1\n",
      "Body_Mass\n",
      "  2 missing values (type=value_error.missingvalues)\n",
      "Flipper_Length\n",
      "  2 missing values (type=value_error.missingvalues)\n",
      "Culmen_Depth\n",
      "  2 missing values (type=value_error.missingvalues)\n",
      "Sex\n",
      "  10 missing values (type=value_error.missingvalues)\n",
      "Culmen_Length\n",
      "  2 missing values (type=value_error.missingvalues)\n",
      "ID\n",
      "  316 rows with duplicated values. (type=value_error.rowvalue)\n",
      "Body_Mass\n",
      "  344 rows does not match custom constraints. (type=value_error.rowvalue)\n",
      "Sex\n",
      "  Rows with invalid values: {None, '.'}. (type=value_error.rowvalue)\n"
     ]
    }
   ],
   "source": [
    "val(P10_1, df)"
   ]
  },
  {
   "cell_type": "markdown",
   "metadata": {},
   "source": [
    "# 11. 欄位之間的關係"
   ]
  },
  {
   "cell_type": "code",
   "execution_count": 55,
   "metadata": {},
   "outputs": [],
   "source": [
    "class P11(pt.Model):\n",
    "    ID: int = pt.Field(unique=True)\n",
    "    Species: Literal['Gentoo penguin (Pygoscelis papua)', \n",
    "                     'Adelie Penguin (Pygoscelis adeliae)', \n",
    "                     'Chinstrap penguin (Pygoscelis antarctica)']\n",
    "    Island: Literal['Torgersen', 'Biscoe', 'Dream']\n",
    "    Clutch_Completion: Literal['Yes', 'No']\n",
    "    Culmen_Length: float = pt.Field(constraints=pl.col('Culmen_Length') > pl.col('Culmen_Depth'))\n",
    "    Culmen_Depth: float\n",
    "    Flipper_Length: int\n",
    "    Body_Mass: int\n",
    "    Sex: Literal['MALE', 'FEMALE']\n",
    "    Comments: Optional[str]\n",
    "    Island_Code: int"
   ]
  },
  {
   "cell_type": "code",
   "execution_count": 56,
   "metadata": {},
   "outputs": [
    {
     "name": "stdout",
     "output_type": "stream",
     "text": [
      "8 validation errors for P11\n",
      "Body_Mass\n",
      "  2 missing values (type=value_error.missingvalues)\n",
      "Flipper_Length\n",
      "  2 missing values (type=value_error.missingvalues)\n",
      "Culmen_Depth\n",
      "  2 missing values (type=value_error.missingvalues)\n",
      "Sex\n",
      "  10 missing values (type=value_error.missingvalues)\n",
      "Culmen_Length\n",
      "  2 missing values (type=value_error.missingvalues)\n",
      "ID\n",
      "  316 rows with duplicated values. (type=value_error.rowvalue)\n",
      "Culmen_Length\n",
      "  1 row does not match custom constraints. (type=value_error.rowvalue)\n",
      "Sex\n",
      "  Rows with invalid values: {None, '.'}. (type=value_error.rowvalue)\n"
     ]
    }
   ],
   "source": [
    "val(P11, df)"
   ]
  },
  {
   "cell_type": "code",
   "execution_count": 57,
   "metadata": {},
   "outputs": [
    {
     "data": {
      "text/html": [
       "<div><style>\n",
       ".dataframe > thead > tr,\n",
       ".dataframe > tbody > tr {\n",
       "  text-align: right;\n",
       "  white-space: pre-wrap;\n",
       "}\n",
       "</style>\n",
       "<small>shape: (1, 11)</small><table border=\"1\" class=\"dataframe\"><thead><tr><th>ID</th><th>Species</th><th>Island</th><th>Clutch_Completion</th><th>Culmen_Length</th><th>Culmen_Depth</th><th>Flipper_Length</th><th>Body_Mass</th><th>Sex</th><th>Comments</th><th>Island_Code</th></tr><tr><td>i64</td><td>str</td><td>str</td><td>str</td><td>f64</td><td>f64</td><td>i64</td><td>i64</td><td>str</td><td>str</td><td>i64</td></tr></thead><tbody><tr><td>11</td><td>&quot;Adelie Penguin (Pygoscelis ade…</td><td>&quot;Torgersen&quot;</td><td>&quot;Yes&quot;</td><td>4.1</td><td>17.1</td><td>186</td><td>3300</td><td>null</td><td>&quot;No blood sample obtained for s…</td><td>0</td></tr></tbody></table></div>"
      ],
      "text/plain": [
       "shape: (1, 11)\n",
       "┌─────┬────────────────┬───────────┬───────────────┬───┬───────────┬──────┬──────────┬─────────────┐\n",
       "│ ID  ┆ Species        ┆ Island    ┆ Clutch_Comple ┆ … ┆ Body_Mass ┆ Sex  ┆ Comments ┆ Island_Code │\n",
       "│ --- ┆ ---            ┆ ---       ┆ tion          ┆   ┆ ---       ┆ ---  ┆ ---      ┆ ---         │\n",
       "│ i64 ┆ str            ┆ str       ┆ ---           ┆   ┆ i64       ┆ str  ┆ str      ┆ i64         │\n",
       "│     ┆                ┆           ┆ str           ┆   ┆           ┆      ┆          ┆             │\n",
       "╞═════╪════════════════╪═══════════╪═══════════════╪═══╪═══════════╪══════╪══════════╪═════════════╡\n",
       "│ 11  ┆ Adelie Penguin ┆ Torgersen ┆ Yes           ┆ … ┆ 3300      ┆ null ┆ No blood ┆ 0           │\n",
       "│     ┆ (Pygoscelis    ┆           ┆               ┆   ┆           ┆      ┆ sample   ┆             │\n",
       "│     ┆ ade…           ┆           ┆               ┆   ┆           ┆      ┆ obtained ┆             │\n",
       "│     ┆                ┆           ┆               ┆   ┆           ┆      ┆ for s…   ┆             │\n",
       "└─────┴────────────────┴───────────┴───────────────┴───┴───────────┴──────┴──────────┴─────────────┘"
      ]
     },
     "execution_count": 57,
     "metadata": {},
     "output_type": "execute_result"
    }
   ],
   "source": [
    "df.filter(~(pl.col('Culmen_Length') > pl.col('Culmen_Depth'))).select(pl.all())"
   ]
  },
  {
   "cell_type": "markdown",
   "metadata": {},
   "source": [
    "# 12. 條件關係"
   ]
  },
  {
   "cell_type": "code",
   "execution_count": 58,
   "metadata": {},
   "outputs": [],
   "source": [
    "class P12(pt.Model):\n",
    "    ID: int = pt.Field(unique=True)\n",
    "    Species: Literal['Gentoo penguin (Pygoscelis papua)', \n",
    "                     'Adelie Penguin (Pygoscelis adeliae)', \n",
    "                     'Chinstrap penguin (Pygoscelis antarctica)']\n",
    "    Island: Literal['Torgersen', 'Biscoe', 'Dream']\n",
    "    Clutch_Completion: Literal['Yes', 'No']\n",
    "    Culmen_Length: float = pt.Field(constraints=pl.col('Culmen_Length') > pl.col('Culmen_Depth'))\n",
    "    Culmen_Depth: float\n",
    "    Flipper_Length: int\n",
    "    Body_Mass: int\n",
    "    Sex: Literal['MALE', 'FEMALE']\n",
    "    Comments: Optional[str]\n",
    "    Island_Code: int = pt.Field(constraints=pl.when(pl.col('Island')=='Torgersen')\n",
    "                                             .then(pt.field == 0)\n",
    "                                             .when(pl.col('Island')=='Biscoe')\n",
    "                                             .then(pt.field == 1).otherwise(pt.field == 2))"
   ]
  },
  {
   "cell_type": "code",
   "execution_count": 59,
   "metadata": {},
   "outputs": [
    {
     "name": "stdout",
     "output_type": "stream",
     "text": [
      "9 validation errors for P12\n",
      "Body_Mass\n",
      "  2 missing values (type=value_error.missingvalues)\n",
      "Flipper_Length\n",
      "  2 missing values (type=value_error.missingvalues)\n",
      "Culmen_Depth\n",
      "  2 missing values (type=value_error.missingvalues)\n",
      "Sex\n",
      "  10 missing values (type=value_error.missingvalues)\n",
      "Culmen_Length\n",
      "  2 missing values (type=value_error.missingvalues)\n",
      "ID\n",
      "  316 rows with duplicated values. (type=value_error.rowvalue)\n",
      "Culmen_Length\n",
      "  1 row does not match custom constraints. (type=value_error.rowvalue)\n",
      "Sex\n",
      "  Rows with invalid values: {None, '.'}. (type=value_error.rowvalue)\n",
      "Island_Code\n",
      "  1 row does not match custom constraints. (type=value_error.rowvalue)\n"
     ]
    }
   ],
   "source": [
    "val(P12, df)"
   ]
  },
  {
   "cell_type": "code",
   "execution_count": 61,
   "metadata": {},
   "outputs": [
    {
     "data": {
      "text/html": [
       "<div><style>\n",
       ".dataframe > thead > tr,\n",
       ".dataframe > tbody > tr {\n",
       "  text-align: right;\n",
       "  white-space: pre-wrap;\n",
       "}\n",
       "</style>\n",
       "<small>shape: (1, 11)</small><table border=\"1\" class=\"dataframe\"><thead><tr><th>ID</th><th>Species</th><th>Island</th><th>Clutch_Completion</th><th>Culmen_Length</th><th>Culmen_Depth</th><th>Flipper_Length</th><th>Body_Mass</th><th>Sex</th><th>Comments</th><th>Island_Code</th></tr><tr><td>i64</td><td>str</td><td>str</td><td>str</td><td>f64</td><td>f64</td><td>i64</td><td>i64</td><td>str</td><td>str</td><td>i64</td></tr></thead><tbody><tr><td>29</td><td>&quot;Adelie Penguin (Pygoscelis ade…</td><td>&quot;Biscoe&quot;</td><td>&quot;No&quot;</td><td>37.9</td><td>18.6</td><td>172</td><td>3150</td><td>&quot;FEMALE&quot;</td><td>&quot;Nest never observed with full …</td><td>0</td></tr></tbody></table></div>"
      ],
      "text/plain": [
       "shape: (1, 11)\n",
       "┌─────┬──────────────┬────────┬──────────────┬───┬───────────┬────────┬──────────────┬─────────────┐\n",
       "│ ID  ┆ Species      ┆ Island ┆ Clutch_Compl ┆ … ┆ Body_Mass ┆ Sex    ┆ Comments     ┆ Island_Code │\n",
       "│ --- ┆ ---          ┆ ---    ┆ etion        ┆   ┆ ---       ┆ ---    ┆ ---          ┆ ---         │\n",
       "│ i64 ┆ str          ┆ str    ┆ ---          ┆   ┆ i64       ┆ str    ┆ str          ┆ i64         │\n",
       "│     ┆              ┆        ┆ str          ┆   ┆           ┆        ┆              ┆             │\n",
       "╞═════╪══════════════╪════════╪══════════════╪═══╪═══════════╪════════╪══════════════╪═════════════╡\n",
       "│ 29  ┆ Adelie       ┆ Biscoe ┆ No           ┆ … ┆ 3150      ┆ FEMALE ┆ Nest never   ┆ 0           │\n",
       "│     ┆ Penguin      ┆        ┆              ┆   ┆           ┆        ┆ observed     ┆             │\n",
       "│     ┆ (Pygoscelis  ┆        ┆              ┆   ┆           ┆        ┆ with full …  ┆             │\n",
       "│     ┆ ade…         ┆        ┆              ┆   ┆           ┆        ┆              ┆             │\n",
       "└─────┴──────────────┴────────┴──────────────┴───┴───────────┴────────┴──────────────┴─────────────┘"
      ]
     },
     "execution_count": 61,
     "metadata": {},
     "output_type": "execute_result"
    }
   ],
   "source": [
    "df.filter(~(pl.when(pl.col('Island')=='Torgersen')\n",
    "            .then(pl.col('Island_Code') == 0)\n",
    "            .when(pl.col('Island')=='Biscoe')\n",
    "            .then(pl.col('Island_Code') == 1)\n",
    "            .otherwise(pl.col('Island_Code') == 2)))\\\n",
    "    .select(pl.all())"
   ]
  },
  {
   "cell_type": "markdown",
   "metadata": {},
   "source": [
    "# 13. 多重關係"
   ]
  },
  {
   "cell_type": "code",
   "execution_count": 62,
   "metadata": {},
   "outputs": [],
   "source": [
    "class P13(pt.Model):\n",
    "    ID: int = pt.Field(unique=True)\n",
    "    Species: Literal['Gentoo penguin (Pygoscelis papua)', \n",
    "                     'Adelie Penguin (Pygoscelis adeliae)', \n",
    "                     'Chinstrap penguin (Pygoscelis antarctica)']\n",
    "    Island: Literal['Torgersen', 'Biscoe', 'Dream']\n",
    "    Clutch_Completion: Literal['Yes', 'No']\n",
    "    Culmen_Length: float = pt.Field(constraints=[pl.col('Culmen_Length') > pl.col('Culmen_Depth'),\n",
    "                                                 pl.col('Body_Mass') > pl.col('Culmen_Length')])\n",
    "    Culmen_Depth: float\n",
    "    Flipper_Length: int\n",
    "    Body_Mass: int\n",
    "    Sex: Literal['MALE', 'FEMALE']\n",
    "    Comments: Optional[str]\n",
    "    Island_Code: int"
   ]
  },
  {
   "cell_type": "code",
   "execution_count": 63,
   "metadata": {},
   "outputs": [
    {
     "name": "stdout",
     "output_type": "stream",
     "text": [
      "8 validation errors for P13\n",
      "Body_Mass\n",
      "  2 missing values (type=value_error.missingvalues)\n",
      "Flipper_Length\n",
      "  2 missing values (type=value_error.missingvalues)\n",
      "Culmen_Depth\n",
      "  2 missing values (type=value_error.missingvalues)\n",
      "Sex\n",
      "  10 missing values (type=value_error.missingvalues)\n",
      "Culmen_Length\n",
      "  2 missing values (type=value_error.missingvalues)\n",
      "ID\n",
      "  316 rows with duplicated values. (type=value_error.rowvalue)\n",
      "Culmen_Length\n",
      "  3 rows does not match custom constraints. (type=value_error.rowvalue)\n",
      "Sex\n",
      "  Rows with invalid values: {None, '.'}. (type=value_error.rowvalue)\n"
     ]
    }
   ],
   "source": [
    "val(P13, df)"
   ]
  },
  {
   "cell_type": "code",
   "execution_count": 65,
   "metadata": {},
   "outputs": [
    {
     "data": {
      "text/html": [
       "<div><style>\n",
       ".dataframe > thead > tr,\n",
       ".dataframe > tbody > tr {\n",
       "  text-align: right;\n",
       "  white-space: pre-wrap;\n",
       "}\n",
       "</style>\n",
       "<small>shape: (3, 11)</small><table border=\"1\" class=\"dataframe\"><thead><tr><th>ID</th><th>Species</th><th>Island</th><th>Clutch_Completion</th><th>Culmen_Length</th><th>Culmen_Depth</th><th>Flipper_Length</th><th>Body_Mass</th><th>Sex</th><th>Comments</th><th>Island_Code</th></tr><tr><td>i64</td><td>str</td><td>str</td><td>str</td><td>f64</td><td>f64</td><td>i64</td><td>i64</td><td>str</td><td>str</td><td>i64</td></tr></thead><tbody><tr><td>11</td><td>&quot;Adelie Penguin (Pygoscelis ade…</td><td>&quot;Torgersen&quot;</td><td>&quot;Yes&quot;</td><td>4.1</td><td>17.1</td><td>186</td><td>3300</td><td>null</td><td>&quot;No blood sample obtained for s…</td><td>0</td></tr><tr><td>108</td><td>&quot;Adelie Penguin (Pygoscelis ade…</td><td>&quot;Biscoe&quot;</td><td>&quot;Yes&quot;</td><td>3910.0</td><td>20.0</td><td>190</td><td>3900</td><td>&quot;MALE&quot;</td><td>null</td><td>1</td></tr><tr><td>105</td><td>&quot;Gentoo penguin (Pygoscelis pap…</td><td>&quot;Biscoe&quot;</td><td>&quot;Yes&quot;</td><td>4730.0</td><td>13.8</td><td>216</td><td>4725</td><td>null</td><td>null</td><td>1</td></tr></tbody></table></div>"
      ],
      "text/plain": [
       "shape: (3, 11)\n",
       "┌─────┬────────────────┬───────────┬───────────────┬───┬───────────┬──────┬──────────┬─────────────┐\n",
       "│ ID  ┆ Species        ┆ Island    ┆ Clutch_Comple ┆ … ┆ Body_Mass ┆ Sex  ┆ Comments ┆ Island_Code │\n",
       "│ --- ┆ ---            ┆ ---       ┆ tion          ┆   ┆ ---       ┆ ---  ┆ ---      ┆ ---         │\n",
       "│ i64 ┆ str            ┆ str       ┆ ---           ┆   ┆ i64       ┆ str  ┆ str      ┆ i64         │\n",
       "│     ┆                ┆           ┆ str           ┆   ┆           ┆      ┆          ┆             │\n",
       "╞═════╪════════════════╪═══════════╪═══════════════╪═══╪═══════════╪══════╪══════════╪═════════════╡\n",
       "│ 11  ┆ Adelie Penguin ┆ Torgersen ┆ Yes           ┆ … ┆ 3300      ┆ null ┆ No blood ┆ 0           │\n",
       "│     ┆ (Pygoscelis    ┆           ┆               ┆   ┆           ┆      ┆ sample   ┆             │\n",
       "│     ┆ ade…           ┆           ┆               ┆   ┆           ┆      ┆ obtained ┆             │\n",
       "│     ┆                ┆           ┆               ┆   ┆           ┆      ┆ for s…   ┆             │\n",
       "│ 108 ┆ Adelie Penguin ┆ Biscoe    ┆ Yes           ┆ … ┆ 3900      ┆ MALE ┆ null     ┆ 1           │\n",
       "│     ┆ (Pygoscelis    ┆           ┆               ┆   ┆           ┆      ┆          ┆             │\n",
       "│     ┆ ade…           ┆           ┆               ┆   ┆           ┆      ┆          ┆             │\n",
       "│ 105 ┆ Gentoo penguin ┆ Biscoe    ┆ Yes           ┆ … ┆ 4725      ┆ null ┆ null     ┆ 1           │\n",
       "│     ┆ (Pygoscelis    ┆           ┆               ┆   ┆           ┆      ┆          ┆             │\n",
       "│     ┆ pap…           ┆           ┆               ┆   ┆           ┆      ┆          ┆             │\n",
       "└─────┴────────────────┴───────────┴───────────────┴───┴───────────┴──────┴──────────┴─────────────┘"
      ]
     },
     "execution_count": 65,
     "metadata": {},
     "output_type": "execute_result"
    }
   ],
   "source": [
    "df.filter(~((pl.col('Culmen_Length') > pl.col('Culmen_Depth')) & (pl.col('Body_Mass') > pl.col('Culmen_Length'))))\\\n",
    "    .select(pl.all())"
   ]
  }
 ],
 "metadata": {
  "kernelspec": {
   "display_name": "data_valid",
   "language": "python",
   "name": "python3"
  },
  "language_info": {
   "codemirror_mode": {
    "name": "ipython",
    "version": 3
   },
   "file_extension": ".py",
   "mimetype": "text/x-python",
   "name": "python",
   "nbconvert_exporter": "python",
   "pygments_lexer": "ipython3",
   "version": "3.12.8"
  }
 },
 "nbformat": 4,
 "nbformat_minor": 2
}
