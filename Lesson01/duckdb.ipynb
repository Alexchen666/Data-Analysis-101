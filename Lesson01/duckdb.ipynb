{
 "cells": [
  {
   "cell_type": "markdown",
   "metadata": {},
   "source": [
    "# Data Analysis 101 - DuckDB\n",
    "\n",
    "Alex Chen\n",
    "\n",
    "Source:\n",
    "\n",
    "https://github.com/allisonhorst/palmerpenguins/tree/main\n",
    "\n",
    "https://www.kaggle.com/datasets/parulpandey/palmer-archipelago-antarctica-penguin-data\n",
    "\n",
    "Gorman KB, Williams TD, Fraser WR (2014). Ecological sexual dimorphism and environmental variability within a community of Antarctic penguins (genus Pygoscelis). PLoS ONE 9(3):e90081. https://doi.org/10.1371/journal.pone.0090081\n",
    "\n",
    "---\n",
    "\n",
    "在此教學中，我們會利用一公開資料集來進行基礎的資料分析。這個資料集是一個關於三種企鵝的觀察資料。\n",
    "\n",
    "本文共分為九個段落，分別對應到資料處理過程中常見的九種情境。透過這份教學，預期你可以學會如何在 Python 中操作強大的資料庫系統 `duckdb` 進行資料處理，以解決常見的實務問題。\n",
    "\n",
    "接下來，就開始我們的資料分析之旅！\n",
    "\n",
    "![Penguins](https://github.com/allisonhorst/palmerpenguins/blob/main/man/figures/lter_penguins.png?raw=true)\n",
    "\n",
    "Artwork by @allison_horst"
   ]
  },
  {
   "cell_type": "markdown",
   "metadata": {},
   "source": [
    "首先，我們需要匯入此專案中需要的套件：\n",
    "\n",
    "* `duckdb`: 資料庫\n",
    "* `pandas`: 內含 Python 常見的資料表型態\n",
    "* `matplotlib`: 資料視覺化\n",
    "* `seaborn`: 資料視覺化（進階）\n",
    "\n",
    "在下方程式碼中，`as` 是用來幫套件取別稱。如此一來，在接下來的程式碼中，若需要用到套件時，就不需要輸入全名，例如需要用到 `pandas` 時，只需要輸入 `pd` 就可以了。"
   ]
  },
  {
   "cell_type": "code",
   "execution_count": 1,
   "metadata": {},
   "outputs": [],
   "source": [
    "%matplotlib inline\n",
    "import duckdb\n",
    "import pandas as pd\n",
    "import matplotlib.pyplot as plt\n",
    "import seaborn as sns\n",
    "\n",
    "plt.style.use('seaborn-v0_8-darkgrid')"
   ]
  },
  {
   "cell_type": "markdown",
   "metadata": {},
   "source": [
    "下方程式碼是如果需要在視覺化中加入中文時，需要使用的額外控制。"
   ]
  },
  {
   "cell_type": "code",
   "execution_count": 2,
   "metadata": {},
   "outputs": [],
   "source": [
    "import matplotlib.font_manager as fm\n",
    "fm.fontManager.addfont('../Supplements/NotoSansTC-VariableFont_wght.ttf')\n",
    "plt.rcParams['font.sans-serif'] =  ['Noto Sans TC']\n",
    "plt.rcParams['axes.unicode_minus']=False # 用來正常顯示負號"
   ]
  },
  {
   "cell_type": "markdown",
   "metadata": {},
   "source": [
    "基本上，DuckDB 的指令都與 SQL 指令相同，只是在 Python 的環境使用時，需要透過 `duckdb.sql()` 來進行呼叫，執行這些指令。SQL 語法相當直覺，隨著課程進行，你將會認識更多不同的語法。"
   ]
  },
  {
   "cell_type": "markdown",
   "metadata": {},
   "source": [
    "# 1. 讀入資料\n",
    "\n",
    "在進行資料分析前，最一開始一定要把資料讀取到執行環境中，才可以發揮套件的功能。`duckdb` 支援所有常見的資料格式，包括 `.csv`, `.xlsx` 等。\n",
    "\n",
    "我們可以將資料利用 `CREATE TABLE` 的語法存入 `duckdb` 的資料庫內，方便我們進行後續分析。\n",
    "\n",
    "其中 `CREATE OR REPLACE TABLE df1 AS` 代表如果 `df1` 這張表不存在的話，就直接依照後列規則創建這張表，但如果已經存在，則直接覆蓋。而 `SELECT * FROM 'penguins_info.csv'` 代表從 `penguins_info.csv` 這張表中選取所有的欄位。`*` 代表「所有」的意思。`SELECT` 後面會接需要回傳的欄位，而 `FROM` 會接表的名稱。\n",
    "\n",
    "注意引號的差異：在 Python 中，若是單行的內容，使用單引號 (`'`) 或雙引號 (`\"`) 都是可以的。若是多行的內容，則需使用三個雙引號 (`\"\"\"`) 包括住指令。"
   ]
  },
  {
   "cell_type": "code",
   "execution_count": 3,
   "metadata": {},
   "outputs": [],
   "source": [
    "duckdb.sql(\"\"\"\n",
    "           INSTALL spatial;\n",
    "           LOAD spatial;\n",
    "           \"\"\") # 支援 Excel"
   ]
  },
  {
   "cell_type": "code",
   "execution_count": 4,
   "metadata": {},
   "outputs": [],
   "source": [
    "duckdb.sql(\"\"\"\n",
    "           CREATE OR REPLACE TABLE df1 AS\n",
    "           SELECT * FROM '../Tutorial_Data/penguins_info.csv';\n",
    "           \"\"\")"
   ]
  },
  {
   "cell_type": "code",
   "execution_count": 5,
   "metadata": {},
   "outputs": [],
   "source": [
    "duckdb.sql(\"\"\"\n",
    "           CREATE OR REPLACE TABLE df2 AS\n",
    "           SELECT * FROM st_read('../Tutorial_Data/penguins_measurements.xlsx');\n",
    "           \"\"\") # 匯入 Excel 檔案"
   ]
  },
  {
   "cell_type": "code",
   "execution_count": 6,
   "metadata": {},
   "outputs": [
    {
     "data": {
      "text/plain": [
       "┌──────────┬─────────┬─────────┬─────────────────────────────────────────────────────────────────────────────────┬─────────────────────────────────────────────┬───────────┐\n",
       "│ database │ schema  │  name   │                                  column_names                                   │                column_types                 │ temporary │\n",
       "│ varchar  │ varchar │ varchar │                                    varchar[]                                    │                  varchar[]                  │  boolean  │\n",
       "├──────────┼─────────┼─────────┼─────────────────────────────────────────────────────────────────────────────────┼─────────────────────────────────────────────┼───────────┤\n",
       "│ memory   │ main    │ df1     │ [ID, Species, Island, Sex]                                                      │ [BIGINT, VARCHAR, VARCHAR, VARCHAR]         │ false     │\n",
       "│ memory   │ main    │ df2     │ [ID, Culmen Length (mm), Culmen Depth (mm), Flipper Length (mm), Body Mass (g)] │ [INTEGER, DOUBLE, DOUBLE, INTEGER, INTEGER] │ false     │\n",
       "└──────────┴─────────┴─────────┴─────────────────────────────────────────────────────────────────────────────────┴─────────────────────────────────────────────┴───────────┘"
      ]
     },
     "execution_count": 6,
     "metadata": {},
     "output_type": "execute_result"
    }
   ],
   "source": [
    "duckdb.sql('SHOW ALL TABLES;') # 顯示資料表"
   ]
  },
  {
   "cell_type": "markdown",
   "metadata": {},
   "source": [
    "# 2. 資料概覽\n",
    "\n",
    "讀入資料後，我們來看一看讀入的資料究竟長什麼樣子，以及藉由一些語法，帶我們了解資料集的樣態。\n",
    "\n",
    "基本的 SQL 指令如下：\n",
    "\n",
    "```sql\n",
    "SELECT 要選取的欄位\n",
    "FROM 資料表\n",
    "WHERE 條件\n",
    "GROUP BY 聚合欄位\n",
    "HAVING 聚合後條件\n",
    "ORDER BY 排序欄位\n",
    "LIMIT 限制顯示數目;\n",
    "```"
   ]
  },
  {
   "cell_type": "code",
   "execution_count": 7,
   "metadata": {},
   "outputs": [
    {
     "data": {
      "text/plain": [
       "┌───────┬────────────────┬───────────┬─────────┐\n",
       "│  ID   │    Species     │  Island   │   Sex   │\n",
       "│ int64 │    varchar     │  varchar  │ varchar │\n",
       "├───────┼────────────────┼───────────┼─────────┤\n",
       "│     1 │ Adelie Penguin │ Torgersen │ MALE    │\n",
       "│     2 │ Adelie Penguin │ Torgersen │ FEMALE  │\n",
       "│     3 │ Adelie Penguin │ Torgersen │ FEMALE  │\n",
       "│     4 │ Adelie Penguin │ Torgersen │ NULL    │\n",
       "│     5 │ Adelie Penguin │ Torgersen │ FEMALE  │\n",
       "│     6 │ Adelie Penguin │ Torgersen │ MALE    │\n",
       "│     7 │ Adelie Penguin │ Torgersen │ FEMALE  │\n",
       "│     8 │ Adelie Penguin │ Torgersen │ MALE    │\n",
       "│     9 │ Adelie Penguin │ Torgersen │ NULL    │\n",
       "│    10 │ Adelie Penguin │ Torgersen │ NULL    │\n",
       "│     · │       ·        │   ·       │  ·      │\n",
       "│     · │       ·        │   ·       │  ·      │\n",
       "│     · │       ·        │   ·       │  ·      │\n",
       "│   335 │ Gentoo Penguin │ Biscoe    │ FEMALE  │\n",
       "│   336 │ Gentoo Penguin │ Biscoe    │ MALE    │\n",
       "│   337 │ Gentoo Penguin │ Biscoe    │ .       │\n",
       "│   338 │ Gentoo Penguin │ Biscoe    │ MALE    │\n",
       "│   339 │ Gentoo Penguin │ Biscoe    │ FEMALE  │\n",
       "│   340 │ Gentoo Penguin │ Biscoe    │ NULL    │\n",
       "│   341 │ Gentoo Penguin │ Biscoe    │ FEMALE  │\n",
       "│   342 │ Gentoo Penguin │ Biscoe    │ MALE    │\n",
       "│   343 │ Gentoo Penguin │ Biscoe    │ FEMALE  │\n",
       "│   344 │ Gentoo Penguin │ Biscoe    │ MALE    │\n",
       "├───────┴────────────────┴───────────┴─────────┤\n",
       "│ 344 rows (20 shown)                4 columns │\n",
       "└──────────────────────────────────────────────┘"
      ]
     },
     "execution_count": 7,
     "metadata": {},
     "output_type": "execute_result"
    }
   ],
   "source": [
    "duckdb.sql(\"\"\"\n",
    "           SELECT * \n",
    "           FROM df1;\n",
    "           \"\"\") # 顯示 df1 資料表"
   ]
  },
  {
   "cell_type": "code",
   "execution_count": 8,
   "metadata": {},
   "outputs": [
    {
     "data": {
      "text/plain": [
       "┌───────┬────────────────┬───────────┬─────────┐\n",
       "│  ID   │    Species     │  Island   │   Sex   │\n",
       "│ int64 │    varchar     │  varchar  │ varchar │\n",
       "├───────┼────────────────┼───────────┼─────────┤\n",
       "│     1 │ Adelie Penguin │ Torgersen │ MALE    │\n",
       "│     2 │ Adelie Penguin │ Torgersen │ FEMALE  │\n",
       "│     3 │ Adelie Penguin │ Torgersen │ FEMALE  │\n",
       "│     4 │ Adelie Penguin │ Torgersen │ NULL    │\n",
       "│     5 │ Adelie Penguin │ Torgersen │ FEMALE  │\n",
       "└───────┴────────────────┴───────────┴─────────┘"
      ]
     },
     "execution_count": 8,
     "metadata": {},
     "output_type": "execute_result"
    }
   ],
   "source": [
    "duckdb.sql('SELECT * FROM df1 LIMIT 5;') # 顯示 df1 前 5 筆資料"
   ]
  },
  {
   "cell_type": "code",
   "execution_count": 9,
   "metadata": {},
   "outputs": [
    {
     "data": {
      "text/plain": [
       "┌───────┐\n",
       "│ 筆數  │\n",
       "│ int64 │\n",
       "├───────┤\n",
       "│   344 │\n",
       "└───────┘"
      ]
     },
     "execution_count": 9,
     "metadata": {},
     "output_type": "execute_result"
    }
   ],
   "source": [
    "duckdb.sql(\"\"\"\n",
    "           SELECT COUNT(*) AS 筆數\n",
    "           FROM df1;\n",
    "           \"\"\") # 計算 df1 資料表筆數"
   ]
  },
  {
   "cell_type": "code",
   "execution_count": 10,
   "metadata": {},
   "outputs": [
    {
     "data": {
      "text/plain": [
       "┌───────┐\n",
       "│ 欄數  │\n",
       "│ int64 │\n",
       "├───────┤\n",
       "│     4 │\n",
       "└───────┘"
      ]
     },
     "execution_count": 10,
     "metadata": {},
     "output_type": "execute_result"
    }
   ],
   "source": [
    "duckdb.sql(\"\"\"\n",
    "           SELECT COUNT(*) AS 欄數\n",
    "           FROM INFORMATION_SCHEMA.COLUMNS\n",
    "           WHERE TABLE_NAME = 'df1';\n",
    "           \"\"\") # 計算 df1 資料表欄數"
   ]
  },
  {
   "cell_type": "code",
   "execution_count": 11,
   "metadata": {},
   "outputs": [
    {
     "data": {
      "text/plain": [
       "┌──────────┐\n",
       "│ 欄位名稱 │\n",
       "│ varchar  │\n",
       "├──────────┤\n",
       "│ ID       │\n",
       "│ Species  │\n",
       "│ Island   │\n",
       "│ Sex      │\n",
       "└──────────┘"
      ]
     },
     "execution_count": 11,
     "metadata": {},
     "output_type": "execute_result"
    }
   ],
   "source": [
    "duckdb.sql(\"\"\"\n",
    "           SELECT column_name AS 欄位名稱\n",
    "           FROM INFORMATION_SCHEMA.COLUMNS\n",
    "           WHERE TABLE_NAME = 'df1';\n",
    "           \"\"\") # 顯示 df1 資料表欄位名稱"
   ]
  },
  {
   "cell_type": "code",
   "execution_count": 12,
   "metadata": {},
   "outputs": [
    {
     "data": {
      "text/plain": [
       "┌─────────────┬──────────┐\n",
       "│ column_name │ 資料型態 │\n",
       "│   varchar   │ varchar  │\n",
       "├─────────────┼──────────┤\n",
       "│ ID          │ BIGINT   │\n",
       "│ Species     │ VARCHAR  │\n",
       "│ Island      │ VARCHAR  │\n",
       "│ Sex         │ VARCHAR  │\n",
       "└─────────────┴──────────┘"
      ]
     },
     "execution_count": 12,
     "metadata": {},
     "output_type": "execute_result"
    }
   ],
   "source": [
    "duckdb.sql(\"\"\"\n",
    "           SELECT column_name, data_type AS 資料型態\n",
    "           FROM INFORMATION_SCHEMA.COLUMNS\n",
    "           WHERE TABLE_NAME = 'df1';\n",
    "           \"\"\") # 顯示 df1 的資料型態"
   ]
  },
  {
   "cell_type": "code",
   "execution_count": 13,
   "metadata": {},
   "outputs": [
    {
     "data": {
      "text/plain": [
       "┌───────────────────┬───────┐\n",
       "│      Species      │ 數量  │\n",
       "│      varchar      │ int64 │\n",
       "├───────────────────┼───────┤\n",
       "│ Gentoo Penguin    │   124 │\n",
       "│ Adelie Penguin    │   152 │\n",
       "│ Chinstrap Penguin │    68 │\n",
       "└───────────────────┴───────┘"
      ]
     },
     "execution_count": 13,
     "metadata": {},
     "output_type": "execute_result"
    }
   ],
   "source": [
    "duckdb.sql(\"\"\"\n",
    "           SELECT Species, COUNT(Species) AS 數量\n",
    "           FROM df1\n",
    "           GROUP BY Species;\n",
    "           \"\"\") # 類別型資料的計數"
   ]
  },
  {
   "cell_type": "code",
   "execution_count": 14,
   "metadata": {},
   "outputs": [
    {
     "data": {
      "text/plain": [
       "┌───────┬────────────────────┬───────────────────┬─────────────────────┬───────────────┐\n",
       "│  ID   │ Culmen Length (mm) │ Culmen Depth (mm) │ Flipper Length (mm) │ Body Mass (g) │\n",
       "│ int32 │       double       │      double       │        int32        │     int32     │\n",
       "├───────┼────────────────────┼───────────────────┼─────────────────────┼───────────────┤\n",
       "│     1 │               39.1 │              18.7 │                 181 │          3750 │\n",
       "│     2 │               39.5 │              17.4 │                 186 │          3800 │\n",
       "│     3 │               40.3 │              18.0 │                 195 │          3250 │\n",
       "│     4 │               NULL │              NULL │                NULL │          NULL │\n",
       "│     5 │               36.7 │              19.3 │                 193 │          3450 │\n",
       "└───────┴────────────────────┴───────────────────┴─────────────────────┴───────────────┘"
      ]
     },
     "execution_count": 14,
     "metadata": {},
     "output_type": "execute_result"
    }
   ],
   "source": [
    "duckdb.sql(\"\"\"\n",
    "           SELECT * \n",
    "           FROM df2 \n",
    "           LIMIT 5;\n",
    "           \"\"\")"
   ]
  },
  {
   "cell_type": "markdown",
   "metadata": {},
   "source": [
    "![Culmen](https://github.com/allisonhorst/palmerpenguins/blob/main/man/figures/culmen_depth.png?raw=true)"
   ]
  },
  {
   "cell_type": "code",
   "execution_count": 15,
   "metadata": {},
   "outputs": [
    {
     "data": {
      "text/plain": [
       "┌─────────────────────┬──────────┐\n",
       "│     column_name     │ 資料型態 │\n",
       "│       varchar       │ varchar  │\n",
       "├─────────────────────┼──────────┤\n",
       "│ ID                  │ INTEGER  │\n",
       "│ Culmen Length (mm)  │ DOUBLE   │\n",
       "│ Culmen Depth (mm)   │ DOUBLE   │\n",
       "│ Flipper Length (mm) │ INTEGER  │\n",
       "│ Body Mass (g)       │ INTEGER  │\n",
       "└─────────────────────┴──────────┘"
      ]
     },
     "execution_count": 15,
     "metadata": {},
     "output_type": "execute_result"
    }
   ],
   "source": [
    "duckdb.sql(\"\"\"\n",
    "           SELECT column_name, data_type AS 資料型態 \n",
    "           FROM INFORMATION_SCHEMA.COLUMNS \n",
    "           WHERE TABLE_NAME = 'df2';\n",
    "           \"\"\")"
   ]
  },
  {
   "cell_type": "code",
   "execution_count": 16,
   "metadata": {},
   "outputs": [
    {
     "data": {
      "text/plain": [
       "┌──────────────────────┐\n",
       "│ min(\"Body Mass (g)\") │\n",
       "│        int32         │\n",
       "├──────────────────────┤\n",
       "│                 2700 │\n",
       "└──────────────────────┘"
      ]
     },
     "execution_count": 16,
     "metadata": {},
     "output_type": "execute_result"
    }
   ],
   "source": [
    "duckdb.sql(\"\"\"\n",
    "           SELECT MIN(\"Body Mass (g)\")\n",
    "           FROM df2;\n",
    "           \"\"\") # 最小值"
   ]
  },
  {
   "cell_type": "code",
   "execution_count": 17,
   "metadata": {},
   "outputs": [
    {
     "data": {
      "text/plain": [
       "┌──────────────────────┐\n",
       "│ max(\"Body Mass (g)\") │\n",
       "│        int32         │\n",
       "├──────────────────────┤\n",
       "│                 6300 │\n",
       "└──────────────────────┘"
      ]
     },
     "execution_count": 17,
     "metadata": {},
     "output_type": "execute_result"
    }
   ],
   "source": [
    "duckdb.sql(\"\"\"\n",
    "           SELECT MAX(\"Body Mass (g)\")\n",
    "           FROM df2;\n",
    "           \"\"\") # 最大值"
   ]
  },
  {
   "cell_type": "code",
   "execution_count": 18,
   "metadata": {},
   "outputs": [
    {
     "data": {
      "text/plain": [
       "┌──────────────────────┐\n",
       "│ avg(\"Body Mass (g)\") │\n",
       "│        double        │\n",
       "├──────────────────────┤\n",
       "│    4201.754385964912 │\n",
       "└──────────────────────┘"
      ]
     },
     "execution_count": 18,
     "metadata": {},
     "output_type": "execute_result"
    }
   ],
   "source": [
    "duckdb.sql(\"\"\"\n",
    "           SELECT AVG(\"Body Mass (g)\")\n",
    "           FROM df2;\n",
    "           \"\"\") # 平均值"
   ]
  },
  {
   "cell_type": "code",
   "execution_count": 19,
   "metadata": {},
   "outputs": [
    {
     "data": {
      "text/plain": [
       "┌─────────────────────────┐\n",
       "│ stddev(\"Body Mass (g)\") │\n",
       "│         double          │\n",
       "├─────────────────────────┤\n",
       "│       801.9545356980948 │\n",
       "└─────────────────────────┘"
      ]
     },
     "execution_count": 19,
     "metadata": {},
     "output_type": "execute_result"
    }
   ],
   "source": [
    "duckdb.sql(\"\"\"\n",
    "           SELECT STDDEV(\"Body Mass (g)\")\n",
    "           FROM df2;\n",
    "           \"\"\") # 標準差"
   ]
  },
  {
   "cell_type": "code",
   "execution_count": 20,
   "metadata": {},
   "outputs": [
    {
     "data": {
      "text/plain": [
       "┌────────┐\n",
       "│ 中位數 │\n",
       "│ double │\n",
       "├────────┤\n",
       "│ 4050.0 │\n",
       "└────────┘"
      ]
     },
     "execution_count": 20,
     "metadata": {},
     "output_type": "execute_result"
    }
   ],
   "source": [
    "duckdb.sql(\"\"\"\n",
    "           SELECT PERCENTILE_CONT(0.5) WITHIN GROUP (ORDER BY \"Body Mass (g)\") AS 中位數\n",
    "           FROM df2;\n",
    "           \"\"\") # 中位數"
   ]
  },
  {
   "cell_type": "markdown",
   "metadata": {},
   "source": [
    "# 3. 資料搜索\n",
    "\n",
    "對資料有粗淺的了解後，我們可以利用一些語法搜索特定資料，將焦點放在我們感興趣的資料上。"
   ]
  },
  {
   "cell_type": "code",
   "execution_count": 21,
   "metadata": {},
   "outputs": [
    {
     "data": {
      "text/plain": [
       "┌───────────────────┬────────────────────┐\n",
       "│ Culmen Depth (mm) │ Culmen Length (mm) │\n",
       "│      double       │       double       │\n",
       "├───────────────────┼────────────────────┤\n",
       "│              18.7 │               39.1 │\n",
       "│              17.4 │               39.5 │\n",
       "│              18.0 │               40.3 │\n",
       "│              NULL │               NULL │\n",
       "│              19.3 │               36.7 │\n",
       "│              20.6 │               39.3 │\n",
       "│              17.8 │               38.9 │\n",
       "│              19.6 │               39.2 │\n",
       "│              18.1 │               34.1 │\n",
       "│              20.2 │               42.0 │\n",
       "│                ·  │                 ·  │\n",
       "│                ·  │                 ·  │\n",
       "│                ·  │                 ·  │\n",
       "│              14.1 │               46.2 │\n",
       "│              16.0 │               55.1 │\n",
       "│              15.7 │               44.5 │\n",
       "│              16.2 │               48.8 │\n",
       "│              13.7 │               47.2 │\n",
       "│              NULL │               NULL │\n",
       "│              14.3 │               46.8 │\n",
       "│              15.7 │               50.4 │\n",
       "│              14.8 │               45.2 │\n",
       "│              16.1 │               49.9 │\n",
       "├───────────────────┴────────────────────┤\n",
       "│ 344 rows (20 shown)          2 columns │\n",
       "└────────────────────────────────────────┘"
      ]
     },
     "execution_count": 21,
     "metadata": {},
     "output_type": "execute_result"
    }
   ],
   "source": [
    "duckdb.sql(\"\"\"\n",
    "           SELECT \"Culmen Depth (mm)\", \"Culmen Length (mm)\"\n",
    "           FROM df2;\n",
    "           \"\"\") # 選取欄位"
   ]
  },
  {
   "cell_type": "code",
   "execution_count": 22,
   "metadata": {},
   "outputs": [
    {
     "data": {
      "text/plain": [
       "┌───────────────────┬────────────────────┐\n",
       "│ Culmen Depth (mm) │ Culmen Length (mm) │\n",
       "│      double       │       double       │\n",
       "├───────────────────┼────────────────────┤\n",
       "│              18.7 │               39.1 │\n",
       "│              17.4 │               39.5 │\n",
       "│              18.0 │               40.3 │\n",
       "│              NULL │               NULL │\n",
       "│              19.3 │               36.7 │\n",
       "│              20.6 │               39.3 │\n",
       "│              17.8 │               38.9 │\n",
       "│              19.6 │               39.2 │\n",
       "│              18.1 │               34.1 │\n",
       "│              20.2 │               42.0 │\n",
       "│                ·  │                 ·  │\n",
       "│                ·  │                 ·  │\n",
       "│                ·  │                 ·  │\n",
       "│              14.1 │               46.2 │\n",
       "│              16.0 │               55.1 │\n",
       "│              15.7 │               44.5 │\n",
       "│              16.2 │               48.8 │\n",
       "│              13.7 │               47.2 │\n",
       "│              NULL │               NULL │\n",
       "│              14.3 │               46.8 │\n",
       "│              15.7 │               50.4 │\n",
       "│              14.8 │               45.2 │\n",
       "│              16.1 │               49.9 │\n",
       "├───────────────────┴────────────────────┤\n",
       "│ 344 rows (20 shown)          2 columns │\n",
       "└────────────────────────────────────────┘"
      ]
     },
     "execution_count": 22,
     "metadata": {},
     "output_type": "execute_result"
    }
   ],
   "source": [
    "duckdb.sql(\"\"\"\n",
    "           SELECT #3, #2\n",
    "           FROM df2;\n",
    "           \"\"\") # 用欄位編號選取欄位"
   ]
  },
  {
   "cell_type": "markdown",
   "metadata": {},
   "source": [
    "需注意的是，在 SQL 語法中選取特定第 N 筆資料是較為複雜的操作。在 SQL 中通常是用條件進行選取。"
   ]
  },
  {
   "cell_type": "code",
   "execution_count": 23,
   "metadata": {},
   "outputs": [
    {
     "data": {
      "text/plain": [
       "┌───────────────────┬───────────────┐\n",
       "│ Culmen Depth (mm) │ Body Mass (g) │\n",
       "│      double       │     int32     │\n",
       "├───────────────────┼───────────────┤\n",
       "│              15.2 │          6300 │\n",
       "│              17.0 │          6050 │\n",
       "│              16.3 │          6000 │\n",
       "│              16.2 │          6000 │\n",
       "└───────────────────┴───────────────┘"
      ]
     },
     "execution_count": 23,
     "metadata": {},
     "output_type": "execute_result"
    }
   ],
   "source": [
    "duckdb.sql(\"\"\"\n",
    "           SELECT \"Culmen Depth (mm)\", \"Body Mass (g)\"\n",
    "           FROM df2\n",
    "           WHERE \"Body Mass (g)\" >= 6000;\n",
    "           \"\"\")"
   ]
  },
  {
   "cell_type": "markdown",
   "metadata": {},
   "source": [
    "常見的條件運算符包含：`=`（等於）, `>`（大於）, `<`（小於）, `>=`（大於等於）, `<=`（小於等於）, `<>`（不等於）。"
   ]
  },
  {
   "cell_type": "markdown",
   "metadata": {},
   "source": [
    "# 4. 資料清理與修改\n",
    "\n",
    "選取資料後，會發現資料中有需要調整的地方，例如某些值有誤，或者是某些欄位不需要，也有可能是有缺失值（ N/A 值）需要移除。接下來我們來看看 `duckdb` 如何處理這些情況。"
   ]
  },
  {
   "cell_type": "code",
   "execution_count": 24,
   "metadata": {},
   "outputs": [],
   "source": [
    "duckdb.sql(\"\"\"\n",
    "           CREATE OR REPLACE TABLE df_temp AS\n",
    "           SELECT *\n",
    "           FROM df2;\n",
    "           \"\"\") # 複製一張表"
   ]
  },
  {
   "cell_type": "code",
   "execution_count": 25,
   "metadata": {},
   "outputs": [],
   "source": [
    "duckdb.sql(\"\"\"\n",
    "           ALTER TABLE df_temp\n",
    "           DROP \"Culmen Length (mm)\";\n",
    "           \"\"\") # 刪除欄位，一次只能刪除一個\n",
    "\n",
    "duckdb.sql(\"\"\"\n",
    "           ALTER TABLE df_temp\n",
    "           DROP \"Culmen Depth (mm)\";\n",
    "           \"\"\")"
   ]
  },
  {
   "cell_type": "code",
   "execution_count": 26,
   "metadata": {},
   "outputs": [
    {
     "data": {
      "text/plain": [
       "┌───────┬─────────────────────┬───────────────┐\n",
       "│  ID   │ Flipper Length (mm) │ Body Mass (g) │\n",
       "│ int32 │        int32        │     int32     │\n",
       "├───────┼─────────────────────┼───────────────┤\n",
       "│     1 │                 181 │          3750 │\n",
       "│     2 │                 186 │          3800 │\n",
       "│     3 │                 195 │          3250 │\n",
       "│     4 │                NULL │          NULL │\n",
       "│     5 │                 193 │          3450 │\n",
       "│     6 │                 190 │          3650 │\n",
       "│     7 │                 181 │          3625 │\n",
       "│     8 │                 195 │          4675 │\n",
       "│     9 │                 193 │          3475 │\n",
       "│    10 │                 190 │          4250 │\n",
       "│     · │                  ·  │            ·  │\n",
       "│     · │                  ·  │            ·  │\n",
       "│     · │                  ·  │            ·  │\n",
       "│   335 │                 217 │          4375 │\n",
       "│   336 │                 230 │          5850 │\n",
       "│   337 │                 217 │          4875 │\n",
       "│   338 │                 222 │          6000 │\n",
       "│   339 │                 214 │          4925 │\n",
       "│   340 │                NULL │          NULL │\n",
       "│   341 │                 215 │          4850 │\n",
       "│   342 │                 222 │          5750 │\n",
       "│   343 │                 212 │          5200 │\n",
       "│   344 │                 213 │          5400 │\n",
       "├───────┴─────────────────────┴───────────────┤\n",
       "│ 344 rows (20 shown)               3 columns │\n",
       "└─────────────────────────────────────────────┘"
      ]
     },
     "execution_count": 26,
     "metadata": {},
     "output_type": "execute_result"
    }
   ],
   "source": [
    "duckdb.sql(\"\"\"\n",
    "           SELECT *\n",
    "           FROM df_temp\n",
    "           \"\"\")"
   ]
  },
  {
   "cell_type": "code",
   "execution_count": 27,
   "metadata": {},
   "outputs": [],
   "source": [
    "duckdb.sql(\"\"\"\n",
    "           UPDATE df_temp\n",
    "           SET ID = 1, \"Flipper Length (mm)\" = 181, \"Body Mass (g)\" = 3750\n",
    "           WHERE ID = 2\n",
    "           \"\"\") # 修改特定列與欄的資料"
   ]
  },
  {
   "cell_type": "code",
   "execution_count": 28,
   "metadata": {},
   "outputs": [
    {
     "data": {
      "text/plain": [
       "┌───────┬─────────────────────┬───────────────┐\n",
       "│  ID   │ Flipper Length (mm) │ Body Mass (g) │\n",
       "│ int32 │        int32        │     int32     │\n",
       "├───────┼─────────────────────┼───────────────┤\n",
       "│     1 │                 181 │          3750 │\n",
       "│     1 │                 181 │          3750 │\n",
       "│     3 │                 195 │          3250 │\n",
       "│     4 │                NULL │          NULL │\n",
       "│     5 │                 193 │          3450 │\n",
       "│     6 │                 190 │          3650 │\n",
       "│     7 │                 181 │          3625 │\n",
       "│     8 │                 195 │          4675 │\n",
       "│     9 │                 193 │          3475 │\n",
       "│    10 │                 190 │          4250 │\n",
       "│     · │                  ·  │            ·  │\n",
       "│     · │                  ·  │            ·  │\n",
       "│     · │                  ·  │            ·  │\n",
       "│   335 │                 217 │          4375 │\n",
       "│   336 │                 230 │          5850 │\n",
       "│   337 │                 217 │          4875 │\n",
       "│   338 │                 222 │          6000 │\n",
       "│   339 │                 214 │          4925 │\n",
       "│   340 │                NULL │          NULL │\n",
       "│   341 │                 215 │          4850 │\n",
       "│   342 │                 222 │          5750 │\n",
       "│   343 │                 212 │          5200 │\n",
       "│   344 │                 213 │          5400 │\n",
       "├───────┴─────────────────────┴───────────────┤\n",
       "│ 344 rows (20 shown)               3 columns │\n",
       "└─────────────────────────────────────────────┘"
      ]
     },
     "execution_count": 28,
     "metadata": {},
     "output_type": "execute_result"
    }
   ],
   "source": [
    "duckdb.sql(\"\"\"\n",
    "           SELECT *\n",
    "           FROM df_temp\n",
    "           \"\"\")"
   ]
  },
  {
   "cell_type": "code",
   "execution_count": 29,
   "metadata": {},
   "outputs": [
    {
     "data": {
      "text/plain": [
       "┌───────┬─────────────────────┬───────────────┬──────────┐\n",
       "│  ID   │ Flipper Length (mm) │ Body Mass (g) │ 重複次數 │\n",
       "│ int32 │        int32        │     int32     │  int64   │\n",
       "├───────┼─────────────────────┼───────────────┼──────────┤\n",
       "│     1 │                 181 │          3750 │        2 │\n",
       "└───────┴─────────────────────┴───────────────┴──────────┘"
      ]
     },
     "execution_count": 29,
     "metadata": {},
     "output_type": "execute_result"
    }
   ],
   "source": [
    "duckdb.sql(\"\"\"\n",
    "           SELECT *, COUNT(*) AS 重複次數\n",
    "           FROM df_temp\n",
    "           GROUP BY *\n",
    "           HAVING 重複次數 > 1\n",
    "           \"\"\") # 計算重複的列數"
   ]
  },
  {
   "cell_type": "code",
   "execution_count": 30,
   "metadata": {},
   "outputs": [
    {
     "data": {
      "text/plain": [
       "┌───────┬─────────────────────┬───────────────┐\n",
       "│  ID   │ Flipper Length (mm) │ Body Mass (g) │\n",
       "│ int32 │        int32        │     int32     │\n",
       "├───────┼─────────────────────┼───────────────┤\n",
       "│     1 │                 181 │          3750 │\n",
       "│     3 │                 195 │          3250 │\n",
       "│     4 │                NULL │          NULL │\n",
       "│     5 │                 193 │          3450 │\n",
       "│     6 │                 190 │          3650 │\n",
       "│     7 │                 181 │          3625 │\n",
       "│     8 │                 195 │          4675 │\n",
       "│     9 │                 193 │          3475 │\n",
       "│    10 │                 190 │          4250 │\n",
       "│    11 │                 186 │          3300 │\n",
       "│     · │                  ·  │            ·  │\n",
       "│     · │                  ·  │            ·  │\n",
       "│     · │                  ·  │            ·  │\n",
       "│   335 │                 217 │          4375 │\n",
       "│   336 │                 230 │          5850 │\n",
       "│   337 │                 217 │          4875 │\n",
       "│   338 │                 222 │          6000 │\n",
       "│   339 │                 214 │          4925 │\n",
       "│   340 │                NULL │          NULL │\n",
       "│   341 │                 215 │          4850 │\n",
       "│   342 │                 222 │          5750 │\n",
       "│   343 │                 212 │          5200 │\n",
       "│   344 │                 213 │          5400 │\n",
       "├───────┴─────────────────────┴───────────────┤\n",
       "│ 343 rows (20 shown)               3 columns │\n",
       "└─────────────────────────────────────────────┘"
      ]
     },
     "execution_count": 30,
     "metadata": {},
     "output_type": "execute_result"
    }
   ],
   "source": [
    "duckdb.sql(\"\"\"\n",
    "           SELECT DISTINCT *\n",
    "           FROM df_temp\n",
    "           ORDER BY ID;\n",
    "           \"\"\") # 刪除重複的列"
   ]
  },
  {
   "cell_type": "code",
   "execution_count": 31,
   "metadata": {},
   "outputs": [
    {
     "data": {
      "text/plain": [
       "┌─────────────┬────────────────────────┬───────────────────────┬─────────────────────────┬────────────────────┐\n",
       "│ ID_NA_Count │ Culmen_Length_NA_Count │ Culmen_Depth_NA_Count │ Flipper_Length_NA_Count │ Body_Mass_NA_Count │\n",
       "│    int64    │         int64          │         int64         │          int64          │       int64        │\n",
       "├─────────────┼────────────────────────┼───────────────────────┼─────────────────────────┼────────────────────┤\n",
       "│           0 │                      2 │                     2 │                       2 │                  2 │\n",
       "└─────────────┴────────────────────────┴───────────────────────┴─────────────────────────┴────────────────────┘"
      ]
     },
     "execution_count": 31,
     "metadata": {},
     "output_type": "execute_result"
    }
   ],
   "source": [
    "duckdb.sql(\"\"\"\n",
    "           SELECT \n",
    "            COUNT (*) - COUNT(ID) AS ID_NA_Count,\n",
    "            COUNT (*) - COUNT(\"Culmen Length (mm)\") AS Culmen_Length_NA_Count,\n",
    "            COUNT (*) - COUNT(\"Culmen Depth (mm)\") AS Culmen_Depth_NA_Count,\n",
    "            COUNT (*) - COUNT(\"Flipper Length (mm)\") AS Flipper_Length_NA_Count,\n",
    "            COUNT (*) - COUNT(\"Body Mass (g)\") AS Body_Mass_NA_Count\n",
    "           FROM df2;\n",
    "           \"\"\") # 欄位遺失值的計數"
   ]
  },
  {
   "cell_type": "code",
   "execution_count": 32,
   "metadata": {},
   "outputs": [
    {
     "data": {
      "text/plain": [
       "┌───────┬────────────────────┬───────────────────┬─────────────────────┬───────────────┐\n",
       "│  ID   │ Culmen Length (mm) │ Culmen Depth (mm) │ Flipper Length (mm) │ Body Mass (g) │\n",
       "│ int32 │       double       │      double       │        int32        │     int32     │\n",
       "├───────┼────────────────────┼───────────────────┼─────────────────────┼───────────────┤\n",
       "│     4 │               NULL │              NULL │                NULL │          NULL │\n",
       "│   340 │               NULL │              NULL │                NULL │          NULL │\n",
       "└───────┴────────────────────┴───────────────────┴─────────────────────┴───────────────┘"
      ]
     },
     "execution_count": 32,
     "metadata": {},
     "output_type": "execute_result"
    }
   ],
   "source": [
    "duckdb.sql(\"\"\"\n",
    "           SELECT *\n",
    "           FROM df2\n",
    "           WHERE ID IS NULL\n",
    "            OR \"Culmen Length (mm)\" IS NULL\n",
    "            OR \"Culmen Depth (mm)\" IS NULL\n",
    "            OR \"Flipper Length (mm)\" IS NULL\n",
    "            OR \"Body Mass (g)\" IS NULL;\n",
    "           \"\"\") # 取得有遺失值的列"
   ]
  },
  {
   "cell_type": "code",
   "execution_count": 33,
   "metadata": {},
   "outputs": [],
   "source": [
    "duckdb.sql(\"\"\"\n",
    "           DELETE FROM df2\n",
    "           WHERE ID IS NULL\n",
    "            OR \"Culmen Length (mm)\" IS NULL\n",
    "            OR \"Culmen Depth (mm)\" IS NULL\n",
    "            OR \"Flipper Length (mm)\" IS NULL\n",
    "            OR \"Body Mass (g)\" IS NULL;\n",
    "           \"\"\") # 刪除遺失值"
   ]
  },
  {
   "cell_type": "code",
   "execution_count": 34,
   "metadata": {},
   "outputs": [
    {
     "data": {
      "text/plain": [
       "┌───────┬────────────────────┬───────────────────┬─────────────────────┬───────────────┐\n",
       "│  ID   │ Culmen Length (mm) │ Culmen Depth (mm) │ Flipper Length (mm) │ Body Mass (g) │\n",
       "│ int32 │       double       │      double       │        int32        │     int32     │\n",
       "├───────┴────────────────────┴───────────────────┴─────────────────────┴───────────────┤\n",
       "│                                        0 rows                                        │\n",
       "└──────────────────────────────────────────────────────────────────────────────────────┘"
      ]
     },
     "execution_count": 34,
     "metadata": {},
     "output_type": "execute_result"
    }
   ],
   "source": [
    "duckdb.sql(\"\"\"\n",
    "           SELECT *\n",
    "           FROM df2\n",
    "           WHERE ID IS NULL\n",
    "            OR \"Culmen Length (mm)\" IS NULL\n",
    "            OR \"Culmen Depth (mm)\" IS NULL\n",
    "            OR \"Flipper Length (mm)\" IS NULL\n",
    "            OR \"Body Mass (g)\" IS NULL;\n",
    "           \"\"\")"
   ]
  },
  {
   "cell_type": "code",
   "execution_count": 35,
   "metadata": {},
   "outputs": [
    {
     "data": {
      "text/plain": [
       "┌─────────────┬──────────────────┬─────────────────┬──────────────┐\n",
       "│ ID_NA_Count │ Species_NA_Count │ Island_NA_Count │ Sex_NA_Count │\n",
       "│    int64    │      int64       │      int64      │    int64     │\n",
       "├─────────────┼──────────────────┼─────────────────┼──────────────┤\n",
       "│           0 │                0 │               0 │           10 │\n",
       "└─────────────┴──────────────────┴─────────────────┴──────────────┘"
      ]
     },
     "execution_count": 35,
     "metadata": {},
     "output_type": "execute_result"
    }
   ],
   "source": [
    "duckdb.sql(\"\"\"\n",
    "           SELECT \n",
    "            COUNT (*) - COUNT(ID) AS ID_NA_Count,\n",
    "            COUNT (*) - COUNT(Species) AS Species_NA_Count,\n",
    "            COUNT (*) - COUNT(Island) AS Island_NA_Count,\n",
    "            COUNT (*) - COUNT(Sex) AS Sex_NA_Count\n",
    "           FROM df1;\n",
    "           \"\"\") # 欄位遺失值的計數"
   ]
  },
  {
   "cell_type": "code",
   "execution_count": 36,
   "metadata": {},
   "outputs": [],
   "source": [
    "duckdb.sql(\"\"\"\n",
    "           DELETE FROM df1\n",
    "           WHERE ID IS NULL\n",
    "            OR Species IS NULL\n",
    "            OR Island IS NULL\n",
    "            OR Sex IS NULL;\n",
    "           \"\"\")"
   ]
  },
  {
   "cell_type": "code",
   "execution_count": 37,
   "metadata": {},
   "outputs": [
    {
     "data": {
      "text/plain": [
       "┌───────┬─────────┬─────────┬─────────┐\n",
       "│  ID   │ Species │ Island  │   Sex   │\n",
       "│ int64 │ varchar │ varchar │ varchar │\n",
       "├───────┴─────────┴─────────┴─────────┤\n",
       "│               0 rows                │\n",
       "└─────────────────────────────────────┘"
      ]
     },
     "execution_count": 37,
     "metadata": {},
     "output_type": "execute_result"
    }
   ],
   "source": [
    "duckdb.sql(\"\"\"\n",
    "           SELECT *\n",
    "           FROM df1\n",
    "           WHERE ID IS NULL\n",
    "            OR Species IS NULL\n",
    "            OR Island IS NULL\n",
    "            OR Sex IS NULL;\n",
    "           \"\"\")"
   ]
  },
  {
   "cell_type": "code",
   "execution_count": 38,
   "metadata": {},
   "outputs": [
    {
     "data": {
      "text/plain": [
       "┌─────────┬──────────────┐\n",
       "│   Sex   │ count_star() │\n",
       "│ varchar │    int64     │\n",
       "├─────────┼──────────────┤\n",
       "│ MALE    │          168 │\n",
       "│ FEMALE  │          165 │\n",
       "│ .       │            1 │\n",
       "└─────────┴──────────────┘"
      ]
     },
     "execution_count": 38,
     "metadata": {},
     "output_type": "execute_result"
    }
   ],
   "source": [
    "duckdb.sql(\"\"\"\n",
    "           SELECT Sex, COUNT(*)\n",
    "           FROM df1\n",
    "           GROUP BY Sex;\n",
    "           \"\"\")"
   ]
  },
  {
   "cell_type": "code",
   "execution_count": 39,
   "metadata": {},
   "outputs": [
    {
     "data": {
      "text/plain": [
       "┌───────┬────────────────┬─────────┬─────────┐\n",
       "│  ID   │    Species     │ Island  │   Sex   │\n",
       "│ int64 │    varchar     │ varchar │ varchar │\n",
       "├───────┼────────────────┼─────────┼─────────┤\n",
       "│   337 │ Gentoo Penguin │ Biscoe  │ .       │\n",
       "└───────┴────────────────┴─────────┴─────────┘"
      ]
     },
     "execution_count": 39,
     "metadata": {},
     "output_type": "execute_result"
    }
   ],
   "source": [
    "duckdb.sql(\"\"\"\n",
    "           SELECT *\n",
    "           FROM df1\n",
    "           WHERE Sex = '.';\n",
    "           \"\"\")"
   ]
  },
  {
   "cell_type": "code",
   "execution_count": 40,
   "metadata": {},
   "outputs": [],
   "source": [
    "duckdb.sql(\"\"\"\n",
    "           DELETE FROM df1\n",
    "           WHERE Sex = '.';\n",
    "           \"\"\") # 刪除特定條件的列"
   ]
  },
  {
   "cell_type": "code",
   "execution_count": 41,
   "metadata": {},
   "outputs": [
    {
     "data": {
      "text/plain": [
       "┌─────────┬──────────────┐\n",
       "│   Sex   │ count_star() │\n",
       "│ varchar │    int64     │\n",
       "├─────────┼──────────────┤\n",
       "│ FEMALE  │          165 │\n",
       "│ MALE    │          168 │\n",
       "└─────────┴──────────────┘"
      ]
     },
     "execution_count": 41,
     "metadata": {},
     "output_type": "execute_result"
    }
   ],
   "source": [
    "duckdb.sql(\"\"\"\n",
    "           SELECT Sex, COUNT(*)\n",
    "           FROM df1\n",
    "           GROUP BY Sex;\n",
    "           \"\"\")"
   ]
  },
  {
   "cell_type": "markdown",
   "metadata": {},
   "source": [
    "# 5. 資料合併\n",
    "\n",
    "有時候，合併資料才能發揮其價值，那要如何合併呢？最重要的有兩個關鍵：選定合併的鍵值（要根據哪個欄位來進行資料合併）以及合併方式（以誰為主要的合併參考對象）。決定好後，剩下的就交給 `duckdb`。\n",
    "\n",
    "![join](https://realpython.com/cdn-cgi/image/width=811,format=auto/https://files.realpython.com/media/join_diagram.93e6ef63afbe.png)\n",
    "\n",
    "Image from https://realpython.com/pandas-merge-join-and-concat/"
   ]
  },
  {
   "cell_type": "code",
   "execution_count": 42,
   "metadata": {},
   "outputs": [
    {
     "data": {
      "text/plain": [
       "┌───────┬────────────────┬───────────┬─────────┐\n",
       "│  ID   │    Species     │  Island   │   Sex   │\n",
       "│ int64 │    varchar     │  varchar  │ varchar │\n",
       "├───────┼────────────────┼───────────┼─────────┤\n",
       "│     1 │ Adelie Penguin │ Torgersen │ MALE    │\n",
       "│     2 │ Adelie Penguin │ Torgersen │ FEMALE  │\n",
       "│     3 │ Adelie Penguin │ Torgersen │ FEMALE  │\n",
       "│     5 │ Adelie Penguin │ Torgersen │ FEMALE  │\n",
       "│     6 │ Adelie Penguin │ Torgersen │ MALE    │\n",
       "│     7 │ Adelie Penguin │ Torgersen │ FEMALE  │\n",
       "│     8 │ Adelie Penguin │ Torgersen │ MALE    │\n",
       "│    13 │ Adelie Penguin │ Torgersen │ FEMALE  │\n",
       "│    14 │ Adelie Penguin │ Torgersen │ MALE    │\n",
       "│    15 │ Adelie Penguin │ Torgersen │ MALE    │\n",
       "│     · │       ·        │   ·       │  ·      │\n",
       "│     · │       ·        │   ·       │  ·      │\n",
       "│     · │       ·        │   ·       │  ·      │\n",
       "│   333 │ Gentoo Penguin │ Biscoe    │ FEMALE  │\n",
       "│   334 │ Gentoo Penguin │ Biscoe    │ MALE    │\n",
       "│   335 │ Gentoo Penguin │ Biscoe    │ FEMALE  │\n",
       "│   336 │ Gentoo Penguin │ Biscoe    │ MALE    │\n",
       "│   338 │ Gentoo Penguin │ Biscoe    │ MALE    │\n",
       "│   339 │ Gentoo Penguin │ Biscoe    │ FEMALE  │\n",
       "│   341 │ Gentoo Penguin │ Biscoe    │ FEMALE  │\n",
       "│   342 │ Gentoo Penguin │ Biscoe    │ MALE    │\n",
       "│   343 │ Gentoo Penguin │ Biscoe    │ FEMALE  │\n",
       "│   344 │ Gentoo Penguin │ Biscoe    │ MALE    │\n",
       "├───────┴────────────────┴───────────┴─────────┤\n",
       "│ 333 rows (20 shown)                4 columns │\n",
       "└──────────────────────────────────────────────┘"
      ]
     },
     "execution_count": 42,
     "metadata": {},
     "output_type": "execute_result"
    }
   ],
   "source": [
    "duckdb.sql(\"\"\"\n",
    "           SELECT *\n",
    "           FROM df1;\n",
    "           \"\"\")"
   ]
  },
  {
   "cell_type": "code",
   "execution_count": 43,
   "metadata": {},
   "outputs": [
    {
     "data": {
      "text/plain": [
       "┌───────┬────────────────────┬───────────────────┬─────────────────────┬───────────────┐\n",
       "│  ID   │ Culmen Length (mm) │ Culmen Depth (mm) │ Flipper Length (mm) │ Body Mass (g) │\n",
       "│ int32 │       double       │      double       │        int32        │     int32     │\n",
       "├───────┼────────────────────┼───────────────────┼─────────────────────┼───────────────┤\n",
       "│     1 │               39.1 │              18.7 │                 181 │          3750 │\n",
       "│     2 │               39.5 │              17.4 │                 186 │          3800 │\n",
       "│     3 │               40.3 │              18.0 │                 195 │          3250 │\n",
       "│     5 │               36.7 │              19.3 │                 193 │          3450 │\n",
       "│     6 │               39.3 │              20.6 │                 190 │          3650 │\n",
       "│     7 │               38.9 │              17.8 │                 181 │          3625 │\n",
       "│     8 │               39.2 │              19.6 │                 195 │          4675 │\n",
       "│     9 │               34.1 │              18.1 │                 193 │          3475 │\n",
       "│    10 │               42.0 │              20.2 │                 190 │          4250 │\n",
       "│    11 │               37.8 │              17.1 │                 186 │          3300 │\n",
       "│     · │                 ·  │                ·  │                  ·  │            ·  │\n",
       "│     · │                 ·  │                ·  │                  ·  │            ·  │\n",
       "│     · │                 ·  │                ·  │                  ·  │            ·  │\n",
       "│   334 │               51.5 │              16.3 │                 230 │          5500 │\n",
       "│   335 │               46.2 │              14.1 │                 217 │          4375 │\n",
       "│   336 │               55.1 │              16.0 │                 230 │          5850 │\n",
       "│   337 │               44.5 │              15.7 │                 217 │          4875 │\n",
       "│   338 │               48.8 │              16.2 │                 222 │          6000 │\n",
       "│   339 │               47.2 │              13.7 │                 214 │          4925 │\n",
       "│   341 │               46.8 │              14.3 │                 215 │          4850 │\n",
       "│   342 │               50.4 │              15.7 │                 222 │          5750 │\n",
       "│   343 │               45.2 │              14.8 │                 212 │          5200 │\n",
       "│   344 │               49.9 │              16.1 │                 213 │          5400 │\n",
       "├───────┴────────────────────┴───────────────────┴─────────────────────┴───────────────┤\n",
       "│ 342 rows (20 shown)                                                        5 columns │\n",
       "└──────────────────────────────────────────────────────────────────────────────────────┘"
      ]
     },
     "execution_count": 43,
     "metadata": {},
     "output_type": "execute_result"
    }
   ],
   "source": [
    "duckdb.sql(\"\"\"\n",
    "           SELECT *\n",
    "           FROM df2;\n",
    "           \"\"\")"
   ]
  },
  {
   "cell_type": "code",
   "execution_count": 44,
   "metadata": {},
   "outputs": [],
   "source": [
    "duckdb.sql(\"\"\"\n",
    "           CREATE OR REPLACE TABLE df AS\n",
    "           SELECT *\n",
    "           FROM df1 INNER JOIN df2\n",
    "           ON df1.ID = df2.ID\n",
    "           \"\"\") # 透過 ID 欄位合併兩個資料集，指定為 inner join"
   ]
  },
  {
   "cell_type": "code",
   "execution_count": 45,
   "metadata": {},
   "outputs": [
    {
     "data": {
      "text/plain": [
       "┌───────┬────────────────┬───────────┬─────────┬───────┬────────────────────┬───────────────────┬─────────────────────┬───────────────┐\n",
       "│  ID   │    Species     │  Island   │   Sex   │ ID_1  │ Culmen Length (mm) │ Culmen Depth (mm) │ Flipper Length (mm) │ Body Mass (g) │\n",
       "│ int64 │    varchar     │  varchar  │ varchar │ int32 │       double       │      double       │        int32        │     int32     │\n",
       "├───────┼────────────────┼───────────┼─────────┼───────┼────────────────────┼───────────────────┼─────────────────────┼───────────────┤\n",
       "│     1 │ Adelie Penguin │ Torgersen │ MALE    │     1 │               39.1 │              18.7 │                 181 │          3750 │\n",
       "│     2 │ Adelie Penguin │ Torgersen │ FEMALE  │     2 │               39.5 │              17.4 │                 186 │          3800 │\n",
       "│     3 │ Adelie Penguin │ Torgersen │ FEMALE  │     3 │               40.3 │              18.0 │                 195 │          3250 │\n",
       "│     5 │ Adelie Penguin │ Torgersen │ FEMALE  │     5 │               36.7 │              19.3 │                 193 │          3450 │\n",
       "│     6 │ Adelie Penguin │ Torgersen │ MALE    │     6 │               39.3 │              20.6 │                 190 │          3650 │\n",
       "│     7 │ Adelie Penguin │ Torgersen │ FEMALE  │     7 │               38.9 │              17.8 │                 181 │          3625 │\n",
       "│     8 │ Adelie Penguin │ Torgersen │ MALE    │     8 │               39.2 │              19.6 │                 195 │          4675 │\n",
       "│    13 │ Adelie Penguin │ Torgersen │ FEMALE  │    13 │               41.1 │              17.6 │                 182 │          3200 │\n",
       "│    14 │ Adelie Penguin │ Torgersen │ MALE    │    14 │               38.6 │              21.2 │                 191 │          3800 │\n",
       "│    15 │ Adelie Penguin │ Torgersen │ MALE    │    15 │               34.6 │              21.1 │                 198 │          4400 │\n",
       "│     · │       ·        │   ·       │  ·      │     · │                 ·  │                ·  │                  ·  │            ·  │\n",
       "│     · │       ·        │   ·       │  ·      │     · │                 ·  │                ·  │                  ·  │            ·  │\n",
       "│     · │       ·        │   ·       │  ·      │     · │                 ·  │                ·  │                  ·  │            ·  │\n",
       "│   333 │ Gentoo Penguin │ Biscoe    │ FEMALE  │   333 │               43.5 │              15.2 │                 213 │          4650 │\n",
       "│   334 │ Gentoo Penguin │ Biscoe    │ MALE    │   334 │               51.5 │              16.3 │                 230 │          5500 │\n",
       "│   335 │ Gentoo Penguin │ Biscoe    │ FEMALE  │   335 │               46.2 │              14.1 │                 217 │          4375 │\n",
       "│   336 │ Gentoo Penguin │ Biscoe    │ MALE    │   336 │               55.1 │              16.0 │                 230 │          5850 │\n",
       "│   338 │ Gentoo Penguin │ Biscoe    │ MALE    │   338 │               48.8 │              16.2 │                 222 │          6000 │\n",
       "│   339 │ Gentoo Penguin │ Biscoe    │ FEMALE  │   339 │               47.2 │              13.7 │                 214 │          4925 │\n",
       "│   341 │ Gentoo Penguin │ Biscoe    │ FEMALE  │   341 │               46.8 │              14.3 │                 215 │          4850 │\n",
       "│   342 │ Gentoo Penguin │ Biscoe    │ MALE    │   342 │               50.4 │              15.7 │                 222 │          5750 │\n",
       "│   343 │ Gentoo Penguin │ Biscoe    │ FEMALE  │   343 │               45.2 │              14.8 │                 212 │          5200 │\n",
       "│   344 │ Gentoo Penguin │ Biscoe    │ MALE    │   344 │               49.9 │              16.1 │                 213 │          5400 │\n",
       "├───────┴────────────────┴───────────┴─────────┴───────┴────────────────────┴───────────────────┴─────────────────────┴───────────────┤\n",
       "│ 333 rows (20 shown)                                                                                                       9 columns │\n",
       "└─────────────────────────────────────────────────────────────────────────────────────────────────────────────────────────────────────┘"
      ]
     },
     "execution_count": 45,
     "metadata": {},
     "output_type": "execute_result"
    }
   ],
   "source": [
    "duckdb.sql(\"\"\"\n",
    "           SELECT *\n",
    "           FROM df\n",
    "           \"\"\")"
   ]
  },
  {
   "cell_type": "code",
   "execution_count": 46,
   "metadata": {},
   "outputs": [],
   "source": [
    "duckdb.sql(\"\"\"\n",
    "           CREATE OR REPLACE TABLE df_right AS\n",
    "           SELECT *\n",
    "           FROM df1 RIGHT JOIN df2\n",
    "           ON df1.ID = df2.ID\n",
    "           \"\"\") # 透過 ID 欄位合併兩個資料集，指定為 right join"
   ]
  },
  {
   "cell_type": "code",
   "execution_count": 47,
   "metadata": {},
   "outputs": [
    {
     "data": {
      "text/plain": [
       "┌───────┬────────────────┬───────────┬─────────┬───────┬────────────────────┬───────────────────┬─────────────────────┬───────────────┐\n",
       "│  ID   │    Species     │  Island   │   Sex   │ ID_1  │ Culmen Length (mm) │ Culmen Depth (mm) │ Flipper Length (mm) │ Body Mass (g) │\n",
       "│ int64 │    varchar     │  varchar  │ varchar │ int32 │       double       │      double       │        int32        │     int32     │\n",
       "├───────┼────────────────┼───────────┼─────────┼───────┼────────────────────┼───────────────────┼─────────────────────┼───────────────┤\n",
       "│     1 │ Adelie Penguin │ Torgersen │ MALE    │     1 │               39.1 │              18.7 │                 181 │          3750 │\n",
       "│     2 │ Adelie Penguin │ Torgersen │ FEMALE  │     2 │               39.5 │              17.4 │                 186 │          3800 │\n",
       "│     3 │ Adelie Penguin │ Torgersen │ FEMALE  │     3 │               40.3 │              18.0 │                 195 │          3250 │\n",
       "│     5 │ Adelie Penguin │ Torgersen │ FEMALE  │     5 │               36.7 │              19.3 │                 193 │          3450 │\n",
       "│     6 │ Adelie Penguin │ Torgersen │ MALE    │     6 │               39.3 │              20.6 │                 190 │          3650 │\n",
       "│     7 │ Adelie Penguin │ Torgersen │ FEMALE  │     7 │               38.9 │              17.8 │                 181 │          3625 │\n",
       "│     8 │ Adelie Penguin │ Torgersen │ MALE    │     8 │               39.2 │              19.6 │                 195 │          4675 │\n",
       "│    14 │ Adelie Penguin │ Torgersen │ MALE    │    14 │               38.6 │              21.2 │                 191 │          3800 │\n",
       "│    15 │ Adelie Penguin │ Torgersen │ MALE    │    15 │               34.6 │              21.1 │                 198 │          4400 │\n",
       "│    16 │ Adelie Penguin │ Torgersen │ FEMALE  │    16 │               36.6 │              17.8 │                 185 │          3700 │\n",
       "│     · │       ·        │   ·       │  ·      │     · │                 ·  │                ·  │                  ·  │            ·  │\n",
       "│     · │       ·        │   ·       │  ·      │     · │                 ·  │                ·  │                  ·  │            ·  │\n",
       "│     · │       ·        │   ·       │  ·      │     · │                 ·  │                ·  │                  ·  │            ·  │\n",
       "│   147 │ Adelie Penguin │ Dream     │ MALE    │   147 │               39.2 │              18.6 │                 190 │          4250 │\n",
       "│  NULL │ NULL           │ NULL      │ NULL    │    11 │               37.8 │              17.1 │                 186 │          3300 │\n",
       "│  NULL │ NULL           │ NULL      │ NULL    │     9 │               34.1 │              18.1 │                 193 │          3475 │\n",
       "│  NULL │ NULL           │ NULL      │ NULL    │   287 │               46.2 │              14.4 │                 214 │          4650 │\n",
       "│  NULL │ NULL           │ NULL      │ NULL    │   325 │               47.3 │              13.8 │                 216 │          4725 │\n",
       "│  NULL │ NULL           │ NULL      │ NULL    │   337 │               44.5 │              15.7 │                 217 │          4875 │\n",
       "│  NULL │ NULL           │ NULL      │ NULL    │    10 │               42.0 │              20.2 │                 190 │          4250 │\n",
       "│  NULL │ NULL           │ NULL      │ NULL    │    48 │               37.5 │              18.9 │                 179 │          2975 │\n",
       "│  NULL │ NULL           │ NULL      │ NULL    │   247 │               44.5 │              14.3 │                 216 │          4100 │\n",
       "│  NULL │ NULL           │ NULL      │ NULL    │    12 │               37.8 │              17.3 │                 180 │          3700 │\n",
       "├───────┴────────────────┴───────────┴─────────┴───────┴────────────────────┴───────────────────┴─────────────────────┴───────────────┤\n",
       "│ 342 rows (20 shown)                                                                                                       9 columns │\n",
       "└─────────────────────────────────────────────────────────────────────────────────────────────────────────────────────────────────────┘"
      ]
     },
     "execution_count": 47,
     "metadata": {},
     "output_type": "execute_result"
    }
   ],
   "source": [
    "duckdb.sql(\"\"\"\n",
    "           SELECT *\n",
    "           FROM df_right\n",
    "           \"\"\")"
   ]
  },
  {
   "cell_type": "markdown",
   "metadata": {},
   "source": [
    "# 小試身手 1"
   ]
  },
  {
   "cell_type": "markdown",
   "metadata": {},
   "source": [
    "任務 1: 讀入 `penguins_test1.csv` 資料集。"
   ]
  },
  {
   "cell_type": "code",
   "execution_count": null,
   "metadata": {},
   "outputs": [],
   "source": []
  },
  {
   "cell_type": "markdown",
   "metadata": {},
   "source": [
    "任務 2: 取得以下資訊：資料總筆數、欄位數、三種企鵝的數目、雌雄性個數、嘴喙寬中位數。"
   ]
  },
  {
   "cell_type": "code",
   "execution_count": null,
   "metadata": {},
   "outputs": [],
   "source": []
  },
  {
   "cell_type": "markdown",
   "metadata": {},
   "source": [
    "任務 3: 列出所有嘴喙寬大於等於 20 毫米的企鵝的嘴喙長與鰭長。"
   ]
  },
  {
   "cell_type": "code",
   "execution_count": null,
   "metadata": {},
   "outputs": [],
   "source": []
  },
  {
   "cell_type": "markdown",
   "metadata": {},
   "source": [
    "任務 4: 確保資料無遺失值及重複值後，計算所有企鵝的平均體重。"
   ]
  },
  {
   "cell_type": "code",
   "execution_count": null,
   "metadata": {},
   "outputs": [],
   "source": []
  },
  {
   "cell_type": "markdown",
   "metadata": {},
   "source": [
    "# 6. 資料聚合\n",
    "\n",
    "資料聚合讓我們可以分門別類了解不同資料的特性，用簡單的方式認識資料。"
   ]
  },
  {
   "cell_type": "code",
   "execution_count": 48,
   "metadata": {},
   "outputs": [
    {
     "data": {
      "text/plain": [
       "┌───────┬────────────────┬───────────┬─────────┬───────┬────────────────────┬───────────────────┬─────────────────────┬───────────────┐\n",
       "│  ID   │    Species     │  Island   │   Sex   │ ID_1  │ Culmen Length (mm) │ Culmen Depth (mm) │ Flipper Length (mm) │ Body Mass (g) │\n",
       "│ int64 │    varchar     │  varchar  │ varchar │ int32 │       double       │      double       │        int32        │     int32     │\n",
       "├───────┼────────────────┼───────────┼─────────┼───────┼────────────────────┼───────────────────┼─────────────────────┼───────────────┤\n",
       "│     1 │ Adelie Penguin │ Torgersen │ MALE    │     1 │               39.1 │              18.7 │                 181 │          3750 │\n",
       "│     2 │ Adelie Penguin │ Torgersen │ FEMALE  │     2 │               39.5 │              17.4 │                 186 │          3800 │\n",
       "│     3 │ Adelie Penguin │ Torgersen │ FEMALE  │     3 │               40.3 │              18.0 │                 195 │          3250 │\n",
       "│     5 │ Adelie Penguin │ Torgersen │ FEMALE  │     5 │               36.7 │              19.3 │                 193 │          3450 │\n",
       "│     6 │ Adelie Penguin │ Torgersen │ MALE    │     6 │               39.3 │              20.6 │                 190 │          3650 │\n",
       "│     7 │ Adelie Penguin │ Torgersen │ FEMALE  │     7 │               38.9 │              17.8 │                 181 │          3625 │\n",
       "│     8 │ Adelie Penguin │ Torgersen │ MALE    │     8 │               39.2 │              19.6 │                 195 │          4675 │\n",
       "│    13 │ Adelie Penguin │ Torgersen │ FEMALE  │    13 │               41.1 │              17.6 │                 182 │          3200 │\n",
       "│    14 │ Adelie Penguin │ Torgersen │ MALE    │    14 │               38.6 │              21.2 │                 191 │          3800 │\n",
       "│    15 │ Adelie Penguin │ Torgersen │ MALE    │    15 │               34.6 │              21.1 │                 198 │          4400 │\n",
       "│     · │       ·        │   ·       │  ·      │     · │                 ·  │                ·  │                  ·  │            ·  │\n",
       "│     · │       ·        │   ·       │  ·      │     · │                 ·  │                ·  │                  ·  │            ·  │\n",
       "│     · │       ·        │   ·       │  ·      │     · │                 ·  │                ·  │                  ·  │            ·  │\n",
       "│   333 │ Gentoo Penguin │ Biscoe    │ FEMALE  │   333 │               43.5 │              15.2 │                 213 │          4650 │\n",
       "│   334 │ Gentoo Penguin │ Biscoe    │ MALE    │   334 │               51.5 │              16.3 │                 230 │          5500 │\n",
       "│   335 │ Gentoo Penguin │ Biscoe    │ FEMALE  │   335 │               46.2 │              14.1 │                 217 │          4375 │\n",
       "│   336 │ Gentoo Penguin │ Biscoe    │ MALE    │   336 │               55.1 │              16.0 │                 230 │          5850 │\n",
       "│   338 │ Gentoo Penguin │ Biscoe    │ MALE    │   338 │               48.8 │              16.2 │                 222 │          6000 │\n",
       "│   339 │ Gentoo Penguin │ Biscoe    │ FEMALE  │   339 │               47.2 │              13.7 │                 214 │          4925 │\n",
       "│   341 │ Gentoo Penguin │ Biscoe    │ FEMALE  │   341 │               46.8 │              14.3 │                 215 │          4850 │\n",
       "│   342 │ Gentoo Penguin │ Biscoe    │ MALE    │   342 │               50.4 │              15.7 │                 222 │          5750 │\n",
       "│   343 │ Gentoo Penguin │ Biscoe    │ FEMALE  │   343 │               45.2 │              14.8 │                 212 │          5200 │\n",
       "│   344 │ Gentoo Penguin │ Biscoe    │ MALE    │   344 │               49.9 │              16.1 │                 213 │          5400 │\n",
       "├───────┴────────────────┴───────────┴─────────┴───────┴────────────────────┴───────────────────┴─────────────────────┴───────────────┤\n",
       "│ 333 rows (20 shown)                                                                                                       9 columns │\n",
       "└─────────────────────────────────────────────────────────────────────────────────────────────────────────────────────────────────────┘"
      ]
     },
     "execution_count": 48,
     "metadata": {},
     "output_type": "execute_result"
    }
   ],
   "source": [
    "duckdb.sql(\"\"\"\n",
    "           SELECT *\n",
    "           FROM df\n",
    "           \"\"\")"
   ]
  },
  {
   "cell_type": "code",
   "execution_count": 49,
   "metadata": {},
   "outputs": [
    {
     "data": {
      "text/plain": [
       "┌───────────────────┬────────────────────┐\n",
       "│      Species      │      平均體重      │\n",
       "│      varchar      │       double       │\n",
       "├───────────────────┼────────────────────┤\n",
       "│ Adelie Penguin    │ 3706.1643835616437 │\n",
       "│ Chinstrap Penguin │ 3733.0882352941176 │\n",
       "│ Gentoo Penguin    │  5092.436974789916 │\n",
       "└───────────────────┴────────────────────┘"
      ]
     },
     "execution_count": 49,
     "metadata": {},
     "output_type": "execute_result"
    }
   ],
   "source": [
    "duckdb.sql(\"\"\"\n",
    "           SELECT Species, AVG(\"Body Mass (g)\") AS 平均體重\n",
    "           FROM df\n",
    "           GROUP BY Species;\n",
    "           \"\"\") # 透過 GROUP BY 與 AVG 計算不同企鵝的平均體重"
   ]
  },
  {
   "cell_type": "code",
   "execution_count": 50,
   "metadata": {},
   "outputs": [
    {
     "data": {
      "text/plain": [
       "┌───────────────────┬────────────────────┬────────────────────┐\n",
       "│      Species      │      平均體重      │     體重標準差     │\n",
       "│      varchar      │       double       │       double       │\n",
       "├───────────────────┼────────────────────┼────────────────────┤\n",
       "│ Adelie Penguin    │ 3706.1643835616437 │  458.6201347129236 │\n",
       "│ Gentoo Penguin    │  5092.436974789916 │ 501.47615382844197 │\n",
       "│ Chinstrap Penguin │ 3733.0882352941176 │  384.3350813871914 │\n",
       "└───────────────────┴────────────────────┴────────────────────┘"
      ]
     },
     "execution_count": 50,
     "metadata": {},
     "output_type": "execute_result"
    }
   ],
   "source": [
    "duckdb.sql(\"\"\"\n",
    "           SELECT Species, AVG(\"Body Mass (g)\") AS 平均體重, STDDEV(\"Body Mass (g)\") AS 體重標準差\n",
    "           FROM df\n",
    "           GROUP BY Species;\n",
    "           \"\"\") # 透過 GROUP BY 與 AVG 計算不同企鵝的平均體重與標準差"
   ]
  },
  {
   "cell_type": "code",
   "execution_count": 51,
   "metadata": {},
   "outputs": [
    {
     "data": {
      "text/plain": [
       "┌───────────────────┬─────────┬────────────────────┐\n",
       "│      Species      │   Sex   │      平均體重      │\n",
       "│      varchar      │ varchar │       double       │\n",
       "├───────────────────┼─────────┼────────────────────┤\n",
       "│ Gentoo Penguin    │ FEMALE  │  4679.741379310345 │\n",
       "│ Adelie Penguin    │ FEMALE  │ 3368.8356164383563 │\n",
       "│ Chinstrap Penguin │ MALE    │  3938.970588235294 │\n",
       "│ Gentoo Penguin    │ MALE    │  5484.836065573771 │\n",
       "│ Adelie Penguin    │ MALE    │ 4043.4931506849316 │\n",
       "│ Chinstrap Penguin │ FEMALE  │  3527.205882352941 │\n",
       "└───────────────────┴─────────┴────────────────────┘"
      ]
     },
     "execution_count": 51,
     "metadata": {},
     "output_type": "execute_result"
    }
   ],
   "source": [
    "duckdb.sql(\"\"\"\n",
    "           SELECT Species, Sex, AVG(\"Body Mass (g)\") AS 平均體重\n",
    "           FROM df\n",
    "           GROUP BY Species, Sex;\n",
    "           \"\"\") # 透過 GROUP BY 與 AVG 計算不同種類、不同性別企鵝的平均體重"
   ]
  },
  {
   "cell_type": "code",
   "execution_count": 52,
   "metadata": {},
   "outputs": [
    {
     "data": {
      "text/plain": [
       "┌───────────────────┬─────────┬────────────────────┬────────────────────┬────────────────────┬────────────────────┐\n",
       "│      Species      │   Sex   │      平均體重      │     體重標準差     │      平均喙長      │     喙長標準差     │\n",
       "│      varchar      │ varchar │       double       │       double       │       double       │       double       │\n",
       "├───────────────────┼─────────┼────────────────────┼────────────────────┼────────────────────┼────────────────────┤\n",
       "│ Adelie Penguin    │ FEMALE  │ 3368.8356164383563 │  269.3801018438564 │  37.25753424657533 │  2.028882958141909 │\n",
       "│ Chinstrap Penguin │ MALE    │  3938.970588235294 │  362.1375500681204 │  51.09411764705882 │ 1.5645584480149342 │\n",
       "│ Gentoo Penguin    │ FEMALE  │  4679.741379310345 │ 281.57829364263085 │ 45.563793103448276 │ 2.0512467989315786 │\n",
       "│ Adelie Penguin    │ MALE    │ 4043.4931506849316 │  346.8115531879777 │  40.39041095890407 │   2.27713052763302 │\n",
       "│ Chinstrap Penguin │ FEMALE  │  3527.205882352941 │   285.333911718307 │   46.5735294117647 │  3.108669092941828 │\n",
       "│ Gentoo Penguin    │ MALE    │  5484.836065573771 │  313.1585956203804 │ 49.473770491803286 │ 2.7205943982485543 │\n",
       "└───────────────────┴─────────┴────────────────────┴────────────────────┴────────────────────┴────────────────────┘"
      ]
     },
     "execution_count": 52,
     "metadata": {},
     "output_type": "execute_result"
    }
   ],
   "source": [
    "duckdb.sql(\"\"\"\n",
    "           SELECT Species, Sex, AVG(\"Body Mass (g)\") AS 平均體重, STDDEV(\"Body Mass (g)\") AS 體重標準差, \n",
    "            AVG(\"Culmen Length (mm)\") AS 平均喙長, STDDEV(\"Culmen Length (mm)\") AS 喙長標準差\n",
    "           FROM df\n",
    "           GROUP BY Species, Sex;\n",
    "           \"\"\") # 透過 GROUP BY 與 AVG 計算不同種類、不同性別企鵝的體重及嘴喙長平均與標準差"
   ]
  },
  {
   "cell_type": "code",
   "execution_count": 53,
   "metadata": {},
   "outputs": [
    {
     "data": {
      "text/plain": [
       "┌───────────────────┬─────────┬────────────────────┬────────────────────┬──────────┬──────────┐\n",
       "│      Species      │   Sex   │      平均體重      │     體重標準差     │ 最小喙長 │ 最大喙長 │\n",
       "│      varchar      │ varchar │       double       │       double       │  double  │  double  │\n",
       "├───────────────────┼─────────┼────────────────────┼────────────────────┼──────────┼──────────┤\n",
       "│ Adelie Penguin    │ FEMALE  │ 3368.8356164383563 │  269.3801018438564 │     32.1 │     42.2 │\n",
       "│ Chinstrap Penguin │ MALE    │  3938.970588235294 │  362.1375500681204 │     48.5 │     55.8 │\n",
       "│ Adelie Penguin    │ MALE    │ 4043.4931506849316 │  346.8115531879777 │     34.6 │     46.0 │\n",
       "│ Chinstrap Penguin │ FEMALE  │  3527.205882352941 │   285.333911718307 │     40.9 │     58.0 │\n",
       "│ Gentoo Penguin    │ FEMALE  │  4679.741379310345 │ 281.57829364263085 │     40.9 │     50.5 │\n",
       "│ Gentoo Penguin    │ MALE    │  5484.836065573771 │  313.1585956203804 │     44.4 │     59.6 │\n",
       "└───────────────────┴─────────┴────────────────────┴────────────────────┴──────────┴──────────┘"
      ]
     },
     "execution_count": 53,
     "metadata": {},
     "output_type": "execute_result"
    }
   ],
   "source": [
    "duckdb.sql(\"\"\"\n",
    "           SELECT Species, Sex, AVG(\"Body Mass (g)\") AS 平均體重, STDDEV(\"Body Mass (g)\") AS 體重標準差, \n",
    "            MIN(\"Culmen Length (mm)\") AS 最小喙長, MAX(\"Culmen Length (mm)\") AS 最大喙長\n",
    "           FROM df\n",
    "           GROUP BY Species, Sex;\n",
    "           \"\"\") # 透過 GROUP BY 與 AVG 計算不同種類、不同性別企鵝的平均體重與標準差，以及其嘴喙長度最小值與最大值"
   ]
  },
  {
   "cell_type": "markdown",
   "metadata": {},
   "source": [
    "# 7. 資料排序\n",
    "\n",
    "透過排序，我們能快速找出前幾大（小）的資料。此外，我們還可以根據多個欄位進行排序喔！"
   ]
  },
  {
   "cell_type": "code",
   "execution_count": 54,
   "metadata": {},
   "outputs": [
    {
     "data": {
      "text/plain": [
       "┌───────┬───────────────────┬───────────┬─────────┬───────┬────────────────────┬───────────────────┬─────────────────────┬───────────────┐\n",
       "│  ID   │      Species      │  Island   │   Sex   │ ID_1  │ Culmen Length (mm) │ Culmen Depth (mm) │ Flipper Length (mm) │ Body Mass (g) │\n",
       "│ int64 │      varchar      │  varchar  │ varchar │ int32 │       double       │      double       │        int32        │     int32     │\n",
       "├───────┼───────────────────┼───────────┼─────────┼───────┼────────────────────┼───────────────────┼─────────────────────┼───────────────┤\n",
       "│   238 │ Gentoo Penguin    │ Biscoe    │ MALE    │   238 │               49.2 │              15.2 │                 221 │          6300 │\n",
       "│   254 │ Gentoo Penguin    │ Biscoe    │ MALE    │   254 │               59.6 │              17.0 │                 230 │          6050 │\n",
       "│   298 │ Gentoo Penguin    │ Biscoe    │ MALE    │   298 │               51.1 │              16.3 │                 220 │          6000 │\n",
       "│   338 │ Gentoo Penguin    │ Biscoe    │ MALE    │   338 │               48.8 │              16.2 │                 222 │          6000 │\n",
       "│   300 │ Gentoo Penguin    │ Biscoe    │ MALE    │   300 │               45.2 │              16.4 │                 223 │          5950 │\n",
       "│   332 │ Gentoo Penguin    │ Biscoe    │ MALE    │   332 │               49.8 │              15.9 │                 229 │          5950 │\n",
       "│   234 │ Gentoo Penguin    │ Biscoe    │ MALE    │   234 │               48.4 │              14.6 │                 213 │          5850 │\n",
       "│   236 │ Gentoo Penguin    │ Biscoe    │ MALE    │   236 │               49.3 │              15.7 │                 217 │          5850 │\n",
       "│   336 │ Gentoo Penguin    │ Biscoe    │ MALE    │   336 │               55.1 │              16.0 │                 230 │          5850 │\n",
       "│   288 │ Gentoo Penguin    │ Biscoe    │ MALE    │   288 │               49.5 │              16.2 │                 229 │          5800 │\n",
       "│     · │       ·           │   ·       │  ·      │     · │                 ·  │                ·  │                  ·  │            ·  │\n",
       "│     · │       ·           │   ·       │  ·      │     · │                 ·  │                ·  │                  ·  │            ·  │\n",
       "│     · │       ·           │   ·       │  ·      │     · │                 ·  │                ·  │                  ·  │            ·  │\n",
       "│    45 │ Adelie Penguin    │ Dream     │ FEMALE  │    45 │               37.0 │              16.9 │                 185 │          3000 │\n",
       "│   145 │ Adelie Penguin    │ Dream     │ FEMALE  │   145 │               37.3 │              16.8 │                 192 │          3000 │\n",
       "│   105 │ Adelie Penguin    │ Biscoe    │ FEMALE  │   105 │               37.9 │              18.6 │                 193 │          2925 │\n",
       "│    55 │ Adelie Penguin    │ Biscoe    │ FEMALE  │    55 │               34.5 │              18.1 │                 187 │          2900 │\n",
       "│    99 │ Adelie Penguin    │ Dream     │ FEMALE  │    99 │               33.1 │              16.1 │                 178 │          2900 │\n",
       "│   117 │ Adelie Penguin    │ Torgersen │ FEMALE  │   117 │               38.6 │              17.0 │                 188 │          2900 │\n",
       "│   175 │ Chinstrap Penguin │ Dream     │ FEMALE  │   175 │               43.2 │              16.6 │                 187 │          2900 │\n",
       "│    59 │ Adelie Penguin    │ Biscoe    │ FEMALE  │    59 │               36.5 │              16.6 │                 181 │          2850 │\n",
       "│    65 │ Adelie Penguin    │ Biscoe    │ FEMALE  │    65 │               36.4 │              17.1 │                 184 │          2850 │\n",
       "│   191 │ Chinstrap Penguin │ Dream     │ FEMALE  │   191 │               46.9 │              16.6 │                 192 │          2700 │\n",
       "├───────┴───────────────────┴───────────┴─────────┴───────┴────────────────────┴───────────────────┴─────────────────────┴───────────────┤\n",
       "│ 333 rows (20 shown)                                                                                                          9 columns │\n",
       "└────────────────────────────────────────────────────────────────────────────────────────────────────────────────────────────────────────┘"
      ]
     },
     "execution_count": 54,
     "metadata": {},
     "output_type": "execute_result"
    }
   ],
   "source": [
    "duckdb.sql(\"\"\"\n",
    "           SELECT * \n",
    "           FROM df\n",
    "           ORDER BY \"Body Mass (g)\" DESC;\n",
    "           \"\"\") # 針對體重排序資料，預設為升冪排序，在此使用降冪排序"
   ]
  },
  {
   "cell_type": "code",
   "execution_count": 55,
   "metadata": {},
   "outputs": [
    {
     "data": {
      "text/plain": [
       "┌───────┬───────────────────┬───────────┬─────────┬───────┬────────────────────┬───────────────────┬─────────────────────┬───────────────┐\n",
       "│  ID   │      Species      │  Island   │   Sex   │ ID_1  │ Culmen Length (mm) │ Culmen Depth (mm) │ Flipper Length (mm) │ Body Mass (g) │\n",
       "│ int64 │      varchar      │  varchar  │ varchar │ int32 │       double       │      double       │        int32        │     int32     │\n",
       "├───────┼───────────────────┼───────────┼─────────┼───────┼────────────────────┼───────────────────┼─────────────────────┼───────────────┤\n",
       "│   191 │ Chinstrap Penguin │ Dream     │ FEMALE  │   191 │               46.9 │              16.6 │                 192 │          2700 │\n",
       "│    65 │ Adelie Penguin    │ Biscoe    │ FEMALE  │    65 │               36.4 │              17.1 │                 184 │          2850 │\n",
       "│    59 │ Adelie Penguin    │ Biscoe    │ FEMALE  │    59 │               36.5 │              16.6 │                 181 │          2850 │\n",
       "│   117 │ Adelie Penguin    │ Torgersen │ FEMALE  │   117 │               38.6 │              17.0 │                 188 │          2900 │\n",
       "│    55 │ Adelie Penguin    │ Biscoe    │ FEMALE  │    55 │               34.5 │              18.1 │                 187 │          2900 │\n",
       "│   175 │ Chinstrap Penguin │ Dream     │ FEMALE  │   175 │               43.2 │              16.6 │                 187 │          2900 │\n",
       "│    99 │ Adelie Penguin    │ Dream     │ FEMALE  │    99 │               33.1 │              16.1 │                 178 │          2900 │\n",
       "│   105 │ Adelie Penguin    │ Biscoe    │ FEMALE  │   105 │               37.9 │              18.6 │                 193 │          2925 │\n",
       "│   145 │ Adelie Penguin    │ Dream     │ FEMALE  │   145 │               37.3 │              16.8 │                 192 │          3000 │\n",
       "│    45 │ Adelie Penguin    │ Dream     │ FEMALE  │    45 │               37.0 │              16.9 │                 185 │          3000 │\n",
       "│     · │       ·           │   ·       │  ·      │     · │                 ·  │                ·  │                  ·  │            ·  │\n",
       "│     · │       ·           │   ·       │  ·      │     · │                 ·  │                ·  │                  ·  │            ·  │\n",
       "│     · │       ·           │   ·       │  ·      │     · │                 ·  │                ·  │                  ·  │            ·  │\n",
       "│   288 │ Gentoo Penguin    │ Biscoe    │ MALE    │   288 │               49.5 │              16.2 │                 229 │          5800 │\n",
       "│   336 │ Gentoo Penguin    │ Biscoe    │ MALE    │   336 │               55.1 │              16.0 │                 230 │          5850 │\n",
       "│   236 │ Gentoo Penguin    │ Biscoe    │ MALE    │   236 │               49.3 │              15.7 │                 217 │          5850 │\n",
       "│   234 │ Gentoo Penguin    │ Biscoe    │ MALE    │   234 │               48.4 │              14.6 │                 213 │          5850 │\n",
       "│   332 │ Gentoo Penguin    │ Biscoe    │ MALE    │   332 │               49.8 │              15.9 │                 229 │          5950 │\n",
       "│   300 │ Gentoo Penguin    │ Biscoe    │ MALE    │   300 │               45.2 │              16.4 │                 223 │          5950 │\n",
       "│   338 │ Gentoo Penguin    │ Biscoe    │ MALE    │   338 │               48.8 │              16.2 │                 222 │          6000 │\n",
       "│   298 │ Gentoo Penguin    │ Biscoe    │ MALE    │   298 │               51.1 │              16.3 │                 220 │          6000 │\n",
       "│   254 │ Gentoo Penguin    │ Biscoe    │ MALE    │   254 │               59.6 │              17.0 │                 230 │          6050 │\n",
       "│   238 │ Gentoo Penguin    │ Biscoe    │ MALE    │   238 │               49.2 │              15.2 │                 221 │          6300 │\n",
       "├───────┴───────────────────┴───────────┴─────────┴───────┴────────────────────┴───────────────────┴─────────────────────┴───────────────┤\n",
       "│ 333 rows (20 shown)                                                                                                          9 columns │\n",
       "└────────────────────────────────────────────────────────────────────────────────────────────────────────────────────────────────────────┘"
      ]
     },
     "execution_count": 55,
     "metadata": {},
     "output_type": "execute_result"
    }
   ],
   "source": [
    "duckdb.sql(\"\"\"\n",
    "           SELECT * \n",
    "           FROM df\n",
    "           ORDER BY \"Body Mass (g)\", \"Flipper Length (mm)\" DESC;\n",
    "           \"\"\") # 針對體重與鰭長排序資料，其中體重升冪排序，鰭長降冪排序"
   ]
  },
  {
   "cell_type": "markdown",
   "metadata": {},
   "source": [
    "# 8. 資料視覺化\n",
    "\n",
    "有時候單看表格資料是不夠的，透過有效的視覺化，能夠讓我們快速掌握資料，並更方便地將分析結果呈現給他人觀賞。\n",
    "\n",
    "由於資料視覺化套件大多還是與 `pandas` 相容性最好，因此我們要將資料轉換為 `pandas.DataFrame` 格式再進行視覺化。"
   ]
  },
  {
   "cell_type": "code",
   "execution_count": 56,
   "metadata": {},
   "outputs": [],
   "source": [
    "df = duckdb.sql(\"\"\"\n",
    "                SELECT * \n",
    "                FROM df;\n",
    "                \"\"\").to_df() # 將資料表 df 轉換為 DataFrame"
   ]
  },
  {
   "cell_type": "code",
   "execution_count": 57,
   "metadata": {},
   "outputs": [
    {
     "data": {
      "text/plain": [
       "<Axes: xlabel='Body Mass (g)', ylabel='Flipper Length (mm)'>"
      ]
     },
     "execution_count": 57,
     "metadata": {},
     "output_type": "execute_result"
    },
    {
     "data": {
      "image/png": "[encoded data removed]",
      "text/plain": [
       "<Figure size 640x480 with 1 Axes>"
      ]
     },
     "metadata": {},
     "output_type": "display_data"
    }
   ],
   "source": [
    "df.plot(kind='scatter', x='Body Mass (g)', y='Flipper Length (mm)') # 透過 plot 繪製散佈圖"
   ]
  },
  {
   "cell_type": "code",
   "execution_count": 58,
   "metadata": {},
   "outputs": [
    {
     "data": {
      "text/plain": [
       "array([[<Axes: title={'center': 'Body Mass (g)'}>]], dtype=object)"
      ]
     },
     "execution_count": 58,
     "metadata": {},
     "output_type": "execute_result"
    },
    {
     "data": {
      "image/png": "[encoded data removed]",
      "text/plain": [
       "<Figure size 640x480 with 1 Axes>"
      ]
     },
     "metadata": {},
     "output_type": "display_data"
    }
   ],
   "source": [
    "df.hist('Body Mass (g)') # 透過 hist 繪製直方圖"
   ]
  },
  {
   "cell_type": "markdown",
   "metadata": {},
   "source": [
    "實際上，這些內建於資料表內的方法都是利用 `matplotlib` 這個套件達成的。因此我們也可以直接利用 `matplotlib` 繪製圖表，並加入更多客製化選項。"
   ]
  },
  {
   "cell_type": "code",
   "execution_count": 59,
   "metadata": {},
   "outputs": [
    {
     "data": {
      "text/plain": [
       "Text(0.5, 1.0, '體重與鰭長的散佈圖')"
      ]
     },
     "execution_count": 59,
     "metadata": {},
     "output_type": "execute_result"
    },
    {
     "data": {
      "image/png": "[encoded data removed]",
      "text/plain": [
       "<Figure size 640x480 with 1 Axes>"
      ]
     },
     "metadata": {},
     "output_type": "display_data"
    }
   ],
   "source": [
    "plt.scatter(df['Body Mass (g)'], df['Flipper Length (mm)']) # 透過 plt.scatter 繪製散佈圖\n",
    "plt.title('體重與鰭長的散佈圖')"
   ]
  },
  {
   "cell_type": "code",
   "execution_count": 60,
   "metadata": {},
   "outputs": [
    {
     "data": {
      "text/plain": [
       "Text(0.5, 1.0, '體重的直方圖')"
      ]
     },
     "execution_count": 60,
     "metadata": {},
     "output_type": "execute_result"
    },
    {
     "data": {
      "image/png": "[encoded data removed]",
      "text/plain": [
       "<Figure size 640x480 with 1 Axes>"
      ]
     },
     "metadata": {},
     "output_type": "display_data"
    }
   ],
   "source": [
    "plt.hist(df['Body Mass (g)']) # 透過 plt.hist 繪製直方圖\n",
    "plt.title('體重的直方圖')"
   ]
  },
  {
   "cell_type": "markdown",
   "metadata": {},
   "source": [
    "`seaborn` 是另一個在 Python 上常用的視覺化套件。它包含各種統計常用的視覺化工具，並以簡單的語法繪製出精細的圖表，因此廣受好評。"
   ]
  },
  {
   "cell_type": "code",
   "execution_count": 61,
   "metadata": {},
   "outputs": [
    {
     "data": {
      "image/png": "[encoded data removed]",
      "text/plain": [
       "<Figure size 640x480 with 1 Axes>"
      ]
     },
     "metadata": {},
     "output_type": "display_data"
    }
   ],
   "source": [
    "ax = sns.scatterplot(data=df, x='Body Mass (g)', y='Flipper Length (mm)', hue='Species') # 透過 seaborn 的 scatterplot 繪製散佈圖，並根據企鵝種類著色\n",
    "sns.move_legend(ax, \"upper left\", bbox_to_anchor=(1, 1)) # 移動圖例至圖表外"
   ]
  },
  {
   "cell_type": "code",
   "execution_count": 62,
   "metadata": {},
   "outputs": [
    {
     "data": {
      "image/png": "[encoded data removed]",
      "text/plain": [
       "<Figure size 640x480 with 1 Axes>"
      ]
     },
     "metadata": {},
     "output_type": "display_data"
    }
   ],
   "source": [
    "# 透過 seaborn 的 histplot 繪製直方圖，並根據企鵝種類著色，kde=True 代表顯示核密度估計，bins=20 代表分成 20 組\n",
    "ax = sns.histplot(data=df, x='Body Mass (g)', hue='Species', kde=True, bins=20)\n",
    "sns.move_legend(ax, \"upper left\", bbox_to_anchor=(1, 1)) # 移動圖例至圖表外"
   ]
  },
  {
   "cell_type": "code",
   "execution_count": 63,
   "metadata": {},
   "outputs": [
    {
     "data": {
      "text/plain": [
       "([0, 1, 2],\n",
       " [Text(0, 0, 'Adelie Penguin'),\n",
       "  Text(1, 0, 'Chinstrap Penguin'),\n",
       "  Text(2, 0, 'Gentoo Penguin')])"
      ]
     },
     "execution_count": 63,
     "metadata": {},
     "output_type": "execute_result"
    },
    {
     "data": {
      "image/png": "[encoded data removed]",
      "text/plain": [
       "<Figure size 640x480 with 1 Axes>"
      ]
     },
     "metadata": {},
     "output_type": "display_data"
    }
   ],
   "source": [
    "# 透過 seaborn 的 countplot 繪製企鵝種類計數圖，並根據性別著色\n",
    "ax = sns.countplot(data=df, x='Species', hue='Sex')\n",
    "sns.move_legend(ax, \"upper left\", bbox_to_anchor=(1, 1)) # 移動圖例至圖表外\n",
    "plt.xticks(rotation=45) # 旋轉 x 軸標籤"
   ]
  },
  {
   "cell_type": "code",
   "execution_count": 64,
   "metadata": {},
   "outputs": [
    {
     "data": {
      "text/plain": [
       "([0, 1, 2],\n",
       " [Text(0, 0, 'Adelie Penguin'),\n",
       "  Text(1, 0, 'Chinstrap Penguin'),\n",
       "  Text(2, 0, 'Gentoo Penguin')])"
      ]
     },
     "execution_count": 64,
     "metadata": {},
     "output_type": "execute_result"
    },
    {
     "data": {
      "image/png": "[encoded data removed]",
      "text/plain": [
       "<Figure size 640x480 with 1 Axes>"
      ]
     },
     "metadata": {},
     "output_type": "display_data"
    }
   ],
   "source": [
    "# 透過 seaborn 的 boxplot 繪製箱形圖，x 軸為企鵝種類，y 軸為體重\n",
    "ax = sns.boxplot(data=df, x='Species', y='Body Mass (g)')\n",
    "plt.xticks(rotation=45) # 旋轉 x 軸標籤"
   ]
  },
  {
   "cell_type": "markdown",
   "metadata": {},
   "source": [
    "# 9. 資料匯出\n",
    "\n",
    "當資料處理完成後，我們可以將其匯出，供其他人使用。"
   ]
  },
  {
   "cell_type": "code",
   "execution_count": 65,
   "metadata": {},
   "outputs": [],
   "source": [
    "# duckdb.sql('COPY df TO final_penguins_duckdb.csv;') # 將資料輸出成 CSV 檔"
   ]
  },
  {
   "cell_type": "code",
   "execution_count": 66,
   "metadata": {},
   "outputs": [],
   "source": [
    "# duckdb.sql(\"COPY df TO 'final_penguins_duckdb.xlsx' WITH (FORMAT GDAL, DRIVER 'xlsx');\") # 將資料輸出成 Excel 檔"
   ]
  },
  {
   "cell_type": "markdown",
   "metadata": {},
   "source": [
    "# 小試身手 2"
   ]
  },
  {
   "cell_type": "markdown",
   "metadata": {},
   "source": [
    "任務 1: 讀入 `penguins_test2_1.csv` 與 `penguins_test2_2.csv` 資料集。"
   ]
  },
  {
   "cell_type": "code",
   "execution_count": null,
   "metadata": {},
   "outputs": [],
   "source": []
  },
  {
   "cell_type": "markdown",
   "metadata": {},
   "source": [
    "任務 2: 確認兩資料集的描述性統計與資料筆數、欄位數目，以及是否有重複值、遺失值。"
   ]
  },
  {
   "cell_type": "code",
   "execution_count": null,
   "metadata": {},
   "outputs": [],
   "source": []
  },
  {
   "cell_type": "markdown",
   "metadata": {},
   "source": [
    "任務 3: 將兩資料集依據 `ID` 欄位合併，僅合併兩資料集共有的 `ID` 部分。"
   ]
  },
  {
   "cell_type": "code",
   "execution_count": null,
   "metadata": {},
   "outputs": [],
   "source": []
  },
  {
   "cell_type": "markdown",
   "metadata": {},
   "source": [
    "任務 4: 計算不同島嶼上，不同企鵝種類下，不同性別的平均體重與鰭長中位數。"
   ]
  },
  {
   "cell_type": "code",
   "execution_count": null,
   "metadata": {},
   "outputs": [],
   "source": []
  },
  {
   "cell_type": "markdown",
   "metadata": {},
   "source": [
    "任務 5: 根據嘴喙長再根據嘴喙寬進行排序，其中嘴喙長請用降冪排序、嘴喙寬請用升冪排序。"
   ]
  },
  {
   "cell_type": "code",
   "execution_count": null,
   "metadata": {},
   "outputs": [],
   "source": []
  },
  {
   "cell_type": "markdown",
   "metadata": {},
   "source": [
    "任務 6: 繪製不同企鵝種類（以顏色區分）的嘴喙長與嘴喙寬的散布圖。"
   ]
  },
  {
   "cell_type": "code",
   "execution_count": null,
   "metadata": {},
   "outputs": [],
   "source": []
  },
  {
   "cell_type": "markdown",
   "metadata": {},
   "source": [
    "# 恭喜完成 Data Analysis 101 - DuckDB 的課程\n",
    "\n",
    "透過這份教學，你已經了解基本的 `duckdb` 使用方法。如果想要學習更多的話，可以到 [duckdb 官網](https://duckdb.org/docs/) 學習更多指令的用法 :)"
   ]
  }
 ],
 "metadata": {
  "kernelspec": {
   "display_name": ".venv",
   "language": "python",
   "name": "python3"
  },
  "language_info": {
   "codemirror_mode": {
    "name": "ipython",
    "version": 3
   },
   "file_extension": ".py",
   "mimetype": "text/x-python",
   "name": "python",
   "nbconvert_exporter": "python",
   "pygments_lexer": "ipython3",
   "version": "3.12.8"
  }
 },
 "nbformat": 4,
 "nbformat_minor": 2
}
